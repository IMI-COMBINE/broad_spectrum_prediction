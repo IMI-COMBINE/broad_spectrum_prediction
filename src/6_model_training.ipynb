{
 "cells": [
  {
   "cell_type": "markdown",
   "metadata": {},
   "source": [
    "# Hyperparameter optimization and model finalization\n",
    "\n",
    "This notebook trains and optimizes the RF and XGBoost model for our dataset."
   ]
  },
  {
   "cell_type": "code",
   "execution_count": 1,
   "metadata": {},
   "outputs": [],
   "source": [
    "import os\n",
    "import pickle\n",
    "import json\n",
    "import optuna\n",
    "import pandas as pd\n",
    "import logging\n",
    "\n",
    "from sklearn.ensemble import RandomForestClassifier\n",
    "import xgboost as xgb\n",
    "from hpo_trainer import objective_rf, SEED, finalize_model, objective_xgboost"
   ]
  },
  {
   "cell_type": "code",
   "execution_count": 2,
   "metadata": {},
   "outputs": [],
   "source": [
    "import warnings\n",
    "\n",
    "warnings.filterwarnings(\"ignore\")\n",
    "optuna.logging.set_verbosity(optuna.logging.WARNING)  # Disabling trial info messages"
   ]
  },
  {
   "cell_type": "code",
   "execution_count": 3,
   "metadata": {},
   "outputs": [],
   "source": [
    "logger = logging.getLogger(__name__)"
   ]
  },
  {
   "cell_type": "markdown",
   "metadata": {},
   "source": [
    "# Hyperparameter Optimization (HPO)"
   ]
  },
  {
   "cell_type": "markdown",
   "metadata": {},
   "source": [
    "### Random Forest"
   ]
  },
  {
   "cell_type": "code",
   "execution_count": 4,
   "metadata": {},
   "outputs": [
    {
     "name": "stderr",
     "output_type": "stream",
     "text": [
      "Starting HPO for ecfp4...\n"
     ]
    },
    {
     "data": {
      "application/vnd.jupyter.widget-view+json": {
       "model_id": "c505a9cb689a4419b65dc42546783255",
       "version_major": 2,
       "version_minor": 0
      },
      "text/plain": [
       "  0%|          | 0/15 [00:00<?, ?it/s]"
      ]
     },
     "metadata": {},
     "output_type": "display_data"
    },
    {
     "name": "stderr",
     "output_type": "stream",
     "text": [
      "All trials saved in experiments folder.\n",
      "Starting HPO for rdkit...\n"
     ]
    },
    {
     "data": {
      "application/vnd.jupyter.widget-view+json": {
       "model_id": "3820871895664440b197a303c170d795",
       "version_major": 2,
       "version_minor": 0
      },
      "text/plain": [
       "  0%|          | 0/15 [00:00<?, ?it/s]"
      ]
     },
     "metadata": {},
     "output_type": "display_data"
    },
    {
     "name": "stderr",
     "output_type": "stream",
     "text": [
      "All trials saved in experiments folder.\n",
      "Starting HPO for maccs...\n"
     ]
    },
    {
     "data": {
      "application/vnd.jupyter.widget-view+json": {
       "model_id": "951474a5ae924762b5054289a96b41e5",
       "version_major": 2,
       "version_minor": 0
      },
      "text/plain": [
       "  0%|          | 0/15 [00:00<?, ?it/s]"
      ]
     },
     "metadata": {},
     "output_type": "display_data"
    },
    {
     "name": "stderr",
     "output_type": "stream",
     "text": [
      "All trials saved in experiments folder.\n",
      "Starting HPO for chem_phys...\n"
     ]
    },
    {
     "data": {
      "application/vnd.jupyter.widget-view+json": {
       "model_id": "665b3418451348af8d66091c40484f40",
       "version_major": 2,
       "version_minor": 0
      },
      "text/plain": [
       "  0%|          | 0/15 [00:00<?, ?it/s]"
      ]
     },
     "metadata": {},
     "output_type": "display_data"
    },
    {
     "name": "stderr",
     "output_type": "stream",
     "text": [
      "All trials saved in experiments folder.\n",
      "Starting HPO for mhfp6...\n"
     ]
    },
    {
     "data": {
      "application/vnd.jupyter.widget-view+json": {
       "model_id": "8a30cf3e28284b10a72aef8048eef70b",
       "version_major": 2,
       "version_minor": 0
      },
      "text/plain": [
       "  0%|          | 0/15 [00:00<?, ?it/s]"
      ]
     },
     "metadata": {},
     "output_type": "display_data"
    },
    {
     "name": "stderr",
     "output_type": "stream",
     "text": [
      "All trials saved in experiments folder.\n",
      "Starting HPO for erg...\n"
     ]
    },
    {
     "data": {
      "application/vnd.jupyter.widget-view+json": {
       "model_id": "795e946c665e4869a2776355c13ec497",
       "version_major": 2,
       "version_minor": 0
      },
      "text/plain": [
       "  0%|          | 0/15 [00:00<?, ?it/s]"
      ]
     },
     "metadata": {},
     "output_type": "display_data"
    },
    {
     "name": "stderr",
     "output_type": "stream",
     "text": [
      "All trials saved in experiments folder.\n"
     ]
    }
   ],
   "source": [
    "for fingerprint_name in [\"ecfp4\", \"rdkit\", \"maccs\", \"chem_phys\", \"mhfp6\", \"erg\"]:\n",
    "    if os.path.exists(f\"../models/{fingerprint_name}_rf.pkl\"):\n",
    "        continue\n",
    "\n",
    "    train_data = pd.read_csv(f\"../data/splits/{fingerprint_name}_smote_train.csv\")\n",
    "\n",
    "    X_train, y_train = train_data.drop(\"label\", axis=1), train_data[\"label\"]\n",
    "\n",
    "    # Start HPO process\n",
    "    logger.warning(f\"Starting HPO for {fingerprint_name}...\")\n",
    "    study = optuna.create_study(\n",
    "        direction=\"maximize\", study_name=f\"{fingerprint_name}_rf\"\n",
    "    )\n",
    "    study.optimize(\n",
    "        lambda trial: objective_rf(\n",
    "            trial, study_name=study.study_name, X_train=X_train, y_train=y_train\n",
    "        ),\n",
    "        n_trials=15,\n",
    "        show_progress_bar=True,\n",
    "    )\n",
    "\n",
    "    logger.warning(\"All trials saved in experiments folder.\")\n",
    "\n",
    "    # Train a new model using the best parameters\n",
    "    best_model = RandomForestClassifier(random_state=SEED, **study.best_params)\n",
    "    best_model.fit(X_train, y_train)\n",
    "\n",
    "    # Save the best model\n",
    "    finalize_model(\n",
    "        model=best_model, params=study.best_params, exp_name=study.study_name\n",
    "    )"
   ]
  },
  {
   "cell_type": "markdown",
   "metadata": {},
   "source": [
    "### XGBoost"
   ]
  },
  {
   "cell_type": "code",
   "execution_count": 5,
   "metadata": {},
   "outputs": [
    {
     "name": "stderr",
     "output_type": "stream",
     "text": [
      "Starting HPO for ecfp4...\n"
     ]
    },
    {
     "data": {
      "application/vnd.jupyter.widget-view+json": {
       "model_id": "58f8957a19ce4fefacf814c8ba2484eb",
       "version_major": 2,
       "version_minor": 0
      },
      "text/plain": [
       "  0%|          | 0/15 [00:00<?, ?it/s]"
      ]
     },
     "metadata": {},
     "output_type": "display_data"
    },
    {
     "name": "stderr",
     "output_type": "stream",
     "text": [
      "All trials saved in experiments folder.\n",
      "Starting HPO for rdkit...\n"
     ]
    },
    {
     "data": {
      "application/vnd.jupyter.widget-view+json": {
       "model_id": "7074699330ce44ddbcb6350e531c1746",
       "version_major": 2,
       "version_minor": 0
      },
      "text/plain": [
       "  0%|          | 0/15 [00:00<?, ?it/s]"
      ]
     },
     "metadata": {},
     "output_type": "display_data"
    },
    {
     "name": "stderr",
     "output_type": "stream",
     "text": [
      "All trials saved in experiments folder.\n",
      "Starting HPO for maccs...\n"
     ]
    },
    {
     "data": {
      "application/vnd.jupyter.widget-view+json": {
       "model_id": "b3c239e7964a44589d3bcfd5d420450d",
       "version_major": 2,
       "version_minor": 0
      },
      "text/plain": [
       "  0%|          | 0/15 [00:00<?, ?it/s]"
      ]
     },
     "metadata": {},
     "output_type": "display_data"
    },
    {
     "name": "stderr",
     "output_type": "stream",
     "text": [
      "All trials saved in experiments folder.\n",
      "Starting HPO for chem_phys...\n"
     ]
    },
    {
     "data": {
      "application/vnd.jupyter.widget-view+json": {
       "model_id": "f19ef34f322f4c26b43c9a6259b3a7c9",
       "version_major": 2,
       "version_minor": 0
      },
      "text/plain": [
       "  0%|          | 0/15 [00:00<?, ?it/s]"
      ]
     },
     "metadata": {},
     "output_type": "display_data"
    },
    {
     "name": "stderr",
     "output_type": "stream",
     "text": [
      "All trials saved in experiments folder.\n",
      "Starting HPO for mhfp6...\n"
     ]
    },
    {
     "data": {
      "application/vnd.jupyter.widget-view+json": {
       "model_id": "2cfcb460cf36451288bba1206291d342",
       "version_major": 2,
       "version_minor": 0
      },
      "text/plain": [
       "  0%|          | 0/15 [00:00<?, ?it/s]"
      ]
     },
     "metadata": {},
     "output_type": "display_data"
    },
    {
     "name": "stderr",
     "output_type": "stream",
     "text": [
      "All trials saved in experiments folder.\n",
      "Starting HPO for erg...\n"
     ]
    },
    {
     "data": {
      "application/vnd.jupyter.widget-view+json": {
       "model_id": "f433ada399e44eccabc3b8056e38b531",
       "version_major": 2,
       "version_minor": 0
      },
      "text/plain": [
       "  0%|          | 0/15 [00:00<?, ?it/s]"
      ]
     },
     "metadata": {},
     "output_type": "display_data"
    },
    {
     "name": "stderr",
     "output_type": "stream",
     "text": [
      "All trials saved in experiments folder.\n"
     ]
    }
   ],
   "source": [
    "for fingerprint_name in [\"ecfp4\", \"rdkit\", \"maccs\", \"chem_phys\", \"mhfp6\", \"erg\"]:\n",
    "    if os.path.exists(f\"../models/{fingerprint_name}_xgboost.pickle.dat\"):\n",
    "        continue\n",
    "\n",
    "    train_data = pd.read_csv(f\"../data/splits/{fingerprint_name}_smote_train.csv\")\n",
    "\n",
    "    X_train, y_train = train_data.drop(\"label\", axis=1), train_data[\"label\"]\n",
    "\n",
    "    # Start HPO process\n",
    "    logger.warning(f\"Starting HPO for {fingerprint_name}...\")\n",
    "    study = optuna.create_study(\n",
    "        direction=\"maximize\", study_name=f\"{fingerprint_name}_xgboost\"\n",
    "    )\n",
    "\n",
    "    label_to_idx = {\n",
    "        \"gram-negative\": 0,\n",
    "        \"gram-positive\": 1,\n",
    "        \"acid-fast\": 2,\n",
    "        \"fungi\": 3,\n",
    "    }\n",
    "\n",
    "    study.optimize(\n",
    "        lambda trial: objective_xgboost(\n",
    "            trial,\n",
    "            study_name=study.study_name,\n",
    "            X_train=X_train,\n",
    "            y_train=y_train,\n",
    "            label_to_idx=label_to_idx,\n",
    "        ),\n",
    "        n_trials=15,\n",
    "        show_progress_bar=True,\n",
    "    )\n",
    "\n",
    "    logger.warning(\"All trials saved in experiments folder.\")\n",
    "\n",
    "    # Train a new model using the best parameters\n",
    "    y_train = y_train.map(label_to_idx)\n",
    "\n",
    "    # Save the best model\n",
    "    best_model = xgb.XGBClassifier(**study.best_params, seed=SEED)\n",
    "    best_model.fit(X_train, y_train)\n",
    "\n",
    "    model_path = f\"../models\"\n",
    "\n",
    "    os.makedirs(model_path, exist_ok=True)\n",
    "    pickle.dump(best_model, open(f\"{model_path}/{study.study_name}.pickle.dat\", \"wb\"))\n",
    "\n",
    "    # Save params\n",
    "    with open(f\"{model_path}/{study.study_name}_params.json\", \"w\") as f:\n",
    "        json.dump(study.best_params, f, indent=4, sort_keys=True, ensure_ascii=False)"
   ]
  },
  {
   "cell_type": "code",
   "execution_count": null,
   "metadata": {},
   "outputs": [],
   "source": []
  }
 ],
 "metadata": {
  "kernelspec": {
   "display_name": "amr",
   "language": "python",
   "name": "amr"
  },
  "language_info": {
   "codemirror_mode": {
    "name": "ipython",
    "version": 3
   },
   "file_extension": ".py",
   "mimetype": "text/x-python",
   "name": "python",
   "nbconvert_exporter": "python",
   "pygments_lexer": "ipython3",
   "version": "3.9.18"
  }
 },
 "nbformat": 4,
 "nbformat_minor": 2
}
