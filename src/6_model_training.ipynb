{
 "cells": [
  {
   "cell_type": "markdown",
   "metadata": {},
   "source": [
    "# Hyperparameter optimization and model finalization\n",
    "\n",
    "This notebook trains and optimizes the RF and XGBoost model for **combined** dataset."
   ]
  },
  {
   "cell_type": "code",
   "execution_count": 1,
   "metadata": {},
   "outputs": [],
   "source": [
    "import os\n",
    "import pickle\n",
    "import json\n",
    "import optuna\n",
    "import pandas as pd\n",
    "import logging\n",
    "\n",
    "from sklearn.ensemble import RandomForestClassifier\n",
    "import xgboost as xgb\n",
    "from hpo_trainer import objective_rf, SEED, finalize_model, objective_xgboost\n",
    "from utils import label_to_idx"
   ]
  },
  {
   "cell_type": "code",
   "execution_count": 2,
   "metadata": {},
   "outputs": [],
   "source": [
    "import warnings\n",
    "\n",
    "warnings.filterwarnings(\"ignore\")\n",
    "optuna.logging.set_verbosity(optuna.logging.WARNING)  # Disabling trial info messages"
   ]
  },
  {
   "cell_type": "code",
   "execution_count": 3,
   "metadata": {},
   "outputs": [],
   "source": [
    "logger = logging.getLogger(__name__)"
   ]
  },
  {
   "cell_type": "markdown",
   "metadata": {},
   "source": [
    "# Hyperparameter Optimization (HPO)"
   ]
  },
  {
   "cell_type": "markdown",
   "metadata": {},
   "source": [
    "### Random Forest"
   ]
  },
  {
   "cell_type": "code",
   "execution_count": 4,
   "metadata": {},
   "outputs": [
    {
     "name": "stderr",
     "output_type": "stream",
     "text": [
      "Starting HPO for ecfp4...\n"
     ]
    },
    {
     "data": {
      "application/vnd.jupyter.widget-view+json": {
       "model_id": "d9c7b57a8bea426bb45eee848a2e3efe",
       "version_major": 2,
       "version_minor": 0
      },
      "text/plain": [
       "  0%|          | 0/15 [00:00<?, ?it/s]"
      ]
     },
     "metadata": {},
     "output_type": "display_data"
    },
    {
     "name": "stderr",
     "output_type": "stream",
     "text": [
      "All trials saved in experiments folder.\n",
      "Starting HPO for rdkit...\n"
     ]
    },
    {
     "data": {
      "application/vnd.jupyter.widget-view+json": {
       "model_id": "83a3b1ea610644879e01d2a021a26ac1",
       "version_major": 2,
       "version_minor": 0
      },
      "text/plain": [
       "  0%|          | 0/15 [00:00<?, ?it/s]"
      ]
     },
     "metadata": {},
     "output_type": "display_data"
    },
    {
     "name": "stderr",
     "output_type": "stream",
     "text": [
      "All trials saved in experiments folder.\n",
      "Starting HPO for maccs...\n"
     ]
    },
    {
     "data": {
      "application/vnd.jupyter.widget-view+json": {
       "model_id": "d919994960474cfb82b7a245794588f6",
       "version_major": 2,
       "version_minor": 0
      },
      "text/plain": [
       "  0%|          | 0/15 [00:00<?, ?it/s]"
      ]
     },
     "metadata": {},
     "output_type": "display_data"
    },
    {
     "name": "stderr",
     "output_type": "stream",
     "text": [
      "All trials saved in experiments folder.\n",
      "Starting HPO for chem_phys...\n"
     ]
    },
    {
     "data": {
      "application/vnd.jupyter.widget-view+json": {
       "model_id": "d26943f65041401ea7a5339a8f588486",
       "version_major": 2,
       "version_minor": 0
      },
      "text/plain": [
       "  0%|          | 0/15 [00:00<?, ?it/s]"
      ]
     },
     "metadata": {},
     "output_type": "display_data"
    },
    {
     "name": "stderr",
     "output_type": "stream",
     "text": [
      "All trials saved in experiments folder.\n",
      "Starting HPO for mhfp6...\n"
     ]
    },
    {
     "data": {
      "application/vnd.jupyter.widget-view+json": {
       "model_id": "a977bc7fdf2f490a9e547f15aa14aa14",
       "version_major": 2,
       "version_minor": 0
      },
      "text/plain": [
       "  0%|          | 0/15 [00:00<?, ?it/s]"
      ]
     },
     "metadata": {},
     "output_type": "display_data"
    },
    {
     "name": "stderr",
     "output_type": "stream",
     "text": [
      "All trials saved in experiments folder.\n",
      "Starting HPO for erg...\n"
     ]
    },
    {
     "data": {
      "application/vnd.jupyter.widget-view+json": {
       "model_id": "504ca674996745a1908665406d6ace8f",
       "version_major": 2,
       "version_minor": 0
      },
      "text/plain": [
       "  0%|          | 0/15 [00:00<?, ?it/s]"
      ]
     },
     "metadata": {},
     "output_type": "display_data"
    },
    {
     "name": "stderr",
     "output_type": "stream",
     "text": [
      "All trials saved in experiments folder.\n"
     ]
    }
   ],
   "source": [
    "for exp_type in [\"combined\", \"gram-positive\", \"gram-negative\", \"fungi\", \"acid-fast\"]:\n",
    "    for fingerprint_name in [\"ecfp4\", \"rdkit\", \"maccs\", \"chem_phys\", \"mhfp6\", \"erg\"]:\n",
    "        if os.path.exists(f\"../models/{exp_type}/{fingerprint_name}_rf.pkl\"):\n",
    "            continue\n",
    "\n",
    "        train_data = pd.read_csv(\n",
    "            f\"../data/splits/{exp_type}/{fingerprint_name}_smote_train.csv\"\n",
    "        )\n",
    "\n",
    "        X_train, y_train = train_data.drop(\"label\", axis=1), train_data[\"label\"]\n",
    "\n",
    "        # Start HPO process\n",
    "        logger.warning(f\"Starting HPO for {fingerprint_name}...\")\n",
    "        study = optuna.create_study(\n",
    "            direction=\"maximize\", study_name=f\"{fingerprint_name}_rf\"\n",
    "        )\n",
    "        study.optimize(\n",
    "            lambda trial: objective_rf(\n",
    "                trial,\n",
    "                study_name=study.study_name,\n",
    "                X_train=X_train,\n",
    "                y_train=y_train,\n",
    "                exp_type=exp_type,\n",
    "            ),\n",
    "            n_trials=15,\n",
    "            show_progress_bar=True,\n",
    "        )\n",
    "\n",
    "        logger.warning(\"All trials saved in experiments folder.\")\n",
    "\n",
    "        # Train a new model using the best parameters\n",
    "        best_model = RandomForestClassifier(random_state=SEED, **study.best_params)\n",
    "        best_model.fit(X_train, y_train)\n",
    "\n",
    "        os.makedirs(f\"../models/{exp_type}\", exist_ok=True)\n",
    "\n",
    "        # Save the best model\n",
    "        finalize_model(\n",
    "            model=best_model,\n",
    "            params=study.best_params,\n",
    "            exp_name=study.study_name,\n",
    "            model_path=f\"../models/{exp_type}\",\n",
    "        )\n",
    "    break"
   ]
  },
  {
   "cell_type": "markdown",
   "metadata": {},
   "source": [
    "### XGBoost"
   ]
  },
  {
   "cell_type": "code",
   "execution_count": 5,
   "metadata": {},
   "outputs": [
    {
     "name": "stderr",
     "output_type": "stream",
     "text": [
      "Starting HPO for ecfp4...\n"
     ]
    },
    {
     "data": {
      "application/vnd.jupyter.widget-view+json": {
       "model_id": "e60e9fa4be7241a4932591fa74f6c690",
       "version_major": 2,
       "version_minor": 0
      },
      "text/plain": [
       "  0%|          | 0/15 [00:00<?, ?it/s]"
      ]
     },
     "metadata": {},
     "output_type": "display_data"
    },
    {
     "name": "stderr",
     "output_type": "stream",
     "text": [
      "All trials saved in experiments folder.\n",
      "Starting HPO for rdkit...\n"
     ]
    },
    {
     "data": {
      "application/vnd.jupyter.widget-view+json": {
       "model_id": "9f88e04f15cc4aee922e76c2e0fc411c",
       "version_major": 2,
       "version_minor": 0
      },
      "text/plain": [
       "  0%|          | 0/15 [00:00<?, ?it/s]"
      ]
     },
     "metadata": {},
     "output_type": "display_data"
    },
    {
     "name": "stderr",
     "output_type": "stream",
     "text": [
      "All trials saved in experiments folder.\n",
      "Starting HPO for maccs...\n"
     ]
    },
    {
     "data": {
      "application/vnd.jupyter.widget-view+json": {
       "model_id": "159d61675e824d91ba03731643c4380e",
       "version_major": 2,
       "version_minor": 0
      },
      "text/plain": [
       "  0%|          | 0/15 [00:00<?, ?it/s]"
      ]
     },
     "metadata": {},
     "output_type": "display_data"
    },
    {
     "name": "stderr",
     "output_type": "stream",
     "text": [
      "All trials saved in experiments folder.\n",
      "Starting HPO for chem_phys...\n"
     ]
    },
    {
     "data": {
      "application/vnd.jupyter.widget-view+json": {
       "model_id": "b5c067196f754b8e9b1ea7801b8a719e",
       "version_major": 2,
       "version_minor": 0
      },
      "text/plain": [
       "  0%|          | 0/15 [00:00<?, ?it/s]"
      ]
     },
     "metadata": {},
     "output_type": "display_data"
    },
    {
     "name": "stderr",
     "output_type": "stream",
     "text": [
      "All trials saved in experiments folder.\n",
      "Starting HPO for mhfp6...\n"
     ]
    },
    {
     "data": {
      "application/vnd.jupyter.widget-view+json": {
       "model_id": "172a8b1e4cc848248cc519dce1bf9ce5",
       "version_major": 2,
       "version_minor": 0
      },
      "text/plain": [
       "  0%|          | 0/15 [00:00<?, ?it/s]"
      ]
     },
     "metadata": {},
     "output_type": "display_data"
    },
    {
     "name": "stderr",
     "output_type": "stream",
     "text": [
      "All trials saved in experiments folder.\n",
      "Starting HPO for erg...\n"
     ]
    },
    {
     "data": {
      "application/vnd.jupyter.widget-view+json": {
       "model_id": "569df7d2a12543b7980f8ceb4e00276e",
       "version_major": 2,
       "version_minor": 0
      },
      "text/plain": [
       "  0%|          | 0/15 [00:00<?, ?it/s]"
      ]
     },
     "metadata": {},
     "output_type": "display_data"
    },
    {
     "name": "stderr",
     "output_type": "stream",
     "text": [
      "All trials saved in experiments folder.\n"
     ]
    }
   ],
   "source": [
    "for exp_type in [\"combined\", \"gram-positive\", \"gram-negative\", \"fungi\", \"acid-fast\"]:\n",
    "    for fingerprint_name in [\"ecfp4\", \"rdkit\", \"maccs\", \"chem_phys\", \"mhfp6\", \"erg\"]:\n",
    "        if os.path.exists(\n",
    "            f\"../models/{exp_type}/{fingerprint_name}_xgboost.pickle.dat\"\n",
    "        ):\n",
    "            continue\n",
    "\n",
    "        train_data = pd.read_csv(\n",
    "            f\"../data/splits/{exp_type}/{fingerprint_name}_smote_train.csv\"\n",
    "        )\n",
    "\n",
    "        X_train, y_train = train_data.drop(\"label\", axis=1), train_data[\"label\"]\n",
    "\n",
    "        # Start HPO process\n",
    "        logger.warning(f\"Starting HPO for {fingerprint_name}...\")\n",
    "        study = optuna.create_study(\n",
    "            direction=\"maximize\", study_name=f\"{fingerprint_name}_xgboost\"\n",
    "        )\n",
    "\n",
    "        study.optimize(\n",
    "            lambda trial: objective_xgboost(\n",
    "                trial,\n",
    "                study_name=study.study_name,\n",
    "                X_train=X_train,\n",
    "                y_train=y_train,\n",
    "                label_to_idx=label_to_idx,\n",
    "                exp_type=exp_type,\n",
    "            ),\n",
    "            n_trials=15,\n",
    "            show_progress_bar=True,\n",
    "        )\n",
    "\n",
    "        logger.warning(\"All trials saved in experiments folder.\")\n",
    "\n",
    "        # Train a new model using the best parameters\n",
    "        y_train = y_train.map(label_to_idx)\n",
    "\n",
    "        # Save the best model\n",
    "        best_model = xgb.XGBClassifier(**study.best_params, seed=SEED)\n",
    "        best_model.fit(X_train, y_train)\n",
    "\n",
    "        model_path = f\"../models/{exp_type}\"\n",
    "\n",
    "        os.makedirs(model_path, exist_ok=True)\n",
    "        pickle.dump(\n",
    "            best_model, open(f\"{model_path}/{study.study_name}.pickle.dat\", \"wb\")\n",
    "        )\n",
    "\n",
    "        # Save params\n",
    "        with open(f\"{model_path}/{study.study_name}_params.json\", \"w\") as f:\n",
    "            json.dump(\n",
    "                study.best_params, f, indent=4, sort_keys=True, ensure_ascii=False\n",
    "            )\n",
    "\n",
    "    break"
   ]
  }
 ],
 "metadata": {
  "kernelspec": {
   "display_name": "amr",
   "language": "python",
   "name": "amr"
  },
  "language_info": {
   "codemirror_mode": {
    "name": "ipython",
    "version": 3
   },
   "file_extension": ".py",
   "mimetype": "text/x-python",
   "name": "python",
   "nbconvert_exporter": "python",
   "pygments_lexer": "ipython3",
   "version": "3.9.18"
  }
 },
 "nbformat": 4,
 "nbformat_minor": 2
}
