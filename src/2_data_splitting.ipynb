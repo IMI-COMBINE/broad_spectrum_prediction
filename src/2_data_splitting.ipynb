{
 "cells": [
  {
   "cell_type": "markdown",
   "metadata": {},
   "source": [
    "# Data splitting\n",
    "\n",
    "This notebook is used to generate the train-test splits with and without SMOTE technique."
   ]
  },
  {
   "cell_type": "code",
   "execution_count": 1,
   "metadata": {},
   "outputs": [],
   "source": [
    "import os\n",
    "from collections import Counter\n",
    "import pandas as pd\n",
    "from tqdm import tqdm\n",
    "from sklearn.model_selection import train_test_split\n",
    "from imblearn.over_sampling import SMOTE"
   ]
  },
  {
   "cell_type": "code",
   "execution_count": 2,
   "metadata": {},
   "outputs": [],
   "source": [
    "import warnings\n",
    "\n",
    "warnings.filterwarnings(action=\"ignore\", category=pd.errors.PerformanceWarning)"
   ]
  },
  {
   "cell_type": "markdown",
   "metadata": {},
   "source": [
    "# Load combined dataset"
   ]
  },
  {
   "cell_type": "code",
   "execution_count": 3,
   "metadata": {},
   "outputs": [
    {
     "data": {
      "text/plain": [
       "6"
      ]
     },
     "execution_count": 3,
     "metadata": {},
     "output_type": "execute_result"
    }
   ],
   "source": [
    "fingerprint_df_dict = {}\n",
    "\n",
    "for fingperint_name in [\"ecfp4\", \"rdkit\", \"maccs\", \"mhfp6\", \"erg\", \"chem_phys\"]:\n",
    "    fingerprint_df_dict[fingperint_name] = pd.read_csv(\n",
    "        f\"../data/fingerprints/combined_{fingperint_name}.tsv\", sep=\"\\t\"\n",
    "    )\n",
    "\n",
    "len(fingerprint_df_dict)"
   ]
  },
  {
   "cell_type": "markdown",
   "metadata": {},
   "source": [
    "# Split the dataset into train-test\n",
    "\n",
    "The split ratio choose for this purpose was 80-10. Since we want to handle just integers, we convert the classes into integers with: \n",
    "* gram-negative - 1\n",
    "* gram-positive - 2\n",
    "* acid-fast - 3\n",
    "* fungi - 4\n",
    "* inactive - 5"
   ]
  },
  {
   "cell_type": "markdown",
   "metadata": {},
   "source": [
    "Since a high imbalance between the classes exists, we apply the SMOTE technique to rebalance the classes."
   ]
  },
  {
   "cell_type": "code",
   "execution_count": 4,
   "metadata": {},
   "outputs": [],
   "source": [
    "SPLITS_DIR = \"../data/splits\"\n",
    "os.makedirs(SPLITS_DIR, exist_ok=True)"
   ]
  },
  {
   "cell_type": "code",
   "execution_count": 5,
   "metadata": {},
   "outputs": [],
   "source": [
    "def smote_base_sampling(df: pd.DataFrame, name: str, sample_type: str, labels: dict):\n",
    "    sample_dir = f\"{SPLITS_DIR}/{sample_type}\"\n",
    "    os.makedirs(sample_dir, exist_ok=True)\n",
    "\n",
    "    print(f\"Processing {name} dataset\")\n",
    "\n",
    "    # Split the data into training and testing sets\n",
    "    train, test = train_test_split(\n",
    "        df,\n",
    "        test_size=0.2,  # 80% training and 20% testing\n",
    "        random_state=42,  # to ensure that the split is always the same\n",
    "        shuffle=True,\n",
    "        stratify=df[\n",
    "            \"label\"\n",
    "        ],  # to ensure that the distribution of the labels is the same in both splits\n",
    "    )\n",
    "\n",
    "    # Saving the orginal splits\n",
    "    train.to_csv(f\"{sample_dir}/{name}_train.csv\", index=False)\n",
    "    test.to_csv(f\"{sample_dir}/{name}_test.csv\", index=False)\n",
    "\n",
    "    print(\"Original dataset shape %s\" % Counter(train[\"label\"]))\n",
    "\n",
    "    # Map the labels to integers (SMOTE only works with integers)\n",
    "    train[\"label\"] = train[\"label\"].map(labels)\n",
    "\n",
    "    # Split the training data\n",
    "    X_train = train.drop(columns=[\"label\", \"cmp_id\"])\n",
    "    y_train = train[\"label\"]\n",
    "\n",
    "    # Apply SMOTE to the training data\n",
    "    sm = SMOTE(random_state=42)\n",
    "    smote_sampled_train, smote_sampled_labels = sm.fit_resample(X_train, y_train)\n",
    "\n",
    "    # Map the labels back to their original values\n",
    "    smote_sampled_train[\"label\"] = smote_sampled_labels\n",
    "    smote_sampled_train[\"label\"] = smote_sampled_train[\"label\"].map(\n",
    "        {v: k for k, v in labels.items()}\n",
    "    )\n",
    "\n",
    "    print(\"SMOTE dataset shape %s\" % Counter(smote_sampled_train[\"label\"]))\n",
    "\n",
    "    # Saving the SMOTE splits\n",
    "    smote_sampled_train.to_csv(f\"{sample_dir}/{name}_smote_train.csv\", index=False)\n",
    "    print(\"\\n\")"
   ]
  },
  {
   "cell_type": "code",
   "execution_count": 6,
   "metadata": {},
   "outputs": [
    {
     "name": "stderr",
     "output_type": "stream",
     "text": [
      "  0%|          | 0/6 [00:00<?, ?it/s]"
     ]
    },
    {
     "name": "stdout",
     "output_type": "stream",
     "text": [
      "Processing ecfp4 dataset\n",
      "Original dataset shape Counter({'gram-positive': 21148, 'inactive': 15654, 'gram-negative': 9083, 'fungi': 7631, 'acid-fast': 5845})\n",
      "SMOTE dataset shape Counter({'gram-positive': 21148, 'inactive': 21148, 'fungi': 21148, 'gram-negative': 21148, 'acid-fast': 21148})\n"
     ]
    },
    {
     "name": "stderr",
     "output_type": "stream",
     "text": [
      " 17%|█▋        | 1/6 [00:28<02:23, 28.65s/it]"
     ]
    },
    {
     "name": "stdout",
     "output_type": "stream",
     "text": [
      "\n",
      "\n",
      "Processing rdkit dataset\n",
      "Original dataset shape Counter({'gram-positive': 21148, 'inactive': 15654, 'gram-negative': 9083, 'fungi': 7631, 'acid-fast': 5845})\n",
      "SMOTE dataset shape Counter({'gram-positive': 21148, 'inactive': 21148, 'fungi': 21148, 'gram-negative': 21148, 'acid-fast': 21148})\n"
     ]
    },
    {
     "name": "stderr",
     "output_type": "stream",
     "text": [
      " 33%|███▎      | 2/6 [00:57<01:54, 28.66s/it]"
     ]
    },
    {
     "name": "stdout",
     "output_type": "stream",
     "text": [
      "\n",
      "\n",
      "Processing maccs dataset\n",
      "Original dataset shape Counter({'gram-positive': 21148, 'inactive': 15654, 'gram-negative': 9083, 'fungi': 7631, 'acid-fast': 5845})\n",
      "SMOTE dataset shape Counter({'gram-positive': 21148, 'inactive': 21148, 'fungi': 21148, 'gram-negative': 21148, 'acid-fast': 21148})\n"
     ]
    },
    {
     "name": "stderr",
     "output_type": "stream",
     "text": [
      " 50%|█████     | 3/6 [01:05<00:58, 19.37s/it]"
     ]
    },
    {
     "name": "stdout",
     "output_type": "stream",
     "text": [
      "\n",
      "\n",
      "Processing mhfp6 dataset\n",
      "Original dataset shape Counter({'gram-positive': 21148, 'inactive': 15654, 'gram-negative': 9083, 'fungi': 7631, 'acid-fast': 5845})\n",
      "SMOTE dataset shape Counter({'gram-positive': 21148, 'inactive': 21148, 'fungi': 21148, 'gram-negative': 21148, 'acid-fast': 21148})\n"
     ]
    },
    {
     "name": "stderr",
     "output_type": "stream",
     "text": [
      " 67%|██████▋   | 4/6 [02:44<01:41, 50.58s/it]"
     ]
    },
    {
     "name": "stdout",
     "output_type": "stream",
     "text": [
      "\n",
      "\n",
      "Processing erg dataset\n",
      "Original dataset shape Counter({'gram-positive': 21148, 'inactive': 15654, 'gram-negative': 9083, 'fungi': 7631, 'acid-fast': 5845})\n",
      "SMOTE dataset shape Counter({'gram-positive': 21148, 'inactive': 21148, 'fungi': 21148, 'gram-negative': 21148, 'acid-fast': 21148})\n"
     ]
    },
    {
     "name": "stderr",
     "output_type": "stream",
     "text": [
      " 83%|████████▎ | 5/6 [03:00<00:38, 38.13s/it]"
     ]
    },
    {
     "name": "stdout",
     "output_type": "stream",
     "text": [
      "\n",
      "\n",
      "Processing chem_phys dataset\n",
      "Original dataset shape Counter({'gram-positive': 21148, 'inactive': 15654, 'gram-negative': 9083, 'fungi': 7631, 'acid-fast': 5845})\n",
      "SMOTE dataset shape Counter({'gram-positive': 21148, 'inactive': 21148, 'fungi': 21148, 'gram-negative': 21148, 'acid-fast': 21148})\n"
     ]
    },
    {
     "name": "stderr",
     "output_type": "stream",
     "text": [
      "100%|██████████| 6/6 [03:01<00:00, 30.23s/it]"
     ]
    },
    {
     "name": "stdout",
     "output_type": "stream",
     "text": [
      "\n",
      "\n"
     ]
    },
    {
     "name": "stderr",
     "output_type": "stream",
     "text": [
      "\n"
     ]
    }
   ],
   "source": [
    "for fingerprint_name, df in tqdm(fingerprint_df_dict.items()):\n",
    "    labels = {\n",
    "        \"gram-negative\": 1,\n",
    "        \"gram-positive\": 2,\n",
    "        \"acid-fast\": 3,\n",
    "        \"fungi\": 4,\n",
    "        \"inactive\": 5,\n",
    "    }\n",
    "    smote_base_sampling(df, fingerprint_name, sample_type=\"combined\", labels=labels)"
   ]
  },
  {
   "cell_type": "markdown",
   "metadata": {},
   "source": [
    "# Pathogen class specific training files "
   ]
  },
  {
   "cell_type": "code",
   "execution_count": 7,
   "metadata": {},
   "outputs": [
    {
     "name": "stderr",
     "output_type": "stream",
     "text": [
      "  0%|          | 0/6 [00:00<?, ?it/s]"
     ]
    },
    {
     "name": "stdout",
     "output_type": "stream",
     "text": [
      "Processing ecfp4 dataset\n",
      "Original dataset shape Counter({'inactive': 23532, 'active': 9266})\n",
      "SMOTE dataset shape Counter({'inactive': 23532, 'active': 23532})\n"
     ]
    },
    {
     "name": "stderr",
     "output_type": "stream",
     "text": [
      " 17%|█▋        | 1/6 [00:12<01:00, 12.17s/it]"
     ]
    },
    {
     "name": "stdout",
     "output_type": "stream",
     "text": [
      "\n",
      "\n",
      "Processing rdkit dataset\n",
      "Original dataset shape Counter({'inactive': 23532, 'active': 9266})\n",
      "SMOTE dataset shape Counter({'inactive': 23532, 'active': 23532})\n"
     ]
    },
    {
     "name": "stderr",
     "output_type": "stream",
     "text": [
      " 33%|███▎      | 2/6 [00:25<00:50, 12.66s/it]"
     ]
    },
    {
     "name": "stdout",
     "output_type": "stream",
     "text": [
      "\n",
      "\n",
      "Processing maccs dataset\n",
      "Original dataset shape Counter({'inactive': 23532, 'active': 9266})\n",
      "SMOTE dataset shape Counter({'inactive': 23532, 'active': 23532})\n"
     ]
    },
    {
     "name": "stderr",
     "output_type": "stream",
     "text": [
      " 50%|█████     | 3/6 [00:28<00:24,  8.18s/it]"
     ]
    },
    {
     "name": "stdout",
     "output_type": "stream",
     "text": [
      "\n",
      "\n",
      "Processing mhfp6 dataset\n",
      "Original dataset shape Counter({'inactive': 23532, 'active': 9266})\n",
      "SMOTE dataset shape Counter({'inactive': 23532, 'active': 23532})\n"
     ]
    },
    {
     "name": "stderr",
     "output_type": "stream",
     "text": [
      " 67%|██████▋   | 4/6 [01:15<00:47, 23.83s/it]"
     ]
    },
    {
     "name": "stdout",
     "output_type": "stream",
     "text": [
      "\n",
      "\n",
      "Processing erg dataset\n",
      "Original dataset shape Counter({'inactive': 23532, 'active': 9266})\n",
      "SMOTE dataset shape Counter({'inactive': 23532, 'active': 23532})\n"
     ]
    },
    {
     "name": "stderr",
     "output_type": "stream",
     "text": [
      " 83%|████████▎ | 5/6 [01:23<00:17, 17.85s/it]"
     ]
    },
    {
     "name": "stdout",
     "output_type": "stream",
     "text": [
      "\n",
      "\n",
      "Processing chem_phys dataset\n",
      "Original dataset shape Counter({'inactive': 23532, 'active': 9266})\n",
      "SMOTE dataset shape Counter({'inactive': 23532, 'active': 23532})\n"
     ]
    },
    {
     "name": "stderr",
     "output_type": "stream",
     "text": [
      "100%|██████████| 6/6 [01:23<00:00, 13.94s/it]\n"
     ]
    },
    {
     "name": "stdout",
     "output_type": "stream",
     "text": [
      "\n",
      "\n"
     ]
    },
    {
     "name": "stderr",
     "output_type": "stream",
     "text": [
      "  0%|          | 0/6 [00:00<?, ?it/s]"
     ]
    },
    {
     "name": "stdout",
     "output_type": "stream",
     "text": [
      "Processing ecfp4 dataset\n",
      "Original dataset shape Counter({'inactive': 22854, 'active': 14024})\n",
      "SMOTE dataset shape Counter({'inactive': 22854, 'active': 22854})\n"
     ]
    },
    {
     "name": "stderr",
     "output_type": "stream",
     "text": [
      " 17%|█▋        | 1/6 [00:15<01:15, 15.19s/it]"
     ]
    },
    {
     "name": "stdout",
     "output_type": "stream",
     "text": [
      "\n",
      "\n",
      "Processing rdkit dataset\n",
      "Original dataset shape Counter({'inactive': 22854, 'active': 14024})\n",
      "SMOTE dataset shape Counter({'inactive': 22854, 'active': 22854})\n"
     ]
    },
    {
     "name": "stderr",
     "output_type": "stream",
     "text": [
      " 33%|███▎      | 2/6 [00:31<01:03, 15.77s/it]"
     ]
    },
    {
     "name": "stdout",
     "output_type": "stream",
     "text": [
      "\n",
      "\n",
      "Processing maccs dataset\n",
      "Original dataset shape Counter({'inactive': 22854, 'active': 14024})\n",
      "SMOTE dataset shape Counter({'inactive': 22854, 'active': 22854})\n"
     ]
    },
    {
     "name": "stderr",
     "output_type": "stream",
     "text": [
      " 50%|█████     | 3/6 [00:35<00:31, 10.54s/it]"
     ]
    },
    {
     "name": "stdout",
     "output_type": "stream",
     "text": [
      "\n",
      "\n",
      "Processing mhfp6 dataset\n",
      "Original dataset shape Counter({'inactive': 22854, 'active': 14024})\n",
      "SMOTE dataset shape Counter({'inactive': 22854, 'active': 22854})\n"
     ]
    },
    {
     "name": "stderr",
     "output_type": "stream",
     "text": [
      " 67%|██████▋   | 4/6 [01:31<00:56, 28.27s/it]"
     ]
    },
    {
     "name": "stdout",
     "output_type": "stream",
     "text": [
      "\n",
      "\n",
      "Processing erg dataset\n",
      "Original dataset shape Counter({'inactive': 22854, 'active': 14024})\n",
      "SMOTE dataset shape Counter({'inactive': 22854, 'active': 22854})\n"
     ]
    },
    {
     "name": "stderr",
     "output_type": "stream",
     "text": [
      " 83%|████████▎ | 5/6 [01:38<00:20, 20.90s/it]"
     ]
    },
    {
     "name": "stdout",
     "output_type": "stream",
     "text": [
      "\n",
      "\n",
      "Processing chem_phys dataset\n",
      "Original dataset shape Counter({'inactive': 22854, 'active': 14024})\n",
      "SMOTE dataset shape Counter({'inactive': 22854, 'active': 22854})\n"
     ]
    },
    {
     "name": "stderr",
     "output_type": "stream",
     "text": [
      "100%|██████████| 6/6 [01:39<00:00, 16.61s/it]\n"
     ]
    },
    {
     "name": "stdout",
     "output_type": "stream",
     "text": [
      "\n",
      "\n"
     ]
    },
    {
     "name": "stderr",
     "output_type": "stream",
     "text": [
      "  0%|          | 0/6 [00:00<?, ?it/s]"
     ]
    },
    {
     "name": "stdout",
     "output_type": "stream",
     "text": [
      "Processing ecfp4 dataset\n",
      "Original dataset shape Counter({'inactive': 6105, 'active': 3166})\n",
      "SMOTE dataset shape Counter({'active': 6105, 'inactive': 6105})\n"
     ]
    },
    {
     "name": "stderr",
     "output_type": "stream",
     "text": [
      " 17%|█▋        | 1/6 [00:03<00:15,  3.09s/it]"
     ]
    },
    {
     "name": "stdout",
     "output_type": "stream",
     "text": [
      "\n",
      "\n",
      "Processing rdkit dataset\n",
      "Original dataset shape Counter({'inactive': 6105, 'active': 3166})\n",
      "SMOTE dataset shape Counter({'active': 6105, 'inactive': 6105})\n"
     ]
    },
    {
     "name": "stderr",
     "output_type": "stream",
     "text": [
      " 33%|███▎      | 2/6 [00:06<00:12,  3.17s/it]"
     ]
    },
    {
     "name": "stdout",
     "output_type": "stream",
     "text": [
      "\n",
      "\n",
      "Processing maccs dataset\n",
      "Original dataset shape Counter({'inactive': 6105, 'active': 3166})\n"
     ]
    },
    {
     "name": "stderr",
     "output_type": "stream",
     "text": [
      " 50%|█████     | 3/6 [00:06<00:06,  2.00s/it]"
     ]
    },
    {
     "name": "stdout",
     "output_type": "stream",
     "text": [
      "SMOTE dataset shape Counter({'active': 6105, 'inactive': 6105})\n",
      "\n",
      "\n",
      "Processing mhfp6 dataset\n",
      "Original dataset shape Counter({'inactive': 6105, 'active': 3166})\n",
      "SMOTE dataset shape Counter({'active': 6105, 'inactive': 6105})\n"
     ]
    },
    {
     "name": "stderr",
     "output_type": "stream",
     "text": [
      " 67%|██████▋   | 4/6 [00:19<00:12,  6.08s/it]"
     ]
    },
    {
     "name": "stdout",
     "output_type": "stream",
     "text": [
      "\n",
      "\n",
      "Processing erg dataset\n",
      "Original dataset shape Counter({'inactive': 6105, 'active': 3166})\n",
      "SMOTE dataset shape Counter({'active': 6105, 'inactive': 6105})\n"
     ]
    },
    {
     "name": "stderr",
     "output_type": "stream",
     "text": [
      "100%|██████████| 6/6 [00:21<00:00,  3.53s/it]\n"
     ]
    },
    {
     "name": "stdout",
     "output_type": "stream",
     "text": [
      "\n",
      "\n",
      "Processing chem_phys dataset\n",
      "Original dataset shape Counter({'inactive': 6105, 'active': 3166})\n",
      "SMOTE dataset shape Counter({'active': 6105, 'inactive': 6105})\n",
      "\n",
      "\n"
     ]
    },
    {
     "name": "stderr",
     "output_type": "stream",
     "text": [
      "  0%|          | 0/6 [00:00<?, ?it/s]"
     ]
    },
    {
     "name": "stdout",
     "output_type": "stream",
     "text": [
      "Processing ecfp4 dataset\n",
      "Original dataset shape Counter({'inactive': 11025, 'active': 3426})\n",
      "SMOTE dataset shape Counter({'active': 11025, 'inactive': 11025})\n"
     ]
    },
    {
     "name": "stderr",
     "output_type": "stream",
     "text": [
      " 17%|█▋        | 1/6 [00:05<00:26,  5.30s/it]"
     ]
    },
    {
     "name": "stdout",
     "output_type": "stream",
     "text": [
      "\n",
      "\n",
      "Processing rdkit dataset\n",
      "Original dataset shape Counter({'inactive': 11025, 'active': 3426})\n",
      "SMOTE dataset shape Counter({'active': 11025, 'inactive': 11025})\n"
     ]
    },
    {
     "name": "stderr",
     "output_type": "stream",
     "text": [
      " 33%|███▎      | 2/6 [00:10<00:21,  5.42s/it]"
     ]
    },
    {
     "name": "stdout",
     "output_type": "stream",
     "text": [
      "\n",
      "\n",
      "Processing maccs dataset\n",
      "Original dataset shape Counter({'inactive': 11025, 'active': 3426})\n",
      "SMOTE dataset shape Counter({'active': 11025, 'inactive': 11025})\n"
     ]
    },
    {
     "name": "stderr",
     "output_type": "stream",
     "text": [
      " 50%|█████     | 3/6 [00:11<00:09,  3.31s/it]"
     ]
    },
    {
     "name": "stdout",
     "output_type": "stream",
     "text": [
      "\n",
      "\n",
      "Processing mhfp6 dataset\n",
      "Original dataset shape Counter({'inactive': 11025, 'active': 3426})\n",
      "SMOTE dataset shape Counter({'active': 11025, 'inactive': 11025})\n"
     ]
    },
    {
     "name": "stderr",
     "output_type": "stream",
     "text": [
      " 67%|██████▋   | 4/6 [00:33<00:21, 10.64s/it]"
     ]
    },
    {
     "name": "stdout",
     "output_type": "stream",
     "text": [
      "\n",
      "\n",
      "Processing erg dataset\n",
      "Original dataset shape Counter({'inactive': 11025, 'active': 3426})\n",
      "SMOTE dataset shape Counter({'active': 11025, 'inactive': 11025})\n"
     ]
    },
    {
     "name": "stderr",
     "output_type": "stream",
     "text": [
      " 83%|████████▎ | 5/6 [00:36<00:08,  8.00s/it]"
     ]
    },
    {
     "name": "stdout",
     "output_type": "stream",
     "text": [
      "\n",
      "\n",
      "Processing chem_phys dataset\n",
      "Original dataset shape Counter({'inactive': 11025, 'active': 3426})\n",
      "SMOTE dataset shape Counter({'active': 11025, 'inactive': 11025})\n"
     ]
    },
    {
     "name": "stderr",
     "output_type": "stream",
     "text": [
      "100%|██████████| 6/6 [00:37<00:00,  6.18s/it]"
     ]
    },
    {
     "name": "stdout",
     "output_type": "stream",
     "text": [
      "\n",
      "\n"
     ]
    },
    {
     "name": "stderr",
     "output_type": "stream",
     "text": [
      "\n"
     ]
    }
   ],
   "source": [
    "for pathogen_class in [\"gram-negative\", \"gram-positive\", \"acid-fast\", \"fungi\"]:\n",
    "    for fingerprint_name in tqdm(fingerprint_df_dict):\n",
    "        pathogen_df = pd.read_csv(\n",
    "            f\"../data/fingerprints/{pathogen_class}_{fingerprint_name}.tsv\", sep=\"\\t\"\n",
    "        )\n",
    "\n",
    "        labels = {\n",
    "            \"active\": 1,\n",
    "            \"inactive\": 0,\n",
    "        }\n",
    "\n",
    "        smote_base_sampling(\n",
    "            pathogen_df, fingerprint_name, sample_type=pathogen_class, labels=labels\n",
    "        )"
   ]
  },
  {
   "cell_type": "code",
   "execution_count": null,
   "metadata": {},
   "outputs": [],
   "source": []
  }
 ],
 "metadata": {
  "kernelspec": {
   "display_name": "amr",
   "language": "python",
   "name": "amr"
  },
  "language_info": {
   "codemirror_mode": {
    "name": "ipython",
    "version": 3
   },
   "file_extension": ".py",
   "mimetype": "text/x-python",
   "name": "python",
   "nbconvert_exporter": "python",
   "pygments_lexer": "ipython3",
   "version": "3.9.18"
  }
 },
 "nbformat": 4,
 "nbformat_minor": 2
}
