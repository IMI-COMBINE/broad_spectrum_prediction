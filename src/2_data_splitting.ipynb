{
 "cells": [
  {
   "cell_type": "markdown",
   "metadata": {},
   "source": [
    "# Data splitting\n",
    "\n",
    "This notebook is used to generate the train-test splits with and without SMOTE technique."
   ]
  },
  {
   "cell_type": "code",
   "execution_count": 1,
   "metadata": {},
   "outputs": [],
   "source": [
    "import os\n",
    "from collections import Counter\n",
    "import pandas as pd\n",
    "from tqdm import tqdm\n",
    "from sklearn.model_selection import train_test_split\n",
    "from imblearn.over_sampling import SMOTE"
   ]
  },
  {
   "cell_type": "code",
   "execution_count": 2,
   "metadata": {},
   "outputs": [],
   "source": [
    "import warnings\n",
    "\n",
    "warnings.filterwarnings(action=\"ignore\", category=pd.errors.PerformanceWarning)"
   ]
  },
  {
   "cell_type": "markdown",
   "metadata": {},
   "source": [
    "# Load dataset"
   ]
  },
  {
   "cell_type": "code",
   "execution_count": 3,
   "metadata": {},
   "outputs": [
    {
     "data": {
      "text/plain": [
       "6"
      ]
     },
     "execution_count": 3,
     "metadata": {},
     "output_type": "execute_result"
    }
   ],
   "source": [
    "fingerprint_df_dict = {}\n",
    "\n",
    "for fingperint_name in [\"ecfp4\", \"rdkit\", \"maccs\", \"mhfp6\", \"erg\", \"chem_phys\"]:\n",
    "    fingerprint_df_dict[fingperint_name] = pd.read_csv(\n",
    "        f\"../data/fingerprints/combined_{fingperint_name}.tsv\", sep=\"\\t\"\n",
    "    )\n",
    "\n",
    "len(fingerprint_df_dict)"
   ]
  },
  {
   "cell_type": "markdown",
   "metadata": {},
   "source": [
    "# Split the dataset into train-test\n",
    "\n",
    "The split ratio choose for this purpose was 80-10. Since we want to handle just integers, we convert the classes into integers with: \n",
    "* gram-negative - 1\n",
    "* gram-positive - 2\n",
    "* acid-fast - 3\n",
    "* fungi - 4"
   ]
  },
  {
   "cell_type": "markdown",
   "metadata": {},
   "source": [
    "Since a high imbalance between the classes exists, we apply the SMOTE technique to rebalance the classes."
   ]
  },
  {
   "cell_type": "code",
   "execution_count": 4,
   "metadata": {},
   "outputs": [],
   "source": [
    "os.makedirs(\"../data/splits\", exist_ok=True)"
   ]
  },
  {
   "cell_type": "code",
   "execution_count": 5,
   "metadata": {},
   "outputs": [],
   "source": [
    "def smote_base_sampling(df: pd.DataFrame, name: str):\n",
    "    print(f\"\\n Processing {name} dataset\")\n",
    "\n",
    "    # Split the data into training and testing sets\n",
    "    train, test = train_test_split(\n",
    "        df,\n",
    "        test_size=0.2,  # 80% training and 20% testing\n",
    "        random_state=42,  # to ensure that the split is always the same\n",
    "        shuffle=True,\n",
    "        stratify=df[\n",
    "            \"label\"\n",
    "        ],  # to ensure that the distribution of the labels is the same in both splits\n",
    "    )\n",
    "\n",
    "    # Saving the orginal splits\n",
    "    train.to_csv(f\"../data/splits/{name}_train.csv\", index=False)\n",
    "    test.to_csv(f\"../data/splits/{name}_test.csv\", index=False)\n",
    "\n",
    "    print(\"Original dataset shape %s\" % Counter(train[\"label\"]))\n",
    "\n",
    "    # Map the labels to integers (SMOTE only works with integers)\n",
    "    train[\"label\"] = train[\"label\"].map(\n",
    "        {\"gram-negative\": 1, \"gram-positive\": 2, \"acid-fast\": 3, \"fungi\": 4}\n",
    "    )\n",
    "\n",
    "    # Split the training data\n",
    "    X_train = train.drop(columns=[\"label\", \"cmp_id\"])\n",
    "    y_train = train[\"label\"]\n",
    "\n",
    "    # Apply SMOTE to the training data\n",
    "    sm = SMOTE(random_state=42)\n",
    "    smote_sampled_train, smote_sampled_labels = sm.fit_resample(X_train, y_train)\n",
    "\n",
    "    # Map the labels back to their original values\n",
    "    smote_sampled_train[\"label\"] = smote_sampled_labels\n",
    "    smote_sampled_train[\"label\"] = smote_sampled_train[\"label\"].map(\n",
    "        {1: \"gram-negative\", 2: \"gram-positive\", 3: \"acid-fast\", 4: \"fungi\"}\n",
    "    )\n",
    "\n",
    "    print(\"SMOTE dataset shape %s\" % Counter(smote_sampled_train[\"label\"]))\n",
    "\n",
    "    # Saving the SMOTE splits\n",
    "    smote_sampled_train.to_csv(f\"../data/splits/{name}_smote_train.csv\", index=False)"
   ]
  },
  {
   "cell_type": "code",
   "execution_count": 6,
   "metadata": {},
   "outputs": [
    {
     "name": "stderr",
     "output_type": "stream",
     "text": [
      "  0%|          | 0/6 [00:00<?, ?it/s]"
     ]
    },
    {
     "name": "stdout",
     "output_type": "stream",
     "text": [
      "\n",
      " Processing ecfp4 dataset\n",
      "Original dataset shape Counter({'gram-positive': 27805, 'gram-negative': 12406, 'fungi': 11744, 'acid-fast': 7406})\n",
      "SMOTE dataset shape Counter({'fungi': 27805, 'gram-negative': 27805, 'acid-fast': 27805, 'gram-positive': 27805})\n"
     ]
    },
    {
     "name": "stderr",
     "output_type": "stream",
     "text": [
      " 17%|█▋        | 1/6 [00:27<02:15, 27.02s/it]"
     ]
    },
    {
     "name": "stdout",
     "output_type": "stream",
     "text": [
      "\n",
      " Processing rdkit dataset\n",
      "Original dataset shape Counter({'gram-positive': 27805, 'gram-negative': 12406, 'fungi': 11744, 'acid-fast': 7406})\n",
      "SMOTE dataset shape Counter({'fungi': 27805, 'gram-negative': 27805, 'acid-fast': 27805, 'gram-positive': 27805})\n"
     ]
    },
    {
     "name": "stderr",
     "output_type": "stream",
     "text": [
      " 33%|███▎      | 2/6 [00:54<01:50, 27.52s/it]"
     ]
    },
    {
     "name": "stdout",
     "output_type": "stream",
     "text": [
      "\n",
      " Processing maccs dataset\n",
      "Original dataset shape Counter({'gram-positive': 27805, 'gram-negative': 12406, 'fungi': 11744, 'acid-fast': 7406})\n",
      "SMOTE dataset shape Counter({'fungi': 27805, 'gram-negative': 27805, 'acid-fast': 27805, 'gram-positive': 27805})\n"
     ]
    },
    {
     "name": "stderr",
     "output_type": "stream",
     "text": [
      " 50%|█████     | 3/6 [01:02<00:54, 18.22s/it]"
     ]
    },
    {
     "name": "stdout",
     "output_type": "stream",
     "text": [
      "\n",
      " Processing mhfp6 dataset\n",
      "Original dataset shape Counter({'gram-positive': 27805, 'gram-negative': 12406, 'fungi': 11744, 'acid-fast': 7406})\n",
      "SMOTE dataset shape Counter({'fungi': 27805, 'gram-negative': 27805, 'acid-fast': 27805, 'gram-positive': 27805})\n"
     ]
    },
    {
     "name": "stderr",
     "output_type": "stream",
     "text": [
      " 67%|██████▋   | 4/6 [02:42<01:41, 50.67s/it]"
     ]
    },
    {
     "name": "stdout",
     "output_type": "stream",
     "text": [
      "\n",
      " Processing erg dataset\n",
      "Original dataset shape Counter({'gram-positive': 27805, 'gram-negative': 12406, 'fungi': 11744, 'acid-fast': 7406})\n",
      "SMOTE dataset shape Counter({'fungi': 27805, 'gram-negative': 27805, 'acid-fast': 27805, 'gram-positive': 27805})\n"
     ]
    },
    {
     "name": "stderr",
     "output_type": "stream",
     "text": [
      " 83%|████████▎ | 5/6 [02:58<00:38, 38.21s/it]"
     ]
    },
    {
     "name": "stdout",
     "output_type": "stream",
     "text": [
      "\n",
      " Processing chem_phys dataset\n",
      "Original dataset shape Counter({'gram-positive': 27805, 'gram-negative': 12406, 'fungi': 11744, 'acid-fast': 7406})\n",
      "SMOTE dataset shape Counter({'fungi': 27805, 'gram-negative': 27805, 'acid-fast': 27805, 'gram-positive': 27805})\n"
     ]
    },
    {
     "name": "stderr",
     "output_type": "stream",
     "text": [
      "100%|██████████| 6/6 [02:59<00:00, 29.98s/it]\n"
     ]
    }
   ],
   "source": [
    "for fingerprint_name, df in tqdm(fingerprint_df_dict.items()):\n",
    "    smote_base_sampling(df, fingerprint_name)"
   ]
  },
  {
   "cell_type": "code",
   "execution_count": null,
   "metadata": {},
   "outputs": [],
   "source": []
  }
 ],
 "metadata": {
  "kernelspec": {
   "display_name": "amr",
   "language": "python",
   "name": "amr"
  },
  "language_info": {
   "codemirror_mode": {
    "name": "ipython",
    "version": 3
   },
   "file_extension": ".py",
   "mimetype": "text/x-python",
   "name": "python",
   "nbconvert_exporter": "python",
   "pygments_lexer": "ipython3",
   "version": "3.9.18"
  }
 },
 "nbformat": 4,
 "nbformat_minor": 2
}
