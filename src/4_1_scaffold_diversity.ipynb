{
 "cells": [
  {
   "cell_type": "code",
   "execution_count": 1,
   "metadata": {},
   "outputs": [],
   "source": [
    "import os\n",
    "import pandas as pd\n",
    "from tqdm import tqdm\n",
    "\n",
    "from rdkit import Chem\n",
    "from rdkit.Chem.Scaffolds import MurckoScaffold\n",
    "from rdkit.Chem.SaltRemover import SaltRemover\n",
    "from rdkit.Chem.Draw import MolsToGridImage\n",
    "import matplotlib.pyplot as plt"
   ]
  },
  {
   "cell_type": "code",
   "execution_count": 2,
   "metadata": {},
   "outputs": [],
   "source": [
    "# Disable warnings\n",
    "from rdkit import RDLogger\n",
    "import warnings\n",
    "\n",
    "RDLogger.DisableLog(\"rdApp.*\")\n",
    "warnings.filterwarnings(\"ignore\")"
   ]
  },
  {
   "cell_type": "markdown",
   "metadata": {},
   "source": [
    "# Load dataset"
   ]
  },
  {
   "cell_type": "code",
   "execution_count": 3,
   "metadata": {},
   "outputs": [
    {
     "data": {
      "text/html": [
       "<div>\n",
       "<style scoped>\n",
       "    .dataframe tbody tr th:only-of-type {\n",
       "        vertical-align: middle;\n",
       "    }\n",
       "\n",
       "    .dataframe tbody tr th {\n",
       "        vertical-align: top;\n",
       "    }\n",
       "\n",
       "    .dataframe thead th {\n",
       "        text-align: right;\n",
       "    }\n",
       "</style>\n",
       "<table border=\"1\" class=\"dataframe\">\n",
       "  <thead>\n",
       "    <tr style=\"text-align: right;\">\n",
       "      <th></th>\n",
       "      <th>compound_inchikey</th>\n",
       "      <th>compound_smiles</th>\n",
       "      <th>compound_source</th>\n",
       "      <th>gram-positive</th>\n",
       "      <th>gram-negative</th>\n",
       "      <th>fungi</th>\n",
       "      <th>acid-fast</th>\n",
       "      <th>chemical_class</th>\n",
       "      <th>compound_superclass</th>\n",
       "      <th>compound_pathway</th>\n",
       "      <th>gram-positive_label</th>\n",
       "      <th>gram-negative_label</th>\n",
       "      <th>fungi_label</th>\n",
       "      <th>acid-fast_label</th>\n",
       "      <th>best_class</th>\n",
       "    </tr>\n",
       "  </thead>\n",
       "  <tbody>\n",
       "    <tr>\n",
       "      <th>0</th>\n",
       "      <td>OOYGSFOGFJDDHP-KMCOLRRFSA-N</td>\n",
       "      <td>NC[C@H]1O[C@H](O[C@H]2[C@H](O)[C@@H](O[C@H]3O[...</td>\n",
       "      <td>chembl_34</td>\n",
       "      <td>5.0</td>\n",
       "      <td>5.0</td>\n",
       "      <td>NaN</td>\n",
       "      <td>6.0</td>\n",
       "      <td>['Amino cyclitols', 'Aminoglycosides']</td>\n",
       "      <td>['Aminosugars and aminoglycosides', 'Polyols']</td>\n",
       "      <td>['Carbohydrates']</td>\n",
       "      <td>inactive</td>\n",
       "      <td>inactive</td>\n",
       "      <td>NaN</td>\n",
       "      <td>active</td>\n",
       "      <td>acid-fast</td>\n",
       "    </tr>\n",
       "    <tr>\n",
       "      <th>1</th>\n",
       "      <td>XIPHLJFTBFXVBS-UHFFFAOYSA-N</td>\n",
       "      <td>C=C(C(=O)c1ccc(F)cc1)c1ccc(Cl)cc1Cl</td>\n",
       "      <td>chembl_34</td>\n",
       "      <td>NaN</td>\n",
       "      <td>NaN</td>\n",
       "      <td>6.0</td>\n",
       "      <td>NaN</td>\n",
       "      <td>['Chalcones']</td>\n",
       "      <td>['Flavonoids']</td>\n",
       "      <td>['Shikimates and Phenylpropanoids']</td>\n",
       "      <td>NaN</td>\n",
       "      <td>NaN</td>\n",
       "      <td>active</td>\n",
       "      <td>NaN</td>\n",
       "      <td>fungi</td>\n",
       "    </tr>\n",
       "    <tr>\n",
       "      <th>2</th>\n",
       "      <td>OEFUWWDPRNNMRS-WDPNLORNSA-N</td>\n",
       "      <td>CC[C@H]1OC(=O)[C@H](C)[C@H]2OC3(CCN(C(=O)c4ccc...</td>\n",
       "      <td>chembl_34</td>\n",
       "      <td>6.0</td>\n",
       "      <td>6.5</td>\n",
       "      <td>NaN</td>\n",
       "      <td>NaN</td>\n",
       "      <td>['Erythromycins']</td>\n",
       "      <td>['Macrolides']</td>\n",
       "      <td>['Polyketides']</td>\n",
       "      <td>active</td>\n",
       "      <td>active</td>\n",
       "      <td>NaN</td>\n",
       "      <td>NaN</td>\n",
       "      <td>gram-negative</td>\n",
       "    </tr>\n",
       "    <tr>\n",
       "      <th>3</th>\n",
       "      <td>LBRXTHSVIORIGU-OLROFJLRSA-N</td>\n",
       "      <td>CC[C@H]1OC(=O)[C@H](C)[C@H]2OC3(CCN(C(=O)c4cnc...</td>\n",
       "      <td>chembl_34</td>\n",
       "      <td>6.0</td>\n",
       "      <td>6.0</td>\n",
       "      <td>NaN</td>\n",
       "      <td>NaN</td>\n",
       "      <td>['Erythromycins']</td>\n",
       "      <td>['Macrolides']</td>\n",
       "      <td>['Polyketides']</td>\n",
       "      <td>active</td>\n",
       "      <td>active</td>\n",
       "      <td>NaN</td>\n",
       "      <td>NaN</td>\n",
       "      <td>gram-positive</td>\n",
       "    </tr>\n",
       "    <tr>\n",
       "      <th>4</th>\n",
       "      <td>PHYLUFIYANLQSE-UHFFFAOYSA-N</td>\n",
       "      <td>CN1Cc2csc3c(C(=O)O)c(=O)c4cc(F)c(N5CCOC(CF)C5)...</td>\n",
       "      <td>chembl_34</td>\n",
       "      <td>7.5</td>\n",
       "      <td>7.0</td>\n",
       "      <td>NaN</td>\n",
       "      <td>NaN</td>\n",
       "      <td>[]</td>\n",
       "      <td>['Tryptophan alkaloids']</td>\n",
       "      <td>['Alkaloids']</td>\n",
       "      <td>active</td>\n",
       "      <td>active</td>\n",
       "      <td>NaN</td>\n",
       "      <td>NaN</td>\n",
       "      <td>gram-positive</td>\n",
       "    </tr>\n",
       "  </tbody>\n",
       "</table>\n",
       "</div>"
      ],
      "text/plain": [
       "             compound_inchikey  \\\n",
       "0  OOYGSFOGFJDDHP-KMCOLRRFSA-N   \n",
       "1  XIPHLJFTBFXVBS-UHFFFAOYSA-N   \n",
       "2  OEFUWWDPRNNMRS-WDPNLORNSA-N   \n",
       "3  LBRXTHSVIORIGU-OLROFJLRSA-N   \n",
       "4  PHYLUFIYANLQSE-UHFFFAOYSA-N   \n",
       "\n",
       "                                     compound_smiles compound_source  \\\n",
       "0  NC[C@H]1O[C@H](O[C@H]2[C@H](O)[C@@H](O[C@H]3O[...       chembl_34   \n",
       "1                C=C(C(=O)c1ccc(F)cc1)c1ccc(Cl)cc1Cl       chembl_34   \n",
       "2  CC[C@H]1OC(=O)[C@H](C)[C@H]2OC3(CCN(C(=O)c4ccc...       chembl_34   \n",
       "3  CC[C@H]1OC(=O)[C@H](C)[C@H]2OC3(CCN(C(=O)c4cnc...       chembl_34   \n",
       "4  CN1Cc2csc3c(C(=O)O)c(=O)c4cc(F)c(N5CCOC(CF)C5)...       chembl_34   \n",
       "\n",
       "   gram-positive  gram-negative  fungi  acid-fast  \\\n",
       "0            5.0            5.0    NaN        6.0   \n",
       "1            NaN            NaN    6.0        NaN   \n",
       "2            6.0            6.5    NaN        NaN   \n",
       "3            6.0            6.0    NaN        NaN   \n",
       "4            7.5            7.0    NaN        NaN   \n",
       "\n",
       "                           chemical_class  \\\n",
       "0  ['Amino cyclitols', 'Aminoglycosides']   \n",
       "1                           ['Chalcones']   \n",
       "2                       ['Erythromycins']   \n",
       "3                       ['Erythromycins']   \n",
       "4                                      []   \n",
       "\n",
       "                              compound_superclass  \\\n",
       "0  ['Aminosugars and aminoglycosides', 'Polyols']   \n",
       "1                                  ['Flavonoids']   \n",
       "2                                  ['Macrolides']   \n",
       "3                                  ['Macrolides']   \n",
       "4                        ['Tryptophan alkaloids']   \n",
       "\n",
       "                      compound_pathway gram-positive_label  \\\n",
       "0                    ['Carbohydrates']            inactive   \n",
       "1  ['Shikimates and Phenylpropanoids']                 NaN   \n",
       "2                      ['Polyketides']              active   \n",
       "3                      ['Polyketides']              active   \n",
       "4                        ['Alkaloids']              active   \n",
       "\n",
       "  gram-negative_label fungi_label acid-fast_label     best_class  \n",
       "0            inactive         NaN          active      acid-fast  \n",
       "1                 NaN      active             NaN          fungi  \n",
       "2              active         NaN             NaN  gram-negative  \n",
       "3              active         NaN             NaN  gram-positive  \n",
       "4              active         NaN             NaN  gram-positive  "
      ]
     },
     "execution_count": 3,
     "metadata": {},
     "output_type": "execute_result"
    }
   ],
   "source": [
    "amr_df = pd.read_csv(\"../data/processed/combined_bioassay_data.tsv\", sep=\"\\t\")\n",
    "amr_df.head()"
   ]
  },
  {
   "cell_type": "markdown",
   "metadata": {},
   "source": [
    "# Generate the scaffolds"
   ]
  },
  {
   "cell_type": "code",
   "execution_count": 4,
   "metadata": {},
   "outputs": [
    {
     "name": "stderr",
     "output_type": "stream",
     "text": [
      "100%|██████████| 74202/74202 [01:37<00:00, 759.27it/s] \n"
     ]
    }
   ],
   "source": [
    "murcko_scaffolds = []\n",
    "murcko_scaffolds_inchikey = []\n",
    "skipped = set()\n",
    "\n",
    "remover = SaltRemover()\n",
    "\n",
    "for smiles in tqdm(amr_df[\"compound_smiles\"].values):\n",
    "    # Canonicalize the smiles\n",
    "    can_smiles = Chem.CanonSmiles(smiles)\n",
    "\n",
    "    # Generate the mol object\n",
    "    mol = Chem.MolFromSmiles(can_smiles)\n",
    "    stripped = remover.StripMol(mol)\n",
    "\n",
    "    # Generate the Murcko scaffold\n",
    "    scaffold = MurckoScaffold.GetScaffoldForMol(stripped)\n",
    "    if scaffold is not None and scaffold.GetNumAtoms() > 0:\n",
    "        murcko_scaffolds.append(Chem.MolToSmiles(scaffold))\n",
    "        murcko_scaffolds_inchikey.append(\n",
    "            Chem.InchiToInchiKey(Chem.MolToInchi(scaffold))\n",
    "        )\n",
    "    else:\n",
    "        murcko_scaffolds.append(None)\n",
    "        murcko_scaffolds_inchikey.append(None)\n",
    "        skipped.add(smiles)"
   ]
  },
  {
   "cell_type": "code",
   "execution_count": 5,
   "metadata": {},
   "outputs": [
    {
     "data": {
      "text/plain": [
       "1132"
      ]
     },
     "execution_count": 5,
     "metadata": {},
     "output_type": "execute_result"
    }
   ],
   "source": [
    "len(skipped)"
   ]
  },
  {
   "cell_type": "code",
   "execution_count": 6,
   "metadata": {},
   "outputs": [],
   "source": [
    "amr_df[\"murcko_scaffold\"] = murcko_scaffolds"
   ]
  },
  {
   "cell_type": "markdown",
   "metadata": {},
   "source": [
    "# Getting counts for each scaffold type"
   ]
  },
  {
   "cell_type": "code",
   "execution_count": 7,
   "metadata": {},
   "outputs": [],
   "source": [
    "m1 = amr_df[\"murcko_scaffold\"] == None\n",
    "amr_df = amr_df[~m1]"
   ]
  },
  {
   "cell_type": "code",
   "execution_count": 8,
   "metadata": {},
   "outputs": [],
   "source": [
    "# sort values by occurrence of scaffold\n",
    "scaffold_counts = amr_df[\"murcko_scaffold\"].value_counts()\n",
    "scaffold_counts = scaffold_counts.reset_index()\n",
    "scaffold_counts.columns = [\"murcko_scaffold\", \"count\"]"
   ]
  },
  {
   "cell_type": "code",
   "execution_count": 9,
   "metadata": {},
   "outputs": [
    {
     "data": {
      "text/plain": [
       "(24506, 2)"
      ]
     },
     "execution_count": 9,
     "metadata": {},
     "output_type": "execute_result"
    }
   ],
   "source": [
    "scaffold_counts.shape"
   ]
  },
  {
   "cell_type": "code",
   "execution_count": 10,
   "metadata": {},
   "outputs": [
    {
     "data": {
      "image/png": "[encoded data removed]",
      "text/plain": [
       "<Figure size 640x480 with 1 Axes>"
      ]
     },
     "metadata": {},
     "output_type": "display_data"
    }
   ],
   "source": [
    "scaffold_counts[\"count\"].plot(kind=\"hist\", bins=100)\n",
    "plt.yscale(\"log\")"
   ]
  },
  {
   "cell_type": "markdown",
   "metadata": {},
   "source": [
    "# Visualize the top and bottom scaffolds"
   ]
  },
  {
   "cell_type": "code",
   "execution_count": 11,
   "metadata": {},
   "outputs": [],
   "source": [
    "top_mols_to_plot = [\n",
    "    Chem.MolFromSmiles(i) for i in scaffold_counts.head(10)[\"murcko_scaffold\"]\n",
    "]\n",
    "img = MolsToGridImage(\n",
    "    top_mols_to_plot,\n",
    "    molsPerRow=5,\n",
    "    subImgSize=(300, 300),\n",
    "    legends=[f\"Occurence: {j}\" for i, j in scaffold_counts.head(10).values],\n",
    "    returnPNG=False,\n",
    ")\n",
    "img.save(\"../figures/figure_3.png\")"
   ]
  },
  {
   "cell_type": "code",
   "execution_count": 12,
   "metadata": {},
   "outputs": [],
   "source": [
    "bottom_mols_to_plot = [\n",
    "    Chem.MolFromSmiles(i) for i in scaffold_counts.tail(10)[\"murcko_scaffold\"]\n",
    "]\n",
    "img = MolsToGridImage(\n",
    "    bottom_mols_to_plot,\n",
    "    molsPerRow=5,\n",
    "    subImgSize=(300, 300),\n",
    "    legends=[f\"Occurence: {j}\" for i, j in scaffold_counts.tail(10).values],\n",
    "    returnPNG=False,\n",
    ")\n",
    "img.save(\"../figures/suuplemetary_figure_1.png\")"
   ]
  }
 ],
 "metadata": {
  "kernelspec": {
   "display_name": "amr",
   "language": "python",
   "name": "amr"
  },
  "language_info": {
   "codemirror_mode": {
    "name": "ipython",
    "version": 3
   },
   "file_extension": ".py",
   "mimetype": "text/x-python",
   "name": "python",
   "nbconvert_exporter": "python",
   "pygments_lexer": "ipython3",
   "version": "3.9.18"
  }
 },
 "nbformat": 4,
 "nbformat_minor": 2
}
