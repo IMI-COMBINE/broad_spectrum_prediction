{
 "cells": [
  {
   "cell_type": "code",
   "execution_count": 1,
   "metadata": {},
   "outputs": [],
   "source": [
    "import os\n",
    "import pandas as pd\n",
    "from tqdm import tqdm\n",
    "import torch\n",
    "\n",
    "from sklearn.metrics.pairwise import cosine_similarity\n",
    "from rdkit.Chem import CanonSmiles, MolFromSmiles, PandasTools, MolToSmiles\n",
    "\n",
    "from mhfp.encoder import MHFPEncoder\n",
    "import seaborn as sns\n",
    "import matplotlib.pyplot as plt"
   ]
  },
  {
   "cell_type": "code",
   "execution_count": 2,
   "metadata": {},
   "outputs": [],
   "source": [
    "# Disable warnings\n",
    "from rdkit import RDLogger\n",
    "import warnings\n",
    "\n",
    "RDLogger.DisableLog(\"rdApp.*\")\n",
    "warnings.filterwarnings(\"ignore\")\n",
    "PandasTools.RenderImagesInAllDataFrames(images=True)\n",
    "sns.set(style=\"whitegrid\")"
   ]
  },
  {
   "cell_type": "markdown",
   "metadata": {},
   "source": [
    "# Load model and training data"
   ]
  },
  {
   "cell_type": "code",
   "execution_count": 3,
   "metadata": {},
   "outputs": [],
   "source": [
    "fingerprint_name = \"mhfp6\"\n",
    "model_name = \"rf\"\n",
    "model = torch.load(f\"../models/{fingerprint_name}_{model_name}.pkl\")"
   ]
  },
  {
   "cell_type": "code",
   "execution_count": 4,
   "metadata": {},
   "outputs": [
    {
     "data": {
      "text/html": [
       "<div>\n",
       "<style scoped>\n",
       "    .dataframe tbody tr th:only-of-type {\n",
       "        vertical-align: middle;\n",
       "    }\n",
       "\n",
       "    .dataframe tbody tr th {\n",
       "        vertical-align: top;\n",
       "    }\n",
       "\n",
       "    .dataframe thead th {\n",
       "        text-align: right;\n",
       "    }\n",
       "</style>\n",
       "<table border=\"1\" class=\"dataframe\">\n",
       "  <thead>\n",
       "    <tr style=\"text-align: right;\">\n",
       "      <th></th>\n",
       "      <th>bit0</th>\n",
       "      <th>bit1</th>\n",
       "      <th>bit2</th>\n",
       "      <th>bit3</th>\n",
       "      <th>bit4</th>\n",
       "      <th>bit5</th>\n",
       "      <th>bit6</th>\n",
       "      <th>bit7</th>\n",
       "      <th>bit8</th>\n",
       "      <th>bit9</th>\n",
       "      <th>...</th>\n",
       "      <th>bit2040</th>\n",
       "      <th>bit2041</th>\n",
       "      <th>bit2042</th>\n",
       "      <th>bit2043</th>\n",
       "      <th>bit2044</th>\n",
       "      <th>bit2045</th>\n",
       "      <th>bit2046</th>\n",
       "      <th>bit2047</th>\n",
       "      <th>cmp_id</th>\n",
       "      <th>label</th>\n",
       "    </tr>\n",
       "  </thead>\n",
       "  <tbody>\n",
       "    <tr>\n",
       "      <th>0</th>\n",
       "      <td>106238389</td>\n",
       "      <td>19585817</td>\n",
       "      <td>17313015</td>\n",
       "      <td>85580138</td>\n",
       "      <td>2283851</td>\n",
       "      <td>9308294</td>\n",
       "      <td>114891348</td>\n",
       "      <td>330151044</td>\n",
       "      <td>4622583</td>\n",
       "      <td>32705546</td>\n",
       "      <td>...</td>\n",
       "      <td>21431025</td>\n",
       "      <td>1416250</td>\n",
       "      <td>23808403</td>\n",
       "      <td>43519231</td>\n",
       "      <td>84245819</td>\n",
       "      <td>8268284</td>\n",
       "      <td>92664381</td>\n",
       "      <td>15029722</td>\n",
       "      <td>GJONUWKZTGXFCZ-UHFFFAOYSA-N</td>\n",
       "      <td>fungi</td>\n",
       "    </tr>\n",
       "    <tr>\n",
       "      <th>1</th>\n",
       "      <td>3517916</td>\n",
       "      <td>33988699</td>\n",
       "      <td>16482348</td>\n",
       "      <td>70316072</td>\n",
       "      <td>11199736</td>\n",
       "      <td>177666938</td>\n",
       "      <td>7058993</td>\n",
       "      <td>36401732</td>\n",
       "      <td>31460943</td>\n",
       "      <td>13779754</td>\n",
       "      <td>...</td>\n",
       "      <td>7031338</td>\n",
       "      <td>1416250</td>\n",
       "      <td>14468176</td>\n",
       "      <td>41181622</td>\n",
       "      <td>12309677</td>\n",
       "      <td>442438</td>\n",
       "      <td>39402493</td>\n",
       "      <td>119091590</td>\n",
       "      <td>KNKXUUOLURWKKV-UHFFFAOYSA-N</td>\n",
       "      <td>gram-negative</td>\n",
       "    </tr>\n",
       "  </tbody>\n",
       "</table>\n",
       "<p>2 rows × 2050 columns</p>\n",
       "</div>"
      ],
      "text/plain": [
       "        bit0      bit1      bit2      bit3      bit4       bit5       bit6  \\\n",
       "0  106238389  19585817  17313015  85580138   2283851    9308294  114891348   \n",
       "1    3517916  33988699  16482348  70316072  11199736  177666938    7058993   \n",
       "\n",
       "        bit7      bit8      bit9  ...   bit2040  bit2041   bit2042   bit2043  \\\n",
       "0  330151044   4622583  32705546  ...  21431025  1416250  23808403  43519231   \n",
       "1   36401732  31460943  13779754  ...   7031338  1416250  14468176  41181622   \n",
       "\n",
       "    bit2044  bit2045   bit2046    bit2047                       cmp_id  \\\n",
       "0  84245819  8268284  92664381   15029722  GJONUWKZTGXFCZ-UHFFFAOYSA-N   \n",
       "1  12309677   442438  39402493  119091590  KNKXUUOLURWKKV-UHFFFAOYSA-N   \n",
       "\n",
       "           label  \n",
       "0          fungi  \n",
       "1  gram-negative  \n",
       "\n",
       "[2 rows x 2050 columns]"
      ]
     },
     "execution_count": 4,
     "metadata": {},
     "output_type": "execute_result"
    }
   ],
   "source": [
    "training_df = pd.read_csv(\"../data/splits/mhfp6_train.csv\")\n",
    "training_df.head(2)"
   ]
  },
  {
   "cell_type": "markdown",
   "metadata": {},
   "source": [
    "# Load testing data - EU-OS Library"
   ]
  },
  {
   "cell_type": "code",
   "execution_count": 5,
   "metadata": {},
   "outputs": [],
   "source": [
    "euos_df = pd.DataFrame()\n",
    "\n",
    "for file in os.listdir(\"../data/benchmark\"):\n",
    "    if \"EOS\" not in file:\n",
    "        continue\n",
    "    df = pd.read_csv(f\"../data/benchmark/{file}\")\n",
    "    df = df[[\"eos\", \"activity\", \"smiles\", \"inchikey\"]]\n",
    "    df.rename(columns={\"activity\": file.split(\".\")[0]}, inplace=True)\n",
    "    df.set_index(\"eos\", inplace=True)\n",
    "    if euos_df.empty:\n",
    "        euos_df = df\n",
    "    else:\n",
    "        euos_df = euos_df.join(df, how=\"outer\", lsuffix=\"{file}_\")"
   ]
  },
  {
   "cell_type": "code",
   "execution_count": 6,
   "metadata": {},
   "outputs": [
    {
     "data": {
      "text/html": [
       "<div>\n",
       "<style scoped>\n",
       "    .dataframe tbody tr th:only-of-type {\n",
       "        vertical-align: middle;\n",
       "    }\n",
       "\n",
       "    .dataframe tbody tr th {\n",
       "        vertical-align: top;\n",
       "    }\n",
       "\n",
       "    .dataframe thead th {\n",
       "        text-align: right;\n",
       "    }\n",
       "</style>\n",
       "<table border=\"1\" class=\"dataframe\">\n",
       "  <thead>\n",
       "    <tr style=\"text-align: right;\">\n",
       "      <th></th>\n",
       "      <th>CandidaAlb_fungi_EOS300076_65</th>\n",
       "      <th>AspFumigatus_fungi_EOS300074_64</th>\n",
       "      <th>CandidaAuris_fungi_EOS300072_63</th>\n",
       "      <th>StaphA_EOS300078_66_GPlus</th>\n",
       "      <th>E_faecalis_EOS300080_67_GPlus</th>\n",
       "      <th>smiles</th>\n",
       "      <th>inchikey</th>\n",
       "    </tr>\n",
       "    <tr>\n",
       "      <th>eos</th>\n",
       "      <th></th>\n",
       "      <th></th>\n",
       "      <th></th>\n",
       "      <th></th>\n",
       "      <th></th>\n",
       "      <th></th>\n",
       "      <th></th>\n",
       "    </tr>\n",
       "  </thead>\n",
       "  <tbody>\n",
       "    <tr>\n",
       "      <th>EOS1</th>\n",
       "      <td>inactive</td>\n",
       "      <td>inactive</td>\n",
       "      <td>inactive</td>\n",
       "      <td>inactive</td>\n",
       "      <td>inactive</td>\n",
       "      <td>COc1ccc(N2C(=O)NC(CC(=O)N3CCC(c4ccccc4)CC3)C2=...</td>\n",
       "      <td>BDSKOWUCRDTSBA-UHFFFAOYSA-N</td>\n",
       "    </tr>\n",
       "    <tr>\n",
       "      <th>EOS10</th>\n",
       "      <td>inactive</td>\n",
       "      <td>inactive</td>\n",
       "      <td>inactive</td>\n",
       "      <td>inactive</td>\n",
       "      <td>inactive</td>\n",
       "      <td>CC(C)CC(NC(=O)CCC1NC(=O)N(c2ccccc2)C1=O)c1nnc2...</td>\n",
       "      <td>QMRVFTLYUYCNQY-UHFFFAOYSA-N</td>\n",
       "    </tr>\n",
       "  </tbody>\n",
       "</table>\n",
       "</div>"
      ],
      "text/plain": [
       "      CandidaAlb_fungi_EOS300076_65 AspFumigatus_fungi_EOS300074_64  \\\n",
       "eos                                                                   \n",
       "EOS1                       inactive                        inactive   \n",
       "EOS10                      inactive                        inactive   \n",
       "\n",
       "      CandidaAuris_fungi_EOS300072_63 StaphA_EOS300078_66_GPlus  \\\n",
       "eos                                                               \n",
       "EOS1                         inactive                  inactive   \n",
       "EOS10                        inactive                  inactive   \n",
       "\n",
       "      E_faecalis_EOS300080_67_GPlus  \\\n",
       "eos                                   \n",
       "EOS1                       inactive   \n",
       "EOS10                      inactive   \n",
       "\n",
       "                                                  smiles  \\\n",
       "eos                                                        \n",
       "EOS1   COc1ccc(N2C(=O)NC(CC(=O)N3CCC(c4ccccc4)CC3)C2=...   \n",
       "EOS10  CC(C)CC(NC(=O)CCC1NC(=O)N(c2ccccc2)C1=O)c1nnc2...   \n",
       "\n",
       "                          inchikey  \n",
       "eos                                 \n",
       "EOS1   BDSKOWUCRDTSBA-UHFFFAOYSA-N  \n",
       "EOS10  QMRVFTLYUYCNQY-UHFFFAOYSA-N  "
      ]
     },
     "execution_count": 6,
     "metadata": {},
     "output_type": "execute_result"
    }
   ],
   "source": [
    "cols_to_keep = [i for i in euos_df.columns if \"{file}_\" not in i]\n",
    "euos_df = euos_df[cols_to_keep]\n",
    "euos_df.head(2)"
   ]
  },
  {
   "cell_type": "code",
   "execution_count": 7,
   "metadata": {},
   "outputs": [],
   "source": [
    "# Adding in latest results\n",
    "gram_negative_actives = \"\"\"EOS2202\n",
    "EOS24472\n",
    "EOS100321\n",
    "EOS100573\n",
    "EOS100586\n",
    "EOS100698\n",
    "EOS100925\n",
    "EOS100994\n",
    "EOS101209\n",
    "EOS101641\n",
    "EOS101978\n",
    "EOS102146\n",
    "EOS102156\n",
    "EOS102273\"\"\"\n",
    "gram_negative_actives = gram_negative_actives.split(\"\\n\")"
   ]
  },
  {
   "cell_type": "code",
   "execution_count": 8,
   "metadata": {},
   "outputs": [],
   "source": [
    "euos_df[\"gram_negative\"] = euos_df.index.isin(gram_negative_actives)\n",
    "euos_df[\"gram_negative\"] = euos_df[\"gram_negative\"].apply(\n",
    "    lambda x: \"active\" if x else \"inactive\"\n",
    ")"
   ]
  },
  {
   "cell_type": "markdown",
   "metadata": {},
   "source": [
    "### Cleaning the EU-OS data for better analysis"
   ]
  },
  {
   "cell_type": "code",
   "execution_count": 9,
   "metadata": {},
   "outputs": [],
   "source": [
    "euos_df.rename(\n",
    "    columns={\n",
    "        \"CandidaAlb_fungi_EOS300076_65\": \"Fungi_candida\",\n",
    "        \"AspFumigatus_fungi_EOS300074_64\": \"Fungi_aspergillus\",\n",
    "        \"CandidaAuris_fungi_EOS300072_63\": \"Fungi_candida_auris\",\n",
    "        \"StaphA_EOS300078_66_GPlus\": \"Gram_positive_staph\",\n",
    "        \"E_faecalis_EOS300080_67_GPlus\": \"Gram_positive_enterococcus\",\n",
    "    },\n",
    "    inplace=True,\n",
    ")"
   ]
  },
  {
   "cell_type": "code",
   "execution_count": 10,
   "metadata": {},
   "outputs": [
    {
     "name": "stderr",
     "output_type": "stream",
     "text": [
      "100%|██████████| 101024/101024 [00:00<00:00, 1374103.31it/s]\n"
     ]
    }
   ],
   "source": [
    "final_class = []\n",
    "\n",
    "for fungi_1, fungi_2, fungi_2, gp1, gp2, gn in tqdm(\n",
    "    euos_df[\n",
    "        [\n",
    "            \"Fungi_candida\",\n",
    "            \"Fungi_aspergillus\",\n",
    "            \"Fungi_candida_auris\",\n",
    "            \"Gram_positive_staph\",\n",
    "            \"Gram_positive_enterococcus\",\n",
    "            \"gram_negative\",\n",
    "        ]\n",
    "    ].values\n",
    "):\n",
    "    if \"active\" in [fungi_1, fungi_2, fungi_2]:\n",
    "        fungi = True\n",
    "    elif \"inactive\" in [fungi_1, fungi_2, fungi_2]:\n",
    "        fungi = False\n",
    "\n",
    "    if \"active\" in [gp1, gp2]:\n",
    "        gp = True\n",
    "    elif \"inactive\" in [gp1, gp2]:\n",
    "        gp = False\n",
    "\n",
    "    if \"active\" in [gn]:\n",
    "        gn = True\n",
    "    elif \"inactive\" in [gn]:\n",
    "        gn = False\n",
    "\n",
    "    if fungi and gp and gn:\n",
    "        final_class.append(\"fungi, gram-positive, gram-negative\")\n",
    "    elif fungi and gp:\n",
    "        final_class.append(\"fungi, gram-positive\")\n",
    "    elif fungi and gn:\n",
    "        final_class.append(\"fungi, gram-negative\")\n",
    "    elif gp and gn:\n",
    "        final_class.append(\"gram-positive, gram-negative\")\n",
    "    elif fungi:\n",
    "        final_class.append(\"fungi\")\n",
    "    elif gp:\n",
    "        final_class.append(\"gram-positive\")\n",
    "    elif gn:\n",
    "        final_class.append(\"gram-negative\")\n",
    "    else:\n",
    "        final_class.append(\"unknown\")\n",
    "\n",
    "euos_df[\"final_class\"] = final_class"
   ]
  },
  {
   "cell_type": "code",
   "execution_count": 11,
   "metadata": {},
   "outputs": [
    {
     "data": {
      "image/png": "[encoded data removed]",
      "text/plain": [
       "<Figure size 640x480 with 1 Axes>"
      ]
     },
     "metadata": {},
     "output_type": "display_data"
    }
   ],
   "source": [
    "euos_df[\"final_class\"].value_counts().plot(kind=\"bar\")\n",
    "plt.title(\"Final class distribution from experiments\")\n",
    "plt.yscale(\"log\")\n",
    "\n",
    "# display counts on top of bars\n",
    "for i in range(len(euos_df[\"final_class\"].value_counts())):\n",
    "    plt.text(\n",
    "        i,\n",
    "        euos_df[\"final_class\"].value_counts().values[i],\n",
    "        euos_df[\"final_class\"].value_counts().values[i],\n",
    "        ha=\"center\",\n",
    "    )\n",
    "\n",
    "plt.show()"
   ]
  },
  {
   "cell_type": "markdown",
   "metadata": {},
   "source": [
    "# Generate fingerprints"
   ]
  },
  {
   "cell_type": "code",
   "execution_count": 12,
   "metadata": {},
   "outputs": [],
   "source": [
    "mhfp_encoder = MHFPEncoder(n_permutations=2048, seed=42)  # MHFP6 fingerprint"
   ]
  },
  {
   "cell_type": "code",
   "execution_count": 13,
   "metadata": {},
   "outputs": [
    {
     "name": "stderr",
     "output_type": "stream",
     "text": [
      "100%|██████████| 101024/101024 [13:54<00:00, 121.09it/s]\n"
     ]
    }
   ],
   "source": [
    "mhfp6_fingerprints = []\n",
    "\n",
    "for smiles in tqdm(euos_df[\"smiles\"].values):\n",
    "    # Generate the mol object\n",
    "    can_smiles = CanonSmiles(smiles)\n",
    "\n",
    "    if not can_smiles:\n",
    "        mhfp6_fingerprints.append(None)\n",
    "        continue\n",
    "\n",
    "    mhfp6_fingerprints.append(mhfp_encoder.encode(can_smiles, radius=3))\n",
    "\n",
    "euos_df[fingerprint_name] = mhfp6_fingerprints"
   ]
  },
  {
   "cell_type": "markdown",
   "metadata": {},
   "source": [
    "# Performing predictions"
   ]
  },
  {
   "cell_type": "code",
   "execution_count": 14,
   "metadata": {},
   "outputs": [],
   "source": [
    "predictions = model.predict(euos_df[fingerprint_name].tolist())\n",
    "prediction_proba = model.predict_proba(euos_df[fingerprint_name].tolist())\n",
    "label_classes = model.classes_.tolist()"
   ]
  },
  {
   "cell_type": "code",
   "execution_count": 15,
   "metadata": {},
   "outputs": [],
   "source": [
    "euos_df[\"prediction\"] = predictions"
   ]
  },
  {
   "cell_type": "code",
   "execution_count": 16,
   "metadata": {},
   "outputs": [],
   "source": [
    "probs = []\n",
    "\n",
    "for idx, probability in enumerate(prediction_proba):\n",
    "    predicted_class = predictions[idx]\n",
    "    probs.append(probability[label_classes.index(predicted_class)])\n",
    "\n",
    "euos_df[\"probability\"] = probs"
   ]
  },
  {
   "cell_type": "code",
   "execution_count": 17,
   "metadata": {},
   "outputs": [
    {
     "data": {
      "image/png": "[encoded data removed]",
      "text/plain": [
       "<Figure size 640x480 with 1 Axes>"
      ]
     },
     "metadata": {},
     "output_type": "display_data"
    }
   ],
   "source": [
    "sns.set(style=\"whitegrid\")\n",
    "euos_df[\"probability\"].plot(kind=\"hist\", bins=100)\n",
    "plt.yscale(\"log\")\n",
    "plt.xlabel(\"Probability\")\n",
    "plt.title(\"Distribution of prediction probabilities\")\n",
    "plt.show()"
   ]
  },
  {
   "cell_type": "markdown",
   "metadata": {},
   "source": [
    "# Looking at similarity with training dataset"
   ]
  },
  {
   "cell_type": "code",
   "execution_count": 18,
   "metadata": {},
   "outputs": [
    {
     "name": "stderr",
     "output_type": "stream",
     "text": [
      "100%|██████████| 59361/59361 [00:00<00:00, 3369942.34it/s]\n"
     ]
    }
   ],
   "source": [
    "training_cmpds = []\n",
    "\n",
    "for row in tqdm(training_df.values):\n",
    "    cmpd_fingerprint = row[:-2]\n",
    "    training_cmpds.append(cmpd_fingerprint)"
   ]
  },
  {
   "cell_type": "code",
   "execution_count": 19,
   "metadata": {},
   "outputs": [
    {
     "data": {
      "text/plain": [
       "(59361, 101024)"
      ]
     },
     "execution_count": 19,
     "metadata": {},
     "output_type": "execute_result"
    }
   ],
   "source": [
    "len(training_cmpds), len(mhfp6_fingerprints)"
   ]
  },
  {
   "cell_type": "code",
   "execution_count": 20,
   "metadata": {},
   "outputs": [],
   "source": [
    "cosine_df = cosine_similarity(mhfp6_fingerprints, training_cmpds)"
   ]
  },
  {
   "cell_type": "code",
   "execution_count": 21,
   "metadata": {},
   "outputs": [
    {
     "name": "stderr",
     "output_type": "stream",
     "text": [
      "100%|██████████| 101024/101024 [09:31<00:00, 176.68it/s]\n"
     ]
    }
   ],
   "source": [
    "max_similarity_scores = []\n",
    "\n",
    "for sim_row in tqdm(cosine_df):\n",
    "    max_similarity_scores.append(max(sim_row))"
   ]
  },
  {
   "cell_type": "code",
   "execution_count": 22,
   "metadata": {},
   "outputs": [],
   "source": [
    "euos_df[\"training_set_similarity\"] = max_similarity_scores"
   ]
  },
  {
   "cell_type": "code",
   "execution_count": 23,
   "metadata": {},
   "outputs": [
    {
     "data": {
      "image/png": "[encoded data removed]",
      "text/plain": [
       "<Figure size 640x480 with 1 Axes>"
      ]
     },
     "metadata": {},
     "output_type": "display_data"
    }
   ],
   "source": [
    "# Distribution of similarity scores with training set\n",
    "euos_df[\"training_set_similarity\"].plot(kind=\"hist\", bins=100)\n",
    "plt.yscale(\"log\")\n",
    "plt.xlabel(\"Cosine score\")\n",
    "plt.title(\"Distribution of MHFP6 cosine scores with training set\")\n",
    "plt.show()"
   ]
  },
  {
   "cell_type": "code",
   "execution_count": 24,
   "metadata": {},
   "outputs": [
    {
     "data": {
      "image/png": "[encoded data removed]",
      "text/plain": [
       "<Figure size 640x480 with 1 Axes>"
      ]
     },
     "metadata": {},
     "output_type": "display_data"
    }
   ],
   "source": [
    "pred_count = euos_df[\"prediction\"].value_counts()\n",
    "sns.barplot(\n",
    "    x=pred_count.index,\n",
    "    y=pred_count.values,\n",
    "    order=pred_count.index,\n",
    ")\n",
    "plt.xlabel(\"Prediction\")\n",
    "plt.ylabel(\"Compound Count\")\n",
    "# show counts on the bars\n",
    "for idx, count in enumerate(pred_count.values):\n",
    "    plt.text(idx, count, count, ha=\"center\", va=\"bottom\")\n",
    "plt.show()"
   ]
  },
  {
   "cell_type": "markdown",
   "metadata": {},
   "source": [
    "# Saving the predictions"
   ]
  },
  {
   "cell_type": "code",
   "execution_count": 25,
   "metadata": {},
   "outputs": [],
   "source": [
    "euos_df_subset = euos_df[\n",
    "    [\n",
    "        \"smiles\",\n",
    "        \"inchikey\",\n",
    "        \"final_class\",\n",
    "        \"prediction\",\n",
    "        \"probability\",\n",
    "        \"training_set_similarity\",\n",
    "    ]\n",
    "]"
   ]
  },
  {
   "cell_type": "code",
   "execution_count": 26,
   "metadata": {},
   "outputs": [],
   "source": [
    "os.makedirs(\"../data/predictions\", exist_ok=True)\n",
    "euos_df_subset.to_csv(\"../data/predictions/euos_predictions.csv\")"
   ]
  },
  {
   "cell_type": "code",
   "execution_count": null,
   "metadata": {},
   "outputs": [],
   "source": []
  }
 ],
 "metadata": {
  "kernelspec": {
   "display_name": "amr",
   "language": "python",
   "name": "amr"
  },
  "language_info": {
   "codemirror_mode": {
    "name": "ipython",
    "version": 3
   },
   "file_extension": ".py",
   "mimetype": "text/x-python",
   "name": "python",
   "nbconvert_exporter": "python",
   "pygments_lexer": "ipython3",
   "version": "3.9.18"
  }
 },
 "nbformat": 4,
 "nbformat_minor": 2
}
