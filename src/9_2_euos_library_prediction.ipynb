{
 "cells": [
  {
   "cell_type": "code",
   "execution_count": 1,
   "metadata": {},
   "outputs": [],
   "source": [
    "import os\n",
    "import pandas as pd\n",
    "from tqdm import tqdm\n",
    "import torch\n",
    "from rdkit.Chem import CanonSmiles\n",
    "\n",
    "from mhfp.encoder import MHFPEncoder\n",
    "import seaborn as sns\n",
    "import matplotlib.pyplot as plt\n",
    "\n",
    "from utils import _process_euos_data"
   ]
  },
  {
   "cell_type": "markdown",
   "metadata": {},
   "source": [
    "# Load model and training data"
   ]
  },
  {
   "cell_type": "code",
   "execution_count": 2,
   "metadata": {},
   "outputs": [],
   "source": [
    "fingerprint_name = \"mhfp6\"\n",
    "model_name = \"rf\"\n",
    "model = torch.load(f\"../models/combined/{fingerprint_name}_{model_name}.pkl\")"
   ]
  },
  {
   "cell_type": "code",
   "execution_count": 3,
   "metadata": {},
   "outputs": [
    {
     "data": {
      "text/html": [
       "<div>\n",
       "<style scoped>\n",
       "    .dataframe tbody tr th:only-of-type {\n",
       "        vertical-align: middle;\n",
       "    }\n",
       "\n",
       "    .dataframe tbody tr th {\n",
       "        vertical-align: top;\n",
       "    }\n",
       "\n",
       "    .dataframe thead th {\n",
       "        text-align: right;\n",
       "    }\n",
       "</style>\n",
       "<table border=\"1\" class=\"dataframe\">\n",
       "  <thead>\n",
       "    <tr style=\"text-align: right;\">\n",
       "      <th></th>\n",
       "      <th>bit0</th>\n",
       "      <th>bit1</th>\n",
       "      <th>bit2</th>\n",
       "      <th>bit3</th>\n",
       "      <th>bit4</th>\n",
       "      <th>bit5</th>\n",
       "      <th>bit6</th>\n",
       "      <th>bit7</th>\n",
       "      <th>bit8</th>\n",
       "      <th>bit9</th>\n",
       "      <th>...</th>\n",
       "      <th>bit2039</th>\n",
       "      <th>bit2040</th>\n",
       "      <th>bit2041</th>\n",
       "      <th>bit2042</th>\n",
       "      <th>bit2043</th>\n",
       "      <th>bit2044</th>\n",
       "      <th>bit2045</th>\n",
       "      <th>bit2046</th>\n",
       "      <th>bit2047</th>\n",
       "      <th>label</th>\n",
       "    </tr>\n",
       "  </thead>\n",
       "  <tbody>\n",
       "    <tr>\n",
       "      <th>0</th>\n",
       "      <td>14433155</td>\n",
       "      <td>9273576</td>\n",
       "      <td>52428387</td>\n",
       "      <td>55778289</td>\n",
       "      <td>29319974</td>\n",
       "      <td>24922436</td>\n",
       "      <td>192953238</td>\n",
       "      <td>62403804</td>\n",
       "      <td>49040351</td>\n",
       "      <td>48020618</td>\n",
       "      <td>...</td>\n",
       "      <td>11055388</td>\n",
       "      <td>21431025</td>\n",
       "      <td>1416250</td>\n",
       "      <td>32703087</td>\n",
       "      <td>41181622</td>\n",
       "      <td>4925637</td>\n",
       "      <td>3638752</td>\n",
       "      <td>3279595</td>\n",
       "      <td>4090642</td>\n",
       "      <td>gram-positive</td>\n",
       "    </tr>\n",
       "    <tr>\n",
       "      <th>1</th>\n",
       "      <td>19469312</td>\n",
       "      <td>71257929</td>\n",
       "      <td>14316170</td>\n",
       "      <td>121213539</td>\n",
       "      <td>115681127</td>\n",
       "      <td>75668513</td>\n",
       "      <td>127870555</td>\n",
       "      <td>119200764</td>\n",
       "      <td>327151351</td>\n",
       "      <td>164407546</td>\n",
       "      <td>...</td>\n",
       "      <td>15596084</td>\n",
       "      <td>3736543</td>\n",
       "      <td>1416250</td>\n",
       "      <td>32970732</td>\n",
       "      <td>158260114</td>\n",
       "      <td>15628711</td>\n",
       "      <td>48984996</td>\n",
       "      <td>10981154</td>\n",
       "      <td>126156214</td>\n",
       "      <td>inactive</td>\n",
       "    </tr>\n",
       "  </tbody>\n",
       "</table>\n",
       "<p>2 rows × 2049 columns</p>\n",
       "</div>"
      ],
      "text/plain": [
       "       bit0      bit1      bit2       bit3       bit4      bit5       bit6  \\\n",
       "0  14433155   9273576  52428387   55778289   29319974  24922436  192953238   \n",
       "1  19469312  71257929  14316170  121213539  115681127  75668513  127870555   \n",
       "\n",
       "        bit7       bit8       bit9  ...   bit2039   bit2040  bit2041  \\\n",
       "0   62403804   49040351   48020618  ...  11055388  21431025  1416250   \n",
       "1  119200764  327151351  164407546  ...  15596084   3736543  1416250   \n",
       "\n",
       "    bit2042    bit2043   bit2044   bit2045   bit2046    bit2047          label  \n",
       "0  32703087   41181622   4925637   3638752   3279595    4090642  gram-positive  \n",
       "1  32970732  158260114  15628711  48984996  10981154  126156214       inactive  \n",
       "\n",
       "[2 rows x 2049 columns]"
      ]
     },
     "execution_count": 3,
     "metadata": {},
     "output_type": "execute_result"
    }
   ],
   "source": [
    "training_df = pd.read_csv(\"../data/splits/combined/mhfp6_smote_train.csv\")\n",
    "training_df.head(2)"
   ]
  },
  {
   "cell_type": "markdown",
   "metadata": {},
   "source": [
    "# Load testing data - EU-OS Library"
   ]
  },
  {
   "cell_type": "code",
   "execution_count": 4,
   "metadata": {},
   "outputs": [],
   "source": [
    "if not os.path.exists(\"../data/benchmark/euos_data_cleaned.tsv\"):\n",
    "    _process_euos_data()\n",
    "euos_df = pd.read_csv(\"../data/benchmark/euos_data_cleaned.tsv\", sep=\"\\t\")"
   ]
  },
  {
   "cell_type": "code",
   "execution_count": 5,
   "metadata": {},
   "outputs": [
    {
     "data": {
      "text/plain": [
       "(101024, 10)"
      ]
     },
     "execution_count": 5,
     "metadata": {},
     "output_type": "execute_result"
    }
   ],
   "source": [
    "euos_df.shape"
   ]
  },
  {
   "cell_type": "markdown",
   "metadata": {},
   "source": [
    "# Generate fingerprints"
   ]
  },
  {
   "cell_type": "code",
   "execution_count": 6,
   "metadata": {},
   "outputs": [],
   "source": [
    "mhfp_encoder = MHFPEncoder(n_permutations=2048, seed=42)  # MHFP6 fingerprint"
   ]
  },
  {
   "cell_type": "code",
   "execution_count": 7,
   "metadata": {},
   "outputs": [
    {
     "name": "stderr",
     "output_type": "stream",
     "text": [
      "100%|██████████| 101024/101024 [10:33<00:00, 159.54it/s]\n"
     ]
    }
   ],
   "source": [
    "mhfp6_fingerprints = []\n",
    "\n",
    "for smiles in tqdm(euos_df[\"smiles\"].values):\n",
    "    # Generate the mol object\n",
    "    can_smiles = CanonSmiles(smiles)\n",
    "\n",
    "    if not can_smiles:\n",
    "        mhfp6_fingerprints.append(None)\n",
    "        continue\n",
    "\n",
    "    mhfp6_fingerprints.append(mhfp_encoder.encode(can_smiles, radius=3))\n",
    "\n",
    "euos_df[fingerprint_name] = mhfp6_fingerprints"
   ]
  },
  {
   "cell_type": "markdown",
   "metadata": {},
   "source": [
    "# Performing predictions"
   ]
  },
  {
   "cell_type": "code",
   "execution_count": 8,
   "metadata": {},
   "outputs": [
    {
     "name": "stderr",
     "output_type": "stream",
     "text": [
      "/Users/yojana/anaconda3/envs/amr/lib/python3.9/site-packages/sklearn/base.py:439: UserWarning: X does not have valid feature names, but RandomForestClassifier was fitted with feature names\n",
      "  warnings.warn(\n",
      "/Users/yojana/anaconda3/envs/amr/lib/python3.9/site-packages/sklearn/base.py:439: UserWarning: X does not have valid feature names, but RandomForestClassifier was fitted with feature names\n",
      "  warnings.warn(\n"
     ]
    }
   ],
   "source": [
    "predictions = model.predict(euos_df[fingerprint_name].tolist())\n",
    "prediction_proba = model.predict_proba(euos_df[fingerprint_name].tolist())\n",
    "label_classes = model.classes_.tolist()"
   ]
  },
  {
   "cell_type": "code",
   "execution_count": 9,
   "metadata": {},
   "outputs": [],
   "source": [
    "euos_df[\"prediction\"] = predictions"
   ]
  },
  {
   "cell_type": "code",
   "execution_count": 10,
   "metadata": {},
   "outputs": [],
   "source": [
    "probs = []\n",
    "\n",
    "for idx, probability in enumerate(prediction_proba):\n",
    "    predicted_class = predictions[idx]\n",
    "    probs.append(probability[label_classes.index(predicted_class)])\n",
    "\n",
    "euos_df[\"probability\"] = probs"
   ]
  },
  {
   "cell_type": "code",
   "execution_count": 11,
   "metadata": {},
   "outputs": [
    {
     "data": {
      "image/png": "[encoded data removed]",
      "text/plain": [
       "<Figure size 640x480 with 1 Axes>"
      ]
     },
     "metadata": {},
     "output_type": "display_data"
    }
   ],
   "source": [
    "sns.set(style=\"whitegrid\")\n",
    "euos_df[\"probability\"].plot(kind=\"hist\", bins=100)\n",
    "plt.yscale(\"log\")\n",
    "plt.xlabel(\"Probability\")\n",
    "plt.title(\"Distribution of prediction probabilities\")\n",
    "plt.show()"
   ]
  },
  {
   "cell_type": "markdown",
   "metadata": {},
   "source": [
    "# Saving the predictions"
   ]
  },
  {
   "cell_type": "code",
   "execution_count": 12,
   "metadata": {},
   "outputs": [],
   "source": [
    "euos_df.sort_values(\"probability\", ascending=False, inplace=True)"
   ]
  },
  {
   "cell_type": "code",
   "execution_count": 13,
   "metadata": {},
   "outputs": [
    {
     "data": {
      "text/plain": [
       "(101024, 13)"
      ]
     },
     "execution_count": 13,
     "metadata": {},
     "output_type": "execute_result"
    }
   ],
   "source": [
    "euos_df.shape"
   ]
  },
  {
   "cell_type": "code",
   "execution_count": 14,
   "metadata": {},
   "outputs": [],
   "source": [
    "os.makedirs(\"../data/predictions\", exist_ok=True)\n",
    "euos_df.to_csv(\"../data/predictions/combined_euos_predictions.csv\", index=False)"
   ]
  },
  {
   "cell_type": "code",
   "execution_count": null,
   "metadata": {},
   "outputs": [],
   "source": []
  }
 ],
 "metadata": {
  "kernelspec": {
   "display_name": "amr",
   "language": "python",
   "name": "amr"
  },
  "language_info": {
   "codemirror_mode": {
    "name": "ipython",
    "version": 3
   },
   "file_extension": ".py",
   "mimetype": "text/x-python",
   "name": "python",
   "nbconvert_exporter": "python",
   "pygments_lexer": "ipython3",
   "version": "3.9.18"
  }
 },
 "nbformat": 4,
 "nbformat_minor": 2
}
