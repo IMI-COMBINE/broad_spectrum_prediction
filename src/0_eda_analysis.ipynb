{
 "cells": [
  {
   "cell_type": "code",
   "execution_count": 1,
   "metadata": {},
   "outputs": [],
   "source": [
    "import os\n",
    "import json\n",
    "import requests\n",
    "import pandas as pd\n",
    "from tqdm import tqdm\n",
    "import matplotlib.pyplot as plt\n",
    "\n",
    "from utils import draw_venn"
   ]
  },
  {
   "cell_type": "markdown",
   "metadata": {},
   "source": [
    "# Load dataset"
   ]
  },
  {
   "cell_type": "code",
   "execution_count": 2,
   "metadata": {},
   "outputs": [],
   "source": [
    "DATA_DIR = \"../data\""
   ]
  },
  {
   "cell_type": "code",
   "execution_count": 3,
   "metadata": {},
   "outputs": [],
   "source": [
    "chembl_df = pd.read_csv(f\"{DATA_DIR}/processed/bacterial_chembl_33.tsv\", sep=\"\\t\")\n",
    "coadd_df = pd.read_csv(f\"{DATA_DIR}/processed/bacterial_coadd.tsv\", sep=\"\\t\")\n",
    "spark_df = pd.read_csv(f\"{DATA_DIR}/processed/bacterial_spark.tsv\", sep=\"\\t\")"
   ]
  },
  {
   "cell_type": "code",
   "execution_count": 4,
   "metadata": {},
   "outputs": [
    {
     "data": {
      "text/html": [
       "<div>\n",
       "<style scoped>\n",
       "    .dataframe tbody tr th:only-of-type {\n",
       "        vertical-align: middle;\n",
       "    }\n",
       "\n",
       "    .dataframe tbody tr th {\n",
       "        vertical-align: top;\n",
       "    }\n",
       "\n",
       "    .dataframe thead th {\n",
       "        text-align: right;\n",
       "    }\n",
       "</style>\n",
       "<table border=\"1\" class=\"dataframe\">\n",
       "  <thead>\n",
       "    <tr style=\"text-align: right;\">\n",
       "      <th></th>\n",
       "      <th>compound_inchikey</th>\n",
       "      <th>compound_smiles</th>\n",
       "      <th>compound_source</th>\n",
       "      <th>gram-positive</th>\n",
       "      <th>gram-negative</th>\n",
       "      <th>fungi</th>\n",
       "      <th>acid-fast</th>\n",
       "    </tr>\n",
       "  </thead>\n",
       "  <tbody>\n",
       "    <tr>\n",
       "      <th>0</th>\n",
       "      <td>OOYGSFOGFJDDHP-KMCOLRRFSA-N</td>\n",
       "      <td>NC[C@H]1O[C@H](O[C@H]2[C@H](O)[C@@H](O[C@H]3O[...</td>\n",
       "      <td>chembl_33</td>\n",
       "      <td>5.0</td>\n",
       "      <td>5.0</td>\n",
       "      <td>NaN</td>\n",
       "      <td>6.0</td>\n",
       "    </tr>\n",
       "    <tr>\n",
       "      <th>1</th>\n",
       "      <td>XIPHLJFTBFXVBS-UHFFFAOYSA-N</td>\n",
       "      <td>C=C(C(=O)c1ccc(F)cc1)c1ccc(Cl)cc1Cl</td>\n",
       "      <td>chembl_33</td>\n",
       "      <td>NaN</td>\n",
       "      <td>NaN</td>\n",
       "      <td>6.0</td>\n",
       "      <td>NaN</td>\n",
       "    </tr>\n",
       "    <tr>\n",
       "      <th>2</th>\n",
       "      <td>OEFUWWDPRNNMRS-WDPNLORNSA-N</td>\n",
       "      <td>CC[C@H]1OC(=O)[C@H](C)[C@H]2OC3(CCN(C(=O)c4ccc...</td>\n",
       "      <td>chembl_33</td>\n",
       "      <td>6.0</td>\n",
       "      <td>6.5</td>\n",
       "      <td>NaN</td>\n",
       "      <td>NaN</td>\n",
       "    </tr>\n",
       "    <tr>\n",
       "      <th>3</th>\n",
       "      <td>LBRXTHSVIORIGU-OLROFJLRSA-N</td>\n",
       "      <td>CC[C@H]1OC(=O)[C@H](C)[C@H]2OC3(CCN(C(=O)c4cnc...</td>\n",
       "      <td>chembl_33</td>\n",
       "      <td>6.0</td>\n",
       "      <td>6.0</td>\n",
       "      <td>NaN</td>\n",
       "      <td>NaN</td>\n",
       "    </tr>\n",
       "    <tr>\n",
       "      <th>4</th>\n",
       "      <td>PHYLUFIYANLQSE-UHFFFAOYSA-N</td>\n",
       "      <td>CN1Cc2csc3c(C(=O)O)c(=O)c4cc(F)c(N5CCOC(CF)C5)...</td>\n",
       "      <td>chembl_33</td>\n",
       "      <td>7.5</td>\n",
       "      <td>7.0</td>\n",
       "      <td>NaN</td>\n",
       "      <td>NaN</td>\n",
       "    </tr>\n",
       "  </tbody>\n",
       "</table>\n",
       "</div>"
      ],
      "text/plain": [
       "             compound_inchikey  \\\n",
       "0  OOYGSFOGFJDDHP-KMCOLRRFSA-N   \n",
       "1  XIPHLJFTBFXVBS-UHFFFAOYSA-N   \n",
       "2  OEFUWWDPRNNMRS-WDPNLORNSA-N   \n",
       "3  LBRXTHSVIORIGU-OLROFJLRSA-N   \n",
       "4  PHYLUFIYANLQSE-UHFFFAOYSA-N   \n",
       "\n",
       "                                     compound_smiles compound_source  \\\n",
       "0  NC[C@H]1O[C@H](O[C@H]2[C@H](O)[C@@H](O[C@H]3O[...       chembl_33   \n",
       "1                C=C(C(=O)c1ccc(F)cc1)c1ccc(Cl)cc1Cl       chembl_33   \n",
       "2  CC[C@H]1OC(=O)[C@H](C)[C@H]2OC3(CCN(C(=O)c4ccc...       chembl_33   \n",
       "3  CC[C@H]1OC(=O)[C@H](C)[C@H]2OC3(CCN(C(=O)c4cnc...       chembl_33   \n",
       "4  CN1Cc2csc3c(C(=O)O)c(=O)c4cc(F)c(N5CCOC(CF)C5)...       chembl_33   \n",
       "\n",
       "   gram-positive  gram-negative  fungi  acid-fast  \n",
       "0            5.0            5.0    NaN        6.0  \n",
       "1            NaN            NaN    6.0        NaN  \n",
       "2            6.0            6.5    NaN        NaN  \n",
       "3            6.0            6.0    NaN        NaN  \n",
       "4            7.5            7.0    NaN        NaN  "
      ]
     },
     "execution_count": 4,
     "metadata": {},
     "output_type": "execute_result"
    }
   ],
   "source": [
    "combined_df = pd.concat([chembl_df, coadd_df, spark_df], ignore_index=True)\n",
    "combined_df.head()"
   ]
  },
  {
   "cell_type": "code",
   "execution_count": 5,
   "metadata": {},
   "outputs": [
    {
     "data": {
      "text/plain": [
       "chembl_33              64881\n",
       "spark                  15275\n",
       "coadd_03_01-02-2020     4763\n",
       "Name: compound_source, dtype: int64"
      ]
     },
     "execution_count": 5,
     "metadata": {},
     "output_type": "execute_result"
    }
   ],
   "source": [
    "combined_df[\"compound_source\"].value_counts()"
   ]
  },
  {
   "cell_type": "code",
   "execution_count": 6,
   "metadata": {},
   "outputs": [
    {
     "data": {
      "text/plain": [
       "(77442, 84689)"
      ]
     },
     "execution_count": 6,
     "metadata": {},
     "output_type": "execute_result"
    }
   ],
   "source": [
    "combined_df[\"compound_inchikey\"].nunique(), combined_df[\"compound_smiles\"].nunique()"
   ]
  },
  {
   "cell_type": "markdown",
   "metadata": {},
   "source": [
    "# Looking for cross-database overlaps"
   ]
  },
  {
   "cell_type": "code",
   "execution_count": 7,
   "metadata": {},
   "outputs": [],
   "source": [
    "chembl_cmpds = set(chembl_df[\"compound_inchikey\"].unique())\n",
    "coadd_cmpds = set(coadd_df[\"compound_inchikey\"].unique())\n",
    "spark_cmpds = set(spark_df[\"compound_inchikey\"].unique())"
   ]
  },
  {
   "cell_type": "code",
   "execution_count": 8,
   "metadata": {},
   "outputs": [
    {
     "data": {
      "image/png": "[encoded data removed]",
      "text/plain": [
       "<Figure size 700x700 with 1 Axes>"
      ]
     },
     "metadata": {},
     "output_type": "display_data"
    }
   ],
   "source": [
    "draw_venn(\n",
    "    sets={\"ChEMBL\": chembl_cmpds, \"CO-ADD\": coadd_cmpds, \"SPARK\": spark_cmpds},\n",
    "    save=True,\n",
    ")"
   ]
  },
  {
   "cell_type": "markdown",
   "metadata": {},
   "source": [
    "# Merging compound activities from different data resource"
   ]
  },
  {
   "cell_type": "code",
   "execution_count": 9,
   "metadata": {},
   "outputs": [
    {
     "name": "stderr",
     "output_type": "stream",
     "text": [
      "100%|██████████| 77443/77443 [03:06<00:00, 415.58it/s]\n"
     ]
    }
   ],
   "source": [
    "data = []\n",
    "\n",
    "for inchikey in tqdm(combined_df[\"compound_inchikey\"].unique()):\n",
    "    if pd.isna(inchikey):\n",
    "        continue\n",
    "\n",
    "    tmp = combined_df[combined_df[\"compound_inchikey\"] == inchikey]\n",
    "\n",
    "    if len(tmp) == 1:\n",
    "        data.append(tmp.to_dict(orient=\"records\")[0])\n",
    "    else:\n",
    "        activity_data = tmp[[\"gram-positive\", \"gram-negative\", \"fungi\", \"acid-fast\"]]\n",
    "\n",
    "        # get median value column wise and if entry is NaN, then get the median of the non-NaN value\n",
    "        activity_data = activity_data.fillna(activity_data.median()).median()\n",
    "        data.append(\n",
    "            {\n",
    "                \"compound_inchikey\": inchikey,\n",
    "                \"compound_smiles\": tmp[\"compound_smiles\"].values[0],\n",
    "                \"compound_source\": \", \".join(tmp[\"compound_source\"].unique()),\n",
    "                \"gram-positive\": activity_data[\"gram-positive\"],\n",
    "                \"gram-negative\": activity_data[\"gram-negative\"],\n",
    "                \"fungi\": activity_data[\"fungi\"],\n",
    "                \"acid-fast\": activity_data[\"acid-fast\"],\n",
    "            }\n",
    "        )"
   ]
  },
  {
   "cell_type": "code",
   "execution_count": 10,
   "metadata": {},
   "outputs": [
    {
     "data": {
      "text/html": [
       "<div>\n",
       "<style scoped>\n",
       "    .dataframe tbody tr th:only-of-type {\n",
       "        vertical-align: middle;\n",
       "    }\n",
       "\n",
       "    .dataframe tbody tr th {\n",
       "        vertical-align: top;\n",
       "    }\n",
       "\n",
       "    .dataframe thead th {\n",
       "        text-align: right;\n",
       "    }\n",
       "</style>\n",
       "<table border=\"1\" class=\"dataframe\">\n",
       "  <thead>\n",
       "    <tr style=\"text-align: right;\">\n",
       "      <th></th>\n",
       "      <th>compound_inchikey</th>\n",
       "      <th>compound_smiles</th>\n",
       "      <th>compound_source</th>\n",
       "      <th>gram-positive</th>\n",
       "      <th>gram-negative</th>\n",
       "      <th>fungi</th>\n",
       "      <th>acid-fast</th>\n",
       "    </tr>\n",
       "  </thead>\n",
       "  <tbody>\n",
       "    <tr>\n",
       "      <th>0</th>\n",
       "      <td>OOYGSFOGFJDDHP-KMCOLRRFSA-N</td>\n",
       "      <td>NC[C@H]1O[C@H](O[C@H]2[C@H](O)[C@@H](O[C@H]3O[...</td>\n",
       "      <td>chembl_33</td>\n",
       "      <td>5.0</td>\n",
       "      <td>5.0</td>\n",
       "      <td>NaN</td>\n",
       "      <td>6.0</td>\n",
       "    </tr>\n",
       "    <tr>\n",
       "      <th>1</th>\n",
       "      <td>XIPHLJFTBFXVBS-UHFFFAOYSA-N</td>\n",
       "      <td>C=C(C(=O)c1ccc(F)cc1)c1ccc(Cl)cc1Cl</td>\n",
       "      <td>chembl_33</td>\n",
       "      <td>NaN</td>\n",
       "      <td>NaN</td>\n",
       "      <td>6.0</td>\n",
       "      <td>NaN</td>\n",
       "    </tr>\n",
       "    <tr>\n",
       "      <th>2</th>\n",
       "      <td>OEFUWWDPRNNMRS-WDPNLORNSA-N</td>\n",
       "      <td>CC[C@H]1OC(=O)[C@H](C)[C@H]2OC3(CCN(C(=O)c4ccc...</td>\n",
       "      <td>chembl_33</td>\n",
       "      <td>6.0</td>\n",
       "      <td>6.5</td>\n",
       "      <td>NaN</td>\n",
       "      <td>NaN</td>\n",
       "    </tr>\n",
       "    <tr>\n",
       "      <th>3</th>\n",
       "      <td>LBRXTHSVIORIGU-OLROFJLRSA-N</td>\n",
       "      <td>CC[C@H]1OC(=O)[C@H](C)[C@H]2OC3(CCN(C(=O)c4cnc...</td>\n",
       "      <td>chembl_33</td>\n",
       "      <td>6.0</td>\n",
       "      <td>6.0</td>\n",
       "      <td>NaN</td>\n",
       "      <td>NaN</td>\n",
       "    </tr>\n",
       "    <tr>\n",
       "      <th>4</th>\n",
       "      <td>PHYLUFIYANLQSE-UHFFFAOYSA-N</td>\n",
       "      <td>CN1Cc2csc3c(C(=O)O)c(=O)c4cc(F)c(N5CCOC(CF)C5)...</td>\n",
       "      <td>chembl_33</td>\n",
       "      <td>7.5</td>\n",
       "      <td>7.0</td>\n",
       "      <td>NaN</td>\n",
       "      <td>NaN</td>\n",
       "    </tr>\n",
       "  </tbody>\n",
       "</table>\n",
       "</div>"
      ],
      "text/plain": [
       "             compound_inchikey  \\\n",
       "0  OOYGSFOGFJDDHP-KMCOLRRFSA-N   \n",
       "1  XIPHLJFTBFXVBS-UHFFFAOYSA-N   \n",
       "2  OEFUWWDPRNNMRS-WDPNLORNSA-N   \n",
       "3  LBRXTHSVIORIGU-OLROFJLRSA-N   \n",
       "4  PHYLUFIYANLQSE-UHFFFAOYSA-N   \n",
       "\n",
       "                                     compound_smiles compound_source  \\\n",
       "0  NC[C@H]1O[C@H](O[C@H]2[C@H](O)[C@@H](O[C@H]3O[...       chembl_33   \n",
       "1                C=C(C(=O)c1ccc(F)cc1)c1ccc(Cl)cc1Cl       chembl_33   \n",
       "2  CC[C@H]1OC(=O)[C@H](C)[C@H]2OC3(CCN(C(=O)c4ccc...       chembl_33   \n",
       "3  CC[C@H]1OC(=O)[C@H](C)[C@H]2OC3(CCN(C(=O)c4cnc...       chembl_33   \n",
       "4  CN1Cc2csc3c(C(=O)O)c(=O)c4cc(F)c(N5CCOC(CF)C5)...       chembl_33   \n",
       "\n",
       "   gram-positive  gram-negative  fungi  acid-fast  \n",
       "0            5.0            5.0    NaN        6.0  \n",
       "1            NaN            NaN    6.0        NaN  \n",
       "2            6.0            6.5    NaN        NaN  \n",
       "3            6.0            6.0    NaN        NaN  \n",
       "4            7.5            7.0    NaN        NaN  "
      ]
     },
     "execution_count": 10,
     "metadata": {},
     "output_type": "execute_result"
    }
   ],
   "source": [
    "final_df = pd.DataFrame(data)\n",
    "final_df.head()"
   ]
  },
  {
   "cell_type": "code",
   "execution_count": 11,
   "metadata": {},
   "outputs": [
    {
     "data": {
      "text/plain": [
       "((84919, 7), (77442, 7))"
      ]
     },
     "execution_count": 11,
     "metadata": {},
     "output_type": "execute_result"
    }
   ],
   "source": [
    "combined_df.shape, final_df.shape"
   ]
  },
  {
   "cell_type": "code",
   "execution_count": 12,
   "metadata": {},
   "outputs": [
    {
     "data": {
      "image/png": "[encoded data removed]",
      "text/plain": [
       "<Figure size 640x480 with 1 Axes>"
      ]
     },
     "metadata": {},
     "output_type": "display_data"
    }
   ],
   "source": [
    "fig, ax = plt.subplots(1, 1)\n",
    "final_df[\"gram-positive\"].plot(kind=\"hist\", ax=ax, alpha=0.5, color=\"red\")\n",
    "final_df[\"gram-negative\"].plot(kind=\"hist\", ax=ax, alpha=0.5, color=\"blue\")\n",
    "final_df[\"fungi\"].plot(kind=\"hist\", ax=ax, alpha=0.5, color=\"green\")\n",
    "final_df[\"acid-fast\"].plot(kind=\"hist\", ax=ax, alpha=0.5, color=\"orange\")\n",
    "plt.legend()\n",
    "plt.savefig(f\"../figures/compound_activity_distribution.png\")\n",
    "plt.show()"
   ]
  },
  {
   "cell_type": "code",
   "execution_count": 13,
   "metadata": {},
   "outputs": [
    {
     "data": {
      "text/plain": [
       "(77442, 77442)"
      ]
     },
     "execution_count": 13,
     "metadata": {},
     "output_type": "execute_result"
    }
   ],
   "source": [
    "final_df[\"compound_inchikey\"].nunique(), final_df[\"compound_smiles\"].nunique()"
   ]
  },
  {
   "cell_type": "markdown",
   "metadata": {},
   "source": [
    "# Find chemical classes"
   ]
  },
  {
   "cell_type": "code",
   "execution_count": 14,
   "metadata": {},
   "outputs": [],
   "source": [
    "CLASSIFIER_URL = \"https://npclassifier.ucsd.edu/classify?smiles=\""
   ]
  },
  {
   "cell_type": "code",
   "execution_count": 15,
   "metadata": {},
   "outputs": [],
   "source": [
    "def get_chemical_class(smiles_string):\n",
    "    structure_class = requests.get(CLASSIFIER_URL + smiles_string)\n",
    "    if structure_class.status_code == 200:\n",
    "        data_dict = structure_class.json()\n",
    "        return {\n",
    "            i: j\n",
    "            for i, j in data_dict.items()\n",
    "            if i in [\"class_results\", \"superclass_results\", \"pathway_results\"]\n",
    "        }\n",
    "    else:\n",
    "        return None"
   ]
  },
  {
   "cell_type": "code",
   "execution_count": 16,
   "metadata": {},
   "outputs": [],
   "source": [
    "if os.path.exists(f\"{DATA_DIR}/mapping/structure2class.json\"):\n",
    "    with open(f\"{DATA_DIR}/mapping/structure2class.json\", \"r\") as f:\n",
    "        structure_classes = json.load(f)\n",
    "else:\n",
    "    structure_classes = {}"
   ]
  },
  {
   "cell_type": "code",
   "execution_count": 17,
   "metadata": {},
   "outputs": [
    {
     "name": "stderr",
     "output_type": "stream",
     "text": [
      "100%|██████████| 77442/77442 [00:00<00:00, 2706410.68it/s]\n"
     ]
    }
   ],
   "source": [
    "skipped = set()\n",
    "\n",
    "c = 0\n",
    "for smiles in tqdm(final_df[\"compound_smiles\"].unique()):\n",
    "    if smiles in structure_classes or smiles in skipped:\n",
    "        continue\n",
    "\n",
    "    structure_classes[smiles] = get_chemical_class(smiles)\n",
    "    c += 1\n",
    "\n",
    "    if c == 50:\n",
    "        # caching the results\n",
    "        with open(f\"{DATA_DIR}/mapping/structure2class.json\", \"w\") as f:\n",
    "            json.dump(structure_classes, f, ensure_ascii=False, indent=4)\n",
    "        c = 0"
   ]
  },
  {
   "cell_type": "code",
   "execution_count": 18,
   "metadata": {},
   "outputs": [
    {
     "data": {
      "text/plain": [
       "(0, 77442)"
      ]
     },
     "execution_count": 18,
     "metadata": {},
     "output_type": "execute_result"
    }
   ],
   "source": [
    "len(skipped), len(structure_classes)"
   ]
  },
  {
   "cell_type": "code",
   "execution_count": 19,
   "metadata": {},
   "outputs": [],
   "source": [
    "# caching the results\n",
    "with open(f\"{DATA_DIR}/mapping/structure2class.json\", \"w\") as f:\n",
    "    json.dump(structure_classes, f, ensure_ascii=False, indent=4)"
   ]
  },
  {
   "cell_type": "code",
   "execution_count": null,
   "metadata": {},
   "outputs": [],
   "source": []
  }
 ],
 "metadata": {
  "kernelspec": {
   "display_name": "amr",
   "language": "python",
   "name": "amr"
  },
  "language_info": {
   "codemirror_mode": {
    "name": "ipython",
    "version": 3
   },
   "file_extension": ".py",
   "mimetype": "text/x-python",
   "name": "python",
   "nbconvert_exporter": "python",
   "pygments_lexer": "ipython3",
   "version": "3.9.18"
  }
 },
 "nbformat": 4,
 "nbformat_minor": 2
}
