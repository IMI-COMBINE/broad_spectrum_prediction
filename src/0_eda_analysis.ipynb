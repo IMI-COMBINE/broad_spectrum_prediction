{
 "cells": [
  {
   "cell_type": "code",
   "execution_count": 1,
   "metadata": {},
   "outputs": [],
   "source": [
    "import os\n",
    "import json\n",
    "import requests\n",
    "import pandas as pd\n",
    "from tqdm import tqdm\n",
    "from collections import defaultdict\n",
    "import matplotlib.pyplot as plt\n",
    "\n",
    "from utils import draw_venn"
   ]
  },
  {
   "cell_type": "markdown",
   "metadata": {},
   "source": [
    "# Load dataset"
   ]
  },
  {
   "cell_type": "code",
   "execution_count": 2,
   "metadata": {},
   "outputs": [],
   "source": [
    "DATA_DIR = \"../data\""
   ]
  },
  {
   "cell_type": "code",
   "execution_count": 3,
   "metadata": {},
   "outputs": [],
   "source": [
    "chembl_df = pd.read_csv(f\"{DATA_DIR}/processed/bacterial_chembl_34.tsv\", sep=\"\\t\")\n",
    "coadd_df = pd.read_csv(f\"{DATA_DIR}/processed/bacterial_coadd.tsv\", sep=\"\\t\")\n",
    "spark_df = pd.read_csv(f\"{DATA_DIR}/processed/bacterial_spark.tsv\", sep=\"\\t\")"
   ]
  },
  {
   "cell_type": "code",
   "execution_count": 4,
   "metadata": {},
   "outputs": [
    {
     "data": {
      "text/html": [
       "<div>\n",
       "<style scoped>\n",
       "    .dataframe tbody tr th:only-of-type {\n",
       "        vertical-align: middle;\n",
       "    }\n",
       "\n",
       "    .dataframe tbody tr th {\n",
       "        vertical-align: top;\n",
       "    }\n",
       "\n",
       "    .dataframe thead th {\n",
       "        text-align: right;\n",
       "    }\n",
       "</style>\n",
       "<table border=\"1\" class=\"dataframe\">\n",
       "  <thead>\n",
       "    <tr style=\"text-align: right;\">\n",
       "      <th></th>\n",
       "      <th>compound_inchikey</th>\n",
       "      <th>compound_smiles</th>\n",
       "      <th>compound_source</th>\n",
       "      <th>gram-positive</th>\n",
       "      <th>gram-negative</th>\n",
       "      <th>fungi</th>\n",
       "      <th>acid-fast</th>\n",
       "    </tr>\n",
       "  </thead>\n",
       "  <tbody>\n",
       "    <tr>\n",
       "      <th>0</th>\n",
       "      <td>OOYGSFOGFJDDHP-KMCOLRRFSA-N</td>\n",
       "      <td>NC[C@H]1O[C@H](O[C@H]2[C@H](O)[C@@H](O[C@H]3O[...</td>\n",
       "      <td>chembl_34</td>\n",
       "      <td>5.0</td>\n",
       "      <td>5.0</td>\n",
       "      <td>NaN</td>\n",
       "      <td>6.0</td>\n",
       "    </tr>\n",
       "    <tr>\n",
       "      <th>1</th>\n",
       "      <td>XIPHLJFTBFXVBS-UHFFFAOYSA-N</td>\n",
       "      <td>C=C(C(=O)c1ccc(F)cc1)c1ccc(Cl)cc1Cl</td>\n",
       "      <td>chembl_34</td>\n",
       "      <td>NaN</td>\n",
       "      <td>NaN</td>\n",
       "      <td>6.0</td>\n",
       "      <td>NaN</td>\n",
       "    </tr>\n",
       "    <tr>\n",
       "      <th>2</th>\n",
       "      <td>OEFUWWDPRNNMRS-WDPNLORNSA-N</td>\n",
       "      <td>CC[C@H]1OC(=O)[C@H](C)[C@H]2OC3(CCN(C(=O)c4ccc...</td>\n",
       "      <td>chembl_34</td>\n",
       "      <td>6.0</td>\n",
       "      <td>6.5</td>\n",
       "      <td>NaN</td>\n",
       "      <td>NaN</td>\n",
       "    </tr>\n",
       "    <tr>\n",
       "      <th>3</th>\n",
       "      <td>LBRXTHSVIORIGU-OLROFJLRSA-N</td>\n",
       "      <td>CC[C@H]1OC(=O)[C@H](C)[C@H]2OC3(CCN(C(=O)c4cnc...</td>\n",
       "      <td>chembl_34</td>\n",
       "      <td>6.0</td>\n",
       "      <td>6.0</td>\n",
       "      <td>NaN</td>\n",
       "      <td>NaN</td>\n",
       "    </tr>\n",
       "    <tr>\n",
       "      <th>4</th>\n",
       "      <td>PHYLUFIYANLQSE-UHFFFAOYSA-N</td>\n",
       "      <td>CN1Cc2csc3c(C(=O)O)c(=O)c4cc(F)c(N5CCOC(CF)C5)...</td>\n",
       "      <td>chembl_34</td>\n",
       "      <td>7.5</td>\n",
       "      <td>7.0</td>\n",
       "      <td>NaN</td>\n",
       "      <td>NaN</td>\n",
       "    </tr>\n",
       "  </tbody>\n",
       "</table>\n",
       "</div>"
      ],
      "text/plain": [
       "             compound_inchikey  \\\n",
       "0  OOYGSFOGFJDDHP-KMCOLRRFSA-N   \n",
       "1  XIPHLJFTBFXVBS-UHFFFAOYSA-N   \n",
       "2  OEFUWWDPRNNMRS-WDPNLORNSA-N   \n",
       "3  LBRXTHSVIORIGU-OLROFJLRSA-N   \n",
       "4  PHYLUFIYANLQSE-UHFFFAOYSA-N   \n",
       "\n",
       "                                     compound_smiles compound_source  \\\n",
       "0  NC[C@H]1O[C@H](O[C@H]2[C@H](O)[C@@H](O[C@H]3O[...       chembl_34   \n",
       "1                C=C(C(=O)c1ccc(F)cc1)c1ccc(Cl)cc1Cl       chembl_34   \n",
       "2  CC[C@H]1OC(=O)[C@H](C)[C@H]2OC3(CCN(C(=O)c4ccc...       chembl_34   \n",
       "3  CC[C@H]1OC(=O)[C@H](C)[C@H]2OC3(CCN(C(=O)c4cnc...       chembl_34   \n",
       "4  CN1Cc2csc3c(C(=O)O)c(=O)c4cc(F)c(N5CCOC(CF)C5)...       chembl_34   \n",
       "\n",
       "   gram-positive  gram-negative  fungi  acid-fast  \n",
       "0            5.0            5.0    NaN        6.0  \n",
       "1            NaN            NaN    6.0        NaN  \n",
       "2            6.0            6.5    NaN        NaN  \n",
       "3            6.0            6.0    NaN        NaN  \n",
       "4            7.5            7.0    NaN        NaN  "
      ]
     },
     "execution_count": 4,
     "metadata": {},
     "output_type": "execute_result"
    }
   ],
   "source": [
    "combined_df = pd.concat([chembl_df, coadd_df, spark_df], ignore_index=True)\n",
    "combined_df.head()"
   ]
  },
  {
   "cell_type": "code",
   "execution_count": 5,
   "metadata": {},
   "outputs": [
    {
     "data": {
      "text/plain": [
       "chembl_34              66575\n",
       "spark                  14629\n",
       "coadd_03_01-02-2020      282\n",
       "Name: compound_source, dtype: int64"
      ]
     },
     "execution_count": 5,
     "metadata": {},
     "output_type": "execute_result"
    }
   ],
   "source": [
    "combined_df[\"compound_source\"].value_counts()"
   ]
  },
  {
   "cell_type": "code",
   "execution_count": 6,
   "metadata": {},
   "outputs": [
    {
     "data": {
      "text/plain": [
       "(74202, 81267)"
      ]
     },
     "execution_count": 6,
     "metadata": {},
     "output_type": "execute_result"
    }
   ],
   "source": [
    "combined_df[\"compound_inchikey\"].nunique(), combined_df[\"compound_smiles\"].nunique()"
   ]
  },
  {
   "cell_type": "markdown",
   "metadata": {},
   "source": [
    "# Looking for cross-database overlaps"
   ]
  },
  {
   "cell_type": "code",
   "execution_count": 7,
   "metadata": {},
   "outputs": [],
   "source": [
    "chembl_cmpds = set(chembl_df[\"compound_inchikey\"].unique())\n",
    "coadd_cmpds = set(coadd_df[\"compound_inchikey\"].unique())\n",
    "spark_cmpds = set(spark_df[\"compound_inchikey\"].unique())"
   ]
  },
  {
   "cell_type": "code",
   "execution_count": 8,
   "metadata": {},
   "outputs": [
    {
     "data": {
      "image/png": "[encoded data removed]",
      "text/plain": [
       "<Figure size 700x700 with 1 Axes>"
      ]
     },
     "metadata": {},
     "output_type": "display_data"
    }
   ],
   "source": [
    "draw_venn(\n",
    "    sets={\"ChEMBL\": chembl_cmpds, \"CO-ADD\": coadd_cmpds, \"SPARK\": spark_cmpds},\n",
    "    save=True,\n",
    ")"
   ]
  },
  {
   "cell_type": "markdown",
   "metadata": {},
   "source": [
    "# Merging compound activities from different data resource"
   ]
  },
  {
   "cell_type": "code",
   "execution_count": 9,
   "metadata": {},
   "outputs": [
    {
     "name": "stderr",
     "output_type": "stream",
     "text": [
      "100%|██████████| 74203/74203 [03:01<00:00, 409.83it/s]\n"
     ]
    }
   ],
   "source": [
    "data = []\n",
    "\n",
    "for inchikey in tqdm(combined_df[\"compound_inchikey\"].unique()):\n",
    "    if pd.isna(inchikey):\n",
    "        continue\n",
    "\n",
    "    tmp = combined_df[combined_df[\"compound_inchikey\"] == inchikey]\n",
    "\n",
    "    if len(tmp) == 1:\n",
    "        data.append(tmp.to_dict(orient=\"records\")[0])\n",
    "    else:\n",
    "        activity_data = tmp[[\"gram-positive\", \"gram-negative\", \"fungi\", \"acid-fast\"]]\n",
    "\n",
    "        # get median value column wise and if entry is NaN, then get the median of the non-NaN value\n",
    "        activity_data = activity_data.fillna(activity_data.median()).median()\n",
    "        data.append(\n",
    "            {\n",
    "                \"compound_inchikey\": inchikey,\n",
    "                \"compound_smiles\": tmp[\"compound_smiles\"].values[0],\n",
    "                \"compound_source\": \", \".join(tmp[\"compound_source\"].unique()),\n",
    "                \"gram-positive\": activity_data[\"gram-positive\"],\n",
    "                \"gram-negative\": activity_data[\"gram-negative\"],\n",
    "                \"fungi\": activity_data[\"fungi\"],\n",
    "                \"acid-fast\": activity_data[\"acid-fast\"],\n",
    "            }\n",
    "        )"
   ]
  },
  {
   "cell_type": "code",
   "execution_count": 10,
   "metadata": {},
   "outputs": [
    {
     "data": {
      "text/html": [
       "<div>\n",
       "<style scoped>\n",
       "    .dataframe tbody tr th:only-of-type {\n",
       "        vertical-align: middle;\n",
       "    }\n",
       "\n",
       "    .dataframe tbody tr th {\n",
       "        vertical-align: top;\n",
       "    }\n",
       "\n",
       "    .dataframe thead th {\n",
       "        text-align: right;\n",
       "    }\n",
       "</style>\n",
       "<table border=\"1\" class=\"dataframe\">\n",
       "  <thead>\n",
       "    <tr style=\"text-align: right;\">\n",
       "      <th></th>\n",
       "      <th>compound_inchikey</th>\n",
       "      <th>compound_smiles</th>\n",
       "      <th>compound_source</th>\n",
       "      <th>gram-positive</th>\n",
       "      <th>gram-negative</th>\n",
       "      <th>fungi</th>\n",
       "      <th>acid-fast</th>\n",
       "    </tr>\n",
       "  </thead>\n",
       "  <tbody>\n",
       "    <tr>\n",
       "      <th>0</th>\n",
       "      <td>OOYGSFOGFJDDHP-KMCOLRRFSA-N</td>\n",
       "      <td>NC[C@H]1O[C@H](O[C@H]2[C@H](O)[C@@H](O[C@H]3O[...</td>\n",
       "      <td>chembl_34</td>\n",
       "      <td>5.0</td>\n",
       "      <td>5.0</td>\n",
       "      <td>NaN</td>\n",
       "      <td>6.0</td>\n",
       "    </tr>\n",
       "    <tr>\n",
       "      <th>1</th>\n",
       "      <td>XIPHLJFTBFXVBS-UHFFFAOYSA-N</td>\n",
       "      <td>C=C(C(=O)c1ccc(F)cc1)c1ccc(Cl)cc1Cl</td>\n",
       "      <td>chembl_34</td>\n",
       "      <td>NaN</td>\n",
       "      <td>NaN</td>\n",
       "      <td>6.0</td>\n",
       "      <td>NaN</td>\n",
       "    </tr>\n",
       "    <tr>\n",
       "      <th>2</th>\n",
       "      <td>OEFUWWDPRNNMRS-WDPNLORNSA-N</td>\n",
       "      <td>CC[C@H]1OC(=O)[C@H](C)[C@H]2OC3(CCN(C(=O)c4ccc...</td>\n",
       "      <td>chembl_34</td>\n",
       "      <td>6.0</td>\n",
       "      <td>6.5</td>\n",
       "      <td>NaN</td>\n",
       "      <td>NaN</td>\n",
       "    </tr>\n",
       "    <tr>\n",
       "      <th>3</th>\n",
       "      <td>LBRXTHSVIORIGU-OLROFJLRSA-N</td>\n",
       "      <td>CC[C@H]1OC(=O)[C@H](C)[C@H]2OC3(CCN(C(=O)c4cnc...</td>\n",
       "      <td>chembl_34</td>\n",
       "      <td>6.0</td>\n",
       "      <td>6.0</td>\n",
       "      <td>NaN</td>\n",
       "      <td>NaN</td>\n",
       "    </tr>\n",
       "    <tr>\n",
       "      <th>4</th>\n",
       "      <td>PHYLUFIYANLQSE-UHFFFAOYSA-N</td>\n",
       "      <td>CN1Cc2csc3c(C(=O)O)c(=O)c4cc(F)c(N5CCOC(CF)C5)...</td>\n",
       "      <td>chembl_34</td>\n",
       "      <td>7.5</td>\n",
       "      <td>7.0</td>\n",
       "      <td>NaN</td>\n",
       "      <td>NaN</td>\n",
       "    </tr>\n",
       "  </tbody>\n",
       "</table>\n",
       "</div>"
      ],
      "text/plain": [
       "             compound_inchikey  \\\n",
       "0  OOYGSFOGFJDDHP-KMCOLRRFSA-N   \n",
       "1  XIPHLJFTBFXVBS-UHFFFAOYSA-N   \n",
       "2  OEFUWWDPRNNMRS-WDPNLORNSA-N   \n",
       "3  LBRXTHSVIORIGU-OLROFJLRSA-N   \n",
       "4  PHYLUFIYANLQSE-UHFFFAOYSA-N   \n",
       "\n",
       "                                     compound_smiles compound_source  \\\n",
       "0  NC[C@H]1O[C@H](O[C@H]2[C@H](O)[C@@H](O[C@H]3O[...       chembl_34   \n",
       "1                C=C(C(=O)c1ccc(F)cc1)c1ccc(Cl)cc1Cl       chembl_34   \n",
       "2  CC[C@H]1OC(=O)[C@H](C)[C@H]2OC3(CCN(C(=O)c4ccc...       chembl_34   \n",
       "3  CC[C@H]1OC(=O)[C@H](C)[C@H]2OC3(CCN(C(=O)c4cnc...       chembl_34   \n",
       "4  CN1Cc2csc3c(C(=O)O)c(=O)c4cc(F)c(N5CCOC(CF)C5)...       chembl_34   \n",
       "\n",
       "   gram-positive  gram-negative  fungi  acid-fast  \n",
       "0            5.0            5.0    NaN        6.0  \n",
       "1            NaN            NaN    6.0        NaN  \n",
       "2            6.0            6.5    NaN        NaN  \n",
       "3            6.0            6.0    NaN        NaN  \n",
       "4            7.5            7.0    NaN        NaN  "
      ]
     },
     "execution_count": 10,
     "metadata": {},
     "output_type": "execute_result"
    }
   ],
   "source": [
    "final_df = pd.DataFrame(data)\n",
    "final_df.head()"
   ]
  },
  {
   "cell_type": "code",
   "execution_count": 11,
   "metadata": {},
   "outputs": [
    {
     "data": {
      "text/plain": [
       "((81486, 7), (74202, 7))"
      ]
     },
     "execution_count": 11,
     "metadata": {},
     "output_type": "execute_result"
    }
   ],
   "source": [
    "combined_df.shape, final_df.shape"
   ]
  },
  {
   "cell_type": "code",
   "execution_count": 12,
   "metadata": {},
   "outputs": [
    {
     "data": {
      "text/plain": [
       "(74202, 74202)"
      ]
     },
     "execution_count": 12,
     "metadata": {},
     "output_type": "execute_result"
    }
   ],
   "source": [
    "final_df[\"compound_inchikey\"].nunique(), final_df[\"compound_smiles\"].nunique()"
   ]
  },
  {
   "cell_type": "markdown",
   "metadata": {},
   "source": [
    "# Find chemical classes"
   ]
  },
  {
   "cell_type": "code",
   "execution_count": 13,
   "metadata": {},
   "outputs": [],
   "source": [
    "CLASSIFIER_URL = \"https://npclassifier.ucsd.edu/classify?smiles=\""
   ]
  },
  {
   "cell_type": "code",
   "execution_count": 14,
   "metadata": {},
   "outputs": [],
   "source": [
    "def get_chemical_class(smiles_string):\n",
    "    structure_class = requests.get(CLASSIFIER_URL + smiles_string)\n",
    "    if structure_class.status_code == 200:\n",
    "        data_dict = structure_class.json()\n",
    "        return {\n",
    "            i: j\n",
    "            for i, j in data_dict.items()\n",
    "            if i in [\"class_results\", \"superclass_results\", \"pathway_results\"]\n",
    "        }\n",
    "    else:\n",
    "        return None"
   ]
  },
  {
   "cell_type": "code",
   "execution_count": 15,
   "metadata": {},
   "outputs": [],
   "source": [
    "if os.path.exists(f\"{DATA_DIR}/mapping/structure2class.json\"):\n",
    "    with open(f\"{DATA_DIR}/mapping/structure2class.json\", \"r\") as f:\n",
    "        structure_classes = json.load(f)\n",
    "else:\n",
    "    structure_classes = {}"
   ]
  },
  {
   "cell_type": "code",
   "execution_count": 16,
   "metadata": {},
   "outputs": [
    {
     "name": "stderr",
     "output_type": "stream",
     "text": [
      "100%|██████████| 74202/74202 [00:00<00:00, 4516802.30it/s]\n"
     ]
    }
   ],
   "source": [
    "skipped = set()\n",
    "\n",
    "c = 0\n",
    "for smiles in tqdm(final_df[\"compound_smiles\"].unique()):\n",
    "    if smiles in structure_classes or smiles in skipped:\n",
    "        continue\n",
    "\n",
    "    structure_classes[smiles] = get_chemical_class(smiles)\n",
    "    c += 1\n",
    "\n",
    "    if c == 50:\n",
    "        # caching the results\n",
    "        with open(f\"{DATA_DIR}/mapping/structure2class.json\", \"w\") as f:\n",
    "            json.dump(structure_classes, f, ensure_ascii=False, indent=4)\n",
    "        c = 0"
   ]
  },
  {
   "cell_type": "code",
   "execution_count": 17,
   "metadata": {},
   "outputs": [
    {
     "data": {
      "text/plain": [
       "(0, 79392)"
      ]
     },
     "execution_count": 17,
     "metadata": {},
     "output_type": "execute_result"
    }
   ],
   "source": [
    "len(skipped), len(structure_classes)"
   ]
  },
  {
   "cell_type": "code",
   "execution_count": 18,
   "metadata": {},
   "outputs": [],
   "source": [
    "# caching the results\n",
    "with open(f\"{DATA_DIR}/mapping/structure2class.json\", \"w\") as f:\n",
    "    json.dump(structure_classes, f, ensure_ascii=False, indent=4)"
   ]
  },
  {
   "cell_type": "markdown",
   "metadata": {},
   "source": [
    "# Adding chemical characterstics to the table"
   ]
  },
  {
   "cell_type": "code",
   "execution_count": 19,
   "metadata": {},
   "outputs": [
    {
     "name": "stderr",
     "output_type": "stream",
     "text": [
      "100%|██████████| 74202/74202 [00:00<00:00, 2401674.13it/s]\n"
     ]
    }
   ],
   "source": [
    "cmpd_classes = []\n",
    "cmpd_superclasses = []\n",
    "cmpd_pathways = []\n",
    "\n",
    "for smiles in tqdm(final_df[\"compound_smiles\"], total=len(final_df)):\n",
    "    if smiles in structure_classes:\n",
    "        if structure_classes[smiles]:\n",
    "            cmpd_classes.append(structure_classes[smiles][\"class_results\"])\n",
    "            cmpd_superclasses.append(structure_classes[smiles][\"superclass_results\"])\n",
    "            cmpd_pathways.append(structure_classes[smiles][\"pathway_results\"])\n",
    "        else:\n",
    "            cmpd_classes.append(None)\n",
    "            cmpd_superclasses.append(None)\n",
    "            cmpd_pathways.append(None)\n",
    "    else:\n",
    "        cmpd_classes.append(None)\n",
    "        cmpd_superclasses.append(None)\n",
    "        cmpd_pathways.append(None)"
   ]
  },
  {
   "cell_type": "code",
   "execution_count": 20,
   "metadata": {},
   "outputs": [],
   "source": [
    "final_df[\"chemical_class\"] = cmpd_classes\n",
    "final_df[\"compound_superclass\"] = cmpd_superclasses\n",
    "final_df[\"compound_pathway\"] = cmpd_pathways"
   ]
  },
  {
   "cell_type": "markdown",
   "metadata": {},
   "source": [
    "# Max value based approach for categorization"
   ]
  },
  {
   "cell_type": "code",
   "execution_count": 21,
   "metadata": {},
   "outputs": [],
   "source": [
    "best_classes = []\n",
    "\n",
    "for gram_pos, gram_neg, fungi, acid_fast in zip(\n",
    "    final_df[\"gram-positive\"],\n",
    "    final_df[\"gram-negative\"],\n",
    "    final_df[\"fungi\"],\n",
    "    final_df[\"acid-fast\"],\n",
    "):\n",
    "    # if any of the values are NaN, then set them to 0\n",
    "    if pd.isna(gram_pos):\n",
    "        gram_pos = 0\n",
    "    if pd.isna(gram_neg):\n",
    "        gram_neg = 0\n",
    "    if pd.isna(fungi):\n",
    "        fungi = 0\n",
    "    if pd.isna(acid_fast):\n",
    "        acid_fast = 0\n",
    "\n",
    "    max_bact = max(gram_pos, gram_neg, acid_fast, fungi)\n",
    "\n",
    "    if max_bact == fungi:\n",
    "        best_classes.append(\"fungi\")\n",
    "    elif max_bact == gram_pos:\n",
    "        best_classes.append(\"gram-positive\")\n",
    "    elif max_bact == gram_neg:\n",
    "        best_classes.append(\"gram-negative\")\n",
    "    else:\n",
    "        best_classes.append(\"acid-fast\")\n",
    "\n",
    "final_df[\"best_class\"] = best_classes"
   ]
  },
  {
   "cell_type": "code",
   "execution_count": 22,
   "metadata": {},
   "outputs": [
    {
     "data": {
      "text/plain": [
       "gram-positive    34757\n",
       "gram-negative    15507\n",
       "fungi            14680\n",
       "acid-fast         9258\n",
       "Name: best_class, dtype: int64"
      ]
     },
     "execution_count": 22,
     "metadata": {},
     "output_type": "execute_result"
    }
   ],
   "source": [
    "final_df[\"best_class\"].value_counts()"
   ]
  },
  {
   "cell_type": "code",
   "execution_count": 23,
   "metadata": {},
   "outputs": [
    {
     "data": {
      "text/html": [
       "<div>\n",
       "<style scoped>\n",
       "    .dataframe tbody tr th:only-of-type {\n",
       "        vertical-align: middle;\n",
       "    }\n",
       "\n",
       "    .dataframe tbody tr th {\n",
       "        vertical-align: top;\n",
       "    }\n",
       "\n",
       "    .dataframe thead th {\n",
       "        text-align: right;\n",
       "    }\n",
       "</style>\n",
       "<table border=\"1\" class=\"dataframe\">\n",
       "  <thead>\n",
       "    <tr style=\"text-align: right;\">\n",
       "      <th></th>\n",
       "      <th>compound_inchikey</th>\n",
       "      <th>compound_smiles</th>\n",
       "      <th>compound_source</th>\n",
       "      <th>gram-positive</th>\n",
       "      <th>gram-negative</th>\n",
       "      <th>fungi</th>\n",
       "      <th>acid-fast</th>\n",
       "      <th>chemical_class</th>\n",
       "      <th>compound_superclass</th>\n",
       "      <th>compound_pathway</th>\n",
       "      <th>best_class</th>\n",
       "    </tr>\n",
       "  </thead>\n",
       "  <tbody>\n",
       "    <tr>\n",
       "      <th>0</th>\n",
       "      <td>OOYGSFOGFJDDHP-KMCOLRRFSA-N</td>\n",
       "      <td>NC[C@H]1O[C@H](O[C@H]2[C@H](O)[C@@H](O[C@H]3O[...</td>\n",
       "      <td>chembl_34</td>\n",
       "      <td>5.0</td>\n",
       "      <td>5.0</td>\n",
       "      <td>NaN</td>\n",
       "      <td>6.0</td>\n",
       "      <td>[Amino cyclitols, Aminoglycosides]</td>\n",
       "      <td>[Aminosugars and aminoglycosides, Polyols]</td>\n",
       "      <td>[Carbohydrates]</td>\n",
       "      <td>acid-fast</td>\n",
       "    </tr>\n",
       "    <tr>\n",
       "      <th>1</th>\n",
       "      <td>XIPHLJFTBFXVBS-UHFFFAOYSA-N</td>\n",
       "      <td>C=C(C(=O)c1ccc(F)cc1)c1ccc(Cl)cc1Cl</td>\n",
       "      <td>chembl_34</td>\n",
       "      <td>NaN</td>\n",
       "      <td>NaN</td>\n",
       "      <td>6.0</td>\n",
       "      <td>NaN</td>\n",
       "      <td>[Chalcones]</td>\n",
       "      <td>[Flavonoids]</td>\n",
       "      <td>[Shikimates and Phenylpropanoids]</td>\n",
       "      <td>fungi</td>\n",
       "    </tr>\n",
       "  </tbody>\n",
       "</table>\n",
       "</div>"
      ],
      "text/plain": [
       "             compound_inchikey  \\\n",
       "0  OOYGSFOGFJDDHP-KMCOLRRFSA-N   \n",
       "1  XIPHLJFTBFXVBS-UHFFFAOYSA-N   \n",
       "\n",
       "                                     compound_smiles compound_source  \\\n",
       "0  NC[C@H]1O[C@H](O[C@H]2[C@H](O)[C@@H](O[C@H]3O[...       chembl_34   \n",
       "1                C=C(C(=O)c1ccc(F)cc1)c1ccc(Cl)cc1Cl       chembl_34   \n",
       "\n",
       "   gram-positive  gram-negative  fungi  acid-fast  \\\n",
       "0            5.0            5.0    NaN        6.0   \n",
       "1            NaN            NaN    6.0        NaN   \n",
       "\n",
       "                       chemical_class  \\\n",
       "0  [Amino cyclitols, Aminoglycosides]   \n",
       "1                         [Chalcones]   \n",
       "\n",
       "                          compound_superclass  \\\n",
       "0  [Aminosugars and aminoglycosides, Polyols]   \n",
       "1                                [Flavonoids]   \n",
       "\n",
       "                    compound_pathway best_class  \n",
       "0                    [Carbohydrates]  acid-fast  \n",
       "1  [Shikimates and Phenylpropanoids]      fungi  "
      ]
     },
     "execution_count": 23,
     "metadata": {},
     "output_type": "execute_result"
    }
   ],
   "source": [
    "final_df.head(2)"
   ]
  },
  {
   "cell_type": "markdown",
   "metadata": {},
   "source": [
    "# Visualizing distribution for pChEMBL"
   ]
  },
  {
   "cell_type": "code",
   "execution_count": 24,
   "metadata": {},
   "outputs": [
    {
     "name": "stderr",
     "output_type": "stream",
     "text": [
      "100%|██████████| 74202/74202 [00:00<00:00, 82957.12it/s]\n"
     ]
    }
   ],
   "source": [
    "pchem_dist_dict = defaultdict(list)\n",
    "\n",
    "for idx, row in tqdm(final_df.iterrows(), total=len(final_df)):\n",
    "    (\n",
    "        inchikey,\n",
    "        smiles,\n",
    "        source,\n",
    "        gram_pos,\n",
    "        gram_neg,\n",
    "        fungi,\n",
    "        acid_fast,\n",
    "        _,\n",
    "        _,\n",
    "        _,\n",
    "        best_class,\n",
    "    ) = row\n",
    "\n",
    "    if best_class == \"gram-positive\":\n",
    "        pchem_dist_dict[\"gram-positive\"].append(gram_pos)\n",
    "\n",
    "    elif best_class == \"gram-negative\":\n",
    "        pchem_dist_dict[\"gram-negative\"].append(gram_neg)\n",
    "\n",
    "    elif best_class == \"fungi\":\n",
    "        pchem_dist_dict[\"fungi\"].append(fungi)\n",
    "\n",
    "    elif best_class == \"acid-fast\":\n",
    "        pchem_dist_dict[\"acid-fast\"].append(acid_fast)"
   ]
  },
  {
   "cell_type": "code",
   "execution_count": 25,
   "metadata": {},
   "outputs": [
    {
     "data": {
      "image/png": "[encoded data removed]",
      "text/plain": [
       "<Figure size 640x480 with 1 Axes>"
      ]
     },
     "metadata": {},
     "output_type": "display_data"
    }
   ],
   "source": [
    "plt.hist(\n",
    "    pchem_dist_dict[\"gram-positive\"], alpha=0.5, color=\"red\", label=\"gram-positive\"\n",
    ")\n",
    "plt.hist(\n",
    "    pchem_dist_dict[\"gram-negative\"], alpha=0.5, color=\"blue\", label=\"gram-negative\"\n",
    ")\n",
    "plt.hist(pchem_dist_dict[\"fungi\"], alpha=0.5, color=\"green\", label=\"fungi\")\n",
    "plt.hist(pchem_dist_dict[\"acid-fast\"], alpha=0.5, color=\"orange\", label=\"acid-fast\")\n",
    "plt.legend()\n",
    "plt.savefig(f\"../figures/compound_activity_distribution.png\")\n",
    "plt.show()"
   ]
  },
  {
   "cell_type": "code",
   "execution_count": 26,
   "metadata": {},
   "outputs": [],
   "source": [
    "final_df.to_csv(\n",
    "    f\"{DATA_DIR}/processed/combined_bioassay_data.tsv\", sep=\"\\t\", index=False\n",
    ")"
   ]
  }
 ],
 "metadata": {
  "kernelspec": {
   "display_name": "amr",
   "language": "python",
   "name": "amr"
  },
  "language_info": {
   "codemirror_mode": {
    "name": "ipython",
    "version": 3
   },
   "file_extension": ".py",
   "mimetype": "text/x-python",
   "name": "python",
   "nbconvert_exporter": "python",
   "pygments_lexer": "ipython3",
   "version": "3.9.18"
  }
 },
 "nbformat": 4,
 "nbformat_minor": 2
}
