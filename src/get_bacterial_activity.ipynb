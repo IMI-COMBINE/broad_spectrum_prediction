{
 "cells": [
  {
   "cell_type": "code",
   "execution_count": 1,
   "metadata": {},
   "outputs": [],
   "source": [
    "import json\n",
    "import pandas as pd\n",
    "from tqdm import tqdm\n",
    "import sqlite3\n",
    "from venny4py.venny4py import *"
   ]
  },
  {
   "cell_type": "code",
   "execution_count": 2,
   "metadata": {},
   "outputs": [],
   "source": [
    "# conn = sqlite3.connect(\"chembl_33/chembl_33_sqlite/chembl_33.db\")\n",
    "conn = sqlite3.connect(\"J:/esp/Biomed Data Sources/ChEMBL/v33/chembl_33.db\")"
   ]
  },
  {
   "cell_type": "code",
   "execution_count": 3,
   "metadata": {},
   "outputs": [],
   "source": [
    "cursor = conn.execute(\"SELECT name from sqlite_master WHERE type='table';\")"
   ]
  },
  {
   "cell_type": "code",
   "execution_count": 4,
   "metadata": {},
   "outputs": [],
   "source": [
    "try:\n",
    "    assert len(cursor.fetchall()) > 1\n",
    "except AssertionError:\n",
    "    print(\n",
    "        \"Corrupted database. Please download the database dump again from \\\n",
    "    - https://ftp.ebi.ac.uk/pub/databases/chembl/ChEMBLdb/latest/\"\n",
    "    )"
   ]
  },
  {
   "cell_type": "markdown",
   "metadata": {},
   "source": [
    "# Get all bioactivity data"
   ]
  },
  {
   "cell_type": "code",
   "execution_count": 5,
   "metadata": {},
   "outputs": [],
   "source": [
    "sql = \"\"\"\n",
    "SELECT\n",
    "    MOLECULE_DICTIONARY.pref_name,\n",
    "    MOLECULE_DICTIONARY.molregno as chembl_id,\n",
    "    COMPOUND_STRUCTURES.canonical_smiles,\n",
    "    COMPOUND_STRUCTURES.standard_inchi,\n",
    "    COMPOUND_STRUCTURES.standard_inchi_key,\n",
    "    ACTIVITIES.standard_relation,\n",
    "    ACTIVITIES.standard_type,\n",
    "    ACTIVITIES.standard_value,\n",
    "    ACTIVITIES.standard_units,\n",
    "    ASSAYS.assay_organism as ORGANISM,\n",
    "    ASSAYS.assay_strain as STRAIN,\n",
    "    ASSAYS.assay_tax_id,\n",
    "    ASSAYS.chembl_id as assay_id\n",
    "FROM MOLECULE_DICTIONARY\n",
    "JOIN ACTIVITIES ON MOLECULE_DICTIONARY.molregno == ACTIVITIES.molregno\n",
    "JOIN ASSAYS ON ACTIVITIES.assay_id == ASSAYS.assay_id\n",
    "JOIN COMPOUND_STRUCTURES on COMPOUND_STRUCTURES.molregno == MOLECULE_DICTIONARY.molregno\n",
    "WHERE\n",
    "    ACTIVITIES.standard_value is not null\n",
    "    and ASSAYS.assay_organism is not null\n",
    "    and ACTIVITIES.standard_type in (\"MIC\", \"MIC50\")\n",
    "\"\"\""
   ]
  },
  {
   "cell_type": "code",
   "execution_count": 6,
   "metadata": {},
   "outputs": [
    {
     "ename": "OperationalError",
     "evalue": "disk I/O error",
     "output_type": "error",
     "traceback": [
      "\u001b[1;31m---------------------------------------------------------------------------\u001b[0m",
      "\u001b[1;31mOperationalError\u001b[0m                          Traceback (most recent call last)",
      "Cell \u001b[1;32mIn[6], line 1\u001b[0m\n\u001b[1;32m----> 1\u001b[0m bioactivity_data \u001b[38;5;241m=\u001b[39m \u001b[43mpd\u001b[49m\u001b[38;5;241;43m.\u001b[39;49m\u001b[43mread_sql\u001b[49m\u001b[43m(\u001b[49m\u001b[43msql\u001b[49m\u001b[38;5;241;43m=\u001b[39;49m\u001b[43msql\u001b[49m\u001b[43m,\u001b[49m\u001b[43m \u001b[49m\u001b[43mcon\u001b[49m\u001b[38;5;241;43m=\u001b[39;49m\u001b[43mconn\u001b[49m\u001b[43m)\u001b[49m\n",
      "File \u001b[1;32md:\\Anaconda\\envs\\amrkg\\lib\\site-packages\\pandas\\io\\sql.py:602\u001b[0m, in \u001b[0;36mread_sql\u001b[1;34m(sql, con, index_col, coerce_float, params, parse_dates, columns, chunksize)\u001b[0m\n\u001b[0;32m    599\u001b[0m pandas_sql \u001b[38;5;241m=\u001b[39m pandasSQL_builder(con)\n\u001b[0;32m    601\u001b[0m \u001b[38;5;28;01mif\u001b[39;00m \u001b[38;5;28misinstance\u001b[39m(pandas_sql, SQLiteDatabase):\n\u001b[1;32m--> 602\u001b[0m     \u001b[38;5;28;01mreturn\u001b[39;00m \u001b[43mpandas_sql\u001b[49m\u001b[38;5;241;43m.\u001b[39;49m\u001b[43mread_query\u001b[49m\u001b[43m(\u001b[49m\n\u001b[0;32m    603\u001b[0m \u001b[43m        \u001b[49m\u001b[43msql\u001b[49m\u001b[43m,\u001b[49m\n\u001b[0;32m    604\u001b[0m \u001b[43m        \u001b[49m\u001b[43mindex_col\u001b[49m\u001b[38;5;241;43m=\u001b[39;49m\u001b[43mindex_col\u001b[49m\u001b[43m,\u001b[49m\n\u001b[0;32m    605\u001b[0m \u001b[43m        \u001b[49m\u001b[43mparams\u001b[49m\u001b[38;5;241;43m=\u001b[39;49m\u001b[43mparams\u001b[49m\u001b[43m,\u001b[49m\n\u001b[0;32m    606\u001b[0m \u001b[43m        \u001b[49m\u001b[43mcoerce_float\u001b[49m\u001b[38;5;241;43m=\u001b[39;49m\u001b[43mcoerce_float\u001b[49m\u001b[43m,\u001b[49m\n\u001b[0;32m    607\u001b[0m \u001b[43m        \u001b[49m\u001b[43mparse_dates\u001b[49m\u001b[38;5;241;43m=\u001b[39;49m\u001b[43mparse_dates\u001b[49m\u001b[43m,\u001b[49m\n\u001b[0;32m    608\u001b[0m \u001b[43m        \u001b[49m\u001b[43mchunksize\u001b[49m\u001b[38;5;241;43m=\u001b[39;49m\u001b[43mchunksize\u001b[49m\u001b[43m,\u001b[49m\n\u001b[0;32m    609\u001b[0m \u001b[43m    \u001b[49m\u001b[43m)\u001b[49m\n\u001b[0;32m    611\u001b[0m \u001b[38;5;28;01mtry\u001b[39;00m:\n\u001b[0;32m    612\u001b[0m     _is_table_name \u001b[38;5;241m=\u001b[39m pandas_sql\u001b[38;5;241m.\u001b[39mhas_table(sql)\n",
      "File \u001b[1;32md:\\Anaconda\\envs\\amrkg\\lib\\site-packages\\pandas\\io\\sql.py:2130\u001b[0m, in \u001b[0;36mSQLiteDatabase.read_query\u001b[1;34m(self, sql, index_col, coerce_float, params, parse_dates, chunksize, dtype)\u001b[0m\n\u001b[0;32m   2120\u001b[0m     \u001b[38;5;28;01mreturn\u001b[39;00m \u001b[38;5;28mself\u001b[39m\u001b[38;5;241m.\u001b[39m_query_iterator(\n\u001b[0;32m   2121\u001b[0m         cursor,\n\u001b[0;32m   2122\u001b[0m         chunksize,\n\u001b[1;32m   (...)\u001b[0m\n\u001b[0;32m   2127\u001b[0m         dtype\u001b[38;5;241m=\u001b[39mdtype,\n\u001b[0;32m   2128\u001b[0m     )\n\u001b[0;32m   2129\u001b[0m \u001b[38;5;28;01melse\u001b[39;00m:\n\u001b[1;32m-> 2130\u001b[0m     data \u001b[38;5;241m=\u001b[39m \u001b[38;5;28;43mself\u001b[39;49m\u001b[38;5;241;43m.\u001b[39;49m\u001b[43m_fetchall_as_list\u001b[49m\u001b[43m(\u001b[49m\u001b[43mcursor\u001b[49m\u001b[43m)\u001b[49m\n\u001b[0;32m   2131\u001b[0m     cursor\u001b[38;5;241m.\u001b[39mclose()\n\u001b[0;32m   2133\u001b[0m     frame \u001b[38;5;241m=\u001b[39m _wrap_result(\n\u001b[0;32m   2134\u001b[0m         data,\n\u001b[0;32m   2135\u001b[0m         columns,\n\u001b[1;32m   (...)\u001b[0m\n\u001b[0;32m   2139\u001b[0m         dtype\u001b[38;5;241m=\u001b[39mdtype,\n\u001b[0;32m   2140\u001b[0m     )\n",
      "File \u001b[1;32md:\\Anaconda\\envs\\amrkg\\lib\\site-packages\\pandas\\io\\sql.py:2144\u001b[0m, in \u001b[0;36mSQLiteDatabase._fetchall_as_list\u001b[1;34m(self, cur)\u001b[0m\n\u001b[0;32m   2143\u001b[0m \u001b[38;5;28;01mdef\u001b[39;00m \u001b[38;5;21m_fetchall_as_list\u001b[39m(\u001b[38;5;28mself\u001b[39m, cur):\n\u001b[1;32m-> 2144\u001b[0m     result \u001b[38;5;241m=\u001b[39m \u001b[43mcur\u001b[49m\u001b[38;5;241;43m.\u001b[39;49m\u001b[43mfetchall\u001b[49m\u001b[43m(\u001b[49m\u001b[43m)\u001b[49m\n\u001b[0;32m   2145\u001b[0m     \u001b[38;5;28;01mif\u001b[39;00m \u001b[38;5;129;01mnot\u001b[39;00m \u001b[38;5;28misinstance\u001b[39m(result, \u001b[38;5;28mlist\u001b[39m):\n\u001b[0;32m   2146\u001b[0m         result \u001b[38;5;241m=\u001b[39m \u001b[38;5;28mlist\u001b[39m(result)\n",
      "\u001b[1;31mOperationalError\u001b[0m: disk I/O error"
     ]
    }
   ],
   "source": [
    "bioactivity_data = pd.read_sql(sql=sql, con=conn)"
   ]
  },
  {
   "cell_type": "code",
   "execution_count": null,
   "metadata": {},
   "outputs": [
    {
     "data": {
      "text/html": [
       "<div>\n",
       "<style scoped>\n",
       "    .dataframe tbody tr th:only-of-type {\n",
       "        vertical-align: middle;\n",
       "    }\n",
       "\n",
       "    .dataframe tbody tr th {\n",
       "        vertical-align: top;\n",
       "    }\n",
       "\n",
       "    .dataframe thead th {\n",
       "        text-align: right;\n",
       "    }\n",
       "</style>\n",
       "<table border=\"1\" class=\"dataframe\">\n",
       "  <thead>\n",
       "    <tr style=\"text-align: right;\">\n",
       "      <th></th>\n",
       "      <th>pref_name</th>\n",
       "      <th>chembl_id</th>\n",
       "      <th>canonical_smiles</th>\n",
       "      <th>standard_inchi</th>\n",
       "      <th>standard_inchi_key</th>\n",
       "      <th>standard_relation</th>\n",
       "      <th>standard_type</th>\n",
       "      <th>standard_value</th>\n",
       "      <th>standard_units</th>\n",
       "      <th>ORGANISM</th>\n",
       "      <th>STRAIN</th>\n",
       "      <th>assay_tax_id</th>\n",
       "      <th>assay_id</th>\n",
       "    </tr>\n",
       "  </thead>\n",
       "  <tbody>\n",
       "    <tr>\n",
       "      <th>0</th>\n",
       "      <td>KANAMYCIN SULFATE</td>\n",
       "      <td>378124</td>\n",
       "      <td>NC[C@H]1O[C@H](O[C@H]2[C@H](O)[C@@H](O[C@H]3O[...</td>\n",
       "      <td>InChI=1S/C18H36N4O11.H2O4S/c19-2-6-10(25)12(27...</td>\n",
       "      <td>OOYGSFOGFJDDHP-KMCOLRRFSA-N</td>\n",
       "      <td>=</td>\n",
       "      <td>MIC</td>\n",
       "      <td>7.8</td>\n",
       "      <td>ug.mL-1</td>\n",
       "      <td>Staphylococcus aureus</td>\n",
       "      <td>None</td>\n",
       "      <td>1280.0</td>\n",
       "      <td>CHEMBL811149</td>\n",
       "    </tr>\n",
       "    <tr>\n",
       "      <th>1</th>\n",
       "      <td>KANAMYCIN SULFATE</td>\n",
       "      <td>378124</td>\n",
       "      <td>NC[C@H]1O[C@H](O[C@H]2[C@H](O)[C@@H](O[C@H]3O[...</td>\n",
       "      <td>InChI=1S/C18H36N4O11.H2O4S/c19-2-6-10(25)12(27...</td>\n",
       "      <td>OOYGSFOGFJDDHP-KMCOLRRFSA-N</td>\n",
       "      <td>=</td>\n",
       "      <td>MIC</td>\n",
       "      <td>15.6</td>\n",
       "      <td>ug.mL-1</td>\n",
       "      <td>Streptococcus pyogenes</td>\n",
       "      <td>None</td>\n",
       "      <td>1314.0</td>\n",
       "      <td>CHEMBL814983</td>\n",
       "    </tr>\n",
       "    <tr>\n",
       "      <th>2</th>\n",
       "      <td>KANAMYCIN SULFATE</td>\n",
       "      <td>378124</td>\n",
       "      <td>NC[C@H]1O[C@H](O[C@H]2[C@H](O)[C@@H](O[C@H]3O[...</td>\n",
       "      <td>InChI=1S/C18H36N4O11.H2O4S/c19-2-6-10(25)12(27...</td>\n",
       "      <td>OOYGSFOGFJDDHP-KMCOLRRFSA-N</td>\n",
       "      <td>=</td>\n",
       "      <td>MIC</td>\n",
       "      <td>250.0</td>\n",
       "      <td>ug.mL-1</td>\n",
       "      <td>Enterococcus faecalis</td>\n",
       "      <td>None</td>\n",
       "      <td>1351.0</td>\n",
       "      <td>CHEMBL810032</td>\n",
       "    </tr>\n",
       "    <tr>\n",
       "      <th>3</th>\n",
       "      <td>KANAMYCIN SULFATE</td>\n",
       "      <td>378124</td>\n",
       "      <td>NC[C@H]1O[C@H](O[C@H]2[C@H](O)[C@@H](O[C@H]3O[...</td>\n",
       "      <td>InChI=1S/C18H36N4O11.H2O4S/c19-2-6-10(25)12(27...</td>\n",
       "      <td>OOYGSFOGFJDDHP-KMCOLRRFSA-N</td>\n",
       "      <td>=</td>\n",
       "      <td>MIC</td>\n",
       "      <td>125.0</td>\n",
       "      <td>ug.mL-1</td>\n",
       "      <td>Streptococcus pneumoniae</td>\n",
       "      <td>None</td>\n",
       "      <td>1313.0</td>\n",
       "      <td>CHEMBL810961</td>\n",
       "    </tr>\n",
       "    <tr>\n",
       "      <th>4</th>\n",
       "      <td>KANAMYCIN SULFATE</td>\n",
       "      <td>378124</td>\n",
       "      <td>NC[C@H]1O[C@H](O[C@H]2[C@H](O)[C@@H](O[C@H]3O[...</td>\n",
       "      <td>InChI=1S/C18H36N4O11.H2O4S/c19-2-6-10(25)12(27...</td>\n",
       "      <td>OOYGSFOGFJDDHP-KMCOLRRFSA-N</td>\n",
       "      <td>=</td>\n",
       "      <td>MIC</td>\n",
       "      <td>3.9</td>\n",
       "      <td>ug.mL-1</td>\n",
       "      <td>Escherichia coli</td>\n",
       "      <td>None</td>\n",
       "      <td>562.0</td>\n",
       "      <td>CHEMBL676856</td>\n",
       "    </tr>\n",
       "    <tr>\n",
       "      <th>...</th>\n",
       "      <td>...</td>\n",
       "      <td>...</td>\n",
       "      <td>...</td>\n",
       "      <td>...</td>\n",
       "      <td>...</td>\n",
       "      <td>...</td>\n",
       "      <td>...</td>\n",
       "      <td>...</td>\n",
       "      <td>...</td>\n",
       "      <td>...</td>\n",
       "      <td>...</td>\n",
       "      <td>...</td>\n",
       "      <td>...</td>\n",
       "    </tr>\n",
       "    <tr>\n",
       "      <th>712113</th>\n",
       "      <td>None</td>\n",
       "      <td>2783297</td>\n",
       "      <td>C[C@H](C(=O)OC(Cn1ccnc1)c1ccc(F)cc1)c1ccc(-c2c...</td>\n",
       "      <td>InChI=1S/C26H22F2N2O2/c1-18(21-9-12-23(24(28)1...</td>\n",
       "      <td>CDKGMARHPWOGRO-CPFIQGLUSA-N</td>\n",
       "      <td>=</td>\n",
       "      <td>MIC50</td>\n",
       "      <td>2.0</td>\n",
       "      <td>ug.mL-1</td>\n",
       "      <td>Candida albicans</td>\n",
       "      <td>904</td>\n",
       "      <td>5476.0</td>\n",
       "      <td>CHEMBL5217863</td>\n",
       "    </tr>\n",
       "    <tr>\n",
       "      <th>712114</th>\n",
       "      <td>None</td>\n",
       "      <td>2781419</td>\n",
       "      <td>C[C@H](C(=O)N(C)CC(O)(Cn1ccnc1)c1ccc(Cl)cc1)c1...</td>\n",
       "      <td>InChI=1S/C28H27ClFN3O2/c1-20(22-8-13-25(26(30)...</td>\n",
       "      <td>JWWRFFTYPAHLAB-CQHAJPFMSA-N</td>\n",
       "      <td>=</td>\n",
       "      <td>MIC50</td>\n",
       "      <td>2.0</td>\n",
       "      <td>ug.mL-1</td>\n",
       "      <td>Candida albicans</td>\n",
       "      <td>904</td>\n",
       "      <td>5476.0</td>\n",
       "      <td>CHEMBL5217863</td>\n",
       "    </tr>\n",
       "    <tr>\n",
       "      <th>712115</th>\n",
       "      <td>None</td>\n",
       "      <td>2781633</td>\n",
       "      <td>C[C@H](C(=O)N(C)CC(O)(Cn1ccnc1)c1ccc(Cl)cc1Cl)...</td>\n",
       "      <td>InChI=1S/C29H27Cl2N3O3/c1-20(22-9-6-10-23(15-2...</td>\n",
       "      <td>MTQACUMKCYNEBR-OORIHMLWSA-N</td>\n",
       "      <td>=</td>\n",
       "      <td>MIC50</td>\n",
       "      <td>1.0</td>\n",
       "      <td>ug.mL-1</td>\n",
       "      <td>Candida albicans</td>\n",
       "      <td>904</td>\n",
       "      <td>5476.0</td>\n",
       "      <td>CHEMBL5217863</td>\n",
       "    </tr>\n",
       "    <tr>\n",
       "      <th>712116</th>\n",
       "      <td>FLUCONAZOLE</td>\n",
       "      <td>13758</td>\n",
       "      <td>OC(Cn1cncn1)(Cn1cncn1)c1ccc(F)cc1F</td>\n",
       "      <td>InChI=1S/C13H12F2N6O/c14-10-1-2-11(12(15)3-10)...</td>\n",
       "      <td>RFHAOTPXVQNOHP-UHFFFAOYSA-N</td>\n",
       "      <td>&gt;</td>\n",
       "      <td>MIC50</td>\n",
       "      <td>8.0</td>\n",
       "      <td>ug.mL-1</td>\n",
       "      <td>Candida albicans</td>\n",
       "      <td>904</td>\n",
       "      <td>5476.0</td>\n",
       "      <td>CHEMBL5217863</td>\n",
       "    </tr>\n",
       "    <tr>\n",
       "      <th>712117</th>\n",
       "      <td>None</td>\n",
       "      <td>6514</td>\n",
       "      <td>CC(=O)N1CCN(c2ccc(OC[C@H]3CO[C@](Cn4ccnc4)(c4c...</td>\n",
       "      <td>InChI=1S/C26H28Cl2N4O4/c1-19(33)31-10-12-32(13...</td>\n",
       "      <td>XMAYWYJOQHXEEK-OZXSUGGESA-N</td>\n",
       "      <td>&gt;</td>\n",
       "      <td>MIC50</td>\n",
       "      <td>8.0</td>\n",
       "      <td>ug.mL-1</td>\n",
       "      <td>Candida albicans</td>\n",
       "      <td>904</td>\n",
       "      <td>5476.0</td>\n",
       "      <td>CHEMBL5217863</td>\n",
       "    </tr>\n",
       "  </tbody>\n",
       "</table>\n",
       "<p>712118 rows × 13 columns</p>\n",
       "</div>"
      ],
      "text/plain": [
       "                pref_name  chembl_id  \\\n",
       "0       KANAMYCIN SULFATE     378124   \n",
       "1       KANAMYCIN SULFATE     378124   \n",
       "2       KANAMYCIN SULFATE     378124   \n",
       "3       KANAMYCIN SULFATE     378124   \n",
       "4       KANAMYCIN SULFATE     378124   \n",
       "...                   ...        ...   \n",
       "712113               None    2783297   \n",
       "712114               None    2781419   \n",
       "712115               None    2781633   \n",
       "712116        FLUCONAZOLE      13758   \n",
       "712117               None       6514   \n",
       "\n",
       "                                         canonical_smiles  \\\n",
       "0       NC[C@H]1O[C@H](O[C@H]2[C@H](O)[C@@H](O[C@H]3O[...   \n",
       "1       NC[C@H]1O[C@H](O[C@H]2[C@H](O)[C@@H](O[C@H]3O[...   \n",
       "2       NC[C@H]1O[C@H](O[C@H]2[C@H](O)[C@@H](O[C@H]3O[...   \n",
       "3       NC[C@H]1O[C@H](O[C@H]2[C@H](O)[C@@H](O[C@H]3O[...   \n",
       "4       NC[C@H]1O[C@H](O[C@H]2[C@H](O)[C@@H](O[C@H]3O[...   \n",
       "...                                                   ...   \n",
       "712113  C[C@H](C(=O)OC(Cn1ccnc1)c1ccc(F)cc1)c1ccc(-c2c...   \n",
       "712114  C[C@H](C(=O)N(C)CC(O)(Cn1ccnc1)c1ccc(Cl)cc1)c1...   \n",
       "712115  C[C@H](C(=O)N(C)CC(O)(Cn1ccnc1)c1ccc(Cl)cc1Cl)...   \n",
       "712116                 OC(Cn1cncn1)(Cn1cncn1)c1ccc(F)cc1F   \n",
       "712117  CC(=O)N1CCN(c2ccc(OC[C@H]3CO[C@](Cn4ccnc4)(c4c...   \n",
       "\n",
       "                                           standard_inchi  \\\n",
       "0       InChI=1S/C18H36N4O11.H2O4S/c19-2-6-10(25)12(27...   \n",
       "1       InChI=1S/C18H36N4O11.H2O4S/c19-2-6-10(25)12(27...   \n",
       "2       InChI=1S/C18H36N4O11.H2O4S/c19-2-6-10(25)12(27...   \n",
       "3       InChI=1S/C18H36N4O11.H2O4S/c19-2-6-10(25)12(27...   \n",
       "4       InChI=1S/C18H36N4O11.H2O4S/c19-2-6-10(25)12(27...   \n",
       "...                                                   ...   \n",
       "712113  InChI=1S/C26H22F2N2O2/c1-18(21-9-12-23(24(28)1...   \n",
       "712114  InChI=1S/C28H27ClFN3O2/c1-20(22-8-13-25(26(30)...   \n",
       "712115  InChI=1S/C29H27Cl2N3O3/c1-20(22-9-6-10-23(15-2...   \n",
       "712116  InChI=1S/C13H12F2N6O/c14-10-1-2-11(12(15)3-10)...   \n",
       "712117  InChI=1S/C26H28Cl2N4O4/c1-19(33)31-10-12-32(13...   \n",
       "\n",
       "                 standard_inchi_key standard_relation standard_type  \\\n",
       "0       OOYGSFOGFJDDHP-KMCOLRRFSA-N                 =           MIC   \n",
       "1       OOYGSFOGFJDDHP-KMCOLRRFSA-N                 =           MIC   \n",
       "2       OOYGSFOGFJDDHP-KMCOLRRFSA-N                 =           MIC   \n",
       "3       OOYGSFOGFJDDHP-KMCOLRRFSA-N                 =           MIC   \n",
       "4       OOYGSFOGFJDDHP-KMCOLRRFSA-N                 =           MIC   \n",
       "...                             ...               ...           ...   \n",
       "712113  CDKGMARHPWOGRO-CPFIQGLUSA-N                 =         MIC50   \n",
       "712114  JWWRFFTYPAHLAB-CQHAJPFMSA-N                 =         MIC50   \n",
       "712115  MTQACUMKCYNEBR-OORIHMLWSA-N                 =         MIC50   \n",
       "712116  RFHAOTPXVQNOHP-UHFFFAOYSA-N                 >         MIC50   \n",
       "712117  XMAYWYJOQHXEEK-OZXSUGGESA-N                 >         MIC50   \n",
       "\n",
       "        standard_value standard_units                  ORGANISM STRAIN  \\\n",
       "0                  7.8        ug.mL-1     Staphylococcus aureus   None   \n",
       "1                 15.6        ug.mL-1    Streptococcus pyogenes   None   \n",
       "2                250.0        ug.mL-1     Enterococcus faecalis   None   \n",
       "3                125.0        ug.mL-1  Streptococcus pneumoniae   None   \n",
       "4                  3.9        ug.mL-1          Escherichia coli   None   \n",
       "...                ...            ...                       ...    ...   \n",
       "712113             2.0        ug.mL-1          Candida albicans    904   \n",
       "712114             2.0        ug.mL-1          Candida albicans    904   \n",
       "712115             1.0        ug.mL-1          Candida albicans    904   \n",
       "712116             8.0        ug.mL-1          Candida albicans    904   \n",
       "712117             8.0        ug.mL-1          Candida albicans    904   \n",
       "\n",
       "        assay_tax_id       assay_id  \n",
       "0             1280.0   CHEMBL811149  \n",
       "1             1314.0   CHEMBL814983  \n",
       "2             1351.0   CHEMBL810032  \n",
       "3             1313.0   CHEMBL810961  \n",
       "4              562.0   CHEMBL676856  \n",
       "...              ...            ...  \n",
       "712113        5476.0  CHEMBL5217863  \n",
       "712114        5476.0  CHEMBL5217863  \n",
       "712115        5476.0  CHEMBL5217863  \n",
       "712116        5476.0  CHEMBL5217863  \n",
       "712117        5476.0  CHEMBL5217863  \n",
       "\n",
       "[712118 rows x 13 columns]"
      ]
     },
     "execution_count": 7,
     "metadata": {},
     "output_type": "execute_result"
    }
   ],
   "source": [
    "bioactivity_data.head()"
   ]
  },
  {
   "cell_type": "markdown",
   "metadata": {},
   "source": [
    "# Map bacterial classes to data"
   ]
  },
  {
   "cell_type": "code",
   "execution_count": 8,
   "metadata": {},
   "outputs": [
    {
     "data": {
      "text/plain": [
       "2010"
      ]
     },
     "execution_count": 8,
     "metadata": {},
     "output_type": "execute_result"
    }
   ],
   "source": [
    "bac_dic = json.load(open(\"bact_mapper.json\"))\n",
    "len(bac_dic)"
   ]
  },
  {
   "cell_type": "code",
   "execution_count": 9,
   "metadata": {},
   "outputs": [],
   "source": [
    "bioactivity_data[\"bact_class\"] = bioactivity_data[\"ORGANISM\"].map(bac_dic)"
   ]
  },
  {
   "cell_type": "code",
   "execution_count": 10,
   "metadata": {},
   "outputs": [
    {
     "data": {
      "text/plain": [
       "gram-positive    275185\n",
       "gram-negative    239039\n",
       "fungi            117560\n",
       "acid-fast         62229\n",
       "Name: bact_class, dtype: int64"
      ]
     },
     "execution_count": 10,
     "metadata": {},
     "output_type": "execute_result"
    }
   ],
   "source": [
    "bioactivity_data[\"bact_class\"].value_counts()"
   ]
  },
  {
   "cell_type": "code",
   "execution_count": 13,
   "metadata": {},
   "outputs": [],
   "source": [
    "m = bioactivity_data[\"bact_class\"].isna()\n",
    "bioactivity_data = bioactivity_data[~m]"
   ]
  },
  {
   "cell_type": "code",
   "execution_count": 29,
   "metadata": {},
   "outputs": [],
   "source": [
    "m = bioactivity_data[\"standard_units\"].isin([\"ug.mL-1\"])\n",
    "bioactivity_data = bioactivity_data[m]"
   ]
  },
  {
   "cell_type": "markdown",
   "metadata": {},
   "source": [
    "# Check compound overlap"
   ]
  },
  {
   "cell_type": "code",
   "execution_count": 30,
   "metadata": {},
   "outputs": [
    {
     "name": "stderr",
     "output_type": "stream",
     "text": [
      "100%|██████████| 582407/582407 [00:00<00:00, 3709242.33it/s]\n"
     ]
    }
   ],
   "source": [
    "compound_dict = {}\n",
    "\n",
    "for inchikey, class_name in tqdm(\n",
    "    zip(bioactivity_data_1[\"standard_inchi_key\"], bioactivity_data_1[\"bact_class\"]),\n",
    "    total=len(bioactivity_data_1),\n",
    "):\n",
    "    if class_name not in compound_dict:\n",
    "        compound_dict[class_name] = set()\n",
    "\n",
    "    compound_dict[class_name].add(inchikey)"
   ]
  },
  {
   "cell_type": "code",
   "execution_count": 31,
   "metadata": {},
   "outputs": [
    {
     "name": "stdout",
     "output_type": "stream",
     "text": [
      "gram-positive 51225\n",
      "gram-negative 42313\n",
      "fungi 21555\n",
      "acid-fast 14754\n"
     ]
    }
   ],
   "source": [
    "for i in compound_dict:\n",
    "    print(i, len(compound_dict[i]))"
   ]
  },
  {
   "cell_type": "code",
   "execution_count": 34,
   "metadata": {},
   "outputs": [
    {
     "data": {
      "image/png": "[encoded data removed]",
      "text/plain": [
       "<Figure size 700x700 with 1 Axes>"
      ]
     },
     "metadata": {},
     "output_type": "display_data"
    }
   ],
   "source": [
    "venny4py(sets=compound_dict)"
   ]
  },
  {
   "cell_type": "code",
   "execution_count": 22,
   "metadata": {},
   "outputs": [
    {
     "data": {
      "text/plain": [
       "ug.mL-1              582407\n",
       "nM                   104946\n",
       "10'-2 umol/ml          1986\n",
       "ug                     1430\n",
       "ug cm**-2               420\n",
       "10'-2umol               328\n",
       "10'-2mmol/ml            255\n",
       "ppm                     255\n",
       "ug mg-1                 250\n",
       "p.p.m.                  232\n",
       "10'-3micromol/ml        219\n",
       "mmol/ml                 181\n",
       "10'-2micromol/ml        176\n",
       "uL/ml                   131\n",
       "10^2umol/ml              96\n",
       "microg/cm3               90\n",
       "microg                   69\n",
       "%                        47\n",
       "10'-3uM/ml               39\n",
       "U ml-1                   35\n",
       "g                        28\n",
       "ug disk-1                23\n",
       "ug/disk                  19\n",
       "umol/uL                  14\n",
       "U/ml                     13\n",
       "ug m1 l-1                10\n",
       "10^3nM                    9\n",
       "pug ml-1                  9\n",
       "10^-3mM                   8\n",
       "mg                        6\n",
       "10'-4/M                   5\n",
       "ug l-1                    5\n",
       "ug/mg                     4\n",
       "%v/v                      4\n",
       "ug/sq.cm                  3\n",
       "(ug of base) ml-1         3\n",
       "ug cm**-3                 2\n",
       "M-1                       1\n",
       "mg kg-1                   1\n",
       "ucm/s                     1\n",
       "ug.hr/ml                  1\n",
       "IU/ml                     1\n",
       "10'4pg/ml                 1\n",
       "10^-6 uM                  1\n",
       "Name: standard_units, dtype: int64"
      ]
     },
     "execution_count": 22,
     "metadata": {},
     "output_type": "execute_result"
    }
   ],
   "source": [
    "bioactivity_data_1.standard_units.value_counts()"
   ]
  },
  {
   "cell_type": "code",
   "execution_count": 50,
   "metadata": {},
   "outputs": [
    {
     "data": {
      "text/plain": [
       "2204"
      ]
     },
     "execution_count": 50,
     "metadata": {},
     "output_type": "execute_result"
    }
   ],
   "source": [
    "bac_dic = json.load(open(\"bact_mapper.json\"))\n",
    "len(bac_dic)"
   ]
  },
  {
   "cell_type": "code",
   "execution_count": 51,
   "metadata": {},
   "outputs": [],
   "source": [
    "myKeys = list(bac_dic.keys())\n",
    "myKeys.sort()\n",
    "sorted_data = {i: bac_dic[i] for i in myKeys}"
   ]
  },
  {
   "cell_type": "code",
   "execution_count": 52,
   "metadata": {},
   "outputs": [],
   "source": [
    "with open(\"bact_mapper.json\", \"w\") as f:\n",
    "    json.dump(sorted_data, f, indent=4, ensure_ascii=False)"
   ]
  },
  {
   "cell_type": "code",
   "execution_count": null,
   "metadata": {},
   "outputs": [],
   "source": []
  }
 ],
 "metadata": {
  "kernelspec": {
   "display_name": "amrkg",
   "language": "python",
   "name": "python3"
  },
  "language_info": {
   "codemirror_mode": {
    "name": "ipython",
    "version": 3
   },
   "file_extension": ".py",
   "mimetype": "text/x-python",
   "name": "python",
   "nbconvert_exporter": "python",
   "pygments_lexer": "ipython3",
   "version": "3.9.6"
  }
 },
 "nbformat": 4,
 "nbformat_minor": 2
}
