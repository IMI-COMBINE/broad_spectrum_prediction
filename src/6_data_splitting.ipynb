{
 "cells": [
  {
   "cell_type": "markdown",
   "metadata": {},
   "source": [
    "# Data splitting\n",
    "\n",
    "This notebook is used to generate the train-test splits with and without SMOTE technique."
   ]
  },
  {
   "cell_type": "code",
   "execution_count": 1,
   "metadata": {},
   "outputs": [],
   "source": [
    "import os\n",
    "import numpy as np\n",
    "from collections import Counter\n",
    "import pandas as pd\n",
    "from tqdm import tqdm\n",
    "from sklearn.model_selection import train_test_split\n",
    "from imblearn.over_sampling import SMOTE"
   ]
  },
  {
   "cell_type": "code",
   "execution_count": 2,
   "metadata": {},
   "outputs": [],
   "source": [
    "import warnings\n",
    "warnings.filterwarnings(action='ignore', category=pd.errors.PerformanceWarning)"
   ]
  },
  {
   "cell_type": "markdown",
   "metadata": {},
   "source": [
    "# Load dataset"
   ]
  },
  {
   "cell_type": "code",
   "execution_count": 3,
   "metadata": {},
   "outputs": [],
   "source": [
    "ecfp4_dataframe = pd.read_csv(\"../data/fingerprints/ecfp4.tsv\", sep=\"\\t\")\n",
    "rdkit_dataframe = pd.read_csv(\"../data/fingerprints/rdkit.tsv\", sep=\"\\t\")\n",
    "maccs_dataframe = pd.read_csv(\"../data/fingerprints/maccs.tsv\", sep=\"\\t\")\n",
    "mhfp6_dataframe = pd.read_csv(\"../data/fingerprints/mhfp6.tsv\", sep=\"\\t\")\n",
    "erg_dataframe = pd.read_csv(\"../data/fingerprints/erg.tsv\", sep=\"\\t\")\n",
    "chemphys_dataframe = pd.read_csv(\"../data/fingerprints/chemphys.tsv\", sep='\\t')"
   ]
  },
  {
   "cell_type": "code",
   "execution_count": 4,
   "metadata": {},
   "outputs": [
    {
     "name": "stderr",
     "output_type": "stream",
     "text": [
      "/var/folders/x2/1tdvwk7x2_n98kzwy7rnt3t00000gn/T/ipykernel_2489/3488959055.py:3: FutureWarning: In a future version of pandas all arguments of DataFrame.any and Series.any will be keyword-only.\n",
      "  chemphys_dataframe = chemphys_dataframe[~chemphys_dataframe.isin([np.inf, -np.inf]).any(1)]\n"
     ]
    },
    {
     "data": {
      "text/plain": [
       "(107695, 37)"
      ]
     },
     "execution_count": 4,
     "metadata": {},
     "output_type": "execute_result"
    }
   ],
   "source": [
    "# remove rows with column value as inf (prominent in BPI column)\n",
    "rows_to_drop = []\n",
    "chemphys_dataframe = chemphys_dataframe[~chemphys_dataframe.isin([np.inf, -np.inf]).any(1)]\n",
    "chemphys_dataframe.shape"
   ]
  },
  {
   "cell_type": "markdown",
   "metadata": {},
   "source": [
    "# Split the dataset into train-test\n",
    "\n",
    "The split ratio choose for this purpose was 80-10. Since we want to handle just integers, we convert the classes into integers with: \n",
    "* gram-negative - 1\n",
    "* gram-positive - 2\n",
    "* acid-fast - 3\n",
    "* unselective - 4"
   ]
  },
  {
   "cell_type": "markdown",
   "metadata": {},
   "source": [
    "Since a high imbalance between the classes exists, we apply the SMOTE technique to rebalance the classes."
   ]
  },
  {
   "cell_type": "code",
   "execution_count": 5,
   "metadata": {},
   "outputs": [],
   "source": [
    "os.makedirs('../data/splits', exist_ok=True)"
   ]
  },
  {
   "cell_type": "code",
   "execution_count": 6,
   "metadata": {},
   "outputs": [],
   "source": [
    "def smote_base_sampling(df: pd.DataFrame, name: str):\n",
    "    print(f'\\n Processing {name} dataset')\n",
    "    # Drop non-relevant columns\n",
    "    df.drop(columns=['cmp_id'], inplace=True)\n",
    "\n",
    "    # Split the data into training and testing sets\n",
    "    train, test = train_test_split(\n",
    "        df, \n",
    "        test_size=0.2, # 80% training and 20% testing\n",
    "        random_state=42, # to ensure that the split is always the same\n",
    "        shuffle=True,\n",
    "        stratify=df['label']  # to ensure that the distribution of the labels is the same in both splits\n",
    "    )\n",
    "\n",
    "    # Saving the orginal splits\n",
    "    train.to_csv(f'../data/splits/{name}_train.csv', index=False)\n",
    "    test.to_csv(f'../data/splits/{name}_test.csv', index=False)\n",
    "\n",
    "    print(\"Original dataset shape %s\" % Counter(train['label']))\n",
    "\n",
    "    # Map the labels to integers (SMOTE only works with integers)\n",
    "    train['label'] = train['label'].map({\n",
    "        'gram-negative': 1,\n",
    "        'gram-positive': 2,\n",
    "        'acid-fast': 3,\n",
    "        'unselective': 4\n",
    "    })\n",
    "\n",
    "    # Split the training data \n",
    "    X_train = train.drop(columns=['label'])\n",
    "    y_train = train['label']\n",
    "\n",
    "    # Apply SMOTE to the training data\n",
    "    sm = SMOTE(random_state=42)\n",
    "    smote_sampled_train, smote_sampled_labels = sm.fit_resample(X_train, y_train)\n",
    "\n",
    "    # Map the labels back to their original values\n",
    "    smote_sampled_train['label'] = smote_sampled_labels\n",
    "    smote_sampled_train['label'] = smote_sampled_train['label'].map({\n",
    "        1: 'gram-negative',\n",
    "        2: 'gram-positive',\n",
    "        3: 'acid-fast',\n",
    "        4: 'unselective'\n",
    "    })\n",
    "\n",
    "    print(\"SMOTE dataset shape %s\" % Counter(smote_sampled_train['label']))\n",
    "\n",
    "    # Saving the SMOTE splits\n",
    "    smote_sampled_train.to_csv(f'../data/splits/{name}_smote_train.csv', index=False)"
   ]
  },
  {
   "cell_type": "code",
   "execution_count": 7,
   "metadata": {},
   "outputs": [
    {
     "name": "stderr",
     "output_type": "stream",
     "text": [
      "  0%|          | 0/6 [00:00<?, ?it/s]"
     ]
    },
    {
     "name": "stdout",
     "output_type": "stream",
     "text": [
      "\n",
      " Processing chemphys dataset\n",
      "Original dataset shape Counter({'gram-negative': 43974, 'gram-positive': 23187, 'acid-fast': 12771, 'unselective': 6224})\n",
      "SMOTE dataset shape Counter({'gram-negative': 43974, 'gram-positive': 43974, 'unselective': 43974, 'acid-fast': 43974})\n"
     ]
    },
    {
     "name": "stderr",
     "output_type": "stream",
     "text": [
      " 17%|█▋        | 1/6 [00:02<00:13,  2.75s/it]"
     ]
    },
    {
     "name": "stdout",
     "output_type": "stream",
     "text": [
      "\n",
      " Processing erg dataset\n",
      "Original dataset shape Counter({'gram-negative': 21376, 'gram-positive': 11436, 'acid-fast': 6376, 'unselective': 3108})\n",
      "SMOTE dataset shape Counter({'gram-negative': 21376, 'acid-fast': 21376, 'gram-positive': 21376, 'unselective': 21376})\n"
     ]
    },
    {
     "name": "stderr",
     "output_type": "stream",
     "text": [
      " 33%|███▎      | 2/6 [00:13<00:29,  7.34s/it]"
     ]
    },
    {
     "name": "stdout",
     "output_type": "stream",
     "text": [
      "\n",
      " Processing ecfp4 dataset\n",
      "Original dataset shape Counter({'gram-negative': 22198, 'gram-positive': 11611, 'acid-fast': 6386, 'unselective': 3114})\n",
      "SMOTE dataset shape Counter({'gram-negative': 22198, 'unselective': 22198, 'acid-fast': 22198, 'gram-positive': 22198})\n"
     ]
    },
    {
     "name": "stderr",
     "output_type": "stream",
     "text": [
      " 50%|█████     | 3/6 [00:32<00:37, 12.54s/it]"
     ]
    },
    {
     "name": "stdout",
     "output_type": "stream",
     "text": [
      "\n",
      " Processing rdkit dataset\n",
      "Original dataset shape Counter({'gram-negative': 22198, 'gram-positive': 11611, 'acid-fast': 6386, 'unselective': 3114})\n",
      "SMOTE dataset shape Counter({'gram-negative': 22198, 'unselective': 22198, 'acid-fast': 22198, 'gram-positive': 22198})\n"
     ]
    },
    {
     "name": "stderr",
     "output_type": "stream",
     "text": [
      " 67%|██████▋   | 4/6 [00:52<00:31, 15.52s/it]"
     ]
    },
    {
     "name": "stdout",
     "output_type": "stream",
     "text": [
      "\n",
      " Processing maccs dataset\n",
      "Original dataset shape Counter({'gram-negative': 22198, 'gram-positive': 11611, 'acid-fast': 6386, 'unselective': 3114})\n",
      "SMOTE dataset shape Counter({'gram-negative': 22198, 'unselective': 22198, 'acid-fast': 22198, 'gram-positive': 22198})\n"
     ]
    },
    {
     "name": "stderr",
     "output_type": "stream",
     "text": [
      " 83%|████████▎ | 5/6 [00:56<00:11, 11.54s/it]"
     ]
    },
    {
     "name": "stdout",
     "output_type": "stream",
     "text": [
      "\n",
      " Processing mhfp6 dataset\n",
      "Original dataset shape Counter({'gram-negative': 22198, 'gram-positive': 11611, 'acid-fast': 6386, 'unselective': 3114})\n",
      "SMOTE dataset shape Counter({'gram-negative': 22198, 'unselective': 22198, 'acid-fast': 22198, 'gram-positive': 22198})\n"
     ]
    },
    {
     "name": "stderr",
     "output_type": "stream",
     "text": [
      "100%|██████████| 6/6 [02:09<00:00, 21.54s/it]\n"
     ]
    }
   ],
   "source": [
    "for df, fingerprint_name in tqdm([\n",
    "    (chemphys_dataframe, 'chemphys'),\n",
    "    (erg_dataframe, 'erg'),\n",
    "    (ecfp4_dataframe, 'ecfp4'), \n",
    "    (rdkit_dataframe, 'rdkit'), \n",
    "    (maccs_dataframe, 'maccs'), \n",
    "    (mhfp6_dataframe, 'mhfp6'),\n",
    "]):\n",
    "    smote_base_sampling(df, fingerprint_name)"
   ]
  },
  {
   "cell_type": "code",
   "execution_count": null,
   "metadata": {},
   "outputs": [],
   "source": []
  }
 ],
 "metadata": {
  "kernelspec": {
   "display_name": "amr",
   "language": "python",
   "name": "python3"
  },
  "language_info": {
   "codemirror_mode": {
    "name": "ipython",
    "version": 3
   },
   "file_extension": ".py",
   "mimetype": "text/x-python",
   "name": "python",
   "nbconvert_exporter": "python",
   "pygments_lexer": "ipython3",
   "version": "3.9.18"
  }
 },
 "nbformat": 4,
 "nbformat_minor": 2
}
