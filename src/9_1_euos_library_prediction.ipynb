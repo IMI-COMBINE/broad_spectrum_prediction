{
 "cells": [
  {
   "cell_type": "code",
   "execution_count": 1,
   "metadata": {},
   "outputs": [],
   "source": [
    "import os\n",
    "import pandas as pd\n",
    "from tqdm import tqdm\n",
    "import torch\n",
    "from rdkit.Chem import CanonSmiles\n",
    "\n",
    "from mhfp.encoder import MHFPEncoder\n",
    "import seaborn as sns\n",
    "import matplotlib.pyplot as plt"
   ]
  },
  {
   "cell_type": "markdown",
   "metadata": {},
   "source": [
    "# Load model and training data"
   ]
  },
  {
   "cell_type": "code",
   "execution_count": 2,
   "metadata": {},
   "outputs": [],
   "source": [
    "fingerprint_name = \"mhfp6\"\n",
    "model_name = \"rf\"\n",
    "model = torch.load(f\"../models/combined/{fingerprint_name}_{model_name}.pkl\")"
   ]
  },
  {
   "cell_type": "markdown",
   "metadata": {},
   "source": [
    "# Load testing data - EU-OS Library"
   ]
  },
  {
   "cell_type": "code",
   "execution_count": 3,
   "metadata": {},
   "outputs": [],
   "source": [
    "ecbl_df = pd.read_csv(\"../data/benchmark/ecbl_assay_results.csv\")\n",
    "biactive_df = pd.read_csv(\"../data/benchmark/bioactive_assay_results.csv\")"
   ]
  },
  {
   "cell_type": "code",
   "execution_count": 4,
   "metadata": {},
   "outputs": [
    {
     "data": {
      "text/html": [
       "<div>\n",
       "<style scoped>\n",
       "    .dataframe tbody tr th:only-of-type {\n",
       "        vertical-align: middle;\n",
       "    }\n",
       "\n",
       "    .dataframe tbody tr th {\n",
       "        vertical-align: top;\n",
       "    }\n",
       "\n",
       "    .dataframe thead th {\n",
       "        text-align: right;\n",
       "    }\n",
       "</style>\n",
       "<table border=\"1\" class=\"dataframe\">\n",
       "  <thead>\n",
       "    <tr style=\"text-align: right;\">\n",
       "      <th></th>\n",
       "      <th>eos</th>\n",
       "      <th>smiles</th>\n",
       "      <th>Pseudomonas_aeruginosa_activity</th>\n",
       "      <th>Pseudomonas_aeruginosa_value</th>\n",
       "      <th>Candida_auris_activity</th>\n",
       "      <th>Candida_auris_value</th>\n",
       "      <th>Enterococcus_faecalis_activity</th>\n",
       "      <th>Enterococcus_faecalis_value</th>\n",
       "      <th>Escherichia_coli_activity</th>\n",
       "      <th>Escherichia_coli_value</th>\n",
       "      <th>Aspergillus_fumigatus_activity</th>\n",
       "      <th>Aspergillus_fumigatus_value</th>\n",
       "      <th>Candida_albicans_activity</th>\n",
       "      <th>Candida_albicans_value</th>\n",
       "      <th>Staphylococcus_aureus_activity</th>\n",
       "      <th>Staphylococcus_aureus_value</th>\n",
       "    </tr>\n",
       "  </thead>\n",
       "  <tbody>\n",
       "    <tr>\n",
       "      <th>0</th>\n",
       "      <td>EOS3565</td>\n",
       "      <td>Cc1ccc(C)c(-c2n[nH]cc2CN2C[C@@H]3CC[C@H](C2)[C...</td>\n",
       "      <td>inactive</td>\n",
       "      <td>8.49</td>\n",
       "      <td>inactive</td>\n",
       "      <td>19.3</td>\n",
       "      <td>inactive</td>\n",
       "      <td>1.20</td>\n",
       "      <td>inactive</td>\n",
       "      <td>-15.53</td>\n",
       "      <td>inactive</td>\n",
       "      <td>6.7</td>\n",
       "      <td>inactive</td>\n",
       "      <td>-11.00</td>\n",
       "      <td>inactive</td>\n",
       "      <td>18.70</td>\n",
       "    </tr>\n",
       "    <tr>\n",
       "      <th>1</th>\n",
       "      <td>EOS4401</td>\n",
       "      <td>CCn1c(C)ccc(C(=O)N2CCCN(C(=O)c3ccoc3)CC2)c1=O</td>\n",
       "      <td>inactive</td>\n",
       "      <td>4.58</td>\n",
       "      <td>inactive</td>\n",
       "      <td>-10.8</td>\n",
       "      <td>inactive</td>\n",
       "      <td>-14.45</td>\n",
       "      <td>inactive</td>\n",
       "      <td>-9.56</td>\n",
       "      <td>inactive</td>\n",
       "      <td>7.5</td>\n",
       "      <td>inactive</td>\n",
       "      <td>-1.05</td>\n",
       "      <td>inactive</td>\n",
       "      <td>7.35</td>\n",
       "    </tr>\n",
       "  </tbody>\n",
       "</table>\n",
       "</div>"
      ],
      "text/plain": [
       "       eos                                             smiles  \\\n",
       "0  EOS3565  Cc1ccc(C)c(-c2n[nH]cc2CN2C[C@@H]3CC[C@H](C2)[C...   \n",
       "1  EOS4401      CCn1c(C)ccc(C(=O)N2CCCN(C(=O)c3ccoc3)CC2)c1=O   \n",
       "\n",
       "  Pseudomonas_aeruginosa_activity  Pseudomonas_aeruginosa_value  \\\n",
       "0                        inactive                          8.49   \n",
       "1                        inactive                          4.58   \n",
       "\n",
       "  Candida_auris_activity  Candida_auris_value Enterococcus_faecalis_activity  \\\n",
       "0               inactive                 19.3                       inactive   \n",
       "1               inactive                -10.8                       inactive   \n",
       "\n",
       "   Enterococcus_faecalis_value Escherichia_coli_activity  \\\n",
       "0                         1.20                  inactive   \n",
       "1                       -14.45                  inactive   \n",
       "\n",
       "   Escherichia_coli_value Aspergillus_fumigatus_activity  \\\n",
       "0                  -15.53                       inactive   \n",
       "1                   -9.56                       inactive   \n",
       "\n",
       "   Aspergillus_fumigatus_value Candida_albicans_activity  \\\n",
       "0                          6.7                  inactive   \n",
       "1                          7.5                  inactive   \n",
       "\n",
       "   Candida_albicans_value Staphylococcus_aureus_activity  \\\n",
       "0                  -11.00                       inactive   \n",
       "1                   -1.05                       inactive   \n",
       "\n",
       "   Staphylococcus_aureus_value  \n",
       "0                        18.70  \n",
       "1                         7.35  "
      ]
     },
     "execution_count": 4,
     "metadata": {},
     "output_type": "execute_result"
    }
   ],
   "source": [
    "ecbl_df.head(2)"
   ]
  },
  {
   "cell_type": "code",
   "execution_count": 5,
   "metadata": {},
   "outputs": [],
   "source": [
    "# Mapping the missing smiles\n",
    "p = ecbl_df[[\"eos\", \"smiles\"]].dropna().set_index(\"eos\")[\"smiles\"].to_dict()\n",
    "k = {\"EOS17062\": \"Cc1ccc(Cn2cnc3ccccc32)cc1\", \"EOS17004\": \"Cc1ccc(-n2sc3ccccc3c2=O)cc1\"}\n",
    "\n",
    "p.update(k)\n",
    "\n",
    "ecbl_df[\"smiles\"] = ecbl_df[\"eos\"].map(p)"
   ]
  },
  {
   "cell_type": "code",
   "execution_count": 6,
   "metadata": {},
   "outputs": [
    {
     "data": {
      "text/plain": [
       "((96092, 16), (4927, 16))"
      ]
     },
     "execution_count": 6,
     "metadata": {},
     "output_type": "execute_result"
    }
   ],
   "source": [
    "ecbl_df.shape, biactive_df.shape"
   ]
  },
  {
   "cell_type": "markdown",
   "metadata": {},
   "source": [
    "# Generate fingerprints"
   ]
  },
  {
   "cell_type": "code",
   "execution_count": 7,
   "metadata": {},
   "outputs": [],
   "source": [
    "mhfp_encoder = MHFPEncoder(n_permutations=2048, seed=42)  # MHFP6 fingerprint"
   ]
  },
  {
   "cell_type": "code",
   "execution_count": 8,
   "metadata": {},
   "outputs": [
    {
     "name": "stderr",
     "output_type": "stream",
     "text": [
      "100%|██████████| 96092/96092 [10:45<00:00, 148.92it/s]\n"
     ]
    }
   ],
   "source": [
    "ecbl_mhfp6_fingerprints = []\n",
    "\n",
    "for smiles in tqdm(ecbl_df[\"smiles\"].values):\n",
    "    # Generate the mol object\n",
    "    can_smiles = CanonSmiles(smiles)\n",
    "\n",
    "    if not can_smiles:\n",
    "        ecbl_mhfp6_fingerprints.append(None)\n",
    "        continue\n",
    "\n",
    "    ecbl_mhfp6_fingerprints.append(mhfp_encoder.encode(can_smiles, radius=3))\n",
    "\n",
    "ecbl_df[fingerprint_name] = ecbl_mhfp6_fingerprints"
   ]
  },
  {
   "cell_type": "code",
   "execution_count": 9,
   "metadata": {},
   "outputs": [
    {
     "name": "stderr",
     "output_type": "stream",
     "text": [
      "100%|██████████| 4927/4927 [00:35<00:00, 136.98it/s]\n"
     ]
    }
   ],
   "source": [
    "bioactive_mhfp6_fingerprints = []\n",
    "\n",
    "for smiles in tqdm(biactive_df[\"smiles\"].values):\n",
    "    # Generate the mol object\n",
    "    can_smiles = CanonSmiles(smiles)\n",
    "\n",
    "    if not can_smiles:\n",
    "        bioactive_mhfp6_fingerprints.append(None)\n",
    "        continue\n",
    "\n",
    "    bioactive_mhfp6_fingerprints.append(mhfp_encoder.encode(can_smiles, radius=3))\n",
    "\n",
    "biactive_df[fingerprint_name] = bioactive_mhfp6_fingerprints"
   ]
  },
  {
   "cell_type": "markdown",
   "metadata": {},
   "source": [
    "# Performing predictions"
   ]
  },
  {
   "cell_type": "code",
   "execution_count": 10,
   "metadata": {},
   "outputs": [],
   "source": [
    "def get_predictions(df):\n",
    "    predictions = model.predict(df[fingerprint_name].tolist())\n",
    "    prediction_proba = model.predict_proba(df[fingerprint_name].tolist())\n",
    "    label_classes = model.classes_.tolist()\n",
    "\n",
    "    df[\"prediction\"] = predictions\n",
    "\n",
    "    probs = []\n",
    "\n",
    "    for idx, probability in enumerate(prediction_proba):\n",
    "        predicted_class = predictions[idx]\n",
    "        probs.append(probability[label_classes.index(predicted_class)])\n",
    "\n",
    "    df[\"probability\"] = probs\n",
    "\n",
    "    sns.set(style=\"whitegrid\")\n",
    "    df[\"probability\"].plot(kind=\"hist\", bins=100)\n",
    "    plt.yscale(\"log\")\n",
    "    plt.xlabel(\"Probability\")\n",
    "    plt.title(\"Distribution of prediction probabilities\")\n",
    "    plt.show()\n",
    "    return df"
   ]
  },
  {
   "cell_type": "code",
   "execution_count": 11,
   "metadata": {},
   "outputs": [
    {
     "name": "stderr",
     "output_type": "stream",
     "text": [
      "/Users/yojana/anaconda3/envs/amr/lib/python3.9/site-packages/sklearn/base.py:439: UserWarning: X does not have valid feature names, but RandomForestClassifier was fitted with feature names\n",
      "  warnings.warn(\n",
      "/Users/yojana/anaconda3/envs/amr/lib/python3.9/site-packages/sklearn/base.py:439: UserWarning: X does not have valid feature names, but RandomForestClassifier was fitted with feature names\n",
      "  warnings.warn(\n"
     ]
    },
    {
     "data": {
      "image/png": "[encoded data removed]",
      "text/plain": [
       "<Figure size 640x480 with 1 Axes>"
      ]
     },
     "metadata": {},
     "output_type": "display_data"
    }
   ],
   "source": [
    "ecbl_df = get_predictions(ecbl_df)"
   ]
  },
  {
   "cell_type": "code",
   "execution_count": 12,
   "metadata": {},
   "outputs": [
    {
     "name": "stderr",
     "output_type": "stream",
     "text": [
      "/Users/yojana/anaconda3/envs/amr/lib/python3.9/site-packages/sklearn/base.py:439: UserWarning: X does not have valid feature names, but RandomForestClassifier was fitted with feature names\n",
      "  warnings.warn(\n",
      "/Users/yojana/anaconda3/envs/amr/lib/python3.9/site-packages/sklearn/base.py:439: UserWarning: X does not have valid feature names, but RandomForestClassifier was fitted with feature names\n",
      "  warnings.warn(\n"
     ]
    },
    {
     "data": {
      "image/png": "[encoded data removed]",
      "text/plain": [
       "<Figure size 640x480 with 1 Axes>"
      ]
     },
     "metadata": {},
     "output_type": "display_data"
    }
   ],
   "source": [
    "biactive_df = get_predictions(biactive_df)"
   ]
  },
  {
   "cell_type": "markdown",
   "metadata": {},
   "source": [
    "# Similarity with training data"
   ]
  },
  {
   "cell_type": "code",
   "execution_count": 13,
   "metadata": {},
   "outputs": [
    {
     "data": {
      "text/html": [
       "<div>\n",
       "<style scoped>\n",
       "    .dataframe tbody tr th:only-of-type {\n",
       "        vertical-align: middle;\n",
       "    }\n",
       "\n",
       "    .dataframe tbody tr th {\n",
       "        vertical-align: top;\n",
       "    }\n",
       "\n",
       "    .dataframe thead th {\n",
       "        text-align: right;\n",
       "    }\n",
       "</style>\n",
       "<table border=\"1\" class=\"dataframe\">\n",
       "  <thead>\n",
       "    <tr style=\"text-align: right;\">\n",
       "      <th></th>\n",
       "      <th>bit0</th>\n",
       "      <th>bit1</th>\n",
       "      <th>bit2</th>\n",
       "      <th>bit3</th>\n",
       "      <th>bit4</th>\n",
       "      <th>bit5</th>\n",
       "      <th>bit6</th>\n",
       "      <th>bit7</th>\n",
       "      <th>bit8</th>\n",
       "      <th>bit9</th>\n",
       "      <th>...</th>\n",
       "      <th>bit2039</th>\n",
       "      <th>bit2040</th>\n",
       "      <th>bit2041</th>\n",
       "      <th>bit2042</th>\n",
       "      <th>bit2043</th>\n",
       "      <th>bit2044</th>\n",
       "      <th>bit2045</th>\n",
       "      <th>bit2046</th>\n",
       "      <th>bit2047</th>\n",
       "      <th>label</th>\n",
       "    </tr>\n",
       "  </thead>\n",
       "  <tbody>\n",
       "    <tr>\n",
       "      <th>0</th>\n",
       "      <td>14433155</td>\n",
       "      <td>9273576</td>\n",
       "      <td>52428387</td>\n",
       "      <td>55778289</td>\n",
       "      <td>29319974</td>\n",
       "      <td>24922436</td>\n",
       "      <td>192953238</td>\n",
       "      <td>62403804</td>\n",
       "      <td>49040351</td>\n",
       "      <td>48020618</td>\n",
       "      <td>...</td>\n",
       "      <td>11055388</td>\n",
       "      <td>21431025</td>\n",
       "      <td>1416250</td>\n",
       "      <td>32703087</td>\n",
       "      <td>41181622</td>\n",
       "      <td>4925637</td>\n",
       "      <td>3638752</td>\n",
       "      <td>3279595</td>\n",
       "      <td>4090642</td>\n",
       "      <td>gram-positive</td>\n",
       "    </tr>\n",
       "    <tr>\n",
       "      <th>1</th>\n",
       "      <td>19469312</td>\n",
       "      <td>71257929</td>\n",
       "      <td>14316170</td>\n",
       "      <td>121213539</td>\n",
       "      <td>115681127</td>\n",
       "      <td>75668513</td>\n",
       "      <td>127870555</td>\n",
       "      <td>119200764</td>\n",
       "      <td>327151351</td>\n",
       "      <td>164407546</td>\n",
       "      <td>...</td>\n",
       "      <td>15596084</td>\n",
       "      <td>3736543</td>\n",
       "      <td>1416250</td>\n",
       "      <td>32970732</td>\n",
       "      <td>158260114</td>\n",
       "      <td>15628711</td>\n",
       "      <td>48984996</td>\n",
       "      <td>10981154</td>\n",
       "      <td>126156214</td>\n",
       "      <td>inactive</td>\n",
       "    </tr>\n",
       "  </tbody>\n",
       "</table>\n",
       "<p>2 rows × 2049 columns</p>\n",
       "</div>"
      ],
      "text/plain": [
       "       bit0      bit1      bit2       bit3       bit4      bit5       bit6  \\\n",
       "0  14433155   9273576  52428387   55778289   29319974  24922436  192953238   \n",
       "1  19469312  71257929  14316170  121213539  115681127  75668513  127870555   \n",
       "\n",
       "        bit7       bit8       bit9  ...   bit2039   bit2040  bit2041  \\\n",
       "0   62403804   49040351   48020618  ...  11055388  21431025  1416250   \n",
       "1  119200764  327151351  164407546  ...  15596084   3736543  1416250   \n",
       "\n",
       "    bit2042    bit2043   bit2044   bit2045   bit2046    bit2047          label  \n",
       "0  32703087   41181622   4925637   3638752   3279595    4090642  gram-positive  \n",
       "1  32970732  158260114  15628711  48984996  10981154  126156214       inactive  \n",
       "\n",
       "[2 rows x 2049 columns]"
      ]
     },
     "execution_count": 13,
     "metadata": {},
     "output_type": "execute_result"
    }
   ],
   "source": [
    "smote_training_df = pd.read_csv(\"../data/splits/combined/mhfp6_smote_train.csv\")\n",
    "smote_training_df.head(2)"
   ]
  },
  {
   "cell_type": "code",
   "execution_count": 14,
   "metadata": {},
   "outputs": [
    {
     "name": "stderr",
     "output_type": "stream",
     "text": [
      "100%|██████████| 105740/105740 [00:00<00:00, 2956349.94it/s]\n"
     ]
    }
   ],
   "source": [
    "smote_fingerprints = []\n",
    "\n",
    "for row in tqdm(smote_training_df.values):\n",
    "    cmpd_label = row[-1]\n",
    "    cmpd_fingerprint = row[:-1]\n",
    "    smote_fingerprints.append(cmpd_fingerprint)"
   ]
  },
  {
   "cell_type": "code",
   "execution_count": 17,
   "metadata": {},
   "outputs": [],
   "source": [
    "from sklearn.metrics.pairwise import cosine_similarity\n",
    "\n",
    "\n",
    "def get_sim_with_bioactive(train_fingerpint):\n",
    "    cosine_df = cosine_similarity(bioactive_mhfp6_fingerprints, train_fingerpint)\n",
    "\n",
    "    max_similarity_scores = []\n",
    "\n",
    "    for sim_row in tqdm(cosine_df):\n",
    "        max_similarity_scores.append(max(sim_row))\n",
    "\n",
    "    # Distribution of similarity scores with training set\n",
    "    sns.histplot(max_similarity_scores, bins=100)\n",
    "    plt.yscale(\"log\")\n",
    "    plt.xlabel(\"Similarity score\")\n",
    "    plt.title(\"Distribution of similarity scores with training set\")\n",
    "    plt.show()"
   ]
  },
  {
   "cell_type": "code",
   "execution_count": 18,
   "metadata": {},
   "outputs": [
    {
     "name": "stderr",
     "output_type": "stream",
     "text": [
      "100%|██████████| 4927/4927 [00:11<00:00, 411.49it/s]\n"
     ]
    },
    {
     "data": {
      "image/png": "[encoded data removed]",
      "text/plain": [
       "<Figure size 640x480 with 1 Axes>"
      ]
     },
     "metadata": {},
     "output_type": "display_data"
    }
   ],
   "source": [
    "get_sim_with_bioactive(smote_fingerprints)"
   ]
  },
  {
   "cell_type": "code",
   "execution_count": 19,
   "metadata": {},
   "outputs": [
    {
     "data": {
      "text/html": [
       "<div>\n",
       "<style scoped>\n",
       "    .dataframe tbody tr th:only-of-type {\n",
       "        vertical-align: middle;\n",
       "    }\n",
       "\n",
       "    .dataframe tbody tr th {\n",
       "        vertical-align: top;\n",
       "    }\n",
       "\n",
       "    .dataframe thead th {\n",
       "        text-align: right;\n",
       "    }\n",
       "</style>\n",
       "<table border=\"1\" class=\"dataframe\">\n",
       "  <thead>\n",
       "    <tr style=\"text-align: right;\">\n",
       "      <th></th>\n",
       "      <th>bit0</th>\n",
       "      <th>bit1</th>\n",
       "      <th>bit2</th>\n",
       "      <th>bit3</th>\n",
       "      <th>bit4</th>\n",
       "      <th>bit5</th>\n",
       "      <th>bit6</th>\n",
       "      <th>bit7</th>\n",
       "      <th>bit8</th>\n",
       "      <th>bit9</th>\n",
       "      <th>...</th>\n",
       "      <th>bit2040</th>\n",
       "      <th>bit2041</th>\n",
       "      <th>bit2042</th>\n",
       "      <th>bit2043</th>\n",
       "      <th>bit2044</th>\n",
       "      <th>bit2045</th>\n",
       "      <th>bit2046</th>\n",
       "      <th>bit2047</th>\n",
       "      <th>cmp_id</th>\n",
       "      <th>label</th>\n",
       "    </tr>\n",
       "  </thead>\n",
       "  <tbody>\n",
       "    <tr>\n",
       "      <th>0</th>\n",
       "      <td>14433155</td>\n",
       "      <td>9273576</td>\n",
       "      <td>52428387</td>\n",
       "      <td>55778289</td>\n",
       "      <td>29319974</td>\n",
       "      <td>24922436</td>\n",
       "      <td>192953238</td>\n",
       "      <td>62403804</td>\n",
       "      <td>49040351</td>\n",
       "      <td>48020618</td>\n",
       "      <td>...</td>\n",
       "      <td>21431025</td>\n",
       "      <td>1416250</td>\n",
       "      <td>32703087</td>\n",
       "      <td>41181622</td>\n",
       "      <td>4925637</td>\n",
       "      <td>3638752</td>\n",
       "      <td>3279595</td>\n",
       "      <td>4090642</td>\n",
       "      <td>OQZSOIHVULQZHS-CWGWECIMSA-N</td>\n",
       "      <td>gram-positive</td>\n",
       "    </tr>\n",
       "    <tr>\n",
       "      <th>1</th>\n",
       "      <td>19469312</td>\n",
       "      <td>71257929</td>\n",
       "      <td>14316170</td>\n",
       "      <td>121213539</td>\n",
       "      <td>115681127</td>\n",
       "      <td>75668513</td>\n",
       "      <td>127870555</td>\n",
       "      <td>119200764</td>\n",
       "      <td>327151351</td>\n",
       "      <td>164407546</td>\n",
       "      <td>...</td>\n",
       "      <td>3736543</td>\n",
       "      <td>1416250</td>\n",
       "      <td>32970732</td>\n",
       "      <td>158260114</td>\n",
       "      <td>15628711</td>\n",
       "      <td>48984996</td>\n",
       "      <td>10981154</td>\n",
       "      <td>126156214</td>\n",
       "      <td>ZGNROOOFYPKLJH-UHFFFAOYSA-N</td>\n",
       "      <td>inactive</td>\n",
       "    </tr>\n",
       "  </tbody>\n",
       "</table>\n",
       "<p>2 rows × 2050 columns</p>\n",
       "</div>"
      ],
      "text/plain": [
       "       bit0      bit1      bit2       bit3       bit4      bit5       bit6  \\\n",
       "0  14433155   9273576  52428387   55778289   29319974  24922436  192953238   \n",
       "1  19469312  71257929  14316170  121213539  115681127  75668513  127870555   \n",
       "\n",
       "        bit7       bit8       bit9  ...   bit2040  bit2041   bit2042  \\\n",
       "0   62403804   49040351   48020618  ...  21431025  1416250  32703087   \n",
       "1  119200764  327151351  164407546  ...   3736543  1416250  32970732   \n",
       "\n",
       "     bit2043   bit2044   bit2045   bit2046    bit2047  \\\n",
       "0   41181622   4925637   3638752   3279595    4090642   \n",
       "1  158260114  15628711  48984996  10981154  126156214   \n",
       "\n",
       "                        cmp_id          label  \n",
       "0  OQZSOIHVULQZHS-CWGWECIMSA-N  gram-positive  \n",
       "1  ZGNROOOFYPKLJH-UHFFFAOYSA-N       inactive  \n",
       "\n",
       "[2 rows x 2050 columns]"
      ]
     },
     "execution_count": 19,
     "metadata": {},
     "output_type": "execute_result"
    }
   ],
   "source": [
    "train_df = pd.read_csv(\"../data/splits/combined/mhfp6_train.csv\")\n",
    "train_df.head(2)"
   ]
  },
  {
   "cell_type": "code",
   "execution_count": 20,
   "metadata": {},
   "outputs": [
    {
     "name": "stderr",
     "output_type": "stream",
     "text": [
      "100%|██████████| 59361/59361 [00:00<00:00, 3139144.16it/s]\n"
     ]
    }
   ],
   "source": [
    "train_fingerprints = []\n",
    "\n",
    "for row in tqdm(train_df.values):\n",
    "    cmpd_label = row[-1]\n",
    "    cmpd_fingerprint = row[:-2]\n",
    "    train_fingerprints.append(cmpd_fingerprint)"
   ]
  },
  {
   "cell_type": "code",
   "execution_count": 22,
   "metadata": {},
   "outputs": [
    {
     "name": "stderr",
     "output_type": "stream",
     "text": [
      "100%|██████████| 4927/4927 [00:06<00:00, 709.89it/s]\n"
     ]
    },
    {
     "data": {
      "image/png": "[encoded data removed]",
      "text/plain": [
       "<Figure size 640x480 with 1 Axes>"
      ]
     },
     "metadata": {},
     "output_type": "display_data"
    }
   ],
   "source": [
    "get_sim_with_bioactive(train_fingerprints)"
   ]
  },
  {
   "cell_type": "markdown",
   "metadata": {},
   "source": [
    "# Saving the predictions"
   ]
  },
  {
   "cell_type": "code",
   "execution_count": 23,
   "metadata": {},
   "outputs": [],
   "source": [
    "os.makedirs(\"../data/predictions\", exist_ok=True)"
   ]
  },
  {
   "cell_type": "code",
   "execution_count": 24,
   "metadata": {},
   "outputs": [],
   "source": [
    "ecbl_df.sort_values(\"probability\", ascending=False, inplace=True)\n",
    "ecbl_df.to_csv(\"../data/predictions/euos_ecbl_predictions.csv\", index=False)"
   ]
  },
  {
   "cell_type": "code",
   "execution_count": 25,
   "metadata": {},
   "outputs": [],
   "source": [
    "biactive_df.sort_values(\"probability\", ascending=False, inplace=True)\n",
    "biactive_df.to_csv(\"../data/predictions/euos_biactive_predictions.csv\", index=False)"
   ]
  },
  {
   "cell_type": "code",
   "execution_count": null,
   "metadata": {},
   "outputs": [],
   "source": []
  }
 ],
 "metadata": {
  "kernelspec": {
   "display_name": "amr",
   "language": "python",
   "name": "amr"
  },
  "language_info": {
   "codemirror_mode": {
    "name": "ipython",
    "version": 3
   },
   "file_extension": ".py",
   "mimetype": "text/x-python",
   "name": "python",
   "nbconvert_exporter": "python",
   "pygments_lexer": "ipython3",
   "version": "3.9.18"
  }
 },
 "nbformat": 4,
 "nbformat_minor": 2
}
