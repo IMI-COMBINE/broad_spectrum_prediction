{
 "cells": [
  {
   "cell_type": "code",
   "execution_count": 1,
   "metadata": {},
   "outputs": [],
   "source": [
    "from collections import defaultdict\n",
    "import pandas as pd\n",
    "import tmap as tm\n",
    "from faerun import Faerun\n",
    "import matplotlib.pyplot as plt\n",
    "from matplotlib.colors import ListedColormap\n",
    "\n",
    "from tqdm import tqdm\n",
    "tqdm.pandas()"
   ]
  },
  {
   "cell_type": "markdown",
   "metadata": {},
   "source": [
    "# Load data"
   ]
  },
  {
   "cell_type": "code",
   "execution_count": 2,
   "metadata": {},
   "outputs": [],
   "source": [
    "all_data = pd.read_csv(\"../data/fingerprints/combined_mhfp6.tsv\", sep=\"\\t\")"
   ]
  },
  {
   "cell_type": "code",
   "execution_count": 3,
   "metadata": {},
   "outputs": [],
   "source": [
    "amr_df = pd.read_csv(\"../data/processed/combined_bioassay_data.tsv\", sep=\"\\t\", usecols=[\"compound_smiles\", \"compound_inchikey\"])"
   ]
  },
  {
   "cell_type": "code",
   "execution_count": 4,
   "metadata": {},
   "outputs": [
    {
     "data": {
      "text/html": [
       "<div>\n",
       "<style scoped>\n",
       "    .dataframe tbody tr th:only-of-type {\n",
       "        vertical-align: middle;\n",
       "    }\n",
       "\n",
       "    .dataframe tbody tr th {\n",
       "        vertical-align: top;\n",
       "    }\n",
       "\n",
       "    .dataframe thead th {\n",
       "        text-align: right;\n",
       "    }\n",
       "</style>\n",
       "<table border=\"1\" class=\"dataframe\">\n",
       "  <thead>\n",
       "    <tr style=\"text-align: right;\">\n",
       "      <th></th>\n",
       "      <th>cmp_id</th>\n",
       "      <th>bit0</th>\n",
       "      <th>bit1</th>\n",
       "      <th>bit2</th>\n",
       "      <th>bit3</th>\n",
       "      <th>bit4</th>\n",
       "      <th>bit5</th>\n",
       "      <th>bit6</th>\n",
       "      <th>bit7</th>\n",
       "      <th>bit8</th>\n",
       "      <th>...</th>\n",
       "      <th>bit2040</th>\n",
       "      <th>bit2041</th>\n",
       "      <th>bit2042</th>\n",
       "      <th>bit2043</th>\n",
       "      <th>bit2044</th>\n",
       "      <th>bit2045</th>\n",
       "      <th>bit2046</th>\n",
       "      <th>bit2047</th>\n",
       "      <th>label</th>\n",
       "      <th>compound_smiles</th>\n",
       "    </tr>\n",
       "  </thead>\n",
       "  <tbody>\n",
       "    <tr>\n",
       "      <th>0</th>\n",
       "      <td>OOYGSFOGFJDDHP-KMCOLRRFSA-N</td>\n",
       "      <td>53109374</td>\n",
       "      <td>13294028</td>\n",
       "      <td>17313015</td>\n",
       "      <td>13405020</td>\n",
       "      <td>159565048</td>\n",
       "      <td>166773519</td>\n",
       "      <td>112685388</td>\n",
       "      <td>23281340</td>\n",
       "      <td>74257363</td>\n",
       "      <td>...</td>\n",
       "      <td>86693380</td>\n",
       "      <td>23470166</td>\n",
       "      <td>13223091</td>\n",
       "      <td>13893646</td>\n",
       "      <td>72383491</td>\n",
       "      <td>138619944</td>\n",
       "      <td>10981154</td>\n",
       "      <td>123604138</td>\n",
       "      <td>acid-fast</td>\n",
       "      <td>NC[C@H]1O[C@H](O[C@H]2[C@H](O)[C@@H](O[C@H]3O[...</td>\n",
       "    </tr>\n",
       "    <tr>\n",
       "      <th>1</th>\n",
       "      <td>XIPHLJFTBFXVBS-UHFFFAOYSA-N</td>\n",
       "      <td>2376200</td>\n",
       "      <td>75861701</td>\n",
       "      <td>8411880</td>\n",
       "      <td>265132626</td>\n",
       "      <td>17183886</td>\n",
       "      <td>48771247</td>\n",
       "      <td>26537035</td>\n",
       "      <td>264241068</td>\n",
       "      <td>149295683</td>\n",
       "      <td>...</td>\n",
       "      <td>21431025</td>\n",
       "      <td>1416250</td>\n",
       "      <td>104553653</td>\n",
       "      <td>280401855</td>\n",
       "      <td>71835899</td>\n",
       "      <td>176069654</td>\n",
       "      <td>91289868</td>\n",
       "      <td>137970302</td>\n",
       "      <td>fungi</td>\n",
       "      <td>C=C(C(=O)c1ccc(F)cc1)c1ccc(Cl)cc1Cl</td>\n",
       "    </tr>\n",
       "  </tbody>\n",
       "</table>\n",
       "<p>2 rows × 2051 columns</p>\n",
       "</div>"
      ],
      "text/plain": [
       "                        cmp_id      bit0      bit1      bit2       bit3  \\\n",
       "0  OOYGSFOGFJDDHP-KMCOLRRFSA-N  53109374  13294028  17313015   13405020   \n",
       "1  XIPHLJFTBFXVBS-UHFFFAOYSA-N   2376200  75861701   8411880  265132626   \n",
       "\n",
       "        bit4       bit5       bit6       bit7       bit8  ...   bit2040  \\\n",
       "0  159565048  166773519  112685388   23281340   74257363  ...  86693380   \n",
       "1   17183886   48771247   26537035  264241068  149295683  ...  21431025   \n",
       "\n",
       "    bit2041    bit2042    bit2043   bit2044    bit2045   bit2046    bit2047  \\\n",
       "0  23470166   13223091   13893646  72383491  138619944  10981154  123604138   \n",
       "1   1416250  104553653  280401855  71835899  176069654  91289868  137970302   \n",
       "\n",
       "       label                                    compound_smiles  \n",
       "0  acid-fast  NC[C@H]1O[C@H](O[C@H]2[C@H](O)[C@@H](O[C@H]3O[...  \n",
       "1      fungi                C=C(C(=O)c1ccc(F)cc1)c1ccc(Cl)cc1Cl  \n",
       "\n",
       "[2 rows x 2051 columns]"
      ]
     },
     "execution_count": 4,
     "metadata": {},
     "output_type": "execute_result"
    }
   ],
   "source": [
    "combined_df = pd.merge(all_data, amr_df, left_on=\"cmp_id\", right_on=\"compound_inchikey\")\n",
    "combined_df.drop(columns=[\"compound_inchikey\"], inplace=True)\n",
    "combined_df.head(2)"
   ]
  },
  {
   "cell_type": "markdown",
   "metadata": {},
   "source": [
    "# Generate the map"
   ]
  },
  {
   "cell_type": "code",
   "execution_count": 5,
   "metadata": {},
   "outputs": [
    {
     "name": "stderr",
     "output_type": "stream",
     "text": [
      "100%|██████████| 77442/77442 [00:09<00:00, 8520.42it/s] \n"
     ]
    }
   ],
   "source": [
    "fingerprint_dict = defaultdict(list)\n",
    "\n",
    "mol_smiles = combined_df[\"compound_smiles\"]\n",
    "mol_labels = combined_df[\"label\"]\n",
    "mol_fingerprint_df = combined_df.drop(columns=[\"compound_smiles\", \"cmp_id\", \"label\"])\n",
    "\n",
    "for idx, row in tqdm(mol_fingerprint_df.iterrows(), total=mol_fingerprint_df.shape[0]):\n",
    "    fingerprint_dict[mol_smiles[idx]].append((row.to_numpy(), mol_labels[idx]))"
   ]
  },
  {
   "cell_type": "code",
   "execution_count": 6,
   "metadata": {},
   "outputs": [
    {
     "name": "stderr",
     "output_type": "stream",
     "text": [
      "100%|██████████| 77442/77442 [00:57<00:00, 1344.71it/s]\n"
     ]
    }
   ],
   "source": [
    "lf = tm.LSHForest(2048, 128)\n",
    "fps = []\n",
    "labels = []\n",
    "activity = []\n",
    "\n",
    "for smile, data_info in tqdm(fingerprint_dict.items()):\n",
    "    fp, class_label = data_info[0]\n",
    "    fps.append(tm.VectorUint(fp))\n",
    "    labels.append(smile)\n",
    "    activity.append(class_label)"
   ]
  },
  {
   "cell_type": "code",
   "execution_count": 7,
   "metadata": {},
   "outputs": [],
   "source": [
    "lf.batch_add(fps)\n",
    "lf.index()"
   ]
  },
  {
   "cell_type": "code",
   "execution_count": 8,
   "metadata": {},
   "outputs": [],
   "source": [
    "cfg = tm.LayoutConfiguration()\n",
    "x, y, s, t, _ = tm.layout_from_lsh_forest(lf, config=cfg)"
   ]
  },
  {
   "cell_type": "code",
   "execution_count": 9,
   "metadata": {},
   "outputs": [],
   "source": [
    "custom_cmap = ListedColormap(\n",
    "    [\"#2ecc71\", \"#9b59b6\", \"#ecf0f1\", \"#e74c3c\", \"#e67e22\", \"#f1c40f\", \"#95a5a6\"],\n",
    "    name=\"custom\",\n",
    ")"
   ]
  },
  {
   "cell_type": "code",
   "execution_count": 10,
   "metadata": {},
   "outputs": [],
   "source": [
    "f = Faerun(\n",
    "    clear_color=\"#222222\",\n",
    "    coords=False,\n",
    "    view=\"front\",\n",
    ")"
   ]
  },
  {
   "cell_type": "code",
   "execution_count": 11,
   "metadata": {},
   "outputs": [],
   "source": [
    "activity_mapper = {\n",
    "    'acid-fast': 0, \n",
    "    'fungi': 1, \n",
    "    'gram-negative': 2, \n",
    "    'gram-positive': 3\n",
    "}\n",
    "\n",
    "activity_labels, activity_data = Faerun.create_categories([\n",
    "    activity_mapper[i]\n",
    "    for i in activity\n",
    "])"
   ]
  },
  {
   "cell_type": "code",
   "execution_count": 24,
   "metadata": {},
   "outputs": [],
   "source": [
    "f.add_scatter(\n",
    "    \"amr\",\n",
    "    {\n",
    "        \"x\": x,\n",
    "        \"y\": y,\n",
    "        \"c\": [activity_data],\n",
    "        \"labels\": labels,\n",
    "    },\n",
    "    shader=\"smoothCircle\",\n",
    "    colormap=[custom_cmap],\n",
    "    categorical=[True],\n",
    "    has_legend=True,\n",
    "    legend_labels=[(0, \"acid-fast\"), (1, \"fungi\"), (2, \"gram-negative\"), (3, \"gram-positive\")],\n",
    "    legend_title=\"\",\n",
    ")"
   ]
  },
  {
   "cell_type": "code",
   "execution_count": 25,
   "metadata": {},
   "outputs": [],
   "source": [
    "f.add_tree(\"amrtree\", {\"from\": s, \"to\": t}, point_helper=\"amr\")"
   ]
  },
  {
   "cell_type": "code",
   "execution_count": 26,
   "metadata": {},
   "outputs": [
    {
     "data": {
      "text/html": [
       "\n",
       "        <iframe\n",
       "            width=\"100%\"\n",
       "            height=\"500\"\n",
       "            src=\"./amr.html\"\n",
       "            frameborder=\"0\"\n",
       "            allowfullscreen\n",
       "            \n",
       "        ></iframe>\n",
       "        "
      ],
      "text/plain": [
       "<IPython.lib.display.IFrame at 0x199c66c2d60>"
      ]
     },
     "metadata": {},
     "output_type": "display_data"
    },
    {
     "data": {
      "text/html": [
       "<a href='./amr.html' target='_blank'>./amr.html</a><br>"
      ],
      "text/plain": [
       "d:\\Python repos\\broad_spectrum_prediction\\src\\amr.html"
      ]
     },
     "metadata": {},
     "output_type": "display_data"
    }
   ],
   "source": [
    "f.plot(\"amr\", template=\"smiles\")"
   ]
  },
  {
   "cell_type": "code",
   "execution_count": null,
   "metadata": {},
   "outputs": [],
   "source": []
  }
 ],
 "metadata": {
  "kernelspec": {
   "display_name": "ml-amr",
   "language": "python",
   "name": "python3"
  },
  "language_info": {
   "codemirror_mode": {
    "name": "ipython",
    "version": 3
   },
   "file_extension": ".py",
   "mimetype": "text/x-python",
   "name": "python",
   "nbconvert_exporter": "python",
   "pygments_lexer": "ipython3",
   "version": "3.9.19"
  }
 },
 "nbformat": 4,
 "nbformat_minor": 2
}
