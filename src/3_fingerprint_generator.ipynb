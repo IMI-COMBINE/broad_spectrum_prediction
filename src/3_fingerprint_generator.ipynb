{
 "cells": [
  {
   "cell_type": "markdown",
   "metadata": {},
   "source": [
    "# Fingerprint generator\n",
    "\n",
    "This notebook is used to generate the fingerprints from RDKit that are used as training data for the ML models."
   ]
  },
  {
   "cell_type": "code",
   "execution_count": 1,
   "metadata": {},
   "outputs": [],
   "source": [
    "import os\n",
    "import pandas as pd\n",
    "import numpy as np\n",
    "from tqdm import tqdm\n",
    "\n",
    "from rdkit import Chem\n",
    "from rdkit.Chem import rdFingerprintGenerator, MACCSkeys, DataStructs\n",
    "from rdkit.Chem import rdMolDescriptors, Descriptors, GraphDescriptors\n",
    "\n",
    "from mhfp.encoder import MHFPEncoder"
   ]
  },
  {
   "cell_type": "markdown",
   "metadata": {},
   "source": [
    "# Load dataset"
   ]
  },
  {
   "cell_type": "code",
   "execution_count": 2,
   "metadata": {},
   "outputs": [
    {
     "data": {
      "text/html": [
       "<div>\n",
       "<style scoped>\n",
       "    .dataframe tbody tr th:only-of-type {\n",
       "        vertical-align: middle;\n",
       "    }\n",
       "\n",
       "    .dataframe tbody tr th {\n",
       "        vertical-align: top;\n",
       "    }\n",
       "\n",
       "    .dataframe thead th {\n",
       "        text-align: right;\n",
       "    }\n",
       "</style>\n",
       "<table border=\"1\" class=\"dataframe\">\n",
       "  <thead>\n",
       "    <tr style=\"text-align: right;\">\n",
       "      <th></th>\n",
       "      <th>compound_inchikey</th>\n",
       "      <th>compound_smiles</th>\n",
       "      <th>compound_source</th>\n",
       "      <th>gram-positive</th>\n",
       "      <th>gram-negative</th>\n",
       "      <th>fungi</th>\n",
       "      <th>acid-fast</th>\n",
       "      <th>chemical_class</th>\n",
       "      <th>compound_superclass</th>\n",
       "      <th>compound_pathway</th>\n",
       "      <th>best_class</th>\n",
       "    </tr>\n",
       "  </thead>\n",
       "  <tbody>\n",
       "    <tr>\n",
       "      <th>0</th>\n",
       "      <td>OOYGSFOGFJDDHP-KMCOLRRFSA-N</td>\n",
       "      <td>NC[C@H]1O[C@H](O[C@H]2[C@H](O)[C@@H](O[C@H]3O[...</td>\n",
       "      <td>chembl_33</td>\n",
       "      <td>5.0</td>\n",
       "      <td>5.0</td>\n",
       "      <td>NaN</td>\n",
       "      <td>6.0</td>\n",
       "      <td>['Amino cyclitols', 'Aminoglycosides']</td>\n",
       "      <td>['Aminosugars and aminoglycosides', 'Polyols']</td>\n",
       "      <td>['Carbohydrates']</td>\n",
       "      <td>acid-fast</td>\n",
       "    </tr>\n",
       "    <tr>\n",
       "      <th>1</th>\n",
       "      <td>XIPHLJFTBFXVBS-UHFFFAOYSA-N</td>\n",
       "      <td>C=C(C(=O)c1ccc(F)cc1)c1ccc(Cl)cc1Cl</td>\n",
       "      <td>chembl_33</td>\n",
       "      <td>NaN</td>\n",
       "      <td>NaN</td>\n",
       "      <td>6.0</td>\n",
       "      <td>NaN</td>\n",
       "      <td>['Chalcones']</td>\n",
       "      <td>['Flavonoids']</td>\n",
       "      <td>['Shikimates and Phenylpropanoids']</td>\n",
       "      <td>fungi</td>\n",
       "    </tr>\n",
       "    <tr>\n",
       "      <th>2</th>\n",
       "      <td>OEFUWWDPRNNMRS-WDPNLORNSA-N</td>\n",
       "      <td>CC[C@H]1OC(=O)[C@H](C)[C@H]2OC3(CCN(C(=O)c4ccc...</td>\n",
       "      <td>chembl_33</td>\n",
       "      <td>6.0</td>\n",
       "      <td>6.5</td>\n",
       "      <td>NaN</td>\n",
       "      <td>NaN</td>\n",
       "      <td>['Erythromycins']</td>\n",
       "      <td>['Macrolides']</td>\n",
       "      <td>['Polyketides']</td>\n",
       "      <td>gram-negative</td>\n",
       "    </tr>\n",
       "    <tr>\n",
       "      <th>3</th>\n",
       "      <td>LBRXTHSVIORIGU-OLROFJLRSA-N</td>\n",
       "      <td>CC[C@H]1OC(=O)[C@H](C)[C@H]2OC3(CCN(C(=O)c4cnc...</td>\n",
       "      <td>chembl_33</td>\n",
       "      <td>6.0</td>\n",
       "      <td>6.0</td>\n",
       "      <td>NaN</td>\n",
       "      <td>NaN</td>\n",
       "      <td>['Erythromycins']</td>\n",
       "      <td>['Macrolides']</td>\n",
       "      <td>['Polyketides']</td>\n",
       "      <td>gram-positive</td>\n",
       "    </tr>\n",
       "    <tr>\n",
       "      <th>4</th>\n",
       "      <td>PHYLUFIYANLQSE-UHFFFAOYSA-N</td>\n",
       "      <td>CN1Cc2csc3c(C(=O)O)c(=O)c4cc(F)c(N5CCOC(CF)C5)...</td>\n",
       "      <td>chembl_33</td>\n",
       "      <td>7.5</td>\n",
       "      <td>7.0</td>\n",
       "      <td>NaN</td>\n",
       "      <td>NaN</td>\n",
       "      <td>[]</td>\n",
       "      <td>['Tryptophan alkaloids']</td>\n",
       "      <td>['Alkaloids']</td>\n",
       "      <td>gram-positive</td>\n",
       "    </tr>\n",
       "  </tbody>\n",
       "</table>\n",
       "</div>"
      ],
      "text/plain": [
       "             compound_inchikey  \\\n",
       "0  OOYGSFOGFJDDHP-KMCOLRRFSA-N   \n",
       "1  XIPHLJFTBFXVBS-UHFFFAOYSA-N   \n",
       "2  OEFUWWDPRNNMRS-WDPNLORNSA-N   \n",
       "3  LBRXTHSVIORIGU-OLROFJLRSA-N   \n",
       "4  PHYLUFIYANLQSE-UHFFFAOYSA-N   \n",
       "\n",
       "                                     compound_smiles compound_source  \\\n",
       "0  NC[C@H]1O[C@H](O[C@H]2[C@H](O)[C@@H](O[C@H]3O[...       chembl_33   \n",
       "1                C=C(C(=O)c1ccc(F)cc1)c1ccc(Cl)cc1Cl       chembl_33   \n",
       "2  CC[C@H]1OC(=O)[C@H](C)[C@H]2OC3(CCN(C(=O)c4ccc...       chembl_33   \n",
       "3  CC[C@H]1OC(=O)[C@H](C)[C@H]2OC3(CCN(C(=O)c4cnc...       chembl_33   \n",
       "4  CN1Cc2csc3c(C(=O)O)c(=O)c4cc(F)c(N5CCOC(CF)C5)...       chembl_33   \n",
       "\n",
       "   gram-positive  gram-negative  fungi  acid-fast  \\\n",
       "0            5.0            5.0    NaN        6.0   \n",
       "1            NaN            NaN    6.0        NaN   \n",
       "2            6.0            6.5    NaN        NaN   \n",
       "3            6.0            6.0    NaN        NaN   \n",
       "4            7.5            7.0    NaN        NaN   \n",
       "\n",
       "                           chemical_class  \\\n",
       "0  ['Amino cyclitols', 'Aminoglycosides']   \n",
       "1                           ['Chalcones']   \n",
       "2                       ['Erythromycins']   \n",
       "3                       ['Erythromycins']   \n",
       "4                                      []   \n",
       "\n",
       "                              compound_superclass  \\\n",
       "0  ['Aminosugars and aminoglycosides', 'Polyols']   \n",
       "1                                  ['Flavonoids']   \n",
       "2                                  ['Macrolides']   \n",
       "3                                  ['Macrolides']   \n",
       "4                        ['Tryptophan alkaloids']   \n",
       "\n",
       "                      compound_pathway     best_class  \n",
       "0                    ['Carbohydrates']      acid-fast  \n",
       "1  ['Shikimates and Phenylpropanoids']          fungi  \n",
       "2                      ['Polyketides']  gram-negative  \n",
       "3                      ['Polyketides']  gram-positive  \n",
       "4                        ['Alkaloids']  gram-positive  "
      ]
     },
     "execution_count": 2,
     "metadata": {},
     "output_type": "execute_result"
    }
   ],
   "source": [
    "amr_df = pd.read_csv(\"../data/processed/combined_bioassay_data.tsv\", sep=\"\\t\")\n",
    "amr_df.head()"
   ]
  },
  {
   "cell_type": "markdown",
   "metadata": {},
   "source": [
    "# Generate the different fingerprints"
   ]
  },
  {
   "cell_type": "code",
   "execution_count": 3,
   "metadata": {},
   "outputs": [],
   "source": [
    "mfpgen = rdFingerprintGenerator.GetMorganGenerator(radius=4, fpSize=1024) # ECFP4 fingerprint\n",
    "rdkgen = rdFingerprintGenerator.GetRDKitFPGenerator(fpSize=1024) # RDKit fingerprint"
   ]
  },
  {
   "cell_type": "code",
   "execution_count": 4,
   "metadata": {},
   "outputs": [],
   "source": [
    "# Disable warnings\n",
    "from rdkit import RDLogger\n",
    "RDLogger.DisableLog(\"rdApp.*\")"
   ]
  },
  {
   "cell_type": "code",
   "execution_count": 5,
   "metadata": {},
   "outputs": [
    {
     "name": "stderr",
     "output_type": "stream",
     "text": [
      "100%|██████████| 77442/77442 [1:17:52<00:00, 16.57it/s]  \n"
     ]
    }
   ],
   "source": [
    "ecfp_fingerprints = []\n",
    "rdkit_fingerprints = []\n",
    "maccs_fingerprints = []\n",
    "chem_phys_props = []\n",
    "\n",
    "for inchikey, smiles in tqdm(amr_df[[\"compound_inchikey\", \"compound_smiles\"]].values):\n",
    "    # Canonicalize the smiles\n",
    "    try:\n",
    "        can_smiles = Chem.CanonSmiles(smiles)\n",
    "    except:\n",
    "        can_smiles = smiles\n",
    "\n",
    "    # Generate the mol object\n",
    "    mol = Chem.MolFromSmiles(can_smiles)\n",
    "\n",
    "    if not mol:\n",
    "        ecfp_fingerprints.append(None)\n",
    "        rdkit_fingerprints.append(None)\n",
    "        maccs_fingerprints.append(None)\n",
    "        chem_phys_props.append(None)\n",
    "        inchikey_list.append(inchikey)\n",
    "        continue\n",
    "\n",
    "    ecfp_fingerprints.append(mfpgen.GetFingerprint(mol))\n",
    "    rdkit_fingerprints.append(rdkgen.GetFingerprint(mol))\n",
    "    maccs_fingerprints.append(MACCSkeys.GenMACCSKeys(mol))\n",
    "\n",
    "    vals = Descriptors.CalcMolDescriptors(mol)\n",
    "\n",
    "    chem_phys_props.append({\n",
    "        'slogp': round(vals['MolLogP'], 2),\n",
    "        'smr': round(vals['MolMR'], 2),\n",
    "        'labute_asa': round(vals['LabuteASA'], 2),\n",
    "        'tpsa': round(vals['TPSA'], 2),\n",
    "        'exact_mw': round(vals['ExactMolWt'], 2),\n",
    "        'num_lipinski_hba': rdMolDescriptors.CalcNumLipinskiHBA(mol),\n",
    "        'num_lipinski_hbd': rdMolDescriptors.CalcNumLipinskiHBD(mol),\n",
    "        'num_rotatable_bonds': vals['NumRotatableBonds'],\n",
    "        'num_hba': vals['NumHAcceptors'],\n",
    "        'num_hbd': vals['NumHDonors'],\n",
    "        'num_amide_bonds': rdMolDescriptors.CalcNumAmideBonds(mol),\n",
    "        'num_heteroatoms': vals['NumHeteroatoms'],\n",
    "        'num_heavy_atoms': vals['HeavyAtomCount'],\n",
    "        'num_atoms': rdMolDescriptors.CalcNumAtoms(mol),\n",
    "        'num_stereocenters': rdMolDescriptors.CalcNumAtomStereoCenters(mol),\n",
    "        'num_unspecified_stereocenters': rdMolDescriptors.CalcNumUnspecifiedAtomStereoCenters(mol),\n",
    "        'num_rings': vals['RingCount'],\n",
    "        'num_aromatic_rings': vals['NumAromaticRings'],\n",
    "        'num_aliphatic_rings': vals['NumAliphaticRings'],\n",
    "        'num_saturated_rings': vals['NumSaturatedRings'],\n",
    "        'num_aromatic_heterocycles': vals['NumAromaticHeterocycles'],\n",
    "        'num_aliphatic_heterocycles': vals['NumAliphaticHeterocycles'],\n",
    "        'num_saturated_heterocycles': vals['NumSaturatedHeterocycles'],\n",
    "        'num_aromatic_carbocycles': vals['NumAromaticCarbocycles'],\n",
    "        'num_aliphatic_carbocycles': vals['NumAliphaticCarbocycles'],\n",
    "        'num_saturated_carbocycles': vals['NumSaturatedCarbocycles'],\n",
    "        'fraction_csp3': round(vals['FractionCSP3'], 2),\n",
    "        'num_brdigehead_atoms': rdMolDescriptors.CalcNumBridgeheadAtoms(mol),\n",
    "        'bertz_complexity': GraphDescriptors.BertzCT(mol),\n",
    "    })"
   ]
  },
  {
   "cell_type": "code",
   "execution_count": 6,
   "metadata": {},
   "outputs": [],
   "source": [
    "amr_df['ecfp4'] = ecfp_fingerprints\n",
    "amr_df['rdkit'] = rdkit_fingerprints\n",
    "amr_df['maccs'] = maccs_fingerprints\n",
    "amr_df['chem_phys'] = chem_phys_props"
   ]
  },
  {
   "cell_type": "code",
   "execution_count": 7,
   "metadata": {},
   "outputs": [
    {
     "name": "stderr",
     "output_type": "stream",
     "text": [
      " 33%|███▎      | 25247/77442 [08:15<11:47, 73.80it/s]  d:\\Anaconda\\envs\\ml-amr\\lib\\site-packages\\mhfp\\encoder.py:297: UserWarning: The length of the shingling is 0, which results in an empty set and an all zero folded fingerprint.\n",
      "  warnings.warn(\"The length of the shingling is 0, which results in an empty set and an all zero folded fingerprint.\")\n",
      "100%|██████████| 77442/77442 [22:56<00:00, 56.24it/s]  \n"
     ]
    }
   ],
   "source": [
    "# minihash fingerprint\n",
    "mhfp_encoder = MHFPEncoder()\n",
    "\n",
    "mhfp_fingerprints = []\n",
    "\n",
    "for smiles in tqdm(amr_df[\"compound_smiles\"]):\n",
    "    # Canonicalize the smiles\n",
    "    try:\n",
    "        can_smiles = Chem.CanonSmiles(smiles)\n",
    "    except:\n",
    "        can_smiles = smiles\n",
    "\n",
    "    # Generate fingerprint\n",
    "    try:\n",
    "        fp = mhfp_encoder.encode(can_smiles)\n",
    "    except:\n",
    "        fp = None\n",
    "    \n",
    "    mhfp_fingerprints.append(fp)\n",
    "\n",
    "amr_df['mhfp'] = mhfp_fingerprints"
   ]
  },
  {
   "cell_type": "code",
   "execution_count": 8,
   "metadata": {},
   "outputs": [
    {
     "data": {
      "text/html": [
       "<div>\n",
       "<style scoped>\n",
       "    .dataframe tbody tr th:only-of-type {\n",
       "        vertical-align: middle;\n",
       "    }\n",
       "\n",
       "    .dataframe tbody tr th {\n",
       "        vertical-align: top;\n",
       "    }\n",
       "\n",
       "    .dataframe thead th {\n",
       "        text-align: right;\n",
       "    }\n",
       "</style>\n",
       "<table border=\"1\" class=\"dataframe\">\n",
       "  <thead>\n",
       "    <tr style=\"text-align: right;\">\n",
       "      <th></th>\n",
       "      <th>compound_inchikey</th>\n",
       "      <th>compound_smiles</th>\n",
       "      <th>compound_source</th>\n",
       "      <th>gram-positive</th>\n",
       "      <th>gram-negative</th>\n",
       "      <th>fungi</th>\n",
       "      <th>acid-fast</th>\n",
       "      <th>chemical_class</th>\n",
       "      <th>compound_superclass</th>\n",
       "      <th>compound_pathway</th>\n",
       "      <th>best_class</th>\n",
       "      <th>ecfp4</th>\n",
       "      <th>rdkit</th>\n",
       "      <th>maccs</th>\n",
       "      <th>chem_phys</th>\n",
       "      <th>mhfp</th>\n",
       "    </tr>\n",
       "  </thead>\n",
       "  <tbody>\n",
       "    <tr>\n",
       "      <th>0</th>\n",
       "      <td>OOYGSFOGFJDDHP-KMCOLRRFSA-N</td>\n",
       "      <td>NC[C@H]1O[C@H](O[C@H]2[C@H](O)[C@@H](O[C@H]3O[...</td>\n",
       "      <td>chembl_33</td>\n",
       "      <td>5.0</td>\n",
       "      <td>5.0</td>\n",
       "      <td>NaN</td>\n",
       "      <td>6.0</td>\n",
       "      <td>['Amino cyclitols', 'Aminoglycosides']</td>\n",
       "      <td>['Aminosugars and aminoglycosides', 'Polyols']</td>\n",
       "      <td>['Carbohydrates']</td>\n",
       "      <td>acid-fast</td>\n",
       "      <td>[0, 0, 0, 0, 0, 0, 0, 0, 0, 0, 0, 0, 0, 1, 0, ...</td>\n",
       "      <td>[1, 0, 0, 0, 0, 1, 1, 0, 0, 0, 1, 1, 1, 1, 1, ...</td>\n",
       "      <td>[0, 0, 0, 0, 0, 0, 0, 0, 0, 0, 0, 0, 0, 0, 0, ...</td>\n",
       "      <td>{'slogp': -7.94, 'smr': 121.97, 'labute_asa': ...</td>\n",
       "      <td>[53109374, 13294028, 17313015, 13405020, 15956...</td>\n",
       "    </tr>\n",
       "  </tbody>\n",
       "</table>\n",
       "</div>"
      ],
      "text/plain": [
       "             compound_inchikey  \\\n",
       "0  OOYGSFOGFJDDHP-KMCOLRRFSA-N   \n",
       "\n",
       "                                     compound_smiles compound_source  \\\n",
       "0  NC[C@H]1O[C@H](O[C@H]2[C@H](O)[C@@H](O[C@H]3O[...       chembl_33   \n",
       "\n",
       "   gram-positive  gram-negative  fungi  acid-fast  \\\n",
       "0            5.0            5.0    NaN        6.0   \n",
       "\n",
       "                           chemical_class  \\\n",
       "0  ['Amino cyclitols', 'Aminoglycosides']   \n",
       "\n",
       "                              compound_superclass   compound_pathway  \\\n",
       "0  ['Aminosugars and aminoglycosides', 'Polyols']  ['Carbohydrates']   \n",
       "\n",
       "  best_class                                              ecfp4  \\\n",
       "0  acid-fast  [0, 0, 0, 0, 0, 0, 0, 0, 0, 0, 0, 0, 0, 1, 0, ...   \n",
       "\n",
       "                                               rdkit  \\\n",
       "0  [1, 0, 0, 0, 0, 1, 1, 0, 0, 0, 1, 1, 1, 1, 1, ...   \n",
       "\n",
       "                                               maccs  \\\n",
       "0  [0, 0, 0, 0, 0, 0, 0, 0, 0, 0, 0, 0, 0, 0, 0, ...   \n",
       "\n",
       "                                           chem_phys  \\\n",
       "0  {'slogp': -7.94, 'smr': 121.97, 'labute_asa': ...   \n",
       "\n",
       "                                                mhfp  \n",
       "0  [53109374, 13294028, 17313015, 13405020, 15956...  "
      ]
     },
     "execution_count": 8,
     "metadata": {},
     "output_type": "execute_result"
    }
   ],
   "source": [
    "amr_df.head(1)"
   ]
  },
  {
   "cell_type": "code",
   "execution_count": 9,
   "metadata": {},
   "outputs": [],
   "source": [
    "amr_df.to_pickle(\"../data/processed/full_data_with_fingerprints.pkl\")"
   ]
  },
  {
   "cell_type": "markdown",
   "metadata": {},
   "source": [
    "# Formatting data for each fingerprint\n",
    "\n",
    "Each fingerprint vector is now converted to bit columns i.e. one bit per column."
   ]
  },
  {
   "cell_type": "code",
   "execution_count": 11,
   "metadata": {},
   "outputs": [],
   "source": [
    "os.makedirs(\"../data/fingerprints\", exist_ok=True)"
   ]
  },
  {
   "cell_type": "markdown",
   "metadata": {},
   "source": [
    "### ECFP4"
   ]
  },
  {
   "cell_type": "code",
   "execution_count": 12,
   "metadata": {},
   "outputs": [
    {
     "data": {
      "text/plain": [
       "(77442, 3)"
      ]
     },
     "execution_count": 12,
     "metadata": {},
     "output_type": "execute_result"
    }
   ],
   "source": [
    "ecfp4_df = amr_df[['ecfp4', 'best_class', 'compound_inchikey']]\n",
    "ecfp4_df = ecfp4_df.dropna() # Drop rows with no fingerprint\n",
    "ecfp4_df.shape"
   ]
  },
  {
   "cell_type": "code",
   "execution_count": 14,
   "metadata": {},
   "outputs": [
    {
     "name": "stderr",
     "output_type": "stream",
     "text": [
      "100%|██████████| 77442/77442 [02:29<00:00, 517.06it/s]\n"
     ]
    }
   ],
   "source": [
    "data = []\n",
    "\n",
    "for ecfp_fp, best, inchikey in tqdm(ecfp4_df.values, total=ecfp4_df.shape[0]):\n",
    "    # Convert fingerprint to numpy array\n",
    "    fp = np.zeros((0,), dtype=int)\n",
    "    DataStructs.ConvertToNumpyArray(ecfp_fp, fp)\n",
    "\n",
    "    # Convert to dataframe\n",
    "    t = pd.DataFrame(fp).T\n",
    "    t.rename(columns=lambda x: \"bit\" + str(x), inplace=True)\n",
    "\n",
    "    # Add metadata\n",
    "    t['cmp_id'] = inchikey\n",
    "    t['label'] = best\n",
    "\n",
    "    data.append(t)\n",
    "\n",
    "ecfp4_dataframe = pd.concat(data, ignore_index=True)\n",
    "ecfp4_dataframe.set_index('cmp_id', inplace=True)"
   ]
  },
  {
   "cell_type": "code",
   "execution_count": 15,
   "metadata": {},
   "outputs": [],
   "source": [
    "ecfp4_dataframe.to_csv(\"../data/fingerprints/combined_ecfp4.tsv\", sep=\"\\t\")"
   ]
  },
  {
   "cell_type": "markdown",
   "metadata": {},
   "source": [
    "### RDKit"
   ]
  },
  {
   "cell_type": "code",
   "execution_count": 16,
   "metadata": {},
   "outputs": [
    {
     "data": {
      "text/plain": [
       "(77442, 3)"
      ]
     },
     "execution_count": 16,
     "metadata": {},
     "output_type": "execute_result"
    }
   ],
   "source": [
    "rdkit_df = amr_df[['rdkit', 'best_class', 'compound_inchikey']]\n",
    "rdkit_df = rdkit_df.dropna() # Drop rows with no fingerprint\n",
    "rdkit_df.shape"
   ]
  },
  {
   "cell_type": "code",
   "execution_count": 17,
   "metadata": {},
   "outputs": [
    {
     "name": "stderr",
     "output_type": "stream",
     "text": [
      "100%|██████████| 77442/77442 [02:22<00:00, 544.76it/s]\n"
     ]
    }
   ],
   "source": [
    "data = []\n",
    "\n",
    "for rdkit_fp, best, inchikey in tqdm(rdkit_df.values, total=rdkit_df.shape[0]):\n",
    "    # Convert fingerprint to numpy array\n",
    "    fp = np.zeros((0,), dtype=int)\n",
    "    DataStructs.ConvertToNumpyArray(rdkit_fp, fp)\n",
    "\n",
    "    # Convert to dataframe\n",
    "    t = pd.DataFrame(fp).T\n",
    "    t.rename(columns=lambda x: \"bit\" + str(x), inplace=True)\n",
    "\n",
    "    # Add metadata\n",
    "    t['cmp_id'] = inchikey\n",
    "    t['label'] = best\n",
    "\n",
    "    data.append(t)\n",
    "\n",
    "rdkit_dataframe = pd.concat(data, ignore_index=True)\n",
    "rdkit_dataframe.set_index('cmp_id', inplace=True)"
   ]
  },
  {
   "cell_type": "code",
   "execution_count": 18,
   "metadata": {},
   "outputs": [],
   "source": [
    "rdkit_dataframe.to_csv(\"../data/fingerprints/combined_rdkit.tsv\", sep=\"\\t\")"
   ]
  },
  {
   "cell_type": "markdown",
   "metadata": {},
   "source": [
    "### MACCS"
   ]
  },
  {
   "cell_type": "code",
   "execution_count": 19,
   "metadata": {},
   "outputs": [
    {
     "data": {
      "text/plain": [
       "(77442, 3)"
      ]
     },
     "execution_count": 19,
     "metadata": {},
     "output_type": "execute_result"
    }
   ],
   "source": [
    "maccs_df = amr_df[['maccs', 'best_class', 'compound_inchikey']]\n",
    "maccs_df = maccs_df.dropna() # Drop rows with no fingerprint\n",
    "maccs_df.shape"
   ]
  },
  {
   "cell_type": "code",
   "execution_count": 20,
   "metadata": {},
   "outputs": [
    {
     "name": "stderr",
     "output_type": "stream",
     "text": [
      "100%|██████████| 77442/77442 [01:32<00:00, 833.87it/s]\n"
     ]
    }
   ],
   "source": [
    "data = []\n",
    "\n",
    "for maccs_fp, best, inchikey in tqdm(maccs_df.values, total=maccs_df.shape[0]):\n",
    "    # Convert fingerprint to numpy array\n",
    "    fp = np.zeros((0,), dtype=int)\n",
    "    DataStructs.ConvertToNumpyArray(maccs_fp, fp)\n",
    "\n",
    "    # Convert to dataframe\n",
    "    t = pd.DataFrame(fp).T\n",
    "    t.rename(columns=lambda x: \"bit\" + str(x), inplace=True)\n",
    "\n",
    "    # Add metadata\n",
    "    t['cmp_id'] = inchikey\n",
    "    t['label'] = best\n",
    "\n",
    "    data.append(t)\n",
    "\n",
    "maccs_dataframe = pd.concat(data, ignore_index=True)\n",
    "maccs_dataframe.set_index('cmp_id', inplace=True)"
   ]
  },
  {
   "cell_type": "code",
   "execution_count": 21,
   "metadata": {},
   "outputs": [],
   "source": [
    "maccs_dataframe.to_csv(\"../data/fingerprints/combined_maccs.tsv\", sep=\"\\t\")"
   ]
  },
  {
   "cell_type": "markdown",
   "metadata": {},
   "source": [
    "### MHFP6"
   ]
  },
  {
   "cell_type": "code",
   "execution_count": 22,
   "metadata": {},
   "outputs": [
    {
     "data": {
      "text/plain": [
       "(77442, 3)"
      ]
     },
     "execution_count": 22,
     "metadata": {},
     "output_type": "execute_result"
    }
   ],
   "source": [
    "mhfp6_df = amr_df[['mhfp', 'best_class', 'compound_inchikey']]\n",
    "mhfp6_df = mhfp6_df.dropna() # Drop rows with no fingerprint\n",
    "mhfp6_df.shape"
   ]
  },
  {
   "cell_type": "code",
   "execution_count": 23,
   "metadata": {},
   "outputs": [
    {
     "name": "stderr",
     "output_type": "stream",
     "text": [
      "100%|██████████| 77442/77442 [03:30<00:00, 367.24it/s]\n"
     ]
    }
   ],
   "source": [
    "data = []\n",
    "\n",
    "for mhfp6_fp, best, inchikey in tqdm(mhfp6_df.values, total=mhfp6_df.shape[0]):\n",
    "    # Convert to dataframe\n",
    "    t = pd.DataFrame(mhfp6_fp).T\n",
    "    t.rename(columns=lambda x: \"bit\" + str(x), inplace=True)\n",
    "\n",
    "    # Add metadata\n",
    "    t['cmp_id'] = inchikey\n",
    "    t['label'] = best\n",
    "\n",
    "    data.append(t)\n",
    "\n",
    "mhfp6_dataframe = pd.concat(data, ignore_index=True)\n",
    "mhfp6_dataframe.set_index('cmp_id', inplace=True)"
   ]
  },
  {
   "cell_type": "code",
   "execution_count": 24,
   "metadata": {},
   "outputs": [],
   "source": [
    "mhfp6_dataframe.to_csv(\"../data/fingerprints/combined_mhfp6.tsv\", sep=\"\\t\")"
   ]
  },
  {
   "cell_type": "markdown",
   "metadata": {},
   "source": [
    "### ChemPhys"
   ]
  },
  {
   "cell_type": "code",
   "execution_count": 25,
   "metadata": {},
   "outputs": [
    {
     "data": {
      "text/plain": [
       "(77442, 3)"
      ]
     },
     "execution_count": 25,
     "metadata": {},
     "output_type": "execute_result"
    }
   ],
   "source": [
    "chemphys_df = amr_df[['chem_phys', 'best_class', 'compound_inchikey']]\n",
    "chemphys_df = chemphys_df.dropna() # Drop rows with no fingerprint\n",
    "chemphys_df.shape"
   ]
  },
  {
   "cell_type": "code",
   "execution_count": 26,
   "metadata": {},
   "outputs": [
    {
     "name": "stderr",
     "output_type": "stream",
     "text": [
      "100%|██████████| 77442/77442 [03:04<00:00, 419.86it/s]\n"
     ]
    }
   ],
   "source": [
    "data = []\n",
    "\n",
    "for chemphys, best, inchikey in tqdm(chemphys_df.values, total=chemphys_df.shape[0]):\n",
    "    # Convert to dataframe\n",
    "    t = pd.DataFrame([chemphys])\n",
    "\n",
    "    # Add metadata\n",
    "    t['cmp_id'] = inchikey\n",
    "    t['label'] = best\n",
    "\n",
    "    data.append(t)\n",
    "\n",
    "chemphys_dataframe = pd.concat(data, ignore_index=True)\n",
    "chemphys_dataframe.set_index('cmp_id', inplace=True)"
   ]
  },
  {
   "cell_type": "code",
   "execution_count": 27,
   "metadata": {},
   "outputs": [],
   "source": [
    "chemphys_dataframe.to_csv(\"../data/fingerprints/combined_chemphys.tsv\", sep=\"\\t\")"
   ]
  },
  {
   "cell_type": "code",
   "execution_count": null,
   "metadata": {},
   "outputs": [],
   "source": []
  }
 ],
 "metadata": {
  "kernelspec": {
   "display_name": "ml-amr",
   "language": "python",
   "name": "python3"
  },
  "language_info": {
   "codemirror_mode": {
    "name": "ipython",
    "version": 3
   },
   "file_extension": ".py",
   "mimetype": "text/x-python",
   "name": "python",
   "nbconvert_exporter": "python",
   "pygments_lexer": "ipython3",
   "version": "3.9.19"
  }
 },
 "nbformat": 4,
 "nbformat_minor": 2
}
