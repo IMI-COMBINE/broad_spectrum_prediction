{
 "cells": [
  {
   "cell_type": "markdown",
   "metadata": {},
   "source": [
    "# Fingerprint generator\n",
    "\n",
    "This notebook is used to generate the fingerprints from RDKit that are used as training data for the ML models."
   ]
  },
  {
   "cell_type": "code",
   "execution_count": 1,
   "metadata": {},
   "outputs": [],
   "source": [
    "import os\n",
    "import pandas as pd\n",
    "import numpy as np\n",
    "from tqdm import tqdm\n",
    "\n",
    "from rdkit import Chem\n",
    "from rdkit.Chem import rdFingerprintGenerator, MACCSkeys, DataStructs\n",
    "\n",
    "from mhfp.encoder import MHFPEncoder"
   ]
  },
  {
   "cell_type": "markdown",
   "metadata": {},
   "source": [
    "# Load dataset"
   ]
  },
  {
   "cell_type": "code",
   "execution_count": 2,
   "metadata": {},
   "outputs": [
    {
     "data": {
      "text/html": [
       "<div>\n",
       "<style scoped>\n",
       "    .dataframe tbody tr th:only-of-type {\n",
       "        vertical-align: middle;\n",
       "    }\n",
       "\n",
       "    .dataframe tbody tr th {\n",
       "        vertical-align: top;\n",
       "    }\n",
       "\n",
       "    .dataframe thead th {\n",
       "        text-align: right;\n",
       "    }\n",
       "</style>\n",
       "<table border=\"1\" class=\"dataframe\">\n",
       "  <thead>\n",
       "    <tr style=\"text-align: right;\">\n",
       "      <th></th>\n",
       "      <th>cmp_id</th>\n",
       "      <th>inchikey</th>\n",
       "      <th>smiles</th>\n",
       "      <th>gram-negative</th>\n",
       "      <th>gram-positive</th>\n",
       "      <th>acid-fast</th>\n",
       "      <th>best</th>\n",
       "    </tr>\n",
       "  </thead>\n",
       "  <tbody>\n",
       "    <tr>\n",
       "      <th>0</th>\n",
       "      <td>pubchem.compound:2850780</td>\n",
       "      <td>AAAFNFZYVYYALD-UHFFFAOYSA-N</td>\n",
       "      <td>COCC(C)NCc1ccc(C)cc1C</td>\n",
       "      <td>0.00</td>\n",
       "      <td>3.71</td>\n",
       "      <td>0.00</td>\n",
       "      <td>gram-positive</td>\n",
       "    </tr>\n",
       "    <tr>\n",
       "      <th>1</th>\n",
       "      <td>spark:SPK-0108052</td>\n",
       "      <td>AABJDBIUWZVBBU-UHFFFAOYSA-N</td>\n",
       "      <td>FC1=CC=CC=C1N1C=C(CN2C=NC3=CC=CC=C23)N=N1</td>\n",
       "      <td>3.40</td>\n",
       "      <td>0.00</td>\n",
       "      <td>0.00</td>\n",
       "      <td>gram-negative</td>\n",
       "    </tr>\n",
       "    <tr>\n",
       "      <th>2</th>\n",
       "      <td>chembl:CHEMBL3601596</td>\n",
       "      <td>AABKQBNCAREVSD-UHFFFAOYSA-N</td>\n",
       "      <td>Cc1ccc(C2=C(O)COC2=O)cc1</td>\n",
       "      <td>0.00</td>\n",
       "      <td>5.07</td>\n",
       "      <td>0.00</td>\n",
       "      <td>gram-positive</td>\n",
       "    </tr>\n",
       "    <tr>\n",
       "      <th>3</th>\n",
       "      <td>chembl:CHEMBL1649587</td>\n",
       "      <td>AABLZXVSOORENQ-UHFFFAOYSA-N</td>\n",
       "      <td>Nc1ncc(-c2ccc(-c3ccccc3)cc2)n1C1CCCC1</td>\n",
       "      <td>5.12</td>\n",
       "      <td>0.00</td>\n",
       "      <td>0.00</td>\n",
       "      <td>gram-negative</td>\n",
       "    </tr>\n",
       "    <tr>\n",
       "      <th>4</th>\n",
       "      <td>chembl:CHEMBL2323136</td>\n",
       "      <td>AABXXZMFZZDFMA-OJAPUXPCSA-N</td>\n",
       "      <td>CC(=O)OC[C@H]1O[C@@H](CC(=O)/C=C/c2cccc(O)c2)[...</td>\n",
       "      <td>0.00</td>\n",
       "      <td>0.00</td>\n",
       "      <td>6.06</td>\n",
       "      <td>acid-fast</td>\n",
       "    </tr>\n",
       "  </tbody>\n",
       "</table>\n",
       "</div>"
      ],
      "text/plain": [
       "                     cmp_id                     inchikey  \\\n",
       "0  pubchem.compound:2850780  AAAFNFZYVYYALD-UHFFFAOYSA-N   \n",
       "1         spark:SPK-0108052  AABJDBIUWZVBBU-UHFFFAOYSA-N   \n",
       "2      chembl:CHEMBL3601596  AABKQBNCAREVSD-UHFFFAOYSA-N   \n",
       "3      chembl:CHEMBL1649587  AABLZXVSOORENQ-UHFFFAOYSA-N   \n",
       "4      chembl:CHEMBL2323136  AABXXZMFZZDFMA-OJAPUXPCSA-N   \n",
       "\n",
       "                                              smiles  gram-negative  \\\n",
       "0                              COCC(C)NCc1ccc(C)cc1C           0.00   \n",
       "1          FC1=CC=CC=C1N1C=C(CN2C=NC3=CC=CC=C23)N=N1           3.40   \n",
       "2                           Cc1ccc(C2=C(O)COC2=O)cc1           0.00   \n",
       "3              Nc1ncc(-c2ccc(-c3ccccc3)cc2)n1C1CCCC1           5.12   \n",
       "4  CC(=O)OC[C@H]1O[C@@H](CC(=O)/C=C/c2cccc(O)c2)[...           0.00   \n",
       "\n",
       "   gram-positive  acid-fast           best  \n",
       "0           3.71       0.00  gram-positive  \n",
       "1           0.00       0.00  gram-negative  \n",
       "2           5.07       0.00  gram-positive  \n",
       "3           0.00       0.00  gram-negative  \n",
       "4           0.00       6.06      acid-fast  "
      ]
     },
     "execution_count": 2,
     "metadata": {},
     "output_type": "execute_result"
    }
   ],
   "source": [
    "amr_df = pd.read_csv(\"../data/processed/standardized_data.tsv\", sep=\"\\t\")\n",
    "amr_df.head()"
   ]
  },
  {
   "cell_type": "markdown",
   "metadata": {},
   "source": [
    "# Generate the different fingerprints"
   ]
  },
  {
   "cell_type": "code",
   "execution_count": 3,
   "metadata": {},
   "outputs": [],
   "source": [
    "mfpgen = rdFingerprintGenerator.GetMorganGenerator(radius=4, fpSize=1024) # ECFP4 fingerprint\n",
    "rdkgen = rdFingerprintGenerator.GetRDKitFPGenerator(fpSize=1024) # RDKit fingerprint"
   ]
  },
  {
   "cell_type": "code",
   "execution_count": 4,
   "metadata": {},
   "outputs": [],
   "source": [
    "# Disable warnings\n",
    "from rdkit import RDLogger\n",
    "RDLogger.DisableLog(\"rdApp.*\")"
   ]
  },
  {
   "cell_type": "code",
   "execution_count": 5,
   "metadata": {},
   "outputs": [
    {
     "name": "stderr",
     "output_type": "stream",
     "text": [
      "100%|██████████| 53909/53909 [01:57<00:00, 460.20it/s]\n"
     ]
    }
   ],
   "source": [
    "ecfp_fingerprints = []\n",
    "rdkit_fingerprints = []\n",
    "maccs_fingerprints = []\n",
    "\n",
    "for smiles in tqdm(amr_df[\"smiles\"]):\n",
    "    # Canonicalize the smiles\n",
    "    try:\n",
    "        can_smiles = Chem.CanonSmiles(smiles)\n",
    "    except:\n",
    "        can_smiles = smiles\n",
    "\n",
    "    # Generate the mol object\n",
    "    mol = Chem.MolFromSmiles(can_smiles)\n",
    "\n",
    "    if not mol:\n",
    "        ecfp_fingerprints.append(None)\n",
    "        rdkit_fingerprints.append(None)\n",
    "        maccs_fingerprints.append(None)\n",
    "        continue\n",
    "\n",
    "    ecfp_fingerprints.append(mfpgen.GetFingerprint(mol))\n",
    "    rdkit_fingerprints.append(rdkgen.GetFingerprint(mol))\n",
    "    maccs_fingerprints.append(MACCSkeys.GenMACCSKeys(mol))"
   ]
  },
  {
   "cell_type": "code",
   "execution_count": 6,
   "metadata": {},
   "outputs": [],
   "source": [
    "amr_df['ecfp4'] = ecfp_fingerprints\n",
    "amr_df['rdkit'] = rdkit_fingerprints\n",
    "amr_df['maccs'] = maccs_fingerprints"
   ]
  },
  {
   "cell_type": "code",
   "execution_count": 7,
   "metadata": {},
   "outputs": [
    {
     "name": "stderr",
     "output_type": "stream",
     "text": [
      " 16%|█▋        | 8799/53909 [00:57<04:47, 156.97it/s]/Users/yojana/anaconda3/envs/amr/lib/python3.9/site-packages/mhfp/encoder.py:297: UserWarning: The length of the shingling is 0, which results in an empty set and an all zero folded fingerprint.\n",
      "  warnings.warn(\"The length of the shingling is 0, which results in an empty set and an all zero folded fingerprint.\")\n",
      "100%|██████████| 53909/53909 [05:59<00:00, 149.93it/s]\n"
     ]
    }
   ],
   "source": [
    "# minihash fingerprint\n",
    "mhfp_encoder = MHFPEncoder()\n",
    "\n",
    "mhfp_fingerprints = []\n",
    "\n",
    "for smiles in tqdm(amr_df[\"smiles\"]):\n",
    "    # Canonicalize the smiles\n",
    "    try:\n",
    "        can_smiles = Chem.CanonSmiles(smiles)\n",
    "    except:\n",
    "        can_smiles = smiles\n",
    "\n",
    "    # Generate fingerprint\n",
    "    try:\n",
    "        fp = mhfp_encoder.encode(can_smiles)\n",
    "    except:\n",
    "        fp = None\n",
    "    \n",
    "    mhfp_fingerprints.append(fp)\n",
    "\n",
    "amr_df['mhfp'] = mhfp_fingerprints"
   ]
  },
  {
   "cell_type": "code",
   "execution_count": 8,
   "metadata": {},
   "outputs": [
    {
     "data": {
      "text/html": [
       "<div>\n",
       "<style scoped>\n",
       "    .dataframe tbody tr th:only-of-type {\n",
       "        vertical-align: middle;\n",
       "    }\n",
       "\n",
       "    .dataframe tbody tr th {\n",
       "        vertical-align: top;\n",
       "    }\n",
       "\n",
       "    .dataframe thead th {\n",
       "        text-align: right;\n",
       "    }\n",
       "</style>\n",
       "<table border=\"1\" class=\"dataframe\">\n",
       "  <thead>\n",
       "    <tr style=\"text-align: right;\">\n",
       "      <th></th>\n",
       "      <th>cmp_id</th>\n",
       "      <th>inchikey</th>\n",
       "      <th>smiles</th>\n",
       "      <th>gram-negative</th>\n",
       "      <th>gram-positive</th>\n",
       "      <th>acid-fast</th>\n",
       "      <th>best</th>\n",
       "      <th>ecfp4</th>\n",
       "      <th>rdkit</th>\n",
       "      <th>maccs</th>\n",
       "      <th>mhfp</th>\n",
       "    </tr>\n",
       "  </thead>\n",
       "  <tbody>\n",
       "    <tr>\n",
       "      <th>0</th>\n",
       "      <td>pubchem.compound:2850780</td>\n",
       "      <td>AAAFNFZYVYYALD-UHFFFAOYSA-N</td>\n",
       "      <td>COCC(C)NCc1ccc(C)cc1C</td>\n",
       "      <td>0.0</td>\n",
       "      <td>3.71</td>\n",
       "      <td>0.0</td>\n",
       "      <td>gram-positive</td>\n",
       "      <td>[0, 1, 0, 0, 0, 0, 0, 0, 0, 0, 0, 0, 0, 1, 0, ...</td>\n",
       "      <td>[0, 0, 1, 0, 1, 0, 0, 0, 0, 0, 1, 0, 0, 0, 0, ...</td>\n",
       "      <td>[0, 0, 0, 0, 0, 0, 0, 0, 0, 0, 0, 0, 0, 0, 0, ...</td>\n",
       "      <td>[113524128, 44409534, 152899168, 10679139, 584...</td>\n",
       "    </tr>\n",
       "    <tr>\n",
       "      <th>1</th>\n",
       "      <td>spark:SPK-0108052</td>\n",
       "      <td>AABJDBIUWZVBBU-UHFFFAOYSA-N</td>\n",
       "      <td>FC1=CC=CC=C1N1C=C(CN2C=NC3=CC=CC=C23)N=N1</td>\n",
       "      <td>3.4</td>\n",
       "      <td>0.00</td>\n",
       "      <td>0.0</td>\n",
       "      <td>gram-negative</td>\n",
       "      <td>[0, 0, 0, 0, 0, 0, 0, 0, 1, 0, 0, 0, 0, 0, 0, ...</td>\n",
       "      <td>[1, 1, 1, 1, 0, 1, 0, 1, 1, 1, 1, 1, 0, 1, 1, ...</td>\n",
       "      <td>[0, 0, 0, 0, 0, 0, 0, 0, 0, 0, 0, 0, 0, 0, 0, ...</td>\n",
       "      <td>[143867129, 25141730, 29077173, 111863329, 504...</td>\n",
       "    </tr>\n",
       "    <tr>\n",
       "      <th>2</th>\n",
       "      <td>chembl:CHEMBL3601596</td>\n",
       "      <td>AABKQBNCAREVSD-UHFFFAOYSA-N</td>\n",
       "      <td>Cc1ccc(C2=C(O)COC2=O)cc1</td>\n",
       "      <td>0.0</td>\n",
       "      <td>5.07</td>\n",
       "      <td>0.0</td>\n",
       "      <td>gram-positive</td>\n",
       "      <td>[0, 0, 0, 0, 0, 0, 0, 0, 0, 0, 0, 0, 0, 0, 0, ...</td>\n",
       "      <td>[0, 1, 1, 0, 0, 1, 0, 0, 1, 0, 0, 1, 0, 0, 0, ...</td>\n",
       "      <td>[0, 0, 0, 0, 0, 0, 0, 0, 0, 0, 0, 0, 0, 0, 0, ...</td>\n",
       "      <td>[19469312, 44409534, 45380089, 49283527, 58448...</td>\n",
       "    </tr>\n",
       "  </tbody>\n",
       "</table>\n",
       "</div>"
      ],
      "text/plain": [
       "                     cmp_id                     inchikey  \\\n",
       "0  pubchem.compound:2850780  AAAFNFZYVYYALD-UHFFFAOYSA-N   \n",
       "1         spark:SPK-0108052  AABJDBIUWZVBBU-UHFFFAOYSA-N   \n",
       "2      chembl:CHEMBL3601596  AABKQBNCAREVSD-UHFFFAOYSA-N   \n",
       "\n",
       "                                      smiles  gram-negative  gram-positive  \\\n",
       "0                      COCC(C)NCc1ccc(C)cc1C            0.0           3.71   \n",
       "1  FC1=CC=CC=C1N1C=C(CN2C=NC3=CC=CC=C23)N=N1            3.4           0.00   \n",
       "2                   Cc1ccc(C2=C(O)COC2=O)cc1            0.0           5.07   \n",
       "\n",
       "   acid-fast           best  \\\n",
       "0        0.0  gram-positive   \n",
       "1        0.0  gram-negative   \n",
       "2        0.0  gram-positive   \n",
       "\n",
       "                                               ecfp4  \\\n",
       "0  [0, 1, 0, 0, 0, 0, 0, 0, 0, 0, 0, 0, 0, 1, 0, ...   \n",
       "1  [0, 0, 0, 0, 0, 0, 0, 0, 1, 0, 0, 0, 0, 0, 0, ...   \n",
       "2  [0, 0, 0, 0, 0, 0, 0, 0, 0, 0, 0, 0, 0, 0, 0, ...   \n",
       "\n",
       "                                               rdkit  \\\n",
       "0  [0, 0, 1, 0, 1, 0, 0, 0, 0, 0, 1, 0, 0, 0, 0, ...   \n",
       "1  [1, 1, 1, 1, 0, 1, 0, 1, 1, 1, 1, 1, 0, 1, 1, ...   \n",
       "2  [0, 1, 1, 0, 0, 1, 0, 0, 1, 0, 0, 1, 0, 0, 0, ...   \n",
       "\n",
       "                                               maccs  \\\n",
       "0  [0, 0, 0, 0, 0, 0, 0, 0, 0, 0, 0, 0, 0, 0, 0, ...   \n",
       "1  [0, 0, 0, 0, 0, 0, 0, 0, 0, 0, 0, 0, 0, 0, 0, ...   \n",
       "2  [0, 0, 0, 0, 0, 0, 0, 0, 0, 0, 0, 0, 0, 0, 0, ...   \n",
       "\n",
       "                                                mhfp  \n",
       "0  [113524128, 44409534, 152899168, 10679139, 584...  \n",
       "1  [143867129, 25141730, 29077173, 111863329, 504...  \n",
       "2  [19469312, 44409534, 45380089, 49283527, 58448...  "
      ]
     },
     "execution_count": 8,
     "metadata": {},
     "output_type": "execute_result"
    }
   ],
   "source": [
    "amr_df.head(3)"
   ]
  },
  {
   "cell_type": "code",
   "execution_count": 9,
   "metadata": {},
   "outputs": [],
   "source": [
    "amr_df.to_pickle(\"../data/processed/standardized_with_fingerprints.pkl\")"
   ]
  },
  {
   "cell_type": "markdown",
   "metadata": {},
   "source": [
    "# Formatting data for each fingerprint\n",
    "\n",
    "Each fingerprint vector is now converted to bit columns i.e. one bit per column."
   ]
  },
  {
   "cell_type": "code",
   "execution_count": 10,
   "metadata": {},
   "outputs": [],
   "source": [
    "os.makedirs(\"../data/fingerprints\", exist_ok=True)"
   ]
  },
  {
   "cell_type": "markdown",
   "metadata": {},
   "source": [
    "### ECFP4"
   ]
  },
  {
   "cell_type": "code",
   "execution_count": 11,
   "metadata": {},
   "outputs": [
    {
     "data": {
      "text/plain": [
       "(53900, 3)"
      ]
     },
     "execution_count": 11,
     "metadata": {},
     "output_type": "execute_result"
    }
   ],
   "source": [
    "ecfp4_df = amr_df[['cmp_id', 'ecfp4', 'best']]\n",
    "ecfp4_df = ecfp4_df.dropna() # Drop rows with no fingerprint\n",
    "ecfp4_df.shape"
   ]
  },
  {
   "cell_type": "code",
   "execution_count": 12,
   "metadata": {},
   "outputs": [
    {
     "name": "stderr",
     "output_type": "stream",
     "text": [
      "100%|██████████| 53900/53900 [00:23<00:00, 2342.22it/s]\n"
     ]
    }
   ],
   "source": [
    "data = []\n",
    "\n",
    "for idx, ecfp_fp, best in tqdm(ecfp4_df.values):\n",
    "    # Convert fingerprint to numpy array\n",
    "    fp = np.zeros((0,), dtype=int)\n",
    "    DataStructs.ConvertToNumpyArray(ecfp_fp, fp)\n",
    "\n",
    "    # Convert to dataframe\n",
    "    t = pd.DataFrame(fp).T\n",
    "    t.rename(columns=lambda x: \"bit\" + str(x), inplace=True)\n",
    "\n",
    "    # Add metadata\n",
    "    t['cmp_id'] = idx\n",
    "    t['label'] = best\n",
    "\n",
    "    data.append(t)\n",
    "\n",
    "ecfp4_dataframe = pd.concat(data, ignore_index=True)\n",
    "ecfp4_dataframe.set_index('cmp_id', inplace=True)"
   ]
  },
  {
   "cell_type": "code",
   "execution_count": 13,
   "metadata": {},
   "outputs": [],
   "source": [
    "ecfp4_dataframe.to_csv(\"../data/fingerprints/ecfp4.tsv\", sep=\"\\t\")"
   ]
  },
  {
   "cell_type": "markdown",
   "metadata": {},
   "source": [
    "### RDKit"
   ]
  },
  {
   "cell_type": "code",
   "execution_count": 14,
   "metadata": {},
   "outputs": [
    {
     "data": {
      "text/plain": [
       "(53900, 3)"
      ]
     },
     "execution_count": 14,
     "metadata": {},
     "output_type": "execute_result"
    }
   ],
   "source": [
    "rdkit_df = amr_df[['cmp_id', 'rdkit', 'best']]\n",
    "rdkit_df = rdkit_df.dropna() # Drop rows with no fingerprint\n",
    "rdkit_df.shape"
   ]
  },
  {
   "cell_type": "code",
   "execution_count": 15,
   "metadata": {},
   "outputs": [
    {
     "name": "stderr",
     "output_type": "stream",
     "text": [
      "100%|██████████| 53900/53900 [00:22<00:00, 2386.92it/s]\n"
     ]
    }
   ],
   "source": [
    "data = []\n",
    "\n",
    "for idx, rdkit_fp, best in tqdm(rdkit_df.values):\n",
    "    # Convert fingerprint to numpy array\n",
    "    fp = np.zeros((0,), dtype=int)\n",
    "    DataStructs.ConvertToNumpyArray(rdkit_fp, fp)\n",
    "\n",
    "    # Convert to dataframe\n",
    "    t = pd.DataFrame(fp).T\n",
    "    t.rename(columns=lambda x: \"bit\" + str(x), inplace=True)\n",
    "\n",
    "    # Add metadata\n",
    "    t['cmp_id'] = idx\n",
    "    t['label'] = best\n",
    "\n",
    "    data.append(t)\n",
    "\n",
    "rdkit_dataframe = pd.concat(data, ignore_index=True)\n",
    "rdkit_dataframe.set_index('cmp_id', inplace=True)"
   ]
  },
  {
   "cell_type": "code",
   "execution_count": 16,
   "metadata": {},
   "outputs": [],
   "source": [
    "rdkit_dataframe.to_csv(\"../data/fingerprints/rdkit.tsv\", sep=\"\\t\")"
   ]
  },
  {
   "cell_type": "markdown",
   "metadata": {},
   "source": [
    "### MACCS"
   ]
  },
  {
   "cell_type": "code",
   "execution_count": 17,
   "metadata": {},
   "outputs": [
    {
     "data": {
      "text/plain": [
       "(53900, 3)"
      ]
     },
     "execution_count": 17,
     "metadata": {},
     "output_type": "execute_result"
    }
   ],
   "source": [
    "maccs_df = amr_df[['cmp_id', 'maccs', 'best']]\n",
    "maccs_df = maccs_df.dropna() # Drop rows with no fingerprint\n",
    "maccs_df.shape"
   ]
  },
  {
   "cell_type": "code",
   "execution_count": 18,
   "metadata": {},
   "outputs": [
    {
     "name": "stderr",
     "output_type": "stream",
     "text": [
      "100%|██████████| 53900/53900 [00:13<00:00, 4111.36it/s]\n"
     ]
    }
   ],
   "source": [
    "data = []\n",
    "\n",
    "for idx, maccs_fp, best in tqdm(maccs_df.values):\n",
    "    # Convert fingerprint to numpy array\n",
    "    fp = np.zeros((0,), dtype=int)\n",
    "    DataStructs.ConvertToNumpyArray(maccs_fp, fp)\n",
    "\n",
    "    # Convert to dataframe\n",
    "    t = pd.DataFrame(fp).T\n",
    "    t.rename(columns=lambda x: \"bit\" + str(x), inplace=True)\n",
    "\n",
    "    # Add metadata\n",
    "    t['cmp_id'] = idx\n",
    "    t['label'] = best\n",
    "\n",
    "    data.append(t)\n",
    "\n",
    "maccs_dataframe = pd.concat(data, ignore_index=True)\n",
    "maccs_dataframe.set_index('cmp_id', inplace=True)"
   ]
  },
  {
   "cell_type": "code",
   "execution_count": 19,
   "metadata": {},
   "outputs": [],
   "source": [
    "maccs_dataframe.to_csv(\"../data/fingerprints/maccs.tsv\", sep=\"\\t\")"
   ]
  },
  {
   "cell_type": "markdown",
   "metadata": {},
   "source": [
    "### MHFP6"
   ]
  },
  {
   "cell_type": "code",
   "execution_count": 20,
   "metadata": {},
   "outputs": [
    {
     "data": {
      "text/plain": [
       "(53900, 3)"
      ]
     },
     "execution_count": 20,
     "metadata": {},
     "output_type": "execute_result"
    }
   ],
   "source": [
    "mhfp6_df = amr_df[['cmp_id', 'mhfp', 'best']]\n",
    "mhfp6_df = mhfp6_df.dropna() # Drop rows with no fingerprint\n",
    "mhfp6_df.shape"
   ]
  },
  {
   "cell_type": "code",
   "execution_count": 21,
   "metadata": {},
   "outputs": [
    {
     "name": "stderr",
     "output_type": "stream",
     "text": [
      "100%|██████████| 53900/53900 [00:31<00:00, 1720.75it/s]\n"
     ]
    }
   ],
   "source": [
    "data = []\n",
    "\n",
    "for idx, mhfp6_fp, best in tqdm(mhfp6_df.values):\n",
    "    # Convert to dataframe\n",
    "    t = pd.DataFrame(mhfp6_fp).T\n",
    "    t.rename(columns=lambda x: \"bit\" + str(x), inplace=True)\n",
    "\n",
    "    # Add metadata\n",
    "    t['cmp_id'] = idx\n",
    "    t['label'] = best\n",
    "\n",
    "    data.append(t)\n",
    "\n",
    "mhfp6_dataframe = pd.concat(data, ignore_index=True)\n",
    "mhfp6_dataframe.set_index('cmp_id', inplace=True)"
   ]
  },
  {
   "cell_type": "code",
   "execution_count": 22,
   "metadata": {},
   "outputs": [],
   "source": [
    "mhfp6_dataframe.to_csv(\"../data/fingerprints/mhfp6.tsv\", sep=\"\\t\")"
   ]
  }
 ],
 "metadata": {
  "kernelspec": {
   "display_name": "amr",
   "language": "python",
   "name": "python3"
  },
  "language_info": {
   "codemirror_mode": {
    "name": "ipython",
    "version": 3
   },
   "file_extension": ".py",
   "mimetype": "text/x-python",
   "name": "python",
   "nbconvert_exporter": "python",
   "pygments_lexer": "ipython3",
   "version": "3.9.18"
  }
 },
 "nbformat": 4,
 "nbformat_minor": 2
}
