{
 "cells": [
  {
   "cell_type": "markdown",
   "metadata": {},
   "source": [
    "# Deep dive into results\n",
    "\n",
    "Analysing what the true positive rate for the predictions is."
   ]
  },
  {
   "cell_type": "code",
   "execution_count": 1,
   "metadata": {},
   "outputs": [],
   "source": [
    "import warnings\n",
    "\n",
    "warnings.simplefilter(action=\"ignore\", category=FutureWarning)"
   ]
  },
  {
   "cell_type": "code",
   "execution_count": 2,
   "metadata": {},
   "outputs": [],
   "source": [
    "import pandas as pd\n",
    "from rdkit import Chem\n",
    "from tqdm import tqdm\n",
    "import plotly.express as px\n",
    "\n",
    "from matplotlib_venn import venn3_unweighted\n",
    "import matplotlib.pyplot as plt\n",
    "import seaborn as sns\n",
    "\n",
    "pd.options.mode.chained_assignment = None  # default='warn'"
   ]
  },
  {
   "cell_type": "markdown",
   "metadata": {},
   "source": [
    "# Load datasets"
   ]
  },
  {
   "cell_type": "code",
   "execution_count": 3,
   "metadata": {},
   "outputs": [
    {
     "data": {
      "text/html": [
       "<div>\n",
       "<style scoped>\n",
       "    .dataframe tbody tr th:only-of-type {\n",
       "        vertical-align: middle;\n",
       "    }\n",
       "\n",
       "    .dataframe tbody tr th {\n",
       "        vertical-align: top;\n",
       "    }\n",
       "\n",
       "    .dataframe thead th {\n",
       "        text-align: right;\n",
       "    }\n",
       "</style>\n",
       "<table border=\"1\" class=\"dataframe\">\n",
       "  <thead>\n",
       "    <tr style=\"text-align: right;\">\n",
       "      <th></th>\n",
       "      <th>eos</th>\n",
       "      <th>smiles</th>\n",
       "      <th>Pseudomonas_aeruginosa_activity</th>\n",
       "      <th>Pseudomonas_aeruginosa_value</th>\n",
       "      <th>Candida_auris_activity</th>\n",
       "      <th>Candida_auris_value</th>\n",
       "      <th>Enterococcus_faecalis_activity</th>\n",
       "      <th>Enterococcus_faecalis_value</th>\n",
       "      <th>Escherichia_coli_activity</th>\n",
       "      <th>Escherichia_coli_value</th>\n",
       "      <th>Aspergillus_fumigatus_activity</th>\n",
       "      <th>Aspergillus_fumigatus_value</th>\n",
       "      <th>Candida_albicans_activity</th>\n",
       "      <th>Candida_albicans_value</th>\n",
       "      <th>Staphylococcus_aureus_activity</th>\n",
       "      <th>Staphylococcus_aureus_value</th>\n",
       "      <th>mhfp6</th>\n",
       "      <th>prediction</th>\n",
       "      <th>probability</th>\n",
       "    </tr>\n",
       "  </thead>\n",
       "  <tbody>\n",
       "    <tr>\n",
       "      <th>0</th>\n",
       "      <td>EOS82284</td>\n",
       "      <td>OC(Cn1cncn1)(Cn1cncn1)c1ccc(F)cc1F</td>\n",
       "      <td>inactive</td>\n",
       "      <td>-4.11</td>\n",
       "      <td>inconclusive</td>\n",
       "      <td>63.4</td>\n",
       "      <td>inactive</td>\n",
       "      <td>-20.8</td>\n",
       "      <td>inactive</td>\n",
       "      <td>-4.91</td>\n",
       "      <td>inactive</td>\n",
       "      <td>-31.7</td>\n",
       "      <td>inactive</td>\n",
       "      <td>1.75</td>\n",
       "      <td>inactive</td>\n",
       "      <td>-0.55</td>\n",
       "      <td>[297691353  76444608  30417937 ...  84759602  ...</td>\n",
       "      <td>fungi</td>\n",
       "      <td>0.955887</td>\n",
       "    </tr>\n",
       "    <tr>\n",
       "      <th>1</th>\n",
       "      <td>EOS11458</td>\n",
       "      <td>COc1ccc(C(=O)Nc2ccc(C)cc2)cc1OC</td>\n",
       "      <td>inactive</td>\n",
       "      <td>-6.49</td>\n",
       "      <td>inactive</td>\n",
       "      <td>27.8</td>\n",
       "      <td>inactive</td>\n",
       "      <td>-0.5</td>\n",
       "      <td>inactive</td>\n",
       "      <td>-4.83</td>\n",
       "      <td>inactive</td>\n",
       "      <td>-25.6</td>\n",
       "      <td>inactive</td>\n",
       "      <td>-6.30</td>\n",
       "      <td>inactive</td>\n",
       "      <td>7.90</td>\n",
       "      <td>[355394601  44409534 127404489 ...  67864610  ...</td>\n",
       "      <td>fungi</td>\n",
       "      <td>0.955829</td>\n",
       "    </tr>\n",
       "  </tbody>\n",
       "</table>\n",
       "</div>"
      ],
      "text/plain": [
       "        eos                              smiles  \\\n",
       "0  EOS82284  OC(Cn1cncn1)(Cn1cncn1)c1ccc(F)cc1F   \n",
       "1  EOS11458     COc1ccc(C(=O)Nc2ccc(C)cc2)cc1OC   \n",
       "\n",
       "  Pseudomonas_aeruginosa_activity  Pseudomonas_aeruginosa_value  \\\n",
       "0                        inactive                         -4.11   \n",
       "1                        inactive                         -6.49   \n",
       "\n",
       "  Candida_auris_activity  Candida_auris_value Enterococcus_faecalis_activity  \\\n",
       "0           inconclusive                 63.4                       inactive   \n",
       "1               inactive                 27.8                       inactive   \n",
       "\n",
       "   Enterococcus_faecalis_value Escherichia_coli_activity  \\\n",
       "0                        -20.8                  inactive   \n",
       "1                         -0.5                  inactive   \n",
       "\n",
       "   Escherichia_coli_value Aspergillus_fumigatus_activity  \\\n",
       "0                   -4.91                       inactive   \n",
       "1                   -4.83                       inactive   \n",
       "\n",
       "   Aspergillus_fumigatus_value Candida_albicans_activity  \\\n",
       "0                        -31.7                  inactive   \n",
       "1                        -25.6                  inactive   \n",
       "\n",
       "   Candida_albicans_value Staphylococcus_aureus_activity  \\\n",
       "0                    1.75                       inactive   \n",
       "1                   -6.30                       inactive   \n",
       "\n",
       "   Staphylococcus_aureus_value  \\\n",
       "0                        -0.55   \n",
       "1                         7.90   \n",
       "\n",
       "                                               mhfp6 prediction  probability  \n",
       "0  [297691353  76444608  30417937 ...  84759602  ...      fungi     0.955887  \n",
       "1  [355394601  44409534 127404489 ...  67864610  ...      fungi     0.955829  "
      ]
     },
     "execution_count": 3,
     "metadata": {},
     "output_type": "execute_result"
    }
   ],
   "source": [
    "ecbl_df = pd.read_csv(\"../data/predictions/euos_ecbl_predictions.csv\")\n",
    "ecbl_df.head(2)"
   ]
  },
  {
   "cell_type": "code",
   "execution_count": 4,
   "metadata": {},
   "outputs": [
    {
     "data": {
      "text/html": [
       "<div>\n",
       "<style scoped>\n",
       "    .dataframe tbody tr th:only-of-type {\n",
       "        vertical-align: middle;\n",
       "    }\n",
       "\n",
       "    .dataframe tbody tr th {\n",
       "        vertical-align: top;\n",
       "    }\n",
       "\n",
       "    .dataframe thead th {\n",
       "        text-align: right;\n",
       "    }\n",
       "</style>\n",
       "<table border=\"1\" class=\"dataframe\">\n",
       "  <thead>\n",
       "    <tr style=\"text-align: right;\">\n",
       "      <th></th>\n",
       "      <th>eos</th>\n",
       "      <th>smiles</th>\n",
       "      <th>Pseudomonas_aeruginosa_activity</th>\n",
       "      <th>Pseudomonas_aeruginosa_value</th>\n",
       "      <th>Candida_auris_activity</th>\n",
       "      <th>Candida_auris_value</th>\n",
       "      <th>Enterococcus_faecalis_activity</th>\n",
       "      <th>Enterococcus_faecalis_value</th>\n",
       "      <th>Escherichia_coli_activity</th>\n",
       "      <th>Escherichia_coli_value</th>\n",
       "      <th>Aspergillus_fumigatus_activity</th>\n",
       "      <th>Aspergillus_fumigatus_value</th>\n",
       "      <th>Candida_albicans_activity</th>\n",
       "      <th>Candida_albicans_value</th>\n",
       "      <th>Staphylococcus_aureus_activity</th>\n",
       "      <th>Staphylococcus_aureus_value</th>\n",
       "      <th>mhfp6</th>\n",
       "      <th>prediction</th>\n",
       "      <th>probability</th>\n",
       "    </tr>\n",
       "  </thead>\n",
       "  <tbody>\n",
       "    <tr>\n",
       "      <th>0</th>\n",
       "      <td>EOS102228</td>\n",
       "      <td>Cl.Cl.NCCCCCCCCN</td>\n",
       "      <td>inactive</td>\n",
       "      <td>-6.89</td>\n",
       "      <td>inactive</td>\n",
       "      <td>12.233333</td>\n",
       "      <td>inactive</td>\n",
       "      <td>-4.7</td>\n",
       "      <td>inactive</td>\n",
       "      <td>-12.17</td>\n",
       "      <td>inactive</td>\n",
       "      <td>-17.0</td>\n",
       "      <td>inactive</td>\n",
       "      <td>-16.95</td>\n",
       "      <td>inactive</td>\n",
       "      <td>10.95</td>\n",
       "      <td>[461248215  33988699 706189559 ... 231087554  ...</td>\n",
       "      <td>acid-fast</td>\n",
       "      <td>1.000000</td>\n",
       "    </tr>\n",
       "    <tr>\n",
       "      <th>1</th>\n",
       "      <td>EOS100708</td>\n",
       "      <td>CN(C/C=C/C#CC(C)(C)C)Cc1cccc2ccccc12.Cl</td>\n",
       "      <td>inactive</td>\n",
       "      <td>-0.17</td>\n",
       "      <td>active</td>\n",
       "      <td>71.800000</td>\n",
       "      <td>inactive</td>\n",
       "      <td>-22.3</td>\n",
       "      <td>inactive</td>\n",
       "      <td>-5.59</td>\n",
       "      <td>active</td>\n",
       "      <td>97.2</td>\n",
       "      <td>inconclusive</td>\n",
       "      <td>52.90</td>\n",
       "      <td>inactive</td>\n",
       "      <td>12.00</td>\n",
       "      <td>[123358859  33988699  63689098 ...  21856680 1...</td>\n",
       "      <td>fungi</td>\n",
       "      <td>0.999477</td>\n",
       "    </tr>\n",
       "  </tbody>\n",
       "</table>\n",
       "</div>"
      ],
      "text/plain": [
       "         eos                                   smiles  \\\n",
       "0  EOS102228                         Cl.Cl.NCCCCCCCCN   \n",
       "1  EOS100708  CN(C/C=C/C#CC(C)(C)C)Cc1cccc2ccccc12.Cl   \n",
       "\n",
       "  Pseudomonas_aeruginosa_activity  Pseudomonas_aeruginosa_value  \\\n",
       "0                        inactive                         -6.89   \n",
       "1                        inactive                         -0.17   \n",
       "\n",
       "  Candida_auris_activity  Candida_auris_value Enterococcus_faecalis_activity  \\\n",
       "0               inactive            12.233333                       inactive   \n",
       "1                 active            71.800000                       inactive   \n",
       "\n",
       "   Enterococcus_faecalis_value Escherichia_coli_activity  \\\n",
       "0                         -4.7                  inactive   \n",
       "1                        -22.3                  inactive   \n",
       "\n",
       "   Escherichia_coli_value Aspergillus_fumigatus_activity  \\\n",
       "0                  -12.17                       inactive   \n",
       "1                   -5.59                         active   \n",
       "\n",
       "   Aspergillus_fumigatus_value Candida_albicans_activity  \\\n",
       "0                        -17.0                  inactive   \n",
       "1                         97.2              inconclusive   \n",
       "\n",
       "   Candida_albicans_value Staphylococcus_aureus_activity  \\\n",
       "0                  -16.95                       inactive   \n",
       "1                   52.90                       inactive   \n",
       "\n",
       "   Staphylococcus_aureus_value  \\\n",
       "0                        10.95   \n",
       "1                        12.00   \n",
       "\n",
       "                                               mhfp6 prediction  probability  \n",
       "0  [461248215  33988699 706189559 ... 231087554  ...  acid-fast     1.000000  \n",
       "1  [123358859  33988699  63689098 ...  21856680 1...      fungi     0.999477  "
      ]
     },
     "execution_count": 4,
     "metadata": {},
     "output_type": "execute_result"
    }
   ],
   "source": [
    "bioactive_df = pd.read_csv(\"../data/predictions/euos_biactive_predictions.csv\")\n",
    "bioactive_df.head(2)"
   ]
  },
  {
   "cell_type": "code",
   "execution_count": 5,
   "metadata": {},
   "outputs": [],
   "source": [
    "def get_prediction_distribution(df):\n",
    "    pred_dict = {}\n",
    "\n",
    "    for eos_id, pred in tqdm(df[[\"eos\", \"prediction\"]].values):\n",
    "        if pred not in pred_dict:\n",
    "            pred_dict[pred] = set()\n",
    "        pred_dict[pred].add(eos_id)\n",
    "\n",
    "    fig = px.pie(\n",
    "        values=[len(v) for v in pred_dict.values()],\n",
    "        names=[k for k in pred_dict.keys()],\n",
    "    )\n",
    "    fig.show()"
   ]
  },
  {
   "cell_type": "code",
   "execution_count": 6,
   "metadata": {},
   "outputs": [
    {
     "name": "stderr",
     "output_type": "stream",
     "text": [
      "100%|██████████| 96092/96092 [00:00<00:00, 2022141.36it/s]\n"
     ]
    },
    {
     "data": {
      "application/vnd.plotly.v1+json": {
       "config": {
        "plotlyServerURL": "https://plot.ly"
       },
       "data": [
        {
         "domain": {
          "x": [
           0,
           1
          ],
          "y": [
           0,
           1
          ]
         },
         "hovertemplate": "label=%{label}<br>value=%{value}<extra></extra>",
         "labels": [
          "fungi",
          "gram-negative",
          "inactive",
          "gram-positive",
          "acid-fast"
         ],
         "legendgroup": "",
         "name": "",
         "showlegend": true,
         "type": "pie",
         "values": [
          1475,
          951,
          87331,
          3739,
          2596
         ]
        }
       ],
       "layout": {
        "legend": {
         "tracegroupgap": 0
        },
        "margin": {
         "t": 60
        },
        "template": {
         "data": {
          "bar": [
           {
            "error_x": {
             "color": "#2a3f5f"
            },
            "error_y": {
             "color": "#2a3f5f"
            },
            "marker": {
             "line": {
              "color": "#E5ECF6",
              "width": 0.5
             },
             "pattern": {
              "fillmode": "overlay",
              "size": 10,
              "solidity": 0.2
             }
            },
            "type": "bar"
           }
          ],
          "barpolar": [
           {
            "marker": {
             "line": {
              "color": "#E5ECF6",
              "width": 0.5
             },
             "pattern": {
              "fillmode": "overlay",
              "size": 10,
              "solidity": 0.2
             }
            },
            "type": "barpolar"
           }
          ],
          "carpet": [
           {
            "aaxis": {
             "endlinecolor": "#2a3f5f",
             "gridcolor": "white",
             "linecolor": "white",
             "minorgridcolor": "white",
             "startlinecolor": "#2a3f5f"
            },
            "baxis": {
             "endlinecolor": "#2a3f5f",
             "gridcolor": "white",
             "linecolor": "white",
             "minorgridcolor": "white",
             "startlinecolor": "#2a3f5f"
            },
            "type": "carpet"
           }
          ],
          "choropleth": [
           {
            "colorbar": {
             "outlinewidth": 0,
             "ticks": ""
            },
            "type": "choropleth"
           }
          ],
          "contour": [
           {
            "colorbar": {
             "outlinewidth": 0,
             "ticks": ""
            },
            "colorscale": [
             [
              0,
              "#0d0887"
             ],
             [
              0.1111111111111111,
              "#46039f"
             ],
             [
              0.2222222222222222,
              "#7201a8"
             ],
             [
              0.3333333333333333,
              "#9c179e"
             ],
             [
              0.4444444444444444,
              "#bd3786"
             ],
             [
              0.5555555555555556,
              "#d8576b"
             ],
             [
              0.6666666666666666,
              "#ed7953"
             ],
             [
              0.7777777777777778,
              "#fb9f3a"
             ],
             [
              0.8888888888888888,
              "#fdca26"
             ],
             [
              1,
              "#f0f921"
             ]
            ],
            "type": "contour"
           }
          ],
          "contourcarpet": [
           {
            "colorbar": {
             "outlinewidth": 0,
             "ticks": ""
            },
            "type": "contourcarpet"
           }
          ],
          "heatmap": [
           {
            "colorbar": {
             "outlinewidth": 0,
             "ticks": ""
            },
            "colorscale": [
             [
              0,
              "#0d0887"
             ],
             [
              0.1111111111111111,
              "#46039f"
             ],
             [
              0.2222222222222222,
              "#7201a8"
             ],
             [
              0.3333333333333333,
              "#9c179e"
             ],
             [
              0.4444444444444444,
              "#bd3786"
             ],
             [
              0.5555555555555556,
              "#d8576b"
             ],
             [
              0.6666666666666666,
              "#ed7953"
             ],
             [
              0.7777777777777778,
              "#fb9f3a"
             ],
             [
              0.8888888888888888,
              "#fdca26"
             ],
             [
              1,
              "#f0f921"
             ]
            ],
            "type": "heatmap"
           }
          ],
          "heatmapgl": [
           {
            "colorbar": {
             "outlinewidth": 0,
             "ticks": ""
            },
            "colorscale": [
             [
              0,
              "#0d0887"
             ],
             [
              0.1111111111111111,
              "#46039f"
             ],
             [
              0.2222222222222222,
              "#7201a8"
             ],
             [
              0.3333333333333333,
              "#9c179e"
             ],
             [
              0.4444444444444444,
              "#bd3786"
             ],
             [
              0.5555555555555556,
              "#d8576b"
             ],
             [
              0.6666666666666666,
              "#ed7953"
             ],
             [
              0.7777777777777778,
              "#fb9f3a"
             ],
             [
              0.8888888888888888,
              "#fdca26"
             ],
             [
              1,
              "#f0f921"
             ]
            ],
            "type": "heatmapgl"
           }
          ],
          "histogram": [
           {
            "marker": {
             "pattern": {
              "fillmode": "overlay",
              "size": 10,
              "solidity": 0.2
             }
            },
            "type": "histogram"
           }
          ],
          "histogram2d": [
           {
            "colorbar": {
             "outlinewidth": 0,
             "ticks": ""
            },
            "colorscale": [
             [
              0,
              "#0d0887"
             ],
             [
              0.1111111111111111,
              "#46039f"
             ],
             [
              0.2222222222222222,
              "#7201a8"
             ],
             [
              0.3333333333333333,
              "#9c179e"
             ],
             [
              0.4444444444444444,
              "#bd3786"
             ],
             [
              0.5555555555555556,
              "#d8576b"
             ],
             [
              0.6666666666666666,
              "#ed7953"
             ],
             [
              0.7777777777777778,
              "#fb9f3a"
             ],
             [
              0.8888888888888888,
              "#fdca26"
             ],
             [
              1,
              "#f0f921"
             ]
            ],
            "type": "histogram2d"
           }
          ],
          "histogram2dcontour": [
           {
            "colorbar": {
             "outlinewidth": 0,
             "ticks": ""
            },
            "colorscale": [
             [
              0,
              "#0d0887"
             ],
             [
              0.1111111111111111,
              "#46039f"
             ],
             [
              0.2222222222222222,
              "#7201a8"
             ],
             [
              0.3333333333333333,
              "#9c179e"
             ],
             [
              0.4444444444444444,
              "#bd3786"
             ],
             [
              0.5555555555555556,
              "#d8576b"
             ],
             [
              0.6666666666666666,
              "#ed7953"
             ],
             [
              0.7777777777777778,
              "#fb9f3a"
             ],
             [
              0.8888888888888888,
              "#fdca26"
             ],
             [
              1,
              "#f0f921"
             ]
            ],
            "type": "histogram2dcontour"
           }
          ],
          "mesh3d": [
           {
            "colorbar": {
             "outlinewidth": 0,
             "ticks": ""
            },
            "type": "mesh3d"
           }
          ],
          "parcoords": [
           {
            "line": {
             "colorbar": {
              "outlinewidth": 0,
              "ticks": ""
             }
            },
            "type": "parcoords"
           }
          ],
          "pie": [
           {
            "automargin": true,
            "type": "pie"
           }
          ],
          "scatter": [
           {
            "fillpattern": {
             "fillmode": "overlay",
             "size": 10,
             "solidity": 0.2
            },
            "type": "scatter"
           }
          ],
          "scatter3d": [
           {
            "line": {
             "colorbar": {
              "outlinewidth": 0,
              "ticks": ""
             }
            },
            "marker": {
             "colorbar": {
              "outlinewidth": 0,
              "ticks": ""
             }
            },
            "type": "scatter3d"
           }
          ],
          "scattercarpet": [
           {
            "marker": {
             "colorbar": {
              "outlinewidth": 0,
              "ticks": ""
             }
            },
            "type": "scattercarpet"
           }
          ],
          "scattergeo": [
           {
            "marker": {
             "colorbar": {
              "outlinewidth": 0,
              "ticks": ""
             }
            },
            "type": "scattergeo"
           }
          ],
          "scattergl": [
           {
            "marker": {
             "colorbar": {
              "outlinewidth": 0,
              "ticks": ""
             }
            },
            "type": "scattergl"
           }
          ],
          "scattermapbox": [
           {
            "marker": {
             "colorbar": {
              "outlinewidth": 0,
              "ticks": ""
             }
            },
            "type": "scattermapbox"
           }
          ],
          "scatterpolar": [
           {
            "marker": {
             "colorbar": {
              "outlinewidth": 0,
              "ticks": ""
             }
            },
            "type": "scatterpolar"
           }
          ],
          "scatterpolargl": [
           {
            "marker": {
             "colorbar": {
              "outlinewidth": 0,
              "ticks": ""
             }
            },
            "type": "scatterpolargl"
           }
          ],
          "scatterternary": [
           {
            "marker": {
             "colorbar": {
              "outlinewidth": 0,
              "ticks": ""
             }
            },
            "type": "scatterternary"
           }
          ],
          "surface": [
           {
            "colorbar": {
             "outlinewidth": 0,
             "ticks": ""
            },
            "colorscale": [
             [
              0,
              "#0d0887"
             ],
             [
              0.1111111111111111,
              "#46039f"
             ],
             [
              0.2222222222222222,
              "#7201a8"
             ],
             [
              0.3333333333333333,
              "#9c179e"
             ],
             [
              0.4444444444444444,
              "#bd3786"
             ],
             [
              0.5555555555555556,
              "#d8576b"
             ],
             [
              0.6666666666666666,
              "#ed7953"
             ],
             [
              0.7777777777777778,
              "#fb9f3a"
             ],
             [
              0.8888888888888888,
              "#fdca26"
             ],
             [
              1,
              "#f0f921"
             ]
            ],
            "type": "surface"
           }
          ],
          "table": [
           {
            "cells": {
             "fill": {
              "color": "#EBF0F8"
             },
             "line": {
              "color": "white"
             }
            },
            "header": {
             "fill": {
              "color": "#C8D4E3"
             },
             "line": {
              "color": "white"
             }
            },
            "type": "table"
           }
          ]
         },
         "layout": {
          "annotationdefaults": {
           "arrowcolor": "#2a3f5f",
           "arrowhead": 0,
           "arrowwidth": 1
          },
          "autotypenumbers": "strict",
          "coloraxis": {
           "colorbar": {
            "outlinewidth": 0,
            "ticks": ""
           }
          },
          "colorscale": {
           "diverging": [
            [
             0,
             "#8e0152"
            ],
            [
             0.1,
             "#c51b7d"
            ],
            [
             0.2,
             "#de77ae"
            ],
            [
             0.3,
             "#f1b6da"
            ],
            [
             0.4,
             "#fde0ef"
            ],
            [
             0.5,
             "#f7f7f7"
            ],
            [
             0.6,
             "#e6f5d0"
            ],
            [
             0.7,
             "#b8e186"
            ],
            [
             0.8,
             "#7fbc41"
            ],
            [
             0.9,
             "#4d9221"
            ],
            [
             1,
             "#276419"
            ]
           ],
           "sequential": [
            [
             0,
             "#0d0887"
            ],
            [
             0.1111111111111111,
             "#46039f"
            ],
            [
             0.2222222222222222,
             "#7201a8"
            ],
            [
             0.3333333333333333,
             "#9c179e"
            ],
            [
             0.4444444444444444,
             "#bd3786"
            ],
            [
             0.5555555555555556,
             "#d8576b"
            ],
            [
             0.6666666666666666,
             "#ed7953"
            ],
            [
             0.7777777777777778,
             "#fb9f3a"
            ],
            [
             0.8888888888888888,
             "#fdca26"
            ],
            [
             1,
             "#f0f921"
            ]
           ],
           "sequentialminus": [
            [
             0,
             "#0d0887"
            ],
            [
             0.1111111111111111,
             "#46039f"
            ],
            [
             0.2222222222222222,
             "#7201a8"
            ],
            [
             0.3333333333333333,
             "#9c179e"
            ],
            [
             0.4444444444444444,
             "#bd3786"
            ],
            [
             0.5555555555555556,
             "#d8576b"
            ],
            [
             0.6666666666666666,
             "#ed7953"
            ],
            [
             0.7777777777777778,
             "#fb9f3a"
            ],
            [
             0.8888888888888888,
             "#fdca26"
            ],
            [
             1,
             "#f0f921"
            ]
           ]
          },
          "colorway": [
           "#636efa",
           "#EF553B",
           "#00cc96",
           "#ab63fa",
           "#FFA15A",
           "#19d3f3",
           "#FF6692",
           "#B6E880",
           "#FF97FF",
           "#FECB52"
          ],
          "font": {
           "color": "#2a3f5f"
          },
          "geo": {
           "bgcolor": "white",
           "lakecolor": "white",
           "landcolor": "#E5ECF6",
           "showlakes": true,
           "showland": true,
           "subunitcolor": "white"
          },
          "hoverlabel": {
           "align": "left"
          },
          "hovermode": "closest",
          "mapbox": {
           "style": "light"
          },
          "paper_bgcolor": "white",
          "plot_bgcolor": "#E5ECF6",
          "polar": {
           "angularaxis": {
            "gridcolor": "white",
            "linecolor": "white",
            "ticks": ""
           },
           "bgcolor": "#E5ECF6",
           "radialaxis": {
            "gridcolor": "white",
            "linecolor": "white",
            "ticks": ""
           }
          },
          "scene": {
           "xaxis": {
            "backgroundcolor": "#E5ECF6",
            "gridcolor": "white",
            "gridwidth": 2,
            "linecolor": "white",
            "showbackground": true,
            "ticks": "",
            "zerolinecolor": "white"
           },
           "yaxis": {
            "backgroundcolor": "#E5ECF6",
            "gridcolor": "white",
            "gridwidth": 2,
            "linecolor": "white",
            "showbackground": true,
            "ticks": "",
            "zerolinecolor": "white"
           },
           "zaxis": {
            "backgroundcolor": "#E5ECF6",
            "gridcolor": "white",
            "gridwidth": 2,
            "linecolor": "white",
            "showbackground": true,
            "ticks": "",
            "zerolinecolor": "white"
           }
          },
          "shapedefaults": {
           "line": {
            "color": "#2a3f5f"
           }
          },
          "ternary": {
           "aaxis": {
            "gridcolor": "white",
            "linecolor": "white",
            "ticks": ""
           },
           "baxis": {
            "gridcolor": "white",
            "linecolor": "white",
            "ticks": ""
           },
           "bgcolor": "#E5ECF6",
           "caxis": {
            "gridcolor": "white",
            "linecolor": "white",
            "ticks": ""
           }
          },
          "title": {
           "x": 0.05
          },
          "xaxis": {
           "automargin": true,
           "gridcolor": "white",
           "linecolor": "white",
           "ticks": "",
           "title": {
            "standoff": 15
           },
           "zerolinecolor": "white",
           "zerolinewidth": 2
          },
          "yaxis": {
           "automargin": true,
           "gridcolor": "white",
           "linecolor": "white",
           "ticks": "",
           "title": {
            "standoff": 15
           },
           "zerolinecolor": "white",
           "zerolinewidth": 2
          }
         }
        }
       }
      }
     },
     "metadata": {},
     "output_type": "display_data"
    }
   ],
   "source": [
    "get_prediction_distribution(ecbl_df)"
   ]
  },
  {
   "cell_type": "code",
   "execution_count": 7,
   "metadata": {},
   "outputs": [
    {
     "name": "stderr",
     "output_type": "stream",
     "text": [
      "100%|██████████| 4927/4927 [00:00<00:00, 1690692.61it/s]\n"
     ]
    },
    {
     "data": {
      "application/vnd.plotly.v1+json": {
       "config": {
        "plotlyServerURL": "https://plot.ly"
       },
       "data": [
        {
         "domain": {
          "x": [
           0,
           1
          ],
          "y": [
           0,
           1
          ]
         },
         "hovertemplate": "label=%{label}<br>value=%{value}<extra></extra>",
         "labels": [
          "acid-fast",
          "fungi",
          "gram-negative",
          "gram-positive",
          "inactive"
         ],
         "legendgroup": "",
         "name": "",
         "showlegend": true,
         "type": "pie",
         "values": [
          154,
          98,
          105,
          540,
          4030
         ]
        }
       ],
       "layout": {
        "legend": {
         "tracegroupgap": 0
        },
        "margin": {
         "t": 60
        },
        "template": {
         "data": {
          "bar": [
           {
            "error_x": {
             "color": "#2a3f5f"
            },
            "error_y": {
             "color": "#2a3f5f"
            },
            "marker": {
             "line": {
              "color": "#E5ECF6",
              "width": 0.5
             },
             "pattern": {
              "fillmode": "overlay",
              "size": 10,
              "solidity": 0.2
             }
            },
            "type": "bar"
           }
          ],
          "barpolar": [
           {
            "marker": {
             "line": {
              "color": "#E5ECF6",
              "width": 0.5
             },
             "pattern": {
              "fillmode": "overlay",
              "size": 10,
              "solidity": 0.2
             }
            },
            "type": "barpolar"
           }
          ],
          "carpet": [
           {
            "aaxis": {
             "endlinecolor": "#2a3f5f",
             "gridcolor": "white",
             "linecolor": "white",
             "minorgridcolor": "white",
             "startlinecolor": "#2a3f5f"
            },
            "baxis": {
             "endlinecolor": "#2a3f5f",
             "gridcolor": "white",
             "linecolor": "white",
             "minorgridcolor": "white",
             "startlinecolor": "#2a3f5f"
            },
            "type": "carpet"
           }
          ],
          "choropleth": [
           {
            "colorbar": {
             "outlinewidth": 0,
             "ticks": ""
            },
            "type": "choropleth"
           }
          ],
          "contour": [
           {
            "colorbar": {
             "outlinewidth": 0,
             "ticks": ""
            },
            "colorscale": [
             [
              0,
              "#0d0887"
             ],
             [
              0.1111111111111111,
              "#46039f"
             ],
             [
              0.2222222222222222,
              "#7201a8"
             ],
             [
              0.3333333333333333,
              "#9c179e"
             ],
             [
              0.4444444444444444,
              "#bd3786"
             ],
             [
              0.5555555555555556,
              "#d8576b"
             ],
             [
              0.6666666666666666,
              "#ed7953"
             ],
             [
              0.7777777777777778,
              "#fb9f3a"
             ],
             [
              0.8888888888888888,
              "#fdca26"
             ],
             [
              1,
              "#f0f921"
             ]
            ],
            "type": "contour"
           }
          ],
          "contourcarpet": [
           {
            "colorbar": {
             "outlinewidth": 0,
             "ticks": ""
            },
            "type": "contourcarpet"
           }
          ],
          "heatmap": [
           {
            "colorbar": {
             "outlinewidth": 0,
             "ticks": ""
            },
            "colorscale": [
             [
              0,
              "#0d0887"
             ],
             [
              0.1111111111111111,
              "#46039f"
             ],
             [
              0.2222222222222222,
              "#7201a8"
             ],
             [
              0.3333333333333333,
              "#9c179e"
             ],
             [
              0.4444444444444444,
              "#bd3786"
             ],
             [
              0.5555555555555556,
              "#d8576b"
             ],
             [
              0.6666666666666666,
              "#ed7953"
             ],
             [
              0.7777777777777778,
              "#fb9f3a"
             ],
             [
              0.8888888888888888,
              "#fdca26"
             ],
             [
              1,
              "#f0f921"
             ]
            ],
            "type": "heatmap"
           }
          ],
          "heatmapgl": [
           {
            "colorbar": {
             "outlinewidth": 0,
             "ticks": ""
            },
            "colorscale": [
             [
              0,
              "#0d0887"
             ],
             [
              0.1111111111111111,
              "#46039f"
             ],
             [
              0.2222222222222222,
              "#7201a8"
             ],
             [
              0.3333333333333333,
              "#9c179e"
             ],
             [
              0.4444444444444444,
              "#bd3786"
             ],
             [
              0.5555555555555556,
              "#d8576b"
             ],
             [
              0.6666666666666666,
              "#ed7953"
             ],
             [
              0.7777777777777778,
              "#fb9f3a"
             ],
             [
              0.8888888888888888,
              "#fdca26"
             ],
             [
              1,
              "#f0f921"
             ]
            ],
            "type": "heatmapgl"
           }
          ],
          "histogram": [
           {
            "marker": {
             "pattern": {
              "fillmode": "overlay",
              "size": 10,
              "solidity": 0.2
             }
            },
            "type": "histogram"
           }
          ],
          "histogram2d": [
           {
            "colorbar": {
             "outlinewidth": 0,
             "ticks": ""
            },
            "colorscale": [
             [
              0,
              "#0d0887"
             ],
             [
              0.1111111111111111,
              "#46039f"
             ],
             [
              0.2222222222222222,
              "#7201a8"
             ],
             [
              0.3333333333333333,
              "#9c179e"
             ],
             [
              0.4444444444444444,
              "#bd3786"
             ],
             [
              0.5555555555555556,
              "#d8576b"
             ],
             [
              0.6666666666666666,
              "#ed7953"
             ],
             [
              0.7777777777777778,
              "#fb9f3a"
             ],
             [
              0.8888888888888888,
              "#fdca26"
             ],
             [
              1,
              "#f0f921"
             ]
            ],
            "type": "histogram2d"
           }
          ],
          "histogram2dcontour": [
           {
            "colorbar": {
             "outlinewidth": 0,
             "ticks": ""
            },
            "colorscale": [
             [
              0,
              "#0d0887"
             ],
             [
              0.1111111111111111,
              "#46039f"
             ],
             [
              0.2222222222222222,
              "#7201a8"
             ],
             [
              0.3333333333333333,
              "#9c179e"
             ],
             [
              0.4444444444444444,
              "#bd3786"
             ],
             [
              0.5555555555555556,
              "#d8576b"
             ],
             [
              0.6666666666666666,
              "#ed7953"
             ],
             [
              0.7777777777777778,
              "#fb9f3a"
             ],
             [
              0.8888888888888888,
              "#fdca26"
             ],
             [
              1,
              "#f0f921"
             ]
            ],
            "type": "histogram2dcontour"
           }
          ],
          "mesh3d": [
           {
            "colorbar": {
             "outlinewidth": 0,
             "ticks": ""
            },
            "type": "mesh3d"
           }
          ],
          "parcoords": [
           {
            "line": {
             "colorbar": {
              "outlinewidth": 0,
              "ticks": ""
             }
            },
            "type": "parcoords"
           }
          ],
          "pie": [
           {
            "automargin": true,
            "type": "pie"
           }
          ],
          "scatter": [
           {
            "fillpattern": {
             "fillmode": "overlay",
             "size": 10,
             "solidity": 0.2
            },
            "type": "scatter"
           }
          ],
          "scatter3d": [
           {
            "line": {
             "colorbar": {
              "outlinewidth": 0,
              "ticks": ""
             }
            },
            "marker": {
             "colorbar": {
              "outlinewidth": 0,
              "ticks": ""
             }
            },
            "type": "scatter3d"
           }
          ],
          "scattercarpet": [
           {
            "marker": {
             "colorbar": {
              "outlinewidth": 0,
              "ticks": ""
             }
            },
            "type": "scattercarpet"
           }
          ],
          "scattergeo": [
           {
            "marker": {
             "colorbar": {
              "outlinewidth": 0,
              "ticks": ""
             }
            },
            "type": "scattergeo"
           }
          ],
          "scattergl": [
           {
            "marker": {
             "colorbar": {
              "outlinewidth": 0,
              "ticks": ""
             }
            },
            "type": "scattergl"
           }
          ],
          "scattermapbox": [
           {
            "marker": {
             "colorbar": {
              "outlinewidth": 0,
              "ticks": ""
             }
            },
            "type": "scattermapbox"
           }
          ],
          "scatterpolar": [
           {
            "marker": {
             "colorbar": {
              "outlinewidth": 0,
              "ticks": ""
             }
            },
            "type": "scatterpolar"
           }
          ],
          "scatterpolargl": [
           {
            "marker": {
             "colorbar": {
              "outlinewidth": 0,
              "ticks": ""
             }
            },
            "type": "scatterpolargl"
           }
          ],
          "scatterternary": [
           {
            "marker": {
             "colorbar": {
              "outlinewidth": 0,
              "ticks": ""
             }
            },
            "type": "scatterternary"
           }
          ],
          "surface": [
           {
            "colorbar": {
             "outlinewidth": 0,
             "ticks": ""
            },
            "colorscale": [
             [
              0,
              "#0d0887"
             ],
             [
              0.1111111111111111,
              "#46039f"
             ],
             [
              0.2222222222222222,
              "#7201a8"
             ],
             [
              0.3333333333333333,
              "#9c179e"
             ],
             [
              0.4444444444444444,
              "#bd3786"
             ],
             [
              0.5555555555555556,
              "#d8576b"
             ],
             [
              0.6666666666666666,
              "#ed7953"
             ],
             [
              0.7777777777777778,
              "#fb9f3a"
             ],
             [
              0.8888888888888888,
              "#fdca26"
             ],
             [
              1,
              "#f0f921"
             ]
            ],
            "type": "surface"
           }
          ],
          "table": [
           {
            "cells": {
             "fill": {
              "color": "#EBF0F8"
             },
             "line": {
              "color": "white"
             }
            },
            "header": {
             "fill": {
              "color": "#C8D4E3"
             },
             "line": {
              "color": "white"
             }
            },
            "type": "table"
           }
          ]
         },
         "layout": {
          "annotationdefaults": {
           "arrowcolor": "#2a3f5f",
           "arrowhead": 0,
           "arrowwidth": 1
          },
          "autotypenumbers": "strict",
          "coloraxis": {
           "colorbar": {
            "outlinewidth": 0,
            "ticks": ""
           }
          },
          "colorscale": {
           "diverging": [
            [
             0,
             "#8e0152"
            ],
            [
             0.1,
             "#c51b7d"
            ],
            [
             0.2,
             "#de77ae"
            ],
            [
             0.3,
             "#f1b6da"
            ],
            [
             0.4,
             "#fde0ef"
            ],
            [
             0.5,
             "#f7f7f7"
            ],
            [
             0.6,
             "#e6f5d0"
            ],
            [
             0.7,
             "#b8e186"
            ],
            [
             0.8,
             "#7fbc41"
            ],
            [
             0.9,
             "#4d9221"
            ],
            [
             1,
             "#276419"
            ]
           ],
           "sequential": [
            [
             0,
             "#0d0887"
            ],
            [
             0.1111111111111111,
             "#46039f"
            ],
            [
             0.2222222222222222,
             "#7201a8"
            ],
            [
             0.3333333333333333,
             "#9c179e"
            ],
            [
             0.4444444444444444,
             "#bd3786"
            ],
            [
             0.5555555555555556,
             "#d8576b"
            ],
            [
             0.6666666666666666,
             "#ed7953"
            ],
            [
             0.7777777777777778,
             "#fb9f3a"
            ],
            [
             0.8888888888888888,
             "#fdca26"
            ],
            [
             1,
             "#f0f921"
            ]
           ],
           "sequentialminus": [
            [
             0,
             "#0d0887"
            ],
            [
             0.1111111111111111,
             "#46039f"
            ],
            [
             0.2222222222222222,
             "#7201a8"
            ],
            [
             0.3333333333333333,
             "#9c179e"
            ],
            [
             0.4444444444444444,
             "#bd3786"
            ],
            [
             0.5555555555555556,
             "#d8576b"
            ],
            [
             0.6666666666666666,
             "#ed7953"
            ],
            [
             0.7777777777777778,
             "#fb9f3a"
            ],
            [
             0.8888888888888888,
             "#fdca26"
            ],
            [
             1,
             "#f0f921"
            ]
           ]
          },
          "colorway": [
           "#636efa",
           "#EF553B",
           "#00cc96",
           "#ab63fa",
           "#FFA15A",
           "#19d3f3",
           "#FF6692",
           "#B6E880",
           "#FF97FF",
           "#FECB52"
          ],
          "font": {
           "color": "#2a3f5f"
          },
          "geo": {
           "bgcolor": "white",
           "lakecolor": "white",
           "landcolor": "#E5ECF6",
           "showlakes": true,
           "showland": true,
           "subunitcolor": "white"
          },
          "hoverlabel": {
           "align": "left"
          },
          "hovermode": "closest",
          "mapbox": {
           "style": "light"
          },
          "paper_bgcolor": "white",
          "plot_bgcolor": "#E5ECF6",
          "polar": {
           "angularaxis": {
            "gridcolor": "white",
            "linecolor": "white",
            "ticks": ""
           },
           "bgcolor": "#E5ECF6",
           "radialaxis": {
            "gridcolor": "white",
            "linecolor": "white",
            "ticks": ""
           }
          },
          "scene": {
           "xaxis": {
            "backgroundcolor": "#E5ECF6",
            "gridcolor": "white",
            "gridwidth": 2,
            "linecolor": "white",
            "showbackground": true,
            "ticks": "",
            "zerolinecolor": "white"
           },
           "yaxis": {
            "backgroundcolor": "#E5ECF6",
            "gridcolor": "white",
            "gridwidth": 2,
            "linecolor": "white",
            "showbackground": true,
            "ticks": "",
            "zerolinecolor": "white"
           },
           "zaxis": {
            "backgroundcolor": "#E5ECF6",
            "gridcolor": "white",
            "gridwidth": 2,
            "linecolor": "white",
            "showbackground": true,
            "ticks": "",
            "zerolinecolor": "white"
           }
          },
          "shapedefaults": {
           "line": {
            "color": "#2a3f5f"
           }
          },
          "ternary": {
           "aaxis": {
            "gridcolor": "white",
            "linecolor": "white",
            "ticks": ""
           },
           "baxis": {
            "gridcolor": "white",
            "linecolor": "white",
            "ticks": ""
           },
           "bgcolor": "#E5ECF6",
           "caxis": {
            "gridcolor": "white",
            "linecolor": "white",
            "ticks": ""
           }
          },
          "title": {
           "x": 0.05
          },
          "xaxis": {
           "automargin": true,
           "gridcolor": "white",
           "linecolor": "white",
           "ticks": "",
           "title": {
            "standoff": 15
           },
           "zerolinecolor": "white",
           "zerolinewidth": 2
          },
          "yaxis": {
           "automargin": true,
           "gridcolor": "white",
           "linecolor": "white",
           "ticks": "",
           "title": {
            "standoff": 15
           },
           "zerolinecolor": "white",
           "zerolinewidth": 2
          }
         }
        }
       }
      }
     },
     "metadata": {},
     "output_type": "display_data"
    }
   ],
   "source": [
    "get_prediction_distribution(bioactive_df)"
   ]
  },
  {
   "cell_type": "code",
   "execution_count": 8,
   "metadata": {},
   "outputs": [],
   "source": [
    "def get_activity_distribution(df, library_name, title):\n",
    "    act_dict = []\n",
    "\n",
    "    orgs = {\n",
    "        \"Staphylococcus_aureus\": \"gram-positive\",\n",
    "        \"Pseudomonas_aeruginosa\": \"gram-negative\",\n",
    "        \"Candida_auris\": \"fungi\",\n",
    "        \"Enterococcus_faecalis\": \"gram-positive\",\n",
    "        \"Aspergillus_fumigatus\": \"fungi\",\n",
    "        \"Candida_albicans\": \"fungi\",\n",
    "        \"Escherichia_coli\": \"gram-negative\",\n",
    "    }\n",
    "\n",
    "    val_cols = [f\"{col}_value\" for col in orgs.keys()]\n",
    "\n",
    "    for val, org in zip(val_cols, orgs.keys()):\n",
    "        tmp = df[[\"eos\", val]].dropna()\n",
    "        tmp[\"activity\"] = tmp[val].apply(lambda x: \"Active\" if x >= 50 else \"Inactive\")\n",
    "        tmp_act_dict = tmp[\"activity\"].value_counts().to_dict()\n",
    "        tmp_act_dict[\"organism\"] = \" \".join(org.split(\"_\"))\n",
    "        tmp_act_dict[\"organism_type\"] = orgs[org]\n",
    "        act_dict.append(tmp_act_dict)\n",
    "\n",
    "    act_df = pd.DataFrame(act_dict)\n",
    "    act_df = act_df.set_index(\"organism\")\n",
    "\n",
    "    total = act_df.select_dtypes(include=\"number\").sum(axis=1)\n",
    "    act_df[\"total\"] = total\n",
    "    act_df[\"active_percentage\"] = (act_df[\"Active\"] / act_df[\"total\"]) * 100\n",
    "    act_df[\"active_percentage\"] = act_df[\"active_percentage\"].round(2)\n",
    "    act_df.sort_values(by=\"active_percentage\", ascending=False, inplace=True)\n",
    "\n",
    "    plt.figure(figsize=(20, 10))\n",
    "    sns.barplot(\n",
    "        data=act_df,\n",
    "        x=act_df.index,\n",
    "        y=\"active_percentage\",\n",
    "        color=\"#ffb266\",\n",
    "        label=\"Active percentage\",\n",
    "        estimator=sum,\n",
    "    )\n",
    "\n",
    "    # add counts on the top of the bars\n",
    "    for i in range(len(act_df)):\n",
    "        plt.text(\n",
    "            i,\n",
    "            act_df[\"active_percentage\"][i],\n",
    "            f\"{act_df['active_percentage'][i]} %\",\n",
    "            ha=\"center\",\n",
    "            va=\"bottom\",\n",
    "            fontsize=16,\n",
    "        )\n",
    "    plt.xlabel(\"Pathogen\", fontsize=18)\n",
    "    plt.ylabel(\"Active percentage\", fontsize=18)\n",
    "    plt.xticks(rotation=45, fontsize=16)\n",
    "    plt.yticks(fontsize=16)\n",
    "    plt.title(f\"Activity distribution of {library_name} compounds\", fontsize=20)\n",
    "    plt.tight_layout()\n",
    "    plt.savefig(f\"../figures/{title}.png\", dpi=400)\n",
    "    plt.show()\n",
    "    return act_df"
   ]
  },
  {
   "cell_type": "code",
   "execution_count": 9,
   "metadata": {},
   "outputs": [
    {
     "data": {
      "image/png": "[encoded data removed]",
      "text/plain": [
       "<Figure size 2000x1000 with 1 Axes>"
      ]
     },
     "metadata": {},
     "output_type": "display_data"
    }
   ],
   "source": [
    "df_1 = get_activity_distribution(ecbl_df, title=\"figure_8\", library_name=\"ECBL\")"
   ]
  },
  {
   "cell_type": "code",
   "execution_count": 10,
   "metadata": {},
   "outputs": [
    {
     "data": {
      "text/html": [
       "<div>\n",
       "<style scoped>\n",
       "    .dataframe tbody tr th:only-of-type {\n",
       "        vertical-align: middle;\n",
       "    }\n",
       "\n",
       "    .dataframe tbody tr th {\n",
       "        vertical-align: top;\n",
       "    }\n",
       "\n",
       "    .dataframe thead th {\n",
       "        text-align: right;\n",
       "    }\n",
       "</style>\n",
       "<table border=\"1\" class=\"dataframe\">\n",
       "  <thead>\n",
       "    <tr style=\"text-align: right;\">\n",
       "      <th></th>\n",
       "      <th>Inactive</th>\n",
       "      <th>Active</th>\n",
       "      <th>organism_type</th>\n",
       "      <th>total</th>\n",
       "      <th>active_percentage</th>\n",
       "    </tr>\n",
       "    <tr>\n",
       "      <th>organism</th>\n",
       "      <th></th>\n",
       "      <th></th>\n",
       "      <th></th>\n",
       "      <th></th>\n",
       "      <th></th>\n",
       "    </tr>\n",
       "  </thead>\n",
       "  <tbody>\n",
       "    <tr>\n",
       "      <th>Candida auris</th>\n",
       "      <td>49.507047</td>\n",
       "      <td>0.492696</td>\n",
       "      <td>fungi</td>\n",
       "      <td>96002</td>\n",
       "      <td>0.99</td>\n",
       "    </tr>\n",
       "    <tr>\n",
       "      <th>Aspergillus fumigatus</th>\n",
       "      <td>49.896878</td>\n",
       "      <td>0.103067</td>\n",
       "      <td>fungi</td>\n",
       "      <td>96054</td>\n",
       "      <td>0.21</td>\n",
       "    </tr>\n",
       "    <tr>\n",
       "      <th>Candida albicans</th>\n",
       "      <td>49.931724</td>\n",
       "      <td>0.068239</td>\n",
       "      <td>fungi</td>\n",
       "      <td>95986</td>\n",
       "      <td>0.14</td>\n",
       "    </tr>\n",
       "    <tr>\n",
       "      <th>Escherichia coli</th>\n",
       "      <td>49.986462</td>\n",
       "      <td>0.013530</td>\n",
       "      <td>gram-negative</td>\n",
       "      <td>96082</td>\n",
       "      <td>0.03</td>\n",
       "    </tr>\n",
       "    <tr>\n",
       "      <th>Pseudomonas aeruginosa</th>\n",
       "      <td>49.999480</td>\n",
       "      <td>0.000520</td>\n",
       "      <td>gram-negative</td>\n",
       "      <td>96062</td>\n",
       "      <td>0.00</td>\n",
       "    </tr>\n",
       "    <tr>\n",
       "      <th>Staphylococcus aureus</th>\n",
       "      <td>49.487416</td>\n",
       "      <td>0.512318</td>\n",
       "      <td>gram-positive</td>\n",
       "      <td>95936</td>\n",
       "      <td>1.02</td>\n",
       "    </tr>\n",
       "    <tr>\n",
       "      <th>Enterococcus faecalis</th>\n",
       "      <td>49.982271</td>\n",
       "      <td>0.017718</td>\n",
       "      <td>gram-positive</td>\n",
       "      <td>95946</td>\n",
       "      <td>0.04</td>\n",
       "    </tr>\n",
       "  </tbody>\n",
       "</table>\n",
       "</div>"
      ],
      "text/plain": [
       "                         Inactive    Active  organism_type  total  \\\n",
       "organism                                                            \n",
       "Candida auris           49.507047  0.492696          fungi  96002   \n",
       "Aspergillus fumigatus   49.896878  0.103067          fungi  96054   \n",
       "Candida albicans        49.931724  0.068239          fungi  95986   \n",
       "Escherichia coli        49.986462  0.013530  gram-negative  96082   \n",
       "Pseudomonas aeruginosa  49.999480  0.000520  gram-negative  96062   \n",
       "Staphylococcus aureus   49.487416  0.512318  gram-positive  95936   \n",
       "Enterococcus faecalis   49.982271  0.017718  gram-positive  95946   \n",
       "\n",
       "                        active_percentage  \n",
       "organism                                   \n",
       "Candida auris                        0.99  \n",
       "Aspergillus fumigatus                0.21  \n",
       "Candida albicans                     0.14  \n",
       "Escherichia coli                     0.03  \n",
       "Pseudomonas aeruginosa               0.00  \n",
       "Staphylococcus aureus                1.02  \n",
       "Enterococcus faecalis                0.04  "
      ]
     },
     "execution_count": 10,
     "metadata": {},
     "output_type": "execute_result"
    }
   ],
   "source": [
    "# normalize the values row-wise\n",
    "df_1[\"sum\"] = df_1.select_dtypes(include=\"number\").sum(axis=1)\n",
    "df_1[\"Inactive\"] = df_1[\"Inactive\"].div(df_1[\"sum\"], axis=0) * 100\n",
    "df_1[\"Active\"] = df_1[\"Active\"].div(df_1[\"sum\"], axis=0) * 100\n",
    "df_1 = df_1.drop(columns=[\"sum\"])\n",
    "df_1.sort_values(by=\"organism_type\")"
   ]
  },
  {
   "cell_type": "code",
   "execution_count": 11,
   "metadata": {},
   "outputs": [
    {
     "data": {
      "image/png": "[encoded data removed]",
      "text/plain": [
       "<Figure size 2000x1000 with 1 Axes>"
      ]
     },
     "metadata": {},
     "output_type": "display_data"
    }
   ],
   "source": [
    "df_2 = get_activity_distribution(\n",
    "    bioactive_df, title=\"figure_9\", library_name=\"Bioactive\"\n",
    ")"
   ]
  },
  {
   "cell_type": "code",
   "execution_count": 12,
   "metadata": {},
   "outputs": [
    {
     "data": {
      "text/html": [
       "<div>\n",
       "<style scoped>\n",
       "    .dataframe tbody tr th:only-of-type {\n",
       "        vertical-align: middle;\n",
       "    }\n",
       "\n",
       "    .dataframe tbody tr th {\n",
       "        vertical-align: top;\n",
       "    }\n",
       "\n",
       "    .dataframe thead th {\n",
       "        text-align: right;\n",
       "    }\n",
       "</style>\n",
       "<table border=\"1\" class=\"dataframe\">\n",
       "  <thead>\n",
       "    <tr style=\"text-align: right;\">\n",
       "      <th></th>\n",
       "      <th>Inactive</th>\n",
       "      <th>Active</th>\n",
       "      <th>organism_type</th>\n",
       "      <th>total</th>\n",
       "      <th>active_percentage</th>\n",
       "    </tr>\n",
       "    <tr>\n",
       "      <th>organism</th>\n",
       "      <th></th>\n",
       "      <th></th>\n",
       "      <th></th>\n",
       "      <th></th>\n",
       "      <th></th>\n",
       "    </tr>\n",
       "  </thead>\n",
       "  <tbody>\n",
       "    <tr>\n",
       "      <th>Candida auris</th>\n",
       "      <td>47.179629</td>\n",
       "      <td>2.791994</td>\n",
       "      <td>fungi</td>\n",
       "      <td>4922</td>\n",
       "      <td>5.59</td>\n",
       "    </tr>\n",
       "    <tr>\n",
       "      <th>Aspergillus fumigatus</th>\n",
       "      <td>48.513137</td>\n",
       "      <td>1.471941</td>\n",
       "      <td>fungi</td>\n",
       "      <td>4924</td>\n",
       "      <td>2.94</td>\n",
       "    </tr>\n",
       "    <tr>\n",
       "      <th>Candida albicans</th>\n",
       "      <td>48.769145</td>\n",
       "      <td>1.218467</td>\n",
       "      <td>fungi</td>\n",
       "      <td>4923</td>\n",
       "      <td>2.44</td>\n",
       "    </tr>\n",
       "    <tr>\n",
       "      <th>Escherichia coli</th>\n",
       "      <td>49.466541</td>\n",
       "      <td>0.528076</td>\n",
       "      <td>gram-negative</td>\n",
       "      <td>4923</td>\n",
       "      <td>1.06</td>\n",
       "    </tr>\n",
       "    <tr>\n",
       "      <th>Pseudomonas aeruginosa</th>\n",
       "      <td>49.866758</td>\n",
       "      <td>0.131923</td>\n",
       "      <td>gram-negative</td>\n",
       "      <td>4927</td>\n",
       "      <td>0.26</td>\n",
       "    </tr>\n",
       "    <tr>\n",
       "      <th>Staphylococcus aureus</th>\n",
       "      <td>46.793471</td>\n",
       "      <td>3.174330</td>\n",
       "      <td>gram-positive</td>\n",
       "      <td>4927</td>\n",
       "      <td>6.35</td>\n",
       "    </tr>\n",
       "    <tr>\n",
       "      <th>Enterococcus faecalis</th>\n",
       "      <td>48.738130</td>\n",
       "      <td>1.249175</td>\n",
       "      <td>gram-positive</td>\n",
       "      <td>4922</td>\n",
       "      <td>2.50</td>\n",
       "    </tr>\n",
       "  </tbody>\n",
       "</table>\n",
       "</div>"
      ],
      "text/plain": [
       "                         Inactive    Active  organism_type  total  \\\n",
       "organism                                                            \n",
       "Candida auris           47.179629  2.791994          fungi   4922   \n",
       "Aspergillus fumigatus   48.513137  1.471941          fungi   4924   \n",
       "Candida albicans        48.769145  1.218467          fungi   4923   \n",
       "Escherichia coli        49.466541  0.528076  gram-negative   4923   \n",
       "Pseudomonas aeruginosa  49.866758  0.131923  gram-negative   4927   \n",
       "Staphylococcus aureus   46.793471  3.174330  gram-positive   4927   \n",
       "Enterococcus faecalis   48.738130  1.249175  gram-positive   4922   \n",
       "\n",
       "                        active_percentage  \n",
       "organism                                   \n",
       "Candida auris                        5.59  \n",
       "Aspergillus fumigatus                2.94  \n",
       "Candida albicans                     2.44  \n",
       "Escherichia coli                     1.06  \n",
       "Pseudomonas aeruginosa               0.26  \n",
       "Staphylococcus aureus                6.35  \n",
       "Enterococcus faecalis                2.50  "
      ]
     },
     "execution_count": 12,
     "metadata": {},
     "output_type": "execute_result"
    }
   ],
   "source": [
    "# normalize the values row-wise\n",
    "df_2[\"sum\"] = df_2.select_dtypes(include=\"number\").sum(axis=1)\n",
    "df_2[\"Inactive\"] = df_2[\"Inactive\"].div(df_2[\"sum\"], axis=0) * 100\n",
    "df_2[\"Active\"] = df_2[\"Active\"].div(df_2[\"sum\"], axis=0) * 100\n",
    "df_2 = df_2.drop(columns=[\"sum\"])\n",
    "df_2.sort_values(by=\"organism_type\")"
   ]
  },
  {
   "cell_type": "markdown",
   "metadata": {},
   "source": [
    "# Evaluating the prediction rate"
   ]
  },
  {
   "cell_type": "code",
   "execution_count": 13,
   "metadata": {},
   "outputs": [],
   "source": [
    "def get_prediction_accuracy_by_strain(df):\n",
    "    orgs = {\n",
    "        \"Staphylococcus_aureus\": \"gram-positive\",\n",
    "        \"Pseudomonas_aeruginosa\": \"gram-negative\",\n",
    "        \"Candida_auris\": \"fungi\",\n",
    "        \"Enterococcus_faecalis\": \"gram-positive\",\n",
    "        \"Aspergillus_fumigatus\": \"fungi\",\n",
    "        \"Candida_albicans\": \"fungi\",\n",
    "        \"Escherichia_coli\": \"gram-negative\",\n",
    "    }\n",
    "\n",
    "    val_cols = [f\"{col}_value\" for col in orgs.keys()]\n",
    "\n",
    "    t = []\n",
    "\n",
    "    for val_col_name, org in zip(val_cols, orgs):\n",
    "        ecbl_subset_custom = df[[val_col_name, \"prediction\"]]\n",
    "\n",
    "        # Custom thresholding for bioactive\n",
    "        ecbl_subset_custom[\"exp_vals\"] = ecbl_subset_custom[val_col_name].apply(\n",
    "            lambda x: \"Active\" if x >= 50 else \"Inactive\"\n",
    "        )\n",
    "\n",
    "        # Model binary prediction\n",
    "        ecbl_subset_custom[\"model_pred\"] = ecbl_subset_custom[\"prediction\"].apply(\n",
    "            lambda x: \"Active\" if x == orgs[org] else \"Inactive\"\n",
    "        )\n",
    "\n",
    "        # Exp vals\n",
    "        exp_actives = ecbl_subset_custom[\n",
    "            ecbl_subset_custom[\"exp_vals\"] == \"Active\"\n",
    "        ].shape[0]\n",
    "\n",
    "        # Calculate accuracy\n",
    "        ecbl_subset_custom[\"correct\"] = (\n",
    "            ecbl_subset_custom[\"exp_vals\"] == ecbl_subset_custom[\"model_pred\"]\n",
    "        )\n",
    "        true_actives = ecbl_subset_custom[\n",
    "            (ecbl_subset_custom[\"exp_vals\"] == \"Active\")\n",
    "            & (ecbl_subset_custom[\"model_pred\"] == \"Active\")\n",
    "        ].shape[0]\n",
    "        true_inactives = ecbl_subset_custom[\n",
    "            (ecbl_subset_custom[\"exp_vals\"] == \"Inactive\")\n",
    "            & (ecbl_subset_custom[\"model_pred\"] == \"Inactive\")\n",
    "        ].shape[0]\n",
    "        false_actives = ecbl_subset_custom[\n",
    "            (ecbl_subset_custom[\"exp_vals\"] == \"Inactive\")\n",
    "            & (ecbl_subset_custom[\"model_pred\"] == \"Active\")\n",
    "        ].shape[0]\n",
    "        false_inactives = ecbl_subset_custom[\n",
    "            (ecbl_subset_custom[\"exp_vals\"] == \"Active\")\n",
    "            & (ecbl_subset_custom[\"model_pred\"] == \"Inactive\")\n",
    "        ].shape[0]\n",
    "\n",
    "        hitrate_exp = (exp_actives / ecbl_subset_custom.shape[0]) * 100\n",
    "        hitrate_tool = (true_actives / (true_actives + false_actives)) * 100\n",
    "\n",
    "        model_tested_prop = true_actives + false_actives\n",
    "\n",
    "        t.append(\n",
    "            {\n",
    "                \"org\": org,\n",
    "                \"true_actives\": true_actives,\n",
    "                \"true_inactives\": true_inactives,\n",
    "                \"false_actives\": false_actives,\n",
    "                \"false_inactives\": false_inactives,\n",
    "                \"exp_hitrate\": hitrate_exp,\n",
    "                \"tool_hitrate\": hitrate_tool,\n",
    "                \"enrichment\": hitrate_tool / hitrate_exp,\n",
    "                \"difference\": hitrate_tool - hitrate_exp,\n",
    "                \"library_prop_tested\": model_tested_prop / df.shape[0],\n",
    "            }\n",
    "        )\n",
    "\n",
    "    kk = pd.DataFrame(t)\n",
    "    kk = kk.set_index(\"org\")\n",
    "    print(f\"Mean difference: {kk['difference'].mean()}\")\n",
    "    return kk\n",
    "\n",
    "\n",
    "def get_prediction_accuracy_by_class(df):\n",
    "    orgs = {\n",
    "        \"gram-positive\": [\"Staphylococcus_aureus\", \"Enterococcus_faecalis\"],\n",
    "        \"gram-negative\": [\"Pseudomonas_aeruginosa\", \"Escherichia_coli\"],\n",
    "        \"fungi\": [\"Candida_auris\", \"Aspergillus_fumigatus\", \"Candida_albicans\"],\n",
    "    }\n",
    "\n",
    "    t = []\n",
    "\n",
    "    for pathogen_class, col_names in orgs.items():\n",
    "        val_cols = [f\"{col}_value\" for col in col_names]\n",
    "        val_cols.append(\"prediction\")\n",
    "        ecbl_subset_custom = df[val_cols]\n",
    "\n",
    "        exp_vals = {}\n",
    "\n",
    "        for val_col in val_cols[:-1]:\n",
    "            exp_vals[val_col] = ecbl_subset_custom[val_col].apply(\n",
    "                lambda x: \"Active\" if x >= 50 else \"Inactive\"\n",
    "            )  # Custom thresholding for bioactive\n",
    "\n",
    "        exp_values = list(zip(*[v for v in exp_vals.values()]))\n",
    "        final_vals = []\n",
    "\n",
    "        for vals in exp_values:\n",
    "            if \"Active\" in vals:\n",
    "                final_vals.append(\"Active\")\n",
    "            else:\n",
    "                final_vals.append(\"Inactive\")\n",
    "\n",
    "        ecbl_subset_custom[pathogen_class] = final_vals\n",
    "\n",
    "        # Model binary prediction\n",
    "        ecbl_subset_custom[\"model_pred\"] = ecbl_subset_custom[\"prediction\"].apply(\n",
    "            lambda x: \"Active\" if x == pathogen_class else \"Inactive\"\n",
    "        )\n",
    "\n",
    "        # Exp vals\n",
    "        exp_actives = ecbl_subset_custom[\n",
    "            ecbl_subset_custom[pathogen_class] == \"Active\"\n",
    "        ].shape[0]\n",
    "\n",
    "        # Calculate accuracy\n",
    "        ecbl_subset_custom[\"correct\"] = (\n",
    "            ecbl_subset_custom[pathogen_class] == ecbl_subset_custom[\"model_pred\"]\n",
    "        )\n",
    "        true_actives = ecbl_subset_custom[\n",
    "            (ecbl_subset_custom[pathogen_class] == \"Active\")\n",
    "            & (ecbl_subset_custom[\"model_pred\"] == \"Active\")\n",
    "        ].shape[0]\n",
    "        true_inactives = ecbl_subset_custom[\n",
    "            (ecbl_subset_custom[pathogen_class] == \"Inactive\")\n",
    "            & (ecbl_subset_custom[\"model_pred\"] == \"Inactive\")\n",
    "        ].shape[0]\n",
    "        false_actives = ecbl_subset_custom[\n",
    "            (ecbl_subset_custom[pathogen_class] == \"Inactive\")\n",
    "            & (ecbl_subset_custom[\"model_pred\"] == \"Active\")\n",
    "        ].shape[0]\n",
    "        false_inactives = ecbl_subset_custom[\n",
    "            (ecbl_subset_custom[pathogen_class] == \"Active\")\n",
    "            & (ecbl_subset_custom[\"model_pred\"] == \"Inactive\")\n",
    "        ].shape[0]\n",
    "\n",
    "        hitrate_exp = (exp_actives / ecbl_subset_custom.shape[0]) * 100\n",
    "        hitrate_tool = (true_actives / (true_actives + false_actives)) * 100\n",
    "\n",
    "        model_tested_prop = true_actives + false_actives\n",
    "\n",
    "        t.append(\n",
    "            {\n",
    "                \"class\": pathogen_class,\n",
    "                \"true_actives\": true_actives,\n",
    "                \"true_inactives\": true_inactives,\n",
    "                \"false_actives\": false_actives,\n",
    "                \"false_inactives\": false_inactives,\n",
    "                \"exp_hitrate\": hitrate_exp,\n",
    "                \"tool_hitrate\": hitrate_tool,\n",
    "                \"enrichment\": hitrate_tool / hitrate_exp,\n",
    "                \"difference\": hitrate_tool - hitrate_exp,\n",
    "                \"lib_tested\": model_tested_prop / df.shape[0],\n",
    "            }\n",
    "        )\n",
    "\n",
    "    return pd.DataFrame(t)"
   ]
  },
  {
   "cell_type": "code",
   "execution_count": 14,
   "metadata": {},
   "outputs": [
    {
     "name": "stdout",
     "output_type": "stream",
     "text": [
      "Mean difference: 0.1704377242344665\n"
     ]
    },
    {
     "data": {
      "text/html": [
       "<div>\n",
       "<style scoped>\n",
       "    .dataframe tbody tr th:only-of-type {\n",
       "        vertical-align: middle;\n",
       "    }\n",
       "\n",
       "    .dataframe tbody tr th {\n",
       "        vertical-align: top;\n",
       "    }\n",
       "\n",
       "    .dataframe thead th {\n",
       "        text-align: right;\n",
       "    }\n",
       "</style>\n",
       "<table border=\"1\" class=\"dataframe\">\n",
       "  <thead>\n",
       "    <tr style=\"text-align: right;\">\n",
       "      <th></th>\n",
       "      <th>true_actives</th>\n",
       "      <th>true_inactives</th>\n",
       "      <th>false_actives</th>\n",
       "      <th>false_inactives</th>\n",
       "      <th>exp_hitrate</th>\n",
       "      <th>tool_hitrate</th>\n",
       "      <th>enrichment</th>\n",
       "      <th>difference</th>\n",
       "      <th>library_prop_tested</th>\n",
       "    </tr>\n",
       "    <tr>\n",
       "      <th>org</th>\n",
       "      <th></th>\n",
       "      <th></th>\n",
       "      <th></th>\n",
       "      <th></th>\n",
       "      <th></th>\n",
       "      <th></th>\n",
       "      <th></th>\n",
       "      <th></th>\n",
       "      <th></th>\n",
       "    </tr>\n",
       "  </thead>\n",
       "  <tbody>\n",
       "    <tr>\n",
       "      <th>Staphylococcus_aureus</th>\n",
       "      <td>41</td>\n",
       "      <td>91411</td>\n",
       "      <td>3698</td>\n",
       "      <td>942</td>\n",
       "      <td>1.022978</td>\n",
       "      <td>1.096550</td>\n",
       "      <td>1.071919</td>\n",
       "      <td>0.073572</td>\n",
       "      <td>0.038911</td>\n",
       "    </tr>\n",
       "    <tr>\n",
       "      <th>Pseudomonas_aeruginosa</th>\n",
       "      <td>0</td>\n",
       "      <td>95140</td>\n",
       "      <td>951</td>\n",
       "      <td>1</td>\n",
       "      <td>0.001041</td>\n",
       "      <td>0.000000</td>\n",
       "      <td>0.000000</td>\n",
       "      <td>-0.001041</td>\n",
       "      <td>0.009897</td>\n",
       "    </tr>\n",
       "    <tr>\n",
       "      <th>Candida_auris</th>\n",
       "      <td>19</td>\n",
       "      <td>93690</td>\n",
       "      <td>1456</td>\n",
       "      <td>927</td>\n",
       "      <td>0.984473</td>\n",
       "      <td>1.288136</td>\n",
       "      <td>1.308452</td>\n",
       "      <td>0.303662</td>\n",
       "      <td>0.015350</td>\n",
       "    </tr>\n",
       "    <tr>\n",
       "      <th>Enterococcus_faecalis</th>\n",
       "      <td>6</td>\n",
       "      <td>92325</td>\n",
       "      <td>3733</td>\n",
       "      <td>28</td>\n",
       "      <td>0.035383</td>\n",
       "      <td>0.160471</td>\n",
       "      <td>4.535280</td>\n",
       "      <td>0.125088</td>\n",
       "      <td>0.038911</td>\n",
       "    </tr>\n",
       "    <tr>\n",
       "      <th>Aspergillus_fumigatus</th>\n",
       "      <td>6</td>\n",
       "      <td>94425</td>\n",
       "      <td>1469</td>\n",
       "      <td>192</td>\n",
       "      <td>0.206053</td>\n",
       "      <td>0.406780</td>\n",
       "      <td>1.974155</td>\n",
       "      <td>0.200727</td>\n",
       "      <td>0.015350</td>\n",
       "    </tr>\n",
       "    <tr>\n",
       "      <th>Candida_albicans</th>\n",
       "      <td>5</td>\n",
       "      <td>94491</td>\n",
       "      <td>1470</td>\n",
       "      <td>126</td>\n",
       "      <td>0.136328</td>\n",
       "      <td>0.338983</td>\n",
       "      <td>2.486531</td>\n",
       "      <td>0.202655</td>\n",
       "      <td>0.015350</td>\n",
       "    </tr>\n",
       "    <tr>\n",
       "      <th>Escherichia_coli</th>\n",
       "      <td>3</td>\n",
       "      <td>95118</td>\n",
       "      <td>948</td>\n",
       "      <td>23</td>\n",
       "      <td>0.027057</td>\n",
       "      <td>0.315457</td>\n",
       "      <td>11.658821</td>\n",
       "      <td>0.288400</td>\n",
       "      <td>0.009897</td>\n",
       "    </tr>\n",
       "  </tbody>\n",
       "</table>\n",
       "</div>"
      ],
      "text/plain": [
       "                        true_actives  true_inactives  false_actives  \\\n",
       "org                                                                   \n",
       "Staphylococcus_aureus             41           91411           3698   \n",
       "Pseudomonas_aeruginosa             0           95140            951   \n",
       "Candida_auris                     19           93690           1456   \n",
       "Enterococcus_faecalis              6           92325           3733   \n",
       "Aspergillus_fumigatus              6           94425           1469   \n",
       "Candida_albicans                   5           94491           1470   \n",
       "Escherichia_coli                   3           95118            948   \n",
       "\n",
       "                        false_inactives  exp_hitrate  tool_hitrate  \\\n",
       "org                                                                  \n",
       "Staphylococcus_aureus               942     1.022978      1.096550   \n",
       "Pseudomonas_aeruginosa                1     0.001041      0.000000   \n",
       "Candida_auris                       927     0.984473      1.288136   \n",
       "Enterococcus_faecalis                28     0.035383      0.160471   \n",
       "Aspergillus_fumigatus               192     0.206053      0.406780   \n",
       "Candida_albicans                    126     0.136328      0.338983   \n",
       "Escherichia_coli                     23     0.027057      0.315457   \n",
       "\n",
       "                        enrichment  difference  library_prop_tested  \n",
       "org                                                                  \n",
       "Staphylococcus_aureus     1.071919    0.073572             0.038911  \n",
       "Pseudomonas_aeruginosa    0.000000   -0.001041             0.009897  \n",
       "Candida_auris             1.308452    0.303662             0.015350  \n",
       "Enterococcus_faecalis     4.535280    0.125088             0.038911  \n",
       "Aspergillus_fumigatus     1.974155    0.200727             0.015350  \n",
       "Candida_albicans          2.486531    0.202655             0.015350  \n",
       "Escherichia_coli         11.658821    0.288400             0.009897  "
      ]
     },
     "execution_count": 14,
     "metadata": {},
     "output_type": "execute_result"
    }
   ],
   "source": [
    "ecbl_df_strain = get_prediction_accuracy_by_strain(ecbl_df)\n",
    "ecbl_df_strain"
   ]
  },
  {
   "cell_type": "code",
   "execution_count": 15,
   "metadata": {},
   "outputs": [
    {
     "name": "stdout",
     "output_type": "stream",
     "text": [
      "Mean difference: 18.371345058653226\n"
     ]
    },
    {
     "data": {
      "text/html": [
       "<div>\n",
       "<style scoped>\n",
       "    .dataframe tbody tr th:only-of-type {\n",
       "        vertical-align: middle;\n",
       "    }\n",
       "\n",
       "    .dataframe tbody tr th {\n",
       "        vertical-align: top;\n",
       "    }\n",
       "\n",
       "    .dataframe thead th {\n",
       "        text-align: right;\n",
       "    }\n",
       "</style>\n",
       "<table border=\"1\" class=\"dataframe\">\n",
       "  <thead>\n",
       "    <tr style=\"text-align: right;\">\n",
       "      <th></th>\n",
       "      <th>true_actives</th>\n",
       "      <th>true_inactives</th>\n",
       "      <th>false_actives</th>\n",
       "      <th>false_inactives</th>\n",
       "      <th>exp_hitrate</th>\n",
       "      <th>tool_hitrate</th>\n",
       "      <th>enrichment</th>\n",
       "      <th>difference</th>\n",
       "      <th>library_prop_tested</th>\n",
       "    </tr>\n",
       "    <tr>\n",
       "      <th>org</th>\n",
       "      <th></th>\n",
       "      <th></th>\n",
       "      <th></th>\n",
       "      <th></th>\n",
       "      <th></th>\n",
       "      <th></th>\n",
       "      <th></th>\n",
       "      <th></th>\n",
       "      <th></th>\n",
       "    </tr>\n",
       "  </thead>\n",
       "  <tbody>\n",
       "    <tr>\n",
       "      <th>Staphylococcus_aureus</th>\n",
       "      <td>80</td>\n",
       "      <td>4154</td>\n",
       "      <td>460</td>\n",
       "      <td>233</td>\n",
       "      <td>6.352750</td>\n",
       "      <td>14.814815</td>\n",
       "      <td>2.332032</td>\n",
       "      <td>8.462065</td>\n",
       "      <td>0.109600</td>\n",
       "    </tr>\n",
       "    <tr>\n",
       "      <th>Pseudomonas_aeruginosa</th>\n",
       "      <td>6</td>\n",
       "      <td>4815</td>\n",
       "      <td>99</td>\n",
       "      <td>7</td>\n",
       "      <td>0.263852</td>\n",
       "      <td>5.714286</td>\n",
       "      <td>21.657143</td>\n",
       "      <td>5.450433</td>\n",
       "      <td>0.021311</td>\n",
       "    </tr>\n",
       "    <tr>\n",
       "      <th>Candida_auris</th>\n",
       "      <td>42</td>\n",
       "      <td>4596</td>\n",
       "      <td>56</td>\n",
       "      <td>233</td>\n",
       "      <td>5.581490</td>\n",
       "      <td>42.857143</td>\n",
       "      <td>7.678442</td>\n",
       "      <td>37.275653</td>\n",
       "      <td>0.019890</td>\n",
       "    </tr>\n",
       "    <tr>\n",
       "      <th>Enterococcus_faecalis</th>\n",
       "      <td>46</td>\n",
       "      <td>4310</td>\n",
       "      <td>494</td>\n",
       "      <td>77</td>\n",
       "      <td>2.496448</td>\n",
       "      <td>8.518519</td>\n",
       "      <td>3.412255</td>\n",
       "      <td>6.022070</td>\n",
       "      <td>0.109600</td>\n",
       "    </tr>\n",
       "    <tr>\n",
       "      <th>Aspergillus_fumigatus</th>\n",
       "      <td>36</td>\n",
       "      <td>4720</td>\n",
       "      <td>62</td>\n",
       "      <td>109</td>\n",
       "      <td>2.942967</td>\n",
       "      <td>36.734694</td>\n",
       "      <td>12.482196</td>\n",
       "      <td>33.791727</td>\n",
       "      <td>0.019890</td>\n",
       "    </tr>\n",
       "    <tr>\n",
       "      <th>Candida_albicans</th>\n",
       "      <td>30</td>\n",
       "      <td>4739</td>\n",
       "      <td>68</td>\n",
       "      <td>90</td>\n",
       "      <td>2.435559</td>\n",
       "      <td>30.612245</td>\n",
       "      <td>12.568878</td>\n",
       "      <td>28.176686</td>\n",
       "      <td>0.019890</td>\n",
       "    </tr>\n",
       "    <tr>\n",
       "      <th>Escherichia_coli</th>\n",
       "      <td>11</td>\n",
       "      <td>4781</td>\n",
       "      <td>94</td>\n",
       "      <td>41</td>\n",
       "      <td>1.055409</td>\n",
       "      <td>10.476190</td>\n",
       "      <td>9.926190</td>\n",
       "      <td>9.420782</td>\n",
       "      <td>0.021311</td>\n",
       "    </tr>\n",
       "  </tbody>\n",
       "</table>\n",
       "</div>"
      ],
      "text/plain": [
       "                        true_actives  true_inactives  false_actives  \\\n",
       "org                                                                   \n",
       "Staphylococcus_aureus             80            4154            460   \n",
       "Pseudomonas_aeruginosa             6            4815             99   \n",
       "Candida_auris                     42            4596             56   \n",
       "Enterococcus_faecalis             46            4310            494   \n",
       "Aspergillus_fumigatus             36            4720             62   \n",
       "Candida_albicans                  30            4739             68   \n",
       "Escherichia_coli                  11            4781             94   \n",
       "\n",
       "                        false_inactives  exp_hitrate  tool_hitrate  \\\n",
       "org                                                                  \n",
       "Staphylococcus_aureus               233     6.352750     14.814815   \n",
       "Pseudomonas_aeruginosa                7     0.263852      5.714286   \n",
       "Candida_auris                       233     5.581490     42.857143   \n",
       "Enterococcus_faecalis                77     2.496448      8.518519   \n",
       "Aspergillus_fumigatus               109     2.942967     36.734694   \n",
       "Candida_albicans                     90     2.435559     30.612245   \n",
       "Escherichia_coli                     41     1.055409     10.476190   \n",
       "\n",
       "                        enrichment  difference  library_prop_tested  \n",
       "org                                                                  \n",
       "Staphylococcus_aureus     2.332032    8.462065             0.109600  \n",
       "Pseudomonas_aeruginosa   21.657143    5.450433             0.021311  \n",
       "Candida_auris             7.678442   37.275653             0.019890  \n",
       "Enterococcus_faecalis     3.412255    6.022070             0.109600  \n",
       "Aspergillus_fumigatus    12.482196   33.791727             0.019890  \n",
       "Candida_albicans         12.568878   28.176686             0.019890  \n",
       "Escherichia_coli          9.926190    9.420782             0.021311  "
      ]
     },
     "execution_count": 15,
     "metadata": {},
     "output_type": "execute_result"
    }
   ],
   "source": [
    "bioactive_df_strain = get_prediction_accuracy_by_strain(bioactive_df)\n",
    "bioactive_df_strain"
   ]
  },
  {
   "cell_type": "code",
   "execution_count": 16,
   "metadata": {},
   "outputs": [
    {
     "data": {
      "text/html": [
       "<div>\n",
       "<style scoped>\n",
       "    .dataframe tbody tr th:only-of-type {\n",
       "        vertical-align: middle;\n",
       "    }\n",
       "\n",
       "    .dataframe tbody tr th {\n",
       "        vertical-align: top;\n",
       "    }\n",
       "\n",
       "    .dataframe thead th {\n",
       "        text-align: right;\n",
       "    }\n",
       "</style>\n",
       "<table border=\"1\" class=\"dataframe\">\n",
       "  <thead>\n",
       "    <tr style=\"text-align: right;\">\n",
       "      <th></th>\n",
       "      <th>class</th>\n",
       "      <th>true_actives</th>\n",
       "      <th>true_inactives</th>\n",
       "      <th>false_actives</th>\n",
       "      <th>false_inactives</th>\n",
       "      <th>exp_hitrate</th>\n",
       "      <th>tool_hitrate</th>\n",
       "      <th>enrichment</th>\n",
       "      <th>difference</th>\n",
       "      <th>lib_tested</th>\n",
       "    </tr>\n",
       "  </thead>\n",
       "  <tbody>\n",
       "    <tr>\n",
       "      <th>0</th>\n",
       "      <td>gram-positive</td>\n",
       "      <td>41</td>\n",
       "      <td>91407</td>\n",
       "      <td>3698</td>\n",
       "      <td>946</td>\n",
       "      <td>1.027141</td>\n",
       "      <td>1.096550</td>\n",
       "      <td>1.067575</td>\n",
       "      <td>0.069409</td>\n",
       "      <td>0.038911</td>\n",
       "    </tr>\n",
       "    <tr>\n",
       "      <th>1</th>\n",
       "      <td>gram-negative</td>\n",
       "      <td>3</td>\n",
       "      <td>95117</td>\n",
       "      <td>948</td>\n",
       "      <td>24</td>\n",
       "      <td>0.028098</td>\n",
       "      <td>0.315457</td>\n",
       "      <td>11.227013</td>\n",
       "      <td>0.287359</td>\n",
       "      <td>0.009897</td>\n",
       "    </tr>\n",
       "    <tr>\n",
       "      <th>2</th>\n",
       "      <td>fungi</td>\n",
       "      <td>21</td>\n",
       "      <td>93554</td>\n",
       "      <td>1454</td>\n",
       "      <td>1063</td>\n",
       "      <td>1.128086</td>\n",
       "      <td>1.423729</td>\n",
       "      <td>1.262075</td>\n",
       "      <td>0.295643</td>\n",
       "      <td>0.015350</td>\n",
       "    </tr>\n",
       "  </tbody>\n",
       "</table>\n",
       "</div>"
      ],
      "text/plain": [
       "           class  true_actives  true_inactives  false_actives  \\\n",
       "0  gram-positive            41           91407           3698   \n",
       "1  gram-negative             3           95117            948   \n",
       "2          fungi            21           93554           1454   \n",
       "\n",
       "   false_inactives  exp_hitrate  tool_hitrate  enrichment  difference  \\\n",
       "0              946     1.027141      1.096550    1.067575    0.069409   \n",
       "1               24     0.028098      0.315457   11.227013    0.287359   \n",
       "2             1063     1.128086      1.423729    1.262075    0.295643   \n",
       "\n",
       "   lib_tested  \n",
       "0    0.038911  \n",
       "1    0.009897  \n",
       "2    0.015350  "
      ]
     },
     "execution_count": 16,
     "metadata": {},
     "output_type": "execute_result"
    }
   ],
   "source": [
    "ecbl_df_class = get_prediction_accuracy_by_class(ecbl_df)\n",
    "ecbl_df_class"
   ]
  },
  {
   "cell_type": "code",
   "execution_count": 17,
   "metadata": {},
   "outputs": [
    {
     "data": {
      "text/html": [
       "<div>\n",
       "<style scoped>\n",
       "    .dataframe tbody tr th:only-of-type {\n",
       "        vertical-align: middle;\n",
       "    }\n",
       "\n",
       "    .dataframe tbody tr th {\n",
       "        vertical-align: top;\n",
       "    }\n",
       "\n",
       "    .dataframe thead th {\n",
       "        text-align: right;\n",
       "    }\n",
       "</style>\n",
       "<table border=\"1\" class=\"dataframe\">\n",
       "  <thead>\n",
       "    <tr style=\"text-align: right;\">\n",
       "      <th></th>\n",
       "      <th>class</th>\n",
       "      <th>true_actives</th>\n",
       "      <th>true_inactives</th>\n",
       "      <th>false_actives</th>\n",
       "      <th>false_inactives</th>\n",
       "      <th>exp_hitrate</th>\n",
       "      <th>tool_hitrate</th>\n",
       "      <th>enrichment</th>\n",
       "      <th>difference</th>\n",
       "      <th>lib_tested</th>\n",
       "    </tr>\n",
       "  </thead>\n",
       "  <tbody>\n",
       "    <tr>\n",
       "      <th>0</th>\n",
       "      <td>gram-positive</td>\n",
       "      <td>81</td>\n",
       "      <td>4150</td>\n",
       "      <td>459</td>\n",
       "      <td>237</td>\n",
       "      <td>6.454232</td>\n",
       "      <td>15.000000</td>\n",
       "      <td>2.324057</td>\n",
       "      <td>8.545768</td>\n",
       "      <td>0.109600</td>\n",
       "    </tr>\n",
       "    <tr>\n",
       "      <th>1</th>\n",
       "      <td>gram-negative</td>\n",
       "      <td>11</td>\n",
       "      <td>4781</td>\n",
       "      <td>94</td>\n",
       "      <td>41</td>\n",
       "      <td>1.055409</td>\n",
       "      <td>10.476190</td>\n",
       "      <td>9.926190</td>\n",
       "      <td>9.420782</td>\n",
       "      <td>0.021311</td>\n",
       "    </tr>\n",
       "    <tr>\n",
       "      <th>2</th>\n",
       "      <td>fungi</td>\n",
       "      <td>45</td>\n",
       "      <td>4557</td>\n",
       "      <td>53</td>\n",
       "      <td>272</td>\n",
       "      <td>6.433935</td>\n",
       "      <td>45.918367</td>\n",
       "      <td>7.136902</td>\n",
       "      <td>39.484432</td>\n",
       "      <td>0.019890</td>\n",
       "    </tr>\n",
       "  </tbody>\n",
       "</table>\n",
       "</div>"
      ],
      "text/plain": [
       "           class  true_actives  true_inactives  false_actives  \\\n",
       "0  gram-positive            81            4150            459   \n",
       "1  gram-negative            11            4781             94   \n",
       "2          fungi            45            4557             53   \n",
       "\n",
       "   false_inactives  exp_hitrate  tool_hitrate  enrichment  difference  \\\n",
       "0              237     6.454232     15.000000    2.324057    8.545768   \n",
       "1               41     1.055409     10.476190    9.926190    9.420782   \n",
       "2              272     6.433935     45.918367    7.136902   39.484432   \n",
       "\n",
       "   lib_tested  \n",
       "0    0.109600  \n",
       "1    0.021311  \n",
       "2    0.019890  "
      ]
     },
     "execution_count": 17,
     "metadata": {},
     "output_type": "execute_result"
    }
   ],
   "source": [
    "bioactive_df_class = get_prediction_accuracy_by_class(bioactive_df)\n",
    "bioactive_df_class"
   ]
  },
  {
   "cell_type": "markdown",
   "metadata": {},
   "source": [
    "# Similarity with training data"
   ]
  },
  {
   "cell_type": "code",
   "execution_count": 18,
   "metadata": {},
   "outputs": [
    {
     "data": {
      "text/html": [
       "<div>\n",
       "<style scoped>\n",
       "    .dataframe tbody tr th:only-of-type {\n",
       "        vertical-align: middle;\n",
       "    }\n",
       "\n",
       "    .dataframe tbody tr th {\n",
       "        vertical-align: top;\n",
       "    }\n",
       "\n",
       "    .dataframe thead th {\n",
       "        text-align: right;\n",
       "    }\n",
       "</style>\n",
       "<table border=\"1\" class=\"dataframe\">\n",
       "  <thead>\n",
       "    <tr style=\"text-align: right;\">\n",
       "      <th></th>\n",
       "      <th>bit0</th>\n",
       "      <th>bit1</th>\n",
       "      <th>bit2</th>\n",
       "      <th>bit3</th>\n",
       "      <th>bit4</th>\n",
       "      <th>bit5</th>\n",
       "      <th>bit6</th>\n",
       "      <th>bit7</th>\n",
       "      <th>bit8</th>\n",
       "      <th>bit9</th>\n",
       "      <th>...</th>\n",
       "      <th>bit2040</th>\n",
       "      <th>bit2041</th>\n",
       "      <th>bit2042</th>\n",
       "      <th>bit2043</th>\n",
       "      <th>bit2044</th>\n",
       "      <th>bit2045</th>\n",
       "      <th>bit2046</th>\n",
       "      <th>bit2047</th>\n",
       "      <th>cmp_id</th>\n",
       "      <th>label</th>\n",
       "    </tr>\n",
       "  </thead>\n",
       "  <tbody>\n",
       "    <tr>\n",
       "      <th>0</th>\n",
       "      <td>14433155</td>\n",
       "      <td>9273576</td>\n",
       "      <td>52428387</td>\n",
       "      <td>55778289</td>\n",
       "      <td>29319974</td>\n",
       "      <td>24922436</td>\n",
       "      <td>192953238</td>\n",
       "      <td>62403804</td>\n",
       "      <td>49040351</td>\n",
       "      <td>48020618</td>\n",
       "      <td>...</td>\n",
       "      <td>21431025</td>\n",
       "      <td>1416250</td>\n",
       "      <td>32703087</td>\n",
       "      <td>41181622</td>\n",
       "      <td>4925637</td>\n",
       "      <td>3638752</td>\n",
       "      <td>3279595</td>\n",
       "      <td>4090642</td>\n",
       "      <td>OQZSOIHVULQZHS-CWGWECIMSA-N</td>\n",
       "      <td>gram-positive</td>\n",
       "    </tr>\n",
       "    <tr>\n",
       "      <th>1</th>\n",
       "      <td>19469312</td>\n",
       "      <td>71257929</td>\n",
       "      <td>14316170</td>\n",
       "      <td>121213539</td>\n",
       "      <td>115681127</td>\n",
       "      <td>75668513</td>\n",
       "      <td>127870555</td>\n",
       "      <td>119200764</td>\n",
       "      <td>327151351</td>\n",
       "      <td>164407546</td>\n",
       "      <td>...</td>\n",
       "      <td>3736543</td>\n",
       "      <td>1416250</td>\n",
       "      <td>32970732</td>\n",
       "      <td>158260114</td>\n",
       "      <td>15628711</td>\n",
       "      <td>48984996</td>\n",
       "      <td>10981154</td>\n",
       "      <td>126156214</td>\n",
       "      <td>ZGNROOOFYPKLJH-UHFFFAOYSA-N</td>\n",
       "      <td>inactive</td>\n",
       "    </tr>\n",
       "  </tbody>\n",
       "</table>\n",
       "<p>2 rows × 2050 columns</p>\n",
       "</div>"
      ],
      "text/plain": [
       "       bit0      bit1      bit2       bit3       bit4      bit5       bit6  \\\n",
       "0  14433155   9273576  52428387   55778289   29319974  24922436  192953238   \n",
       "1  19469312  71257929  14316170  121213539  115681127  75668513  127870555   \n",
       "\n",
       "        bit7       bit8       bit9  ...   bit2040  bit2041   bit2042  \\\n",
       "0   62403804   49040351   48020618  ...  21431025  1416250  32703087   \n",
       "1  119200764  327151351  164407546  ...   3736543  1416250  32970732   \n",
       "\n",
       "     bit2043   bit2044   bit2045   bit2046    bit2047  \\\n",
       "0   41181622   4925637   3638752   3279595    4090642   \n",
       "1  158260114  15628711  48984996  10981154  126156214   \n",
       "\n",
       "                        cmp_id          label  \n",
       "0  OQZSOIHVULQZHS-CWGWECIMSA-N  gram-positive  \n",
       "1  ZGNROOOFYPKLJH-UHFFFAOYSA-N       inactive  \n",
       "\n",
       "[2 rows x 2050 columns]"
      ]
     },
     "execution_count": 18,
     "metadata": {},
     "output_type": "execute_result"
    }
   ],
   "source": [
    "training_df = pd.read_csv(\"../data/splits/combined/mhfp6_train.csv\")\n",
    "training_df.head(2)"
   ]
  },
  {
   "cell_type": "code",
   "execution_count": 19,
   "metadata": {},
   "outputs": [
    {
     "name": "stderr",
     "output_type": "stream",
     "text": [
      "100%|██████████| 4927/4927 [00:01<00:00, 3390.70it/s]\n"
     ]
    }
   ],
   "source": [
    "bioactive_inchikeys = []\n",
    "\n",
    "for smile in tqdm(bioactive_df[\"smiles\"].values):\n",
    "    mol = Chem.MolFromSmiles(smile)\n",
    "    inchikey = Chem.inchi.MolToInchiKey(mol)\n",
    "    bioactive_inchikeys.append(inchikey)\n",
    "\n",
    "bioactive_df[\"inchikey\"] = bioactive_inchikeys"
   ]
  },
  {
   "cell_type": "code",
   "execution_count": 20,
   "metadata": {},
   "outputs": [
    {
     "name": "stderr",
     "output_type": "stream",
     "text": [
      "100%|██████████| 96092/96092 [00:22<00:00, 4196.67it/s]\n"
     ]
    }
   ],
   "source": [
    "ecbl_inchikeys = []\n",
    "\n",
    "for smile in tqdm(ecbl_df[\"smiles\"].values):\n",
    "    mol = Chem.MolFromSmiles(smile)\n",
    "    inchikey = Chem.inchi.MolToInchiKey(mol)\n",
    "    ecbl_inchikeys.append(inchikey)\n",
    "\n",
    "ecbl_df[\"inchikey\"] = ecbl_inchikeys"
   ]
  },
  {
   "cell_type": "code",
   "execution_count": 21,
   "metadata": {},
   "outputs": [
    {
     "data": {
      "image/png": "[encoded data removed]",
      "text/plain": [
       "<Figure size 640x480 with 1 Axes>"
      ]
     },
     "metadata": {},
     "output_type": "display_data"
    }
   ],
   "source": [
    "bioactive_inchikeys = set(bioactive_df[\"inchikey\"].values)\n",
    "training_inchikeys = set(training_df[\"cmp_id\"].values)\n",
    "ecbl_inchikeys = set(ecbl_df[\"inchikey\"].values)\n",
    "\n",
    "venn3_unweighted(\n",
    "    [training_inchikeys, bioactive_inchikeys, ecbl_inchikeys],\n",
    "    set_labels=(\"Training\", \"Bioactive\", \"ECBL\"),\n",
    ")\n",
    "plt.title(f\"InchiKey overlap between training and bioactive set (All)\")\n",
    "plt.show()"
   ]
  },
  {
   "cell_type": "code",
   "execution_count": 22,
   "metadata": {},
   "outputs": [],
   "source": [
    "def plot_cmpd_overlap():\n",
    "    k = []\n",
    "    for strain_name in [\n",
    "        \"Staphylococcus_aureus\",\n",
    "        \"Pseudomonas_aeruginosa\",\n",
    "        \"Candida_auris\",\n",
    "        \"Enterococcus_faecalis\",\n",
    "        \"Aspergillus_fumigatus\",\n",
    "        \"Candida_albicans\",\n",
    "        \"Escherichia_coli\",\n",
    "    ]:\n",
    "        col_name = f\"{strain_name}_value\"\n",
    "        bioactive_inchikeys = []\n",
    "\n",
    "        for val, inchikey in bioactive_df[[col_name, \"inchikey\"]].values:\n",
    "            if val >= 50:\n",
    "                bioactive_inchikeys.append(inchikey)\n",
    "\n",
    "        bioactive_inchikeys = set(bioactive_inchikeys)\n",
    "        training_inchikeys = set(training_df[\"cmp_id\"].values)\n",
    "\n",
    "        inchikeys_in_training = len(\n",
    "            bioactive_inchikeys.intersection(training_inchikeys)\n",
    "        )\n",
    "        inchikeys_in_bioactive = len(bioactive_inchikeys.difference(training_inchikeys))\n",
    "\n",
    "        k.append(\n",
    "            {\n",
    "                \"strain\": strain_name,\n",
    "                \"Found in training\": inchikeys_in_training,\n",
    "                \"Not found in training\": inchikeys_in_bioactive,\n",
    "            }\n",
    "        )\n",
    "\n",
    "    df = pd.DataFrame(k)\n",
    "\n",
    "    fig = px.bar(\n",
    "        df,\n",
    "        x=\"strain\",\n",
    "        y=[\"Found in training\", \"Not found in training\"],\n",
    "        barmode=\"group\",\n",
    "        title=\"InchiKey overlap between training and bioactive set (All)\",\n",
    "    )\n",
    "\n",
    "    # show %age overlap on top of bars\n",
    "    for i in range(len(df)):\n",
    "        fig.add_annotation(\n",
    "            x=df[\"strain\"][i],\n",
    "            y=df[\"Found in training\"][i],\n",
    "            text=f\"{(df['Found in training'][i] / (df['Found in training'][i] + df['Not found in training'][i])) * 100:.2f}%\",\n",
    "            showarrow=True,\n",
    "        )\n",
    "\n",
    "    fig.show()"
   ]
  },
  {
   "cell_type": "code",
   "execution_count": 23,
   "metadata": {},
   "outputs": [
    {
     "data": {
      "application/vnd.plotly.v1+json": {
       "config": {
        "plotlyServerURL": "https://plot.ly"
       },
       "data": [
        {
         "alignmentgroup": "True",
         "hovertemplate": "variable=Found in training<br>strain=%{x}<br>value=%{y}<extra></extra>",
         "legendgroup": "Found in training",
         "marker": {
          "color": "#636efa",
          "pattern": {
           "shape": ""
          }
         },
         "name": "Found in training",
         "offsetgroup": "Found in training",
         "orientation": "v",
         "showlegend": true,
         "textposition": "auto",
         "type": "bar",
         "x": [
          "Staphylococcus_aureus",
          "Pseudomonas_aeruginosa",
          "Candida_auris",
          "Enterococcus_faecalis",
          "Aspergillus_fumigatus",
          "Candida_albicans",
          "Escherichia_coli"
         ],
         "xaxis": "x",
         "y": [
          55,
          7,
          47,
          27,
          36,
          35,
          25
         ],
         "yaxis": "y"
        },
        {
         "alignmentgroup": "True",
         "hovertemplate": "variable=Not found in training<br>strain=%{x}<br>value=%{y}<extra></extra>",
         "legendgroup": "Not found in training",
         "marker": {
          "color": "#EF553B",
          "pattern": {
           "shape": ""
          }
         },
         "name": "Not found in training",
         "offsetgroup": "Not found in training",
         "orientation": "v",
         "showlegend": true,
         "textposition": "auto",
         "type": "bar",
         "x": [
          "Staphylococcus_aureus",
          "Pseudomonas_aeruginosa",
          "Candida_auris",
          "Enterococcus_faecalis",
          "Aspergillus_fumigatus",
          "Candida_albicans",
          "Escherichia_coli"
         ],
         "xaxis": "x",
         "y": [
          258,
          6,
          228,
          96,
          109,
          85,
          27
         ],
         "yaxis": "y"
        }
       ],
       "layout": {
        "annotations": [
         {
          "showarrow": true,
          "text": "17.57%",
          "x": "Staphylococcus_aureus",
          "y": 55
         },
         {
          "showarrow": true,
          "text": "53.85%",
          "x": "Pseudomonas_aeruginosa",
          "y": 7
         },
         {
          "showarrow": true,
          "text": "17.09%",
          "x": "Candida_auris",
          "y": 47
         },
         {
          "showarrow": true,
          "text": "21.95%",
          "x": "Enterococcus_faecalis",
          "y": 27
         },
         {
          "showarrow": true,
          "text": "24.83%",
          "x": "Aspergillus_fumigatus",
          "y": 36
         },
         {
          "showarrow": true,
          "text": "29.17%",
          "x": "Candida_albicans",
          "y": 35
         },
         {
          "showarrow": true,
          "text": "48.08%",
          "x": "Escherichia_coli",
          "y": 25
         }
        ],
        "barmode": "group",
        "legend": {
         "title": {
          "text": "variable"
         },
         "tracegroupgap": 0
        },
        "template": {
         "data": {
          "bar": [
           {
            "error_x": {
             "color": "#2a3f5f"
            },
            "error_y": {
             "color": "#2a3f5f"
            },
            "marker": {
             "line": {
              "color": "#E5ECF6",
              "width": 0.5
             },
             "pattern": {
              "fillmode": "overlay",
              "size": 10,
              "solidity": 0.2
             }
            },
            "type": "bar"
           }
          ],
          "barpolar": [
           {
            "marker": {
             "line": {
              "color": "#E5ECF6",
              "width": 0.5
             },
             "pattern": {
              "fillmode": "overlay",
              "size": 10,
              "solidity": 0.2
             }
            },
            "type": "barpolar"
           }
          ],
          "carpet": [
           {
            "aaxis": {
             "endlinecolor": "#2a3f5f",
             "gridcolor": "white",
             "linecolor": "white",
             "minorgridcolor": "white",
             "startlinecolor": "#2a3f5f"
            },
            "baxis": {
             "endlinecolor": "#2a3f5f",
             "gridcolor": "white",
             "linecolor": "white",
             "minorgridcolor": "white",
             "startlinecolor": "#2a3f5f"
            },
            "type": "carpet"
           }
          ],
          "choropleth": [
           {
            "colorbar": {
             "outlinewidth": 0,
             "ticks": ""
            },
            "type": "choropleth"
           }
          ],
          "contour": [
           {
            "colorbar": {
             "outlinewidth": 0,
             "ticks": ""
            },
            "colorscale": [
             [
              0,
              "#0d0887"
             ],
             [
              0.1111111111111111,
              "#46039f"
             ],
             [
              0.2222222222222222,
              "#7201a8"
             ],
             [
              0.3333333333333333,
              "#9c179e"
             ],
             [
              0.4444444444444444,
              "#bd3786"
             ],
             [
              0.5555555555555556,
              "#d8576b"
             ],
             [
              0.6666666666666666,
              "#ed7953"
             ],
             [
              0.7777777777777778,
              "#fb9f3a"
             ],
             [
              0.8888888888888888,
              "#fdca26"
             ],
             [
              1,
              "#f0f921"
             ]
            ],
            "type": "contour"
           }
          ],
          "contourcarpet": [
           {
            "colorbar": {
             "outlinewidth": 0,
             "ticks": ""
            },
            "type": "contourcarpet"
           }
          ],
          "heatmap": [
           {
            "colorbar": {
             "outlinewidth": 0,
             "ticks": ""
            },
            "colorscale": [
             [
              0,
              "#0d0887"
             ],
             [
              0.1111111111111111,
              "#46039f"
             ],
             [
              0.2222222222222222,
              "#7201a8"
             ],
             [
              0.3333333333333333,
              "#9c179e"
             ],
             [
              0.4444444444444444,
              "#bd3786"
             ],
             [
              0.5555555555555556,
              "#d8576b"
             ],
             [
              0.6666666666666666,
              "#ed7953"
             ],
             [
              0.7777777777777778,
              "#fb9f3a"
             ],
             [
              0.8888888888888888,
              "#fdca26"
             ],
             [
              1,
              "#f0f921"
             ]
            ],
            "type": "heatmap"
           }
          ],
          "heatmapgl": [
           {
            "colorbar": {
             "outlinewidth": 0,
             "ticks": ""
            },
            "colorscale": [
             [
              0,
              "#0d0887"
             ],
             [
              0.1111111111111111,
              "#46039f"
             ],
             [
              0.2222222222222222,
              "#7201a8"
             ],
             [
              0.3333333333333333,
              "#9c179e"
             ],
             [
              0.4444444444444444,
              "#bd3786"
             ],
             [
              0.5555555555555556,
              "#d8576b"
             ],
             [
              0.6666666666666666,
              "#ed7953"
             ],
             [
              0.7777777777777778,
              "#fb9f3a"
             ],
             [
              0.8888888888888888,
              "#fdca26"
             ],
             [
              1,
              "#f0f921"
             ]
            ],
            "type": "heatmapgl"
           }
          ],
          "histogram": [
           {
            "marker": {
             "pattern": {
              "fillmode": "overlay",
              "size": 10,
              "solidity": 0.2
             }
            },
            "type": "histogram"
           }
          ],
          "histogram2d": [
           {
            "colorbar": {
             "outlinewidth": 0,
             "ticks": ""
            },
            "colorscale": [
             [
              0,
              "#0d0887"
             ],
             [
              0.1111111111111111,
              "#46039f"
             ],
             [
              0.2222222222222222,
              "#7201a8"
             ],
             [
              0.3333333333333333,
              "#9c179e"
             ],
             [
              0.4444444444444444,
              "#bd3786"
             ],
             [
              0.5555555555555556,
              "#d8576b"
             ],
             [
              0.6666666666666666,
              "#ed7953"
             ],
             [
              0.7777777777777778,
              "#fb9f3a"
             ],
             [
              0.8888888888888888,
              "#fdca26"
             ],
             [
              1,
              "#f0f921"
             ]
            ],
            "type": "histogram2d"
           }
          ],
          "histogram2dcontour": [
           {
            "colorbar": {
             "outlinewidth": 0,
             "ticks": ""
            },
            "colorscale": [
             [
              0,
              "#0d0887"
             ],
             [
              0.1111111111111111,
              "#46039f"
             ],
             [
              0.2222222222222222,
              "#7201a8"
             ],
             [
              0.3333333333333333,
              "#9c179e"
             ],
             [
              0.4444444444444444,
              "#bd3786"
             ],
             [
              0.5555555555555556,
              "#d8576b"
             ],
             [
              0.6666666666666666,
              "#ed7953"
             ],
             [
              0.7777777777777778,
              "#fb9f3a"
             ],
             [
              0.8888888888888888,
              "#fdca26"
             ],
             [
              1,
              "#f0f921"
             ]
            ],
            "type": "histogram2dcontour"
           }
          ],
          "mesh3d": [
           {
            "colorbar": {
             "outlinewidth": 0,
             "ticks": ""
            },
            "type": "mesh3d"
           }
          ],
          "parcoords": [
           {
            "line": {
             "colorbar": {
              "outlinewidth": 0,
              "ticks": ""
             }
            },
            "type": "parcoords"
           }
          ],
          "pie": [
           {
            "automargin": true,
            "type": "pie"
           }
          ],
          "scatter": [
           {
            "fillpattern": {
             "fillmode": "overlay",
             "size": 10,
             "solidity": 0.2
            },
            "type": "scatter"
           }
          ],
          "scatter3d": [
           {
            "line": {
             "colorbar": {
              "outlinewidth": 0,
              "ticks": ""
             }
            },
            "marker": {
             "colorbar": {
              "outlinewidth": 0,
              "ticks": ""
             }
            },
            "type": "scatter3d"
           }
          ],
          "scattercarpet": [
           {
            "marker": {
             "colorbar": {
              "outlinewidth": 0,
              "ticks": ""
             }
            },
            "type": "scattercarpet"
           }
          ],
          "scattergeo": [
           {
            "marker": {
             "colorbar": {
              "outlinewidth": 0,
              "ticks": ""
             }
            },
            "type": "scattergeo"
           }
          ],
          "scattergl": [
           {
            "marker": {
             "colorbar": {
              "outlinewidth": 0,
              "ticks": ""
             }
            },
            "type": "scattergl"
           }
          ],
          "scattermapbox": [
           {
            "marker": {
             "colorbar": {
              "outlinewidth": 0,
              "ticks": ""
             }
            },
            "type": "scattermapbox"
           }
          ],
          "scatterpolar": [
           {
            "marker": {
             "colorbar": {
              "outlinewidth": 0,
              "ticks": ""
             }
            },
            "type": "scatterpolar"
           }
          ],
          "scatterpolargl": [
           {
            "marker": {
             "colorbar": {
              "outlinewidth": 0,
              "ticks": ""
             }
            },
            "type": "scatterpolargl"
           }
          ],
          "scatterternary": [
           {
            "marker": {
             "colorbar": {
              "outlinewidth": 0,
              "ticks": ""
             }
            },
            "type": "scatterternary"
           }
          ],
          "surface": [
           {
            "colorbar": {
             "outlinewidth": 0,
             "ticks": ""
            },
            "colorscale": [
             [
              0,
              "#0d0887"
             ],
             [
              0.1111111111111111,
              "#46039f"
             ],
             [
              0.2222222222222222,
              "#7201a8"
             ],
             [
              0.3333333333333333,
              "#9c179e"
             ],
             [
              0.4444444444444444,
              "#bd3786"
             ],
             [
              0.5555555555555556,
              "#d8576b"
             ],
             [
              0.6666666666666666,
              "#ed7953"
             ],
             [
              0.7777777777777778,
              "#fb9f3a"
             ],
             [
              0.8888888888888888,
              "#fdca26"
             ],
             [
              1,
              "#f0f921"
             ]
            ],
            "type": "surface"
           }
          ],
          "table": [
           {
            "cells": {
             "fill": {
              "color": "#EBF0F8"
             },
             "line": {
              "color": "white"
             }
            },
            "header": {
             "fill": {
              "color": "#C8D4E3"
             },
             "line": {
              "color": "white"
             }
            },
            "type": "table"
           }
          ]
         },
         "layout": {
          "annotationdefaults": {
           "arrowcolor": "#2a3f5f",
           "arrowhead": 0,
           "arrowwidth": 1
          },
          "autotypenumbers": "strict",
          "coloraxis": {
           "colorbar": {
            "outlinewidth": 0,
            "ticks": ""
           }
          },
          "colorscale": {
           "diverging": [
            [
             0,
             "#8e0152"
            ],
            [
             0.1,
             "#c51b7d"
            ],
            [
             0.2,
             "#de77ae"
            ],
            [
             0.3,
             "#f1b6da"
            ],
            [
             0.4,
             "#fde0ef"
            ],
            [
             0.5,
             "#f7f7f7"
            ],
            [
             0.6,
             "#e6f5d0"
            ],
            [
             0.7,
             "#b8e186"
            ],
            [
             0.8,
             "#7fbc41"
            ],
            [
             0.9,
             "#4d9221"
            ],
            [
             1,
             "#276419"
            ]
           ],
           "sequential": [
            [
             0,
             "#0d0887"
            ],
            [
             0.1111111111111111,
             "#46039f"
            ],
            [
             0.2222222222222222,
             "#7201a8"
            ],
            [
             0.3333333333333333,
             "#9c179e"
            ],
            [
             0.4444444444444444,
             "#bd3786"
            ],
            [
             0.5555555555555556,
             "#d8576b"
            ],
            [
             0.6666666666666666,
             "#ed7953"
            ],
            [
             0.7777777777777778,
             "#fb9f3a"
            ],
            [
             0.8888888888888888,
             "#fdca26"
            ],
            [
             1,
             "#f0f921"
            ]
           ],
           "sequentialminus": [
            [
             0,
             "#0d0887"
            ],
            [
             0.1111111111111111,
             "#46039f"
            ],
            [
             0.2222222222222222,
             "#7201a8"
            ],
            [
             0.3333333333333333,
             "#9c179e"
            ],
            [
             0.4444444444444444,
             "#bd3786"
            ],
            [
             0.5555555555555556,
             "#d8576b"
            ],
            [
             0.6666666666666666,
             "#ed7953"
            ],
            [
             0.7777777777777778,
             "#fb9f3a"
            ],
            [
             0.8888888888888888,
             "#fdca26"
            ],
            [
             1,
             "#f0f921"
            ]
           ]
          },
          "colorway": [
           "#636efa",
           "#EF553B",
           "#00cc96",
           "#ab63fa",
           "#FFA15A",
           "#19d3f3",
           "#FF6692",
           "#B6E880",
           "#FF97FF",
           "#FECB52"
          ],
          "font": {
           "color": "#2a3f5f"
          },
          "geo": {
           "bgcolor": "white",
           "lakecolor": "white",
           "landcolor": "#E5ECF6",
           "showlakes": true,
           "showland": true,
           "subunitcolor": "white"
          },
          "hoverlabel": {
           "align": "left"
          },
          "hovermode": "closest",
          "mapbox": {
           "style": "light"
          },
          "paper_bgcolor": "white",
          "plot_bgcolor": "#E5ECF6",
          "polar": {
           "angularaxis": {
            "gridcolor": "white",
            "linecolor": "white",
            "ticks": ""
           },
           "bgcolor": "#E5ECF6",
           "radialaxis": {
            "gridcolor": "white",
            "linecolor": "white",
            "ticks": ""
           }
          },
          "scene": {
           "xaxis": {
            "backgroundcolor": "#E5ECF6",
            "gridcolor": "white",
            "gridwidth": 2,
            "linecolor": "white",
            "showbackground": true,
            "ticks": "",
            "zerolinecolor": "white"
           },
           "yaxis": {
            "backgroundcolor": "#E5ECF6",
            "gridcolor": "white",
            "gridwidth": 2,
            "linecolor": "white",
            "showbackground": true,
            "ticks": "",
            "zerolinecolor": "white"
           },
           "zaxis": {
            "backgroundcolor": "#E5ECF6",
            "gridcolor": "white",
            "gridwidth": 2,
            "linecolor": "white",
            "showbackground": true,
            "ticks": "",
            "zerolinecolor": "white"
           }
          },
          "shapedefaults": {
           "line": {
            "color": "#2a3f5f"
           }
          },
          "ternary": {
           "aaxis": {
            "gridcolor": "white",
            "linecolor": "white",
            "ticks": ""
           },
           "baxis": {
            "gridcolor": "white",
            "linecolor": "white",
            "ticks": ""
           },
           "bgcolor": "#E5ECF6",
           "caxis": {
            "gridcolor": "white",
            "linecolor": "white",
            "ticks": ""
           }
          },
          "title": {
           "x": 0.05
          },
          "xaxis": {
           "automargin": true,
           "gridcolor": "white",
           "linecolor": "white",
           "ticks": "",
           "title": {
            "standoff": 15
           },
           "zerolinecolor": "white",
           "zerolinewidth": 2
          },
          "yaxis": {
           "automargin": true,
           "gridcolor": "white",
           "linecolor": "white",
           "ticks": "",
           "title": {
            "standoff": 15
           },
           "zerolinecolor": "white",
           "zerolinewidth": 2
          }
         }
        },
        "title": {
         "text": "InchiKey overlap between training and bioactive set (All)"
        },
        "xaxis": {
         "anchor": "y",
         "domain": [
          0,
          1
         ],
         "title": {
          "text": "strain"
         }
        },
        "yaxis": {
         "anchor": "x",
         "domain": [
          0,
          1
         ],
         "title": {
          "text": "value"
         }
        }
       }
      }
     },
     "metadata": {},
     "output_type": "display_data"
    }
   ],
   "source": [
    "plot_cmpd_overlap()"
   ]
  },
  {
   "cell_type": "code",
   "execution_count": 24,
   "metadata": {},
   "outputs": [
    {
     "data": {
      "image/png": "[encoded data removed]",
      "text/plain": [
       "<Figure size 640x480 with 1 Axes>"
      ]
     },
     "metadata": {},
     "output_type": "display_data"
    }
   ],
   "source": [
    "bioactive_scaffolds = set([i.split(\"-\")[0] for i in bioactive_inchikeys])\n",
    "training_scaffolds = set([i.split(\"-\")[0] for i in training_inchikeys])\n",
    "ecbl_scaffolds = set([i.split(\"-\")[0] for i in ecbl_inchikeys])\n",
    "\n",
    "venn3_unweighted(\n",
    "    [training_scaffolds, bioactive_scaffolds, ecbl_scaffolds],\n",
    "    set_labels=(\"Training\", \"Bioactive\", \"ECBL\"),\n",
    ")\n",
    "plt.title(\"InchiKey scaffold overlap between training and bioactive set\")\n",
    "plt.show()"
   ]
  }
 ],
 "metadata": {
  "kernelspec": {
   "display_name": "amr",
   "language": "python",
   "name": "amr"
  },
  "language_info": {
   "codemirror_mode": {
    "name": "ipython",
    "version": 3
   },
   "file_extension": ".py",
   "mimetype": "text/x-python",
   "name": "python",
   "nbconvert_exporter": "python",
   "pygments_lexer": "ipython3",
   "version": "3.9.18"
  }
 },
 "nbformat": 4,
 "nbformat_minor": 2
}
