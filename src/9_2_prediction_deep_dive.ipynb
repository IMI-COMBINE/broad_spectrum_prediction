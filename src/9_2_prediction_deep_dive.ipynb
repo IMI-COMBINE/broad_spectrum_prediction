{
 "cells": [
  {
   "cell_type": "markdown",
   "metadata": {},
   "source": [
    "# Deep dive into results\n",
    "\n",
    "Analysing what the true positive rate for the predictions is."
   ]
  },
  {
   "cell_type": "code",
   "execution_count": 1,
   "metadata": {},
   "outputs": [],
   "source": [
    "import warnings\n",
    "\n",
    "warnings.simplefilter(action=\"ignore\", category=FutureWarning)"
   ]
  },
  {
   "cell_type": "code",
   "execution_count": 2,
   "metadata": {},
   "outputs": [],
   "source": [
    "import pandas as pd\n",
    "from rdkit import Chem\n",
    "from tqdm import tqdm\n",
    "import plotly.express as px\n",
    "\n",
    "from matplotlib_venn import venn3_unweighted\n",
    "import matplotlib.pyplot as plt\n",
    "import seaborn as sns\n",
    "\n",
    "pd.options.mode.chained_assignment = None  # default='warn'"
   ]
  },
  {
   "cell_type": "markdown",
   "metadata": {},
   "source": [
    "# Load datasets"
   ]
  },
  {
   "cell_type": "code",
   "execution_count": 3,
   "metadata": {},
   "outputs": [
    {
     "data": {
      "text/html": [
       "<div>\n",
       "<style scoped>\n",
       "    .dataframe tbody tr th:only-of-type {\n",
       "        vertical-align: middle;\n",
       "    }\n",
       "\n",
       "    .dataframe tbody tr th {\n",
       "        vertical-align: top;\n",
       "    }\n",
       "\n",
       "    .dataframe thead th {\n",
       "        text-align: right;\n",
       "    }\n",
       "</style>\n",
       "<table border=\"1\" class=\"dataframe\">\n",
       "  <thead>\n",
       "    <tr style=\"text-align: right;\">\n",
       "      <th></th>\n",
       "      <th>eos</th>\n",
       "      <th>smiles</th>\n",
       "      <th>Pseudomonas_aeruginosa_activity</th>\n",
       "      <th>Pseudomonas_aeruginosa_value</th>\n",
       "      <th>Candida_auris_activity</th>\n",
       "      <th>Candida_auris_value</th>\n",
       "      <th>Enterococcus_faecalis_activity</th>\n",
       "      <th>Enterococcus_faecalis_value</th>\n",
       "      <th>Escherichia_coli_activity</th>\n",
       "      <th>Escherichia_coli_value</th>\n",
       "      <th>Aspergillus_fumigatus_activity</th>\n",
       "      <th>Aspergillus_fumigatus_value</th>\n",
       "      <th>Candida_albicans_activity</th>\n",
       "      <th>Candida_albicans_value</th>\n",
       "      <th>Staphylococcus_aureus_activity</th>\n",
       "      <th>Staphylococcus_aureus_value</th>\n",
       "      <th>mhfp6</th>\n",
       "      <th>prediction</th>\n",
       "      <th>probability</th>\n",
       "    </tr>\n",
       "  </thead>\n",
       "  <tbody>\n",
       "    <tr>\n",
       "      <th>0</th>\n",
       "      <td>EOS82284</td>\n",
       "      <td>OC(Cn1cncn1)(Cn1cncn1)c1ccc(F)cc1F</td>\n",
       "      <td>inactive</td>\n",
       "      <td>-4.11</td>\n",
       "      <td>inconclusive</td>\n",
       "      <td>63.4</td>\n",
       "      <td>inactive</td>\n",
       "      <td>-20.8</td>\n",
       "      <td>inactive</td>\n",
       "      <td>-4.91</td>\n",
       "      <td>inactive</td>\n",
       "      <td>-31.7</td>\n",
       "      <td>inactive</td>\n",
       "      <td>1.75</td>\n",
       "      <td>inactive</td>\n",
       "      <td>-0.55</td>\n",
       "      <td>[297691353  76444608  30417937 ...  84759602  ...</td>\n",
       "      <td>fungi</td>\n",
       "      <td>0.955887</td>\n",
       "    </tr>\n",
       "    <tr>\n",
       "      <th>1</th>\n",
       "      <td>EOS11458</td>\n",
       "      <td>COc1ccc(C(=O)Nc2ccc(C)cc2)cc1OC</td>\n",
       "      <td>inactive</td>\n",
       "      <td>-6.49</td>\n",
       "      <td>inactive</td>\n",
       "      <td>27.8</td>\n",
       "      <td>inactive</td>\n",
       "      <td>-0.5</td>\n",
       "      <td>inactive</td>\n",
       "      <td>-4.83</td>\n",
       "      <td>inactive</td>\n",
       "      <td>-25.6</td>\n",
       "      <td>inactive</td>\n",
       "      <td>-6.30</td>\n",
       "      <td>inactive</td>\n",
       "      <td>7.90</td>\n",
       "      <td>[355394601  44409534 127404489 ...  67864610  ...</td>\n",
       "      <td>fungi</td>\n",
       "      <td>0.955829</td>\n",
       "    </tr>\n",
       "  </tbody>\n",
       "</table>\n",
       "</div>"
      ],
      "text/plain": [
       "        eos                              smiles  \\\n",
       "0  EOS82284  OC(Cn1cncn1)(Cn1cncn1)c1ccc(F)cc1F   \n",
       "1  EOS11458     COc1ccc(C(=O)Nc2ccc(C)cc2)cc1OC   \n",
       "\n",
       "  Pseudomonas_aeruginosa_activity  Pseudomonas_aeruginosa_value  \\\n",
       "0                        inactive                         -4.11   \n",
       "1                        inactive                         -6.49   \n",
       "\n",
       "  Candida_auris_activity  Candida_auris_value Enterococcus_faecalis_activity  \\\n",
       "0           inconclusive                 63.4                       inactive   \n",
       "1               inactive                 27.8                       inactive   \n",
       "\n",
       "   Enterococcus_faecalis_value Escherichia_coli_activity  \\\n",
       "0                        -20.8                  inactive   \n",
       "1                         -0.5                  inactive   \n",
       "\n",
       "   Escherichia_coli_value Aspergillus_fumigatus_activity  \\\n",
       "0                   -4.91                       inactive   \n",
       "1                   -4.83                       inactive   \n",
       "\n",
       "   Aspergillus_fumigatus_value Candida_albicans_activity  \\\n",
       "0                        -31.7                  inactive   \n",
       "1                        -25.6                  inactive   \n",
       "\n",
       "   Candida_albicans_value Staphylococcus_aureus_activity  \\\n",
       "0                    1.75                       inactive   \n",
       "1                   -6.30                       inactive   \n",
       "\n",
       "   Staphylococcus_aureus_value  \\\n",
       "0                        -0.55   \n",
       "1                         7.90   \n",
       "\n",
       "                                               mhfp6 prediction  probability  \n",
       "0  [297691353  76444608  30417937 ...  84759602  ...      fungi     0.955887  \n",
       "1  [355394601  44409534 127404489 ...  67864610  ...      fungi     0.955829  "
      ]
     },
     "execution_count": 3,
     "metadata": {},
     "output_type": "execute_result"
    }
   ],
   "source": [
    "ecbl_df = pd.read_csv(\"../data/predictions/euos_ecbl_predictions.csv\")\n",
    "ecbl_df.head(2)"
   ]
  },
  {
   "cell_type": "code",
   "execution_count": 4,
   "metadata": {},
   "outputs": [
    {
     "data": {
      "text/html": [
       "<div>\n",
       "<style scoped>\n",
       "    .dataframe tbody tr th:only-of-type {\n",
       "        vertical-align: middle;\n",
       "    }\n",
       "\n",
       "    .dataframe tbody tr th {\n",
       "        vertical-align: top;\n",
       "    }\n",
       "\n",
       "    .dataframe thead th {\n",
       "        text-align: right;\n",
       "    }\n",
       "</style>\n",
       "<table border=\"1\" class=\"dataframe\">\n",
       "  <thead>\n",
       "    <tr style=\"text-align: right;\">\n",
       "      <th></th>\n",
       "      <th>eos</th>\n",
       "      <th>smiles</th>\n",
       "      <th>Pseudomonas_aeruginosa_activity</th>\n",
       "      <th>Pseudomonas_aeruginosa_value</th>\n",
       "      <th>Candida_auris_activity</th>\n",
       "      <th>Candida_auris_value</th>\n",
       "      <th>Enterococcus_faecalis_activity</th>\n",
       "      <th>Enterococcus_faecalis_value</th>\n",
       "      <th>Escherichia_coli_activity</th>\n",
       "      <th>Escherichia_coli_value</th>\n",
       "      <th>Aspergillus_fumigatus_activity</th>\n",
       "      <th>Aspergillus_fumigatus_value</th>\n",
       "      <th>Candida_albicans_activity</th>\n",
       "      <th>Candida_albicans_value</th>\n",
       "      <th>Staphylococcus_aureus_activity</th>\n",
       "      <th>Staphylococcus_aureus_value</th>\n",
       "      <th>mhfp6</th>\n",
       "      <th>prediction</th>\n",
       "      <th>probability</th>\n",
       "    </tr>\n",
       "  </thead>\n",
       "  <tbody>\n",
       "    <tr>\n",
       "      <th>0</th>\n",
       "      <td>EOS102228</td>\n",
       "      <td>Cl.Cl.NCCCCCCCCN</td>\n",
       "      <td>inactive</td>\n",
       "      <td>-6.89</td>\n",
       "      <td>inactive</td>\n",
       "      <td>12.233333</td>\n",
       "      <td>inactive</td>\n",
       "      <td>-4.7</td>\n",
       "      <td>inactive</td>\n",
       "      <td>-12.17</td>\n",
       "      <td>inactive</td>\n",
       "      <td>-17.0</td>\n",
       "      <td>inactive</td>\n",
       "      <td>-16.95</td>\n",
       "      <td>inactive</td>\n",
       "      <td>10.95</td>\n",
       "      <td>[461248215  33988699 706189559 ... 231087554  ...</td>\n",
       "      <td>acid-fast</td>\n",
       "      <td>1.000000</td>\n",
       "    </tr>\n",
       "    <tr>\n",
       "      <th>1</th>\n",
       "      <td>EOS100708</td>\n",
       "      <td>CN(C/C=C/C#CC(C)(C)C)Cc1cccc2ccccc12.Cl</td>\n",
       "      <td>inactive</td>\n",
       "      <td>-0.17</td>\n",
       "      <td>active</td>\n",
       "      <td>71.800000</td>\n",
       "      <td>inactive</td>\n",
       "      <td>-22.3</td>\n",
       "      <td>inactive</td>\n",
       "      <td>-5.59</td>\n",
       "      <td>active</td>\n",
       "      <td>97.2</td>\n",
       "      <td>inconclusive</td>\n",
       "      <td>52.90</td>\n",
       "      <td>inactive</td>\n",
       "      <td>12.00</td>\n",
       "      <td>[123358859  33988699  63689098 ...  21856680 1...</td>\n",
       "      <td>fungi</td>\n",
       "      <td>0.999477</td>\n",
       "    </tr>\n",
       "  </tbody>\n",
       "</table>\n",
       "</div>"
      ],
      "text/plain": [
       "         eos                                   smiles  \\\n",
       "0  EOS102228                         Cl.Cl.NCCCCCCCCN   \n",
       "1  EOS100708  CN(C/C=C/C#CC(C)(C)C)Cc1cccc2ccccc12.Cl   \n",
       "\n",
       "  Pseudomonas_aeruginosa_activity  Pseudomonas_aeruginosa_value  \\\n",
       "0                        inactive                         -6.89   \n",
       "1                        inactive                         -0.17   \n",
       "\n",
       "  Candida_auris_activity  Candida_auris_value Enterococcus_faecalis_activity  \\\n",
       "0               inactive            12.233333                       inactive   \n",
       "1                 active            71.800000                       inactive   \n",
       "\n",
       "   Enterococcus_faecalis_value Escherichia_coli_activity  \\\n",
       "0                         -4.7                  inactive   \n",
       "1                        -22.3                  inactive   \n",
       "\n",
       "   Escherichia_coli_value Aspergillus_fumigatus_activity  \\\n",
       "0                  -12.17                       inactive   \n",
       "1                   -5.59                         active   \n",
       "\n",
       "   Aspergillus_fumigatus_value Candida_albicans_activity  \\\n",
       "0                        -17.0                  inactive   \n",
       "1                         97.2              inconclusive   \n",
       "\n",
       "   Candida_albicans_value Staphylococcus_aureus_activity  \\\n",
       "0                  -16.95                       inactive   \n",
       "1                   52.90                       inactive   \n",
       "\n",
       "   Staphylococcus_aureus_value  \\\n",
       "0                        10.95   \n",
       "1                        12.00   \n",
       "\n",
       "                                               mhfp6 prediction  probability  \n",
       "0  [461248215  33988699 706189559 ... 231087554  ...  acid-fast     1.000000  \n",
       "1  [123358859  33988699  63689098 ...  21856680 1...      fungi     0.999477  "
      ]
     },
     "execution_count": 4,
     "metadata": {},
     "output_type": "execute_result"
    }
   ],
   "source": [
    "bioactive_df = pd.read_csv(\"../data/predictions/euos_biactive_predictions.csv\")\n",
    "bioactive_df.head(2)"
   ]
  },
  {
   "cell_type": "code",
   "execution_count": 5,
   "metadata": {},
   "outputs": [],
   "source": [
    "def get_prediction_distribution(df):\n",
    "    pred_dict = {}\n",
    "\n",
    "    for eos_id, pred in tqdm(df[[\"eos\", \"prediction\"]].values):\n",
    "        if pred not in pred_dict:\n",
    "            pred_dict[pred] = set()\n",
    "        pred_dict[pred].add(eos_id)\n",
    "\n",
    "    fig = px.pie(\n",
    "        values=[len(v) for v in pred_dict.values()],\n",
    "        names=[k for k in pred_dict.keys()],\n",
    "    )\n",
    "    fig.show()"
   ]
  },
  {
   "cell_type": "code",
   "execution_count": 6,
   "metadata": {},
   "outputs": [
    {
     "name": "stderr",
     "output_type": "stream",
     "text": [
      "100%|██████████| 96092/96092 [00:00<00:00, 508455.00it/s]\n"
     ]
    },
    {
     "data": {
      "application/vnd.plotly.v1+json": {
       "config": {
        "plotlyServerURL": "https://plot.ly"
       },
       "data": [
        {
         "domain": {
          "x": [
           0,
           1
          ],
          "y": [
           0,
           1
          ]
         },
         "hovertemplate": "label=%{label}<br>value=%{value}<extra></extra>",
         "labels": [
          "fungi",
          "gram-negative",
          "inactive",
          "gram-positive",
          "acid-fast"
         ],
         "legendgroup": "",
         "name": "",
         "showlegend": true,
         "type": "pie",
         "values": [
          1475,
          951,
          87331,
          3739,
          2596
         ]
        }
       ],
       "layout": {
        "legend": {
         "tracegroupgap": 0
        },
        "margin": {
         "t": 60
        },
        "template": {
         "data": {
          "bar": [
           {
            "error_x": {
             "color": "#2a3f5f"
            },
            "error_y": {
             "color": "#2a3f5f"
            },
            "marker": {
             "line": {
              "color": "#E5ECF6",
              "width": 0.5
             },
             "pattern": {
              "fillmode": "overlay",
              "size": 10,
              "solidity": 0.2
             }
            },
            "type": "bar"
           }
          ],
          "barpolar": [
           {
            "marker": {
             "line": {
              "color": "#E5ECF6",
              "width": 0.5
             },
             "pattern": {
              "fillmode": "overlay",
              "size": 10,
              "solidity": 0.2
             }
            },
            "type": "barpolar"
           }
          ],
          "carpet": [
           {
            "aaxis": {
             "endlinecolor": "#2a3f5f",
             "gridcolor": "white",
             "linecolor": "white",
             "minorgridcolor": "white",
             "startlinecolor": "#2a3f5f"
            },
            "baxis": {
             "endlinecolor": "#2a3f5f",
             "gridcolor": "white",
             "linecolor": "white",
             "minorgridcolor": "white",
             "startlinecolor": "#2a3f5f"
            },
            "type": "carpet"
           }
          ],
          "choropleth": [
           {
            "colorbar": {
             "outlinewidth": 0,
             "ticks": ""
            },
            "type": "choropleth"
           }
          ],
          "contour": [
           {
            "colorbar": {
             "outlinewidth": 0,
             "ticks": ""
            },
            "colorscale": [
             [
              0,
              "#0d0887"
             ],
             [
              0.1111111111111111,
              "#46039f"
             ],
             [
              0.2222222222222222,
              "#7201a8"
             ],
             [
              0.3333333333333333,
              "#9c179e"
             ],
             [
              0.4444444444444444,
              "#bd3786"
             ],
             [
              0.5555555555555556,
              "#d8576b"
             ],
             [
              0.6666666666666666,
              "#ed7953"
             ],
             [
              0.7777777777777778,
              "#fb9f3a"
             ],
             [
              0.8888888888888888,
              "#fdca26"
             ],
             [
              1,
              "#f0f921"
             ]
            ],
            "type": "contour"
           }
          ],
          "contourcarpet": [
           {
            "colorbar": {
             "outlinewidth": 0,
             "ticks": ""
            },
            "type": "contourcarpet"
           }
          ],
          "heatmap": [
           {
            "colorbar": {
             "outlinewidth": 0,
             "ticks": ""
            },
            "colorscale": [
             [
              0,
              "#0d0887"
             ],
             [
              0.1111111111111111,
              "#46039f"
             ],
             [
              0.2222222222222222,
              "#7201a8"
             ],
             [
              0.3333333333333333,
              "#9c179e"
             ],
             [
              0.4444444444444444,
              "#bd3786"
             ],
             [
              0.5555555555555556,
              "#d8576b"
             ],
             [
              0.6666666666666666,
              "#ed7953"
             ],
             [
              0.7777777777777778,
              "#fb9f3a"
             ],
             [
              0.8888888888888888,
              "#fdca26"
             ],
             [
              1,
              "#f0f921"
             ]
            ],
            "type": "heatmap"
           }
          ],
          "heatmapgl": [
           {
            "colorbar": {
             "outlinewidth": 0,
             "ticks": ""
            },
            "colorscale": [
             [
              0,
              "#0d0887"
             ],
             [
              0.1111111111111111,
              "#46039f"
             ],
             [
              0.2222222222222222,
              "#7201a8"
             ],
             [
              0.3333333333333333,
              "#9c179e"
             ],
             [
              0.4444444444444444,
              "#bd3786"
             ],
             [
              0.5555555555555556,
              "#d8576b"
             ],
             [
              0.6666666666666666,
              "#ed7953"
             ],
             [
              0.7777777777777778,
              "#fb9f3a"
             ],
             [
              0.8888888888888888,
              "#fdca26"
             ],
             [
              1,
              "#f0f921"
             ]
            ],
            "type": "heatmapgl"
           }
          ],
          "histogram": [
           {
            "marker": {
             "pattern": {
              "fillmode": "overlay",
              "size": 10,
              "solidity": 0.2
             }
            },
            "type": "histogram"
           }
          ],
          "histogram2d": [
           {
            "colorbar": {
             "outlinewidth": 0,
             "ticks": ""
            },
            "colorscale": [
             [
              0,
              "#0d0887"
             ],
             [
              0.1111111111111111,
              "#46039f"
             ],
             [
              0.2222222222222222,
              "#7201a8"
             ],
             [
              0.3333333333333333,
              "#9c179e"
             ],
             [
              0.4444444444444444,
              "#bd3786"
             ],
             [
              0.5555555555555556,
              "#d8576b"
             ],
             [
              0.6666666666666666,
              "#ed7953"
             ],
             [
              0.7777777777777778,
              "#fb9f3a"
             ],
             [
              0.8888888888888888,
              "#fdca26"
             ],
             [
              1,
              "#f0f921"
             ]
            ],
            "type": "histogram2d"
           }
          ],
          "histogram2dcontour": [
           {
            "colorbar": {
             "outlinewidth": 0,
             "ticks": ""
            },
            "colorscale": [
             [
              0,
              "#0d0887"
             ],
             [
              0.1111111111111111,
              "#46039f"
             ],
             [
              0.2222222222222222,
              "#7201a8"
             ],
             [
              0.3333333333333333,
              "#9c179e"
             ],
             [
              0.4444444444444444,
              "#bd3786"
             ],
             [
              0.5555555555555556,
              "#d8576b"
             ],
             [
              0.6666666666666666,
              "#ed7953"
             ],
             [
              0.7777777777777778,
              "#fb9f3a"
             ],
             [
              0.8888888888888888,
              "#fdca26"
             ],
             [
              1,
              "#f0f921"
             ]
            ],
            "type": "histogram2dcontour"
           }
          ],
          "mesh3d": [
           {
            "colorbar": {
             "outlinewidth": 0,
             "ticks": ""
            },
            "type": "mesh3d"
           }
          ],
          "parcoords": [
           {
            "line": {
             "colorbar": {
              "outlinewidth": 0,
              "ticks": ""
             }
            },
            "type": "parcoords"
           }
          ],
          "pie": [
           {
            "automargin": true,
            "type": "pie"
           }
          ],
          "scatter": [
           {
            "fillpattern": {
             "fillmode": "overlay",
             "size": 10,
             "solidity": 0.2
            },
            "type": "scatter"
           }
          ],
          "scatter3d": [
           {
            "line": {
             "colorbar": {
              "outlinewidth": 0,
              "ticks": ""
             }
            },
            "marker": {
             "colorbar": {
              "outlinewidth": 0,
              "ticks": ""
             }
            },
            "type": "scatter3d"
           }
          ],
          "scattercarpet": [
           {
            "marker": {
             "colorbar": {
              "outlinewidth": 0,
              "ticks": ""
             }
            },
            "type": "scattercarpet"
           }
          ],
          "scattergeo": [
           {
            "marker": {
             "colorbar": {
              "outlinewidth": 0,
              "ticks": ""
             }
            },
            "type": "scattergeo"
           }
          ],
          "scattergl": [
           {
            "marker": {
             "colorbar": {
              "outlinewidth": 0,
              "ticks": ""
             }
            },
            "type": "scattergl"
           }
          ],
          "scattermapbox": [
           {
            "marker": {
             "colorbar": {
              "outlinewidth": 0,
              "ticks": ""
             }
            },
            "type": "scattermapbox"
           }
          ],
          "scatterpolar": [
           {
            "marker": {
             "colorbar": {
              "outlinewidth": 0,
              "ticks": ""
             }
            },
            "type": "scatterpolar"
           }
          ],
          "scatterpolargl": [
           {
            "marker": {
             "colorbar": {
              "outlinewidth": 0,
              "ticks": ""
             }
            },
            "type": "scatterpolargl"
           }
          ],
          "scatterternary": [
           {
            "marker": {
             "colorbar": {
              "outlinewidth": 0,
              "ticks": ""
             }
            },
            "type": "scatterternary"
           }
          ],
          "surface": [
           {
            "colorbar": {
             "outlinewidth": 0,
             "ticks": ""
            },
            "colorscale": [
             [
              0,
              "#0d0887"
             ],
             [
              0.1111111111111111,
              "#46039f"
             ],
             [
              0.2222222222222222,
              "#7201a8"
             ],
             [
              0.3333333333333333,
              "#9c179e"
             ],
             [
              0.4444444444444444,
              "#bd3786"
             ],
             [
              0.5555555555555556,
              "#d8576b"
             ],
             [
              0.6666666666666666,
              "#ed7953"
             ],
             [
              0.7777777777777778,
              "#fb9f3a"
             ],
             [
              0.8888888888888888,
              "#fdca26"
             ],
             [
              1,
              "#f0f921"
             ]
            ],
            "type": "surface"
           }
          ],
          "table": [
           {
            "cells": {
             "fill": {
              "color": "#EBF0F8"
             },
             "line": {
              "color": "white"
             }
            },
            "header": {
             "fill": {
              "color": "#C8D4E3"
             },
             "line": {
              "color": "white"
             }
            },
            "type": "table"
           }
          ]
         },
         "layout": {
          "annotationdefaults": {
           "arrowcolor": "#2a3f5f",
           "arrowhead": 0,
           "arrowwidth": 1
          },
          "autotypenumbers": "strict",
          "coloraxis": {
           "colorbar": {
            "outlinewidth": 0,
            "ticks": ""
           }
          },
          "colorscale": {
           "diverging": [
            [
             0,
             "#8e0152"
            ],
            [
             0.1,
             "#c51b7d"
            ],
            [
             0.2,
             "#de77ae"
            ],
            [
             0.3,
             "#f1b6da"
            ],
            [
             0.4,
             "#fde0ef"
            ],
            [
             0.5,
             "#f7f7f7"
            ],
            [
             0.6,
             "#e6f5d0"
            ],
            [
             0.7,
             "#b8e186"
            ],
            [
             0.8,
             "#7fbc41"
            ],
            [
             0.9,
             "#4d9221"
            ],
            [
             1,
             "#276419"
            ]
           ],
           "sequential": [
            [
             0,
             "#0d0887"
            ],
            [
             0.1111111111111111,
             "#46039f"
            ],
            [
             0.2222222222222222,
             "#7201a8"
            ],
            [
             0.3333333333333333,
             "#9c179e"
            ],
            [
             0.4444444444444444,
             "#bd3786"
            ],
            [
             0.5555555555555556,
             "#d8576b"
            ],
            [
             0.6666666666666666,
             "#ed7953"
            ],
            [
             0.7777777777777778,
             "#fb9f3a"
            ],
            [
             0.8888888888888888,
             "#fdca26"
            ],
            [
             1,
             "#f0f921"
            ]
           ],
           "sequentialminus": [
            [
             0,
             "#0d0887"
            ],
            [
             0.1111111111111111,
             "#46039f"
            ],
            [
             0.2222222222222222,
             "#7201a8"
            ],
            [
             0.3333333333333333,
             "#9c179e"
            ],
            [
             0.4444444444444444,
             "#bd3786"
            ],
            [
             0.5555555555555556,
             "#d8576b"
            ],
            [
             0.6666666666666666,
             "#ed7953"
            ],
            [
             0.7777777777777778,
             "#fb9f3a"
            ],
            [
             0.8888888888888888,
             "#fdca26"
            ],
            [
             1,
             "#f0f921"
            ]
           ]
          },
          "colorway": [
           "#636efa",
           "#EF553B",
           "#00cc96",
           "#ab63fa",
           "#FFA15A",
           "#19d3f3",
           "#FF6692",
           "#B6E880",
           "#FF97FF",
           "#FECB52"
          ],
          "font": {
           "color": "#2a3f5f"
          },
          "geo": {
           "bgcolor": "white",
           "lakecolor": "white",
           "landcolor": "#E5ECF6",
           "showlakes": true,
           "showland": true,
           "subunitcolor": "white"
          },
          "hoverlabel": {
           "align": "left"
          },
          "hovermode": "closest",
          "mapbox": {
           "style": "light"
          },
          "paper_bgcolor": "white",
          "plot_bgcolor": "#E5ECF6",
          "polar": {
           "angularaxis": {
            "gridcolor": "white",
            "linecolor": "white",
            "ticks": ""
           },
           "bgcolor": "#E5ECF6",
           "radialaxis": {
            "gridcolor": "white",
            "linecolor": "white",
            "ticks": ""
           }
          },
          "scene": {
           "xaxis": {
            "backgroundcolor": "#E5ECF6",
            "gridcolor": "white",
            "gridwidth": 2,
            "linecolor": "white",
            "showbackground": true,
            "ticks": "",
            "zerolinecolor": "white"
           },
           "yaxis": {
            "backgroundcolor": "#E5ECF6",
            "gridcolor": "white",
            "gridwidth": 2,
            "linecolor": "white",
            "showbackground": true,
            "ticks": "",
            "zerolinecolor": "white"
           },
           "zaxis": {
            "backgroundcolor": "#E5ECF6",
            "gridcolor": "white",
            "gridwidth": 2,
            "linecolor": "white",
            "showbackground": true,
            "ticks": "",
            "zerolinecolor": "white"
           }
          },
          "shapedefaults": {
           "line": {
            "color": "#2a3f5f"
           }
          },
          "ternary": {
           "aaxis": {
            "gridcolor": "white",
            "linecolor": "white",
            "ticks": ""
           },
           "baxis": {
            "gridcolor": "white",
            "linecolor": "white",
            "ticks": ""
           },
           "bgcolor": "#E5ECF6",
           "caxis": {
            "gridcolor": "white",
            "linecolor": "white",
            "ticks": ""
           }
          },
          "title": {
           "x": 0.05
          },
          "xaxis": {
           "automargin": true,
           "gridcolor": "white",
           "linecolor": "white",
           "ticks": "",
           "title": {
            "standoff": 15
           },
           "zerolinecolor": "white",
           "zerolinewidth": 2
          },
          "yaxis": {
           "automargin": true,
           "gridcolor": "white",
           "linecolor": "white",
           "ticks": "",
           "title": {
            "standoff": 15
           },
           "zerolinecolor": "white",
           "zerolinewidth": 2
          }
         }
        }
       }
      }
     },
     "metadata": {},
     "output_type": "display_data"
    }
   ],
   "source": [
    "get_prediction_distribution(ecbl_df)"
   ]
  },
  {
   "cell_type": "code",
   "execution_count": 7,
   "metadata": {},
   "outputs": [
    {
     "name": "stderr",
     "output_type": "stream",
     "text": [
      "  0%|          | 0/4927 [00:00<?, ?it/s]"
     ]
    },
    {
     "name": "stderr",
     "output_type": "stream",
     "text": [
      "100%|██████████| 4927/4927 [00:00<00:00, 398667.64it/s]\n"
     ]
    },
    {
     "data": {
      "application/vnd.plotly.v1+json": {
       "config": {
        "plotlyServerURL": "https://plot.ly"
       },
       "data": [
        {
         "domain": {
          "x": [
           0,
           1
          ],
          "y": [
           0,
           1
          ]
         },
         "hovertemplate": "label=%{label}<br>value=%{value}<extra></extra>",
         "labels": [
          "acid-fast",
          "fungi",
          "gram-negative",
          "gram-positive",
          "inactive"
         ],
         "legendgroup": "",
         "name": "",
         "showlegend": true,
         "type": "pie",
         "values": [
          154,
          98,
          105,
          540,
          4030
         ]
        }
       ],
       "layout": {
        "legend": {
         "tracegroupgap": 0
        },
        "margin": {
         "t": 60
        },
        "template": {
         "data": {
          "bar": [
           {
            "error_x": {
             "color": "#2a3f5f"
            },
            "error_y": {
             "color": "#2a3f5f"
            },
            "marker": {
             "line": {
              "color": "#E5ECF6",
              "width": 0.5
             },
             "pattern": {
              "fillmode": "overlay",
              "size": 10,
              "solidity": 0.2
             }
            },
            "type": "bar"
           }
          ],
          "barpolar": [
           {
            "marker": {
             "line": {
              "color": "#E5ECF6",
              "width": 0.5
             },
             "pattern": {
              "fillmode": "overlay",
              "size": 10,
              "solidity": 0.2
             }
            },
            "type": "barpolar"
           }
          ],
          "carpet": [
           {
            "aaxis": {
             "endlinecolor": "#2a3f5f",
             "gridcolor": "white",
             "linecolor": "white",
             "minorgridcolor": "white",
             "startlinecolor": "#2a3f5f"
            },
            "baxis": {
             "endlinecolor": "#2a3f5f",
             "gridcolor": "white",
             "linecolor": "white",
             "minorgridcolor": "white",
             "startlinecolor": "#2a3f5f"
            },
            "type": "carpet"
           }
          ],
          "choropleth": [
           {
            "colorbar": {
             "outlinewidth": 0,
             "ticks": ""
            },
            "type": "choropleth"
           }
          ],
          "contour": [
           {
            "colorbar": {
             "outlinewidth": 0,
             "ticks": ""
            },
            "colorscale": [
             [
              0,
              "#0d0887"
             ],
             [
              0.1111111111111111,
              "#46039f"
             ],
             [
              0.2222222222222222,
              "#7201a8"
             ],
             [
              0.3333333333333333,
              "#9c179e"
             ],
             [
              0.4444444444444444,
              "#bd3786"
             ],
             [
              0.5555555555555556,
              "#d8576b"
             ],
             [
              0.6666666666666666,
              "#ed7953"
             ],
             [
              0.7777777777777778,
              "#fb9f3a"
             ],
             [
              0.8888888888888888,
              "#fdca26"
             ],
             [
              1,
              "#f0f921"
             ]
            ],
            "type": "contour"
           }
          ],
          "contourcarpet": [
           {
            "colorbar": {
             "outlinewidth": 0,
             "ticks": ""
            },
            "type": "contourcarpet"
           }
          ],
          "heatmap": [
           {
            "colorbar": {
             "outlinewidth": 0,
             "ticks": ""
            },
            "colorscale": [
             [
              0,
              "#0d0887"
             ],
             [
              0.1111111111111111,
              "#46039f"
             ],
             [
              0.2222222222222222,
              "#7201a8"
             ],
             [
              0.3333333333333333,
              "#9c179e"
             ],
             [
              0.4444444444444444,
              "#bd3786"
             ],
             [
              0.5555555555555556,
              "#d8576b"
             ],
             [
              0.6666666666666666,
              "#ed7953"
             ],
             [
              0.7777777777777778,
              "#fb9f3a"
             ],
             [
              0.8888888888888888,
              "#fdca26"
             ],
             [
              1,
              "#f0f921"
             ]
            ],
            "type": "heatmap"
           }
          ],
          "heatmapgl": [
           {
            "colorbar": {
             "outlinewidth": 0,
             "ticks": ""
            },
            "colorscale": [
             [
              0,
              "#0d0887"
             ],
             [
              0.1111111111111111,
              "#46039f"
             ],
             [
              0.2222222222222222,
              "#7201a8"
             ],
             [
              0.3333333333333333,
              "#9c179e"
             ],
             [
              0.4444444444444444,
              "#bd3786"
             ],
             [
              0.5555555555555556,
              "#d8576b"
             ],
             [
              0.6666666666666666,
              "#ed7953"
             ],
             [
              0.7777777777777778,
              "#fb9f3a"
             ],
             [
              0.8888888888888888,
              "#fdca26"
             ],
             [
              1,
              "#f0f921"
             ]
            ],
            "type": "heatmapgl"
           }
          ],
          "histogram": [
           {
            "marker": {
             "pattern": {
              "fillmode": "overlay",
              "size": 10,
              "solidity": 0.2
             }
            },
            "type": "histogram"
           }
          ],
          "histogram2d": [
           {
            "colorbar": {
             "outlinewidth": 0,
             "ticks": ""
            },
            "colorscale": [
             [
              0,
              "#0d0887"
             ],
             [
              0.1111111111111111,
              "#46039f"
             ],
             [
              0.2222222222222222,
              "#7201a8"
             ],
             [
              0.3333333333333333,
              "#9c179e"
             ],
             [
              0.4444444444444444,
              "#bd3786"
             ],
             [
              0.5555555555555556,
              "#d8576b"
             ],
             [
              0.6666666666666666,
              "#ed7953"
             ],
             [
              0.7777777777777778,
              "#fb9f3a"
             ],
             [
              0.8888888888888888,
              "#fdca26"
             ],
             [
              1,
              "#f0f921"
             ]
            ],
            "type": "histogram2d"
           }
          ],
          "histogram2dcontour": [
           {
            "colorbar": {
             "outlinewidth": 0,
             "ticks": ""
            },
            "colorscale": [
             [
              0,
              "#0d0887"
             ],
             [
              0.1111111111111111,
              "#46039f"
             ],
             [
              0.2222222222222222,
              "#7201a8"
             ],
             [
              0.3333333333333333,
              "#9c179e"
             ],
             [
              0.4444444444444444,
              "#bd3786"
             ],
             [
              0.5555555555555556,
              "#d8576b"
             ],
             [
              0.6666666666666666,
              "#ed7953"
             ],
             [
              0.7777777777777778,
              "#fb9f3a"
             ],
             [
              0.8888888888888888,
              "#fdca26"
             ],
             [
              1,
              "#f0f921"
             ]
            ],
            "type": "histogram2dcontour"
           }
          ],
          "mesh3d": [
           {
            "colorbar": {
             "outlinewidth": 0,
             "ticks": ""
            },
            "type": "mesh3d"
           }
          ],
          "parcoords": [
           {
            "line": {
             "colorbar": {
              "outlinewidth": 0,
              "ticks": ""
             }
            },
            "type": "parcoords"
           }
          ],
          "pie": [
           {
            "automargin": true,
            "type": "pie"
           }
          ],
          "scatter": [
           {
            "fillpattern": {
             "fillmode": "overlay",
             "size": 10,
             "solidity": 0.2
            },
            "type": "scatter"
           }
          ],
          "scatter3d": [
           {
            "line": {
             "colorbar": {
              "outlinewidth": 0,
              "ticks": ""
             }
            },
            "marker": {
             "colorbar": {
              "outlinewidth": 0,
              "ticks": ""
             }
            },
            "type": "scatter3d"
           }
          ],
          "scattercarpet": [
           {
            "marker": {
             "colorbar": {
              "outlinewidth": 0,
              "ticks": ""
             }
            },
            "type": "scattercarpet"
           }
          ],
          "scattergeo": [
           {
            "marker": {
             "colorbar": {
              "outlinewidth": 0,
              "ticks": ""
             }
            },
            "type": "scattergeo"
           }
          ],
          "scattergl": [
           {
            "marker": {
             "colorbar": {
              "outlinewidth": 0,
              "ticks": ""
             }
            },
            "type": "scattergl"
           }
          ],
          "scattermapbox": [
           {
            "marker": {
             "colorbar": {
              "outlinewidth": 0,
              "ticks": ""
             }
            },
            "type": "scattermapbox"
           }
          ],
          "scatterpolar": [
           {
            "marker": {
             "colorbar": {
              "outlinewidth": 0,
              "ticks": ""
             }
            },
            "type": "scatterpolar"
           }
          ],
          "scatterpolargl": [
           {
            "marker": {
             "colorbar": {
              "outlinewidth": 0,
              "ticks": ""
             }
            },
            "type": "scatterpolargl"
           }
          ],
          "scatterternary": [
           {
            "marker": {
             "colorbar": {
              "outlinewidth": 0,
              "ticks": ""
             }
            },
            "type": "scatterternary"
           }
          ],
          "surface": [
           {
            "colorbar": {
             "outlinewidth": 0,
             "ticks": ""
            },
            "colorscale": [
             [
              0,
              "#0d0887"
             ],
             [
              0.1111111111111111,
              "#46039f"
             ],
             [
              0.2222222222222222,
              "#7201a8"
             ],
             [
              0.3333333333333333,
              "#9c179e"
             ],
             [
              0.4444444444444444,
              "#bd3786"
             ],
             [
              0.5555555555555556,
              "#d8576b"
             ],
             [
              0.6666666666666666,
              "#ed7953"
             ],
             [
              0.7777777777777778,
              "#fb9f3a"
             ],
             [
              0.8888888888888888,
              "#fdca26"
             ],
             [
              1,
              "#f0f921"
             ]
            ],
            "type": "surface"
           }
          ],
          "table": [
           {
            "cells": {
             "fill": {
              "color": "#EBF0F8"
             },
             "line": {
              "color": "white"
             }
            },
            "header": {
             "fill": {
              "color": "#C8D4E3"
             },
             "line": {
              "color": "white"
             }
            },
            "type": "table"
           }
          ]
         },
         "layout": {
          "annotationdefaults": {
           "arrowcolor": "#2a3f5f",
           "arrowhead": 0,
           "arrowwidth": 1
          },
          "autotypenumbers": "strict",
          "coloraxis": {
           "colorbar": {
            "outlinewidth": 0,
            "ticks": ""
           }
          },
          "colorscale": {
           "diverging": [
            [
             0,
             "#8e0152"
            ],
            [
             0.1,
             "#c51b7d"
            ],
            [
             0.2,
             "#de77ae"
            ],
            [
             0.3,
             "#f1b6da"
            ],
            [
             0.4,
             "#fde0ef"
            ],
            [
             0.5,
             "#f7f7f7"
            ],
            [
             0.6,
             "#e6f5d0"
            ],
            [
             0.7,
             "#b8e186"
            ],
            [
             0.8,
             "#7fbc41"
            ],
            [
             0.9,
             "#4d9221"
            ],
            [
             1,
             "#276419"
            ]
           ],
           "sequential": [
            [
             0,
             "#0d0887"
            ],
            [
             0.1111111111111111,
             "#46039f"
            ],
            [
             0.2222222222222222,
             "#7201a8"
            ],
            [
             0.3333333333333333,
             "#9c179e"
            ],
            [
             0.4444444444444444,
             "#bd3786"
            ],
            [
             0.5555555555555556,
             "#d8576b"
            ],
            [
             0.6666666666666666,
             "#ed7953"
            ],
            [
             0.7777777777777778,
             "#fb9f3a"
            ],
            [
             0.8888888888888888,
             "#fdca26"
            ],
            [
             1,
             "#f0f921"
            ]
           ],
           "sequentialminus": [
            [
             0,
             "#0d0887"
            ],
            [
             0.1111111111111111,
             "#46039f"
            ],
            [
             0.2222222222222222,
             "#7201a8"
            ],
            [
             0.3333333333333333,
             "#9c179e"
            ],
            [
             0.4444444444444444,
             "#bd3786"
            ],
            [
             0.5555555555555556,
             "#d8576b"
            ],
            [
             0.6666666666666666,
             "#ed7953"
            ],
            [
             0.7777777777777778,
             "#fb9f3a"
            ],
            [
             0.8888888888888888,
             "#fdca26"
            ],
            [
             1,
             "#f0f921"
            ]
           ]
          },
          "colorway": [
           "#636efa",
           "#EF553B",
           "#00cc96",
           "#ab63fa",
           "#FFA15A",
           "#19d3f3",
           "#FF6692",
           "#B6E880",
           "#FF97FF",
           "#FECB52"
          ],
          "font": {
           "color": "#2a3f5f"
          },
          "geo": {
           "bgcolor": "white",
           "lakecolor": "white",
           "landcolor": "#E5ECF6",
           "showlakes": true,
           "showland": true,
           "subunitcolor": "white"
          },
          "hoverlabel": {
           "align": "left"
          },
          "hovermode": "closest",
          "mapbox": {
           "style": "light"
          },
          "paper_bgcolor": "white",
          "plot_bgcolor": "#E5ECF6",
          "polar": {
           "angularaxis": {
            "gridcolor": "white",
            "linecolor": "white",
            "ticks": ""
           },
           "bgcolor": "#E5ECF6",
           "radialaxis": {
            "gridcolor": "white",
            "linecolor": "white",
            "ticks": ""
           }
          },
          "scene": {
           "xaxis": {
            "backgroundcolor": "#E5ECF6",
            "gridcolor": "white",
            "gridwidth": 2,
            "linecolor": "white",
            "showbackground": true,
            "ticks": "",
            "zerolinecolor": "white"
           },
           "yaxis": {
            "backgroundcolor": "#E5ECF6",
            "gridcolor": "white",
            "gridwidth": 2,
            "linecolor": "white",
            "showbackground": true,
            "ticks": "",
            "zerolinecolor": "white"
           },
           "zaxis": {
            "backgroundcolor": "#E5ECF6",
            "gridcolor": "white",
            "gridwidth": 2,
            "linecolor": "white",
            "showbackground": true,
            "ticks": "",
            "zerolinecolor": "white"
           }
          },
          "shapedefaults": {
           "line": {
            "color": "#2a3f5f"
           }
          },
          "ternary": {
           "aaxis": {
            "gridcolor": "white",
            "linecolor": "white",
            "ticks": ""
           },
           "baxis": {
            "gridcolor": "white",
            "linecolor": "white",
            "ticks": ""
           },
           "bgcolor": "#E5ECF6",
           "caxis": {
            "gridcolor": "white",
            "linecolor": "white",
            "ticks": ""
           }
          },
          "title": {
           "x": 0.05
          },
          "xaxis": {
           "automargin": true,
           "gridcolor": "white",
           "linecolor": "white",
           "ticks": "",
           "title": {
            "standoff": 15
           },
           "zerolinecolor": "white",
           "zerolinewidth": 2
          },
          "yaxis": {
           "automargin": true,
           "gridcolor": "white",
           "linecolor": "white",
           "ticks": "",
           "title": {
            "standoff": 15
           },
           "zerolinecolor": "white",
           "zerolinewidth": 2
          }
         }
        }
       }
      }
     },
     "metadata": {},
     "output_type": "display_data"
    }
   ],
   "source": [
    "get_prediction_distribution(bioactive_df)"
   ]
  },
  {
   "cell_type": "code",
   "execution_count": 8,
   "metadata": {},
   "outputs": [],
   "source": [
    "def get_activity_distribution(df, library_name, title):\n",
    "    act_dict = []\n",
    "\n",
    "    orgs = {\n",
    "        \"Staphylococcus_aureus\": \"gram-positive\",\n",
    "        \"Pseudomonas_aeruginosa\": \"gram-negative\",\n",
    "        \"Candida_auris\": \"fungi\",\n",
    "        \"Enterococcus_faecalis\": \"gram-positive\",\n",
    "        \"Aspergillus_fumigatus\": \"fungi\",\n",
    "        \"Candida_albicans\": \"fungi\",\n",
    "        \"Escherichia_coli\": \"gram-negative\",\n",
    "    }\n",
    "\n",
    "    val_cols = [f\"{col}_value\" for col in orgs.keys()]\n",
    "\n",
    "    for val, org in zip(val_cols, orgs.keys()):\n",
    "        tmp = df[[\"eos\", val]].dropna()\n",
    "        tmp[\"activity\"] = tmp[val].apply(lambda x: \"Active\" if x >= 50 else \"Inactive\")\n",
    "        tmp_act_dict = tmp[\"activity\"].value_counts().to_dict()\n",
    "        tmp_act_dict[\"organism\"] = \" \".join(org.split(\"_\"))\n",
    "        tmp_act_dict[\"organism_type\"] = orgs[org]\n",
    "        act_dict.append(tmp_act_dict)\n",
    "\n",
    "    act_df = pd.DataFrame(act_dict)\n",
    "    act_df = act_df.set_index(\"organism\")\n",
    "\n",
    "    total = act_df.select_dtypes(include=\"number\").sum(axis=1)\n",
    "    act_df[\"total\"] = total\n",
    "    act_df[\"active_percentage\"] = (act_df[\"Active\"] / act_df[\"total\"]) * 100\n",
    "    act_df[\"active_percentage\"] = act_df[\"active_percentage\"].round(2)\n",
    "    act_df.sort_values(by=\"active_percentage\", ascending=False, inplace=True)\n",
    "\n",
    "    plt.figure(figsize=(20, 10))\n",
    "    sns.barplot(\n",
    "        data=act_df,\n",
    "        x=act_df.index,\n",
    "        y=\"active_percentage\",\n",
    "        color=\"#ffb266\",\n",
    "        label=\"Active percentage\",\n",
    "        estimator=sum,\n",
    "    )\n",
    "\n",
    "    # add counts on the top of the bars\n",
    "    for i in range(len(act_df)):\n",
    "        plt.text(\n",
    "            i,\n",
    "            act_df[\"active_percentage\"][i],\n",
    "            f\"{act_df['active_percentage'][i]} %\",\n",
    "            ha=\"center\",\n",
    "            va=\"bottom\",\n",
    "            fontsize=16,\n",
    "        )\n",
    "    plt.xlabel(\"Pathogen\", fontsize=18)\n",
    "    plt.ylabel(\"Active percentage\", fontsize=18)\n",
    "    plt.xticks(rotation=45, fontsize=16)\n",
    "    plt.yticks(fontsize=16)\n",
    "    plt.title(f\"Activity distribution of {library_name} compounds\", fontsize=20)\n",
    "    plt.tight_layout()\n",
    "    plt.savefig(f\"../figures/{title}.png\", dpi=400)\n",
    "    plt.show()\n",
    "    return act_df"
   ]
  },
  {
   "cell_type": "code",
   "execution_count": 9,
   "metadata": {},
   "outputs": [
    {
     "data": {
      "image/png": "[encoded data removed]",
      "text/plain": [
       "<Figure size 2000x1000 with 1 Axes>"
      ]
     },
     "metadata": {},
     "output_type": "display_data"
    }
   ],
   "source": [
    "df_1 = get_activity_distribution(ecbl_df, title=\"figure_8\", library_name=\"ECBL\")"
   ]
  },
  {
   "cell_type": "code",
   "execution_count": 10,
   "metadata": {},
   "outputs": [
    {
     "data": {
      "text/html": [
       "<div>\n",
       "<style scoped>\n",
       "    .dataframe tbody tr th:only-of-type {\n",
       "        vertical-align: middle;\n",
       "    }\n",
       "\n",
       "    .dataframe tbody tr th {\n",
       "        vertical-align: top;\n",
       "    }\n",
       "\n",
       "    .dataframe thead th {\n",
       "        text-align: right;\n",
       "    }\n",
       "</style>\n",
       "<table border=\"1\" class=\"dataframe\">\n",
       "  <thead>\n",
       "    <tr style=\"text-align: right;\">\n",
       "      <th></th>\n",
       "      <th>Inactive</th>\n",
       "      <th>Active</th>\n",
       "      <th>organism_type</th>\n",
       "      <th>total</th>\n",
       "      <th>active_percentage</th>\n",
       "    </tr>\n",
       "    <tr>\n",
       "      <th>organism</th>\n",
       "      <th></th>\n",
       "      <th></th>\n",
       "      <th></th>\n",
       "      <th></th>\n",
       "      <th></th>\n",
       "    </tr>\n",
       "  </thead>\n",
       "  <tbody>\n",
       "    <tr>\n",
       "      <th>Candida auris</th>\n",
       "      <td>49.507047</td>\n",
       "      <td>0.492696</td>\n",
       "      <td>fungi</td>\n",
       "      <td>96002</td>\n",
       "      <td>0.99</td>\n",
       "    </tr>\n",
       "    <tr>\n",
       "      <th>Aspergillus fumigatus</th>\n",
       "      <td>49.896878</td>\n",
       "      <td>0.103067</td>\n",
       "      <td>fungi</td>\n",
       "      <td>96054</td>\n",
       "      <td>0.21</td>\n",
       "    </tr>\n",
       "    <tr>\n",
       "      <th>Candida albicans</th>\n",
       "      <td>49.931724</td>\n",
       "      <td>0.068239</td>\n",
       "      <td>fungi</td>\n",
       "      <td>95986</td>\n",
       "      <td>0.14</td>\n",
       "    </tr>\n",
       "    <tr>\n",
       "      <th>Escherichia coli</th>\n",
       "      <td>49.986462</td>\n",
       "      <td>0.013530</td>\n",
       "      <td>gram-negative</td>\n",
       "      <td>96082</td>\n",
       "      <td>0.03</td>\n",
       "    </tr>\n",
       "    <tr>\n",
       "      <th>Pseudomonas aeruginosa</th>\n",
       "      <td>49.999480</td>\n",
       "      <td>0.000520</td>\n",
       "      <td>gram-negative</td>\n",
       "      <td>96062</td>\n",
       "      <td>0.00</td>\n",
       "    </tr>\n",
       "    <tr>\n",
       "      <th>Staphylococcus aureus</th>\n",
       "      <td>49.487416</td>\n",
       "      <td>0.512318</td>\n",
       "      <td>gram-positive</td>\n",
       "      <td>95936</td>\n",
       "      <td>1.02</td>\n",
       "    </tr>\n",
       "    <tr>\n",
       "      <th>Enterococcus faecalis</th>\n",
       "      <td>49.982271</td>\n",
       "      <td>0.017718</td>\n",
       "      <td>gram-positive</td>\n",
       "      <td>95946</td>\n",
       "      <td>0.04</td>\n",
       "    </tr>\n",
       "  </tbody>\n",
       "</table>\n",
       "</div>"
      ],
      "text/plain": [
       "                         Inactive    Active  organism_type  total  \\\n",
       "organism                                                            \n",
       "Candida auris           49.507047  0.492696          fungi  96002   \n",
       "Aspergillus fumigatus   49.896878  0.103067          fungi  96054   \n",
       "Candida albicans        49.931724  0.068239          fungi  95986   \n",
       "Escherichia coli        49.986462  0.013530  gram-negative  96082   \n",
       "Pseudomonas aeruginosa  49.999480  0.000520  gram-negative  96062   \n",
       "Staphylococcus aureus   49.487416  0.512318  gram-positive  95936   \n",
       "Enterococcus faecalis   49.982271  0.017718  gram-positive  95946   \n",
       "\n",
       "                        active_percentage  \n",
       "organism                                   \n",
       "Candida auris                        0.99  \n",
       "Aspergillus fumigatus                0.21  \n",
       "Candida albicans                     0.14  \n",
       "Escherichia coli                     0.03  \n",
       "Pseudomonas aeruginosa               0.00  \n",
       "Staphylococcus aureus                1.02  \n",
       "Enterococcus faecalis                0.04  "
      ]
     },
     "execution_count": 10,
     "metadata": {},
     "output_type": "execute_result"
    }
   ],
   "source": [
    "# normalize the values row-wise\n",
    "df_1[\"sum\"] = df_1.select_dtypes(include=\"number\").sum(axis=1)\n",
    "df_1[\"Inactive\"] = df_1[\"Inactive\"].div(df_1[\"sum\"], axis=0) * 100\n",
    "df_1[\"Active\"] = df_1[\"Active\"].div(df_1[\"sum\"], axis=0) * 100\n",
    "df_1 = df_1.drop(columns=[\"sum\"])\n",
    "df_1.sort_values(by=\"organism_type\")"
   ]
  },
  {
   "cell_type": "code",
   "execution_count": 11,
   "metadata": {},
   "outputs": [
    {
     "data": {
      "image/png": "[encoded data removed]",
      "text/plain": [
       "<Figure size 2000x1000 with 1 Axes>"
      ]
     },
     "metadata": {},
     "output_type": "display_data"
    }
   ],
   "source": [
    "df_2 = get_activity_distribution(\n",
    "    bioactive_df, title=\"figure_9\", library_name=\"Bioactive\"\n",
    ")"
   ]
  },
  {
   "cell_type": "code",
   "execution_count": 12,
   "metadata": {},
   "outputs": [
    {
     "data": {
      "text/html": [
       "<div>\n",
       "<style scoped>\n",
       "    .dataframe tbody tr th:only-of-type {\n",
       "        vertical-align: middle;\n",
       "    }\n",
       "\n",
       "    .dataframe tbody tr th {\n",
       "        vertical-align: top;\n",
       "    }\n",
       "\n",
       "    .dataframe thead th {\n",
       "        text-align: right;\n",
       "    }\n",
       "</style>\n",
       "<table border=\"1\" class=\"dataframe\">\n",
       "  <thead>\n",
       "    <tr style=\"text-align: right;\">\n",
       "      <th></th>\n",
       "      <th>Inactive</th>\n",
       "      <th>Active</th>\n",
       "      <th>organism_type</th>\n",
       "      <th>total</th>\n",
       "      <th>active_percentage</th>\n",
       "    </tr>\n",
       "    <tr>\n",
       "      <th>organism</th>\n",
       "      <th></th>\n",
       "      <th></th>\n",
       "      <th></th>\n",
       "      <th></th>\n",
       "      <th></th>\n",
       "    </tr>\n",
       "  </thead>\n",
       "  <tbody>\n",
       "    <tr>\n",
       "      <th>Candida auris</th>\n",
       "      <td>47.179629</td>\n",
       "      <td>2.791994</td>\n",
       "      <td>fungi</td>\n",
       "      <td>4922</td>\n",
       "      <td>5.59</td>\n",
       "    </tr>\n",
       "    <tr>\n",
       "      <th>Aspergillus fumigatus</th>\n",
       "      <td>48.513137</td>\n",
       "      <td>1.471941</td>\n",
       "      <td>fungi</td>\n",
       "      <td>4924</td>\n",
       "      <td>2.94</td>\n",
       "    </tr>\n",
       "    <tr>\n",
       "      <th>Candida albicans</th>\n",
       "      <td>48.769145</td>\n",
       "      <td>1.218467</td>\n",
       "      <td>fungi</td>\n",
       "      <td>4923</td>\n",
       "      <td>2.44</td>\n",
       "    </tr>\n",
       "    <tr>\n",
       "      <th>Escherichia coli</th>\n",
       "      <td>49.466541</td>\n",
       "      <td>0.528076</td>\n",
       "      <td>gram-negative</td>\n",
       "      <td>4923</td>\n",
       "      <td>1.06</td>\n",
       "    </tr>\n",
       "    <tr>\n",
       "      <th>Pseudomonas aeruginosa</th>\n",
       "      <td>49.866758</td>\n",
       "      <td>0.131923</td>\n",
       "      <td>gram-negative</td>\n",
       "      <td>4927</td>\n",
       "      <td>0.26</td>\n",
       "    </tr>\n",
       "    <tr>\n",
       "      <th>Staphylococcus aureus</th>\n",
       "      <td>46.793471</td>\n",
       "      <td>3.174330</td>\n",
       "      <td>gram-positive</td>\n",
       "      <td>4927</td>\n",
       "      <td>6.35</td>\n",
       "    </tr>\n",
       "    <tr>\n",
       "      <th>Enterococcus faecalis</th>\n",
       "      <td>48.738130</td>\n",
       "      <td>1.249175</td>\n",
       "      <td>gram-positive</td>\n",
       "      <td>4922</td>\n",
       "      <td>2.50</td>\n",
       "    </tr>\n",
       "  </tbody>\n",
       "</table>\n",
       "</div>"
      ],
      "text/plain": [
       "                         Inactive    Active  organism_type  total  \\\n",
       "organism                                                            \n",
       "Candida auris           47.179629  2.791994          fungi   4922   \n",
       "Aspergillus fumigatus   48.513137  1.471941          fungi   4924   \n",
       "Candida albicans        48.769145  1.218467          fungi   4923   \n",
       "Escherichia coli        49.466541  0.528076  gram-negative   4923   \n",
       "Pseudomonas aeruginosa  49.866758  0.131923  gram-negative   4927   \n",
       "Staphylococcus aureus   46.793471  3.174330  gram-positive   4927   \n",
       "Enterococcus faecalis   48.738130  1.249175  gram-positive   4922   \n",
       "\n",
       "                        active_percentage  \n",
       "organism                                   \n",
       "Candida auris                        5.59  \n",
       "Aspergillus fumigatus                2.94  \n",
       "Candida albicans                     2.44  \n",
       "Escherichia coli                     1.06  \n",
       "Pseudomonas aeruginosa               0.26  \n",
       "Staphylococcus aureus                6.35  \n",
       "Enterococcus faecalis                2.50  "
      ]
     },
     "execution_count": 12,
     "metadata": {},
     "output_type": "execute_result"
    }
   ],
   "source": [
    "# normalize the values row-wise\n",
    "df_2[\"sum\"] = df_2.select_dtypes(include=\"number\").sum(axis=1)\n",
    "df_2[\"Inactive\"] = df_2[\"Inactive\"].div(df_2[\"sum\"], axis=0) * 100\n",
    "df_2[\"Active\"] = df_2[\"Active\"].div(df_2[\"sum\"], axis=0) * 100\n",
    "df_2 = df_2.drop(columns=[\"sum\"])\n",
    "df_2.sort_values(by=\"organism_type\")"
   ]
  },
  {
   "cell_type": "markdown",
   "metadata": {},
   "source": [
    "# Evaluating the prediction rate"
   ]
  },
  {
   "cell_type": "code",
   "execution_count": 13,
   "metadata": {},
   "outputs": [],
   "source": [
    "def get_prediction_accuracy_all(df):\n",
    "    orgs = {\n",
    "        \"Staphylococcus_aureus\": \"gram-positive\",\n",
    "        \"Pseudomonas_aeruginosa\": \"gram-negative\",\n",
    "        \"Candida_auris\": \"fungi\",\n",
    "        \"Enterococcus_faecalis\": \"gram-positive\",\n",
    "        \"Aspergillus_fumigatus\": \"fungi\",\n",
    "        \"Candida_albicans\": \"fungi\",\n",
    "        \"Escherichia_coli\": \"gram-negative\",\n",
    "    }\n",
    "\n",
    "    val_cols = [f\"{col}_value\" for col in orgs.keys()]\n",
    "\n",
    "    t = []\n",
    "\n",
    "    for val_col_name, org in zip(val_cols, orgs):\n",
    "        ecbl_subset_custom = df[[val_col_name, \"prediction\"]]\n",
    "\n",
    "        # Custom thresholding for bioactive\n",
    "        ecbl_subset_custom[\"exp_vals\"] = ecbl_subset_custom[val_col_name].apply(\n",
    "            lambda x: \"Active\" if x >= 50 else \"Inactive\"\n",
    "        )\n",
    "\n",
    "        # Model binary prediction\n",
    "        ecbl_subset_custom[\"model_pred\"] = ecbl_subset_custom[\"prediction\"].apply(\n",
    "            lambda x: \"Active\" if x == orgs[org] else \"Inactive\"\n",
    "        )\n",
    "\n",
    "        # Exp vals\n",
    "        exp_actives = ecbl_subset_custom[\n",
    "            ecbl_subset_custom[\"exp_vals\"] == \"Active\"\n",
    "        ].shape[0]\n",
    "\n",
    "        # Calculate accuracy\n",
    "        ecbl_subset_custom[\"correct\"] = (\n",
    "            ecbl_subset_custom[\"exp_vals\"] == ecbl_subset_custom[\"model_pred\"]\n",
    "        )\n",
    "        true_actives = ecbl_subset_custom[\n",
    "            (ecbl_subset_custom[\"exp_vals\"] == \"Active\")\n",
    "            & (ecbl_subset_custom[\"model_pred\"] == \"Active\")\n",
    "        ].shape[0]\n",
    "        true_inactives = ecbl_subset_custom[\n",
    "            (ecbl_subset_custom[\"exp_vals\"] == \"Inactive\")\n",
    "            & (ecbl_subset_custom[\"model_pred\"] == \"Inactive\")\n",
    "        ].shape[0]\n",
    "        false_actives = ecbl_subset_custom[\n",
    "            (ecbl_subset_custom[\"exp_vals\"] == \"Inactive\")\n",
    "            & (ecbl_subset_custom[\"model_pred\"] == \"Active\")\n",
    "        ].shape[0]\n",
    "        false_inactives = ecbl_subset_custom[\n",
    "            (ecbl_subset_custom[\"exp_vals\"] == \"Active\")\n",
    "            & (ecbl_subset_custom[\"model_pred\"] == \"Inactive\")\n",
    "        ].shape[0]\n",
    "        hitrate_exp = (exp_actives / ecbl_subset_custom.shape[0]) * 100\n",
    "        hitrate_tool = (true_actives / (true_actives + false_actives)) * 100\n",
    "        t.append(\n",
    "            {\n",
    "                \"org\": org,\n",
    "                \"accuracy\": (\n",
    "                    (true_actives + true_inactives) / ecbl_subset_custom.shape[0]\n",
    "                )\n",
    "                * 100,\n",
    "                \"true_actives\": true_actives,\n",
    "                \"true_inactives\": true_inactives,\n",
    "                \"false_actives\": false_actives,\n",
    "                \"false_inactives\": false_inactives,\n",
    "                \"tp rate\": (true_actives / (true_actives + false_inactives)) * 100,\n",
    "                \"exp_hitrate\": hitrate_exp,\n",
    "                \"tool_hitrate\": hitrate_tool,\n",
    "                \"enrichment\": hitrate_tool / hitrate_exp\n",
    "            }\n",
    "        )\n",
    "\n",
    "    kk = pd.DataFrame(t)\n",
    "    mean_diff = kk[\"tp rate\"].mean() - kk[\"exp_hitrate\"].mean()\n",
    "    print(f\"Mean difference: {mean_diff}\")\n",
    "    return kk"
   ]
  },
  {
   "cell_type": "code",
   "execution_count": 14,
   "metadata": {},
   "outputs": [
    {
     "name": "stdout",
     "output_type": "stream",
     "text": [
      "Mean difference: 5.68552387060958\n"
     ]
    },
    {
     "data": {
      "text/html": [
       "<div>\n",
       "<style scoped>\n",
       "    .dataframe tbody tr th:only-of-type {\n",
       "        vertical-align: middle;\n",
       "    }\n",
       "\n",
       "    .dataframe tbody tr th {\n",
       "        vertical-align: top;\n",
       "    }\n",
       "\n",
       "    .dataframe thead th {\n",
       "        text-align: right;\n",
       "    }\n",
       "</style>\n",
       "<table border=\"1\" class=\"dataframe\">\n",
       "  <thead>\n",
       "    <tr style=\"text-align: right;\">\n",
       "      <th></th>\n",
       "      <th>org</th>\n",
       "      <th>accuracy</th>\n",
       "      <th>true_actives</th>\n",
       "      <th>true_inactives</th>\n",
       "      <th>false_actives</th>\n",
       "      <th>false_inactives</th>\n",
       "      <th>tp rate</th>\n",
       "      <th>exp_hitrate</th>\n",
       "      <th>tool_hitrate</th>\n",
       "      <th>enrichment</th>\n",
       "    </tr>\n",
       "  </thead>\n",
       "  <tbody>\n",
       "    <tr>\n",
       "      <th>0</th>\n",
       "      <td>Staphylococcus_aureus</td>\n",
       "      <td>95.171294</td>\n",
       "      <td>41</td>\n",
       "      <td>91411</td>\n",
       "      <td>3698</td>\n",
       "      <td>942</td>\n",
       "      <td>4.170905</td>\n",
       "      <td>1.022978</td>\n",
       "      <td>1.096550</td>\n",
       "      <td>1.071919</td>\n",
       "    </tr>\n",
       "    <tr>\n",
       "      <th>1</th>\n",
       "      <td>Pseudomonas_aeruginosa</td>\n",
       "      <td>99.009283</td>\n",
       "      <td>0</td>\n",
       "      <td>95140</td>\n",
       "      <td>951</td>\n",
       "      <td>1</td>\n",
       "      <td>0.000000</td>\n",
       "      <td>0.001041</td>\n",
       "      <td>0.000000</td>\n",
       "      <td>0.000000</td>\n",
       "    </tr>\n",
       "    <tr>\n",
       "      <th>2</th>\n",
       "      <td>Candida_auris</td>\n",
       "      <td>97.520085</td>\n",
       "      <td>19</td>\n",
       "      <td>93690</td>\n",
       "      <td>1456</td>\n",
       "      <td>927</td>\n",
       "      <td>2.008457</td>\n",
       "      <td>0.984473</td>\n",
       "      <td>1.288136</td>\n",
       "      <td>1.308452</td>\n",
       "    </tr>\n",
       "    <tr>\n",
       "      <th>3</th>\n",
       "      <td>Enterococcus_faecalis</td>\n",
       "      <td>96.086043</td>\n",
       "      <td>6</td>\n",
       "      <td>92325</td>\n",
       "      <td>3733</td>\n",
       "      <td>28</td>\n",
       "      <td>17.647059</td>\n",
       "      <td>0.035383</td>\n",
       "      <td>0.160471</td>\n",
       "      <td>4.535280</td>\n",
       "    </tr>\n",
       "    <tr>\n",
       "      <th>4</th>\n",
       "      <td>Aspergillus_fumigatus</td>\n",
       "      <td>98.271448</td>\n",
       "      <td>6</td>\n",
       "      <td>94425</td>\n",
       "      <td>1469</td>\n",
       "      <td>192</td>\n",
       "      <td>3.030303</td>\n",
       "      <td>0.206053</td>\n",
       "      <td>0.406780</td>\n",
       "      <td>1.974155</td>\n",
       "    </tr>\n",
       "    <tr>\n",
       "      <th>5</th>\n",
       "      <td>Candida_albicans</td>\n",
       "      <td>98.339092</td>\n",
       "      <td>5</td>\n",
       "      <td>94491</td>\n",
       "      <td>1470</td>\n",
       "      <td>126</td>\n",
       "      <td>3.816794</td>\n",
       "      <td>0.136328</td>\n",
       "      <td>0.338983</td>\n",
       "      <td>2.486531</td>\n",
       "    </tr>\n",
       "    <tr>\n",
       "      <th>6</th>\n",
       "      <td>Escherichia_coli</td>\n",
       "      <td>98.989510</td>\n",
       "      <td>3</td>\n",
       "      <td>95118</td>\n",
       "      <td>948</td>\n",
       "      <td>23</td>\n",
       "      <td>11.538462</td>\n",
       "      <td>0.027057</td>\n",
       "      <td>0.315457</td>\n",
       "      <td>11.658821</td>\n",
       "    </tr>\n",
       "  </tbody>\n",
       "</table>\n",
       "</div>"
      ],
      "text/plain": [
       "                      org   accuracy  true_actives  true_inactives  \\\n",
       "0   Staphylococcus_aureus  95.171294            41           91411   \n",
       "1  Pseudomonas_aeruginosa  99.009283             0           95140   \n",
       "2           Candida_auris  97.520085            19           93690   \n",
       "3   Enterococcus_faecalis  96.086043             6           92325   \n",
       "4   Aspergillus_fumigatus  98.271448             6           94425   \n",
       "5        Candida_albicans  98.339092             5           94491   \n",
       "6        Escherichia_coli  98.989510             3           95118   \n",
       "\n",
       "   false_actives  false_inactives    tp rate  exp_hitrate  tool_hitrate  \\\n",
       "0           3698              942   4.170905     1.022978      1.096550   \n",
       "1            951                1   0.000000     0.001041      0.000000   \n",
       "2           1456              927   2.008457     0.984473      1.288136   \n",
       "3           3733               28  17.647059     0.035383      0.160471   \n",
       "4           1469              192   3.030303     0.206053      0.406780   \n",
       "5           1470              126   3.816794     0.136328      0.338983   \n",
       "6            948               23  11.538462     0.027057      0.315457   \n",
       "\n",
       "   enrichment  \n",
       "0    1.071919  \n",
       "1    0.000000  \n",
       "2    1.308452  \n",
       "3    4.535280  \n",
       "4    1.974155  \n",
       "5    2.486531  \n",
       "6   11.658821  "
      ]
     },
     "execution_count": 14,
     "metadata": {},
     "output_type": "execute_result"
    }
   ],
   "source": [
    "ecbl_df2 = get_prediction_accuracy_all(ecbl_df)\n",
    "ecbl_df2"
   ]
  },
  {
   "cell_type": "code",
   "execution_count": 15,
   "metadata": {},
   "outputs": [
    {
     "name": "stdout",
     "output_type": "stream",
     "text": [
      "Mean difference: 24.891001350925126\n"
     ]
    },
    {
     "data": {
      "text/html": [
       "<div>\n",
       "<style scoped>\n",
       "    .dataframe tbody tr th:only-of-type {\n",
       "        vertical-align: middle;\n",
       "    }\n",
       "\n",
       "    .dataframe tbody tr th {\n",
       "        vertical-align: top;\n",
       "    }\n",
       "\n",
       "    .dataframe thead th {\n",
       "        text-align: right;\n",
       "    }\n",
       "</style>\n",
       "<table border=\"1\" class=\"dataframe\">\n",
       "  <thead>\n",
       "    <tr style=\"text-align: right;\">\n",
       "      <th></th>\n",
       "      <th>org</th>\n",
       "      <th>accuracy</th>\n",
       "      <th>true_actives</th>\n",
       "      <th>true_inactives</th>\n",
       "      <th>false_actives</th>\n",
       "      <th>false_inactives</th>\n",
       "      <th>tp rate</th>\n",
       "      <th>exp_hitrate</th>\n",
       "      <th>tool_hitrate</th>\n",
       "      <th>enrichment</th>\n",
       "    </tr>\n",
       "  </thead>\n",
       "  <tbody>\n",
       "    <tr>\n",
       "      <th>0</th>\n",
       "      <td>Staphylococcus_aureus</td>\n",
       "      <td>85.934646</td>\n",
       "      <td>80</td>\n",
       "      <td>4154</td>\n",
       "      <td>460</td>\n",
       "      <td>233</td>\n",
       "      <td>25.559105</td>\n",
       "      <td>6.352750</td>\n",
       "      <td>14.814815</td>\n",
       "      <td>2.332032</td>\n",
       "    </tr>\n",
       "    <tr>\n",
       "      <th>1</th>\n",
       "      <td>Pseudomonas_aeruginosa</td>\n",
       "      <td>97.848589</td>\n",
       "      <td>6</td>\n",
       "      <td>4815</td>\n",
       "      <td>99</td>\n",
       "      <td>7</td>\n",
       "      <td>46.153846</td>\n",
       "      <td>0.263852</td>\n",
       "      <td>5.714286</td>\n",
       "      <td>21.657143</td>\n",
       "    </tr>\n",
       "    <tr>\n",
       "      <th>2</th>\n",
       "      <td>Candida_auris</td>\n",
       "      <td>94.134362</td>\n",
       "      <td>42</td>\n",
       "      <td>4596</td>\n",
       "      <td>56</td>\n",
       "      <td>233</td>\n",
       "      <td>15.272727</td>\n",
       "      <td>5.581490</td>\n",
       "      <td>42.857143</td>\n",
       "      <td>7.678442</td>\n",
       "    </tr>\n",
       "    <tr>\n",
       "      <th>3</th>\n",
       "      <td>Enterococcus_faecalis</td>\n",
       "      <td>88.410798</td>\n",
       "      <td>46</td>\n",
       "      <td>4310</td>\n",
       "      <td>494</td>\n",
       "      <td>77</td>\n",
       "      <td>37.398374</td>\n",
       "      <td>2.496448</td>\n",
       "      <td>8.518519</td>\n",
       "      <td>3.412255</td>\n",
       "    </tr>\n",
       "    <tr>\n",
       "      <th>4</th>\n",
       "      <td>Aspergillus_fumigatus</td>\n",
       "      <td>96.529328</td>\n",
       "      <td>36</td>\n",
       "      <td>4720</td>\n",
       "      <td>62</td>\n",
       "      <td>109</td>\n",
       "      <td>24.827586</td>\n",
       "      <td>2.942967</td>\n",
       "      <td>36.734694</td>\n",
       "      <td>12.482196</td>\n",
       "    </tr>\n",
       "    <tr>\n",
       "      <th>5</th>\n",
       "      <td>Candida_albicans</td>\n",
       "      <td>96.793180</td>\n",
       "      <td>30</td>\n",
       "      <td>4739</td>\n",
       "      <td>68</td>\n",
       "      <td>90</td>\n",
       "      <td>25.000000</td>\n",
       "      <td>2.435559</td>\n",
       "      <td>30.612245</td>\n",
       "      <td>12.568878</td>\n",
       "    </tr>\n",
       "    <tr>\n",
       "      <th>6</th>\n",
       "      <td>Escherichia_coli</td>\n",
       "      <td>97.259996</td>\n",
       "      <td>11</td>\n",
       "      <td>4781</td>\n",
       "      <td>94</td>\n",
       "      <td>41</td>\n",
       "      <td>21.153846</td>\n",
       "      <td>1.055409</td>\n",
       "      <td>10.476190</td>\n",
       "      <td>9.926190</td>\n",
       "    </tr>\n",
       "  </tbody>\n",
       "</table>\n",
       "</div>"
      ],
      "text/plain": [
       "                      org   accuracy  true_actives  true_inactives  \\\n",
       "0   Staphylococcus_aureus  85.934646            80            4154   \n",
       "1  Pseudomonas_aeruginosa  97.848589             6            4815   \n",
       "2           Candida_auris  94.134362            42            4596   \n",
       "3   Enterococcus_faecalis  88.410798            46            4310   \n",
       "4   Aspergillus_fumigatus  96.529328            36            4720   \n",
       "5        Candida_albicans  96.793180            30            4739   \n",
       "6        Escherichia_coli  97.259996            11            4781   \n",
       "\n",
       "   false_actives  false_inactives    tp rate  exp_hitrate  tool_hitrate  \\\n",
       "0            460              233  25.559105     6.352750     14.814815   \n",
       "1             99                7  46.153846     0.263852      5.714286   \n",
       "2             56              233  15.272727     5.581490     42.857143   \n",
       "3            494               77  37.398374     2.496448      8.518519   \n",
       "4             62              109  24.827586     2.942967     36.734694   \n",
       "5             68               90  25.000000     2.435559     30.612245   \n",
       "6             94               41  21.153846     1.055409     10.476190   \n",
       "\n",
       "   enrichment  \n",
       "0    2.332032  \n",
       "1   21.657143  \n",
       "2    7.678442  \n",
       "3    3.412255  \n",
       "4   12.482196  \n",
       "5   12.568878  \n",
       "6    9.926190  "
      ]
     },
     "execution_count": 15,
     "metadata": {},
     "output_type": "execute_result"
    }
   ],
   "source": [
    "bioactive_df2 = get_prediction_accuracy_all(bioactive_df)\n",
    "bioactive_df2"
   ]
  },
  {
   "cell_type": "code",
   "execution_count": 16,
   "metadata": {},
   "outputs": [],
   "source": [
    "def statistics_hitrates(df):\n",
    "    import numpy as np\n",
    "    import pandas as pd\n",
    "    import matplotlib.pyplot as plt\n",
    "    import seaborn as sns\n",
    "    from scipy.stats import ttest_ind, mannwhitneyu, shapiro, levene\n",
    "\n",
    "    # Extract unpaired data\n",
    "    experimental = df[\"exp_hitrate\"]\n",
    "    predicted = df[\"tool_hitrate\"]\n",
    "\n",
    "    test_result = ttest_ind(experimental, predicted, equal_var=False)\n",
    "    test_name = \"Independent t-test (unequal variances)\"\n",
    "\n",
    "    # Extract p-value\n",
    "    p_value = test_result.pvalue\n",
    "\n",
    "    # Print statistical information\n",
    "    print(f\"{test_name}: {test_result}\")\n",
    "    print(f\"Experimental Mean ± Std: {np.mean(experimental):.2f} ± {np.std(experimental):.2f}\")\n",
    "    print(f\"Predicted Mean ± Std: {np.mean(predicted):.2f} ± {np.std(predicted):.2f}\")\n",
    "    print(f\"p-value: {p_value:.5f}\")\n",
    "\n",
    "    # Determine significance level\n",
    "    if p_value < 0.001:\n",
    "        sig_level = \"***\"\n",
    "    elif p_value < 0.01:\n",
    "        sig_level = \"**\"\n",
    "    elif p_value < 0.05:\n",
    "        sig_level = \"*\"\n",
    "    else:\n",
    "        sig_level = \"n.s.\"  # Not significant\n",
    "\n",
    "    # Combine data for plotting\n",
    "    data = pd.DataFrame({\n",
    "        \"Hit Rates\": np.concatenate([experimental, predicted]),\n",
    "        \"Group\": [\"Experimental\"] * len(experimental) + [\"Predicted\"] * len(predicted)\n",
    "    })\n",
    "\n",
    "    # Plot boxplot\n",
    "    sns.boxplot(x=\"Group\", y=\"Hit Rates\", data=data)\n",
    "    plt.title(\"Comparison of Experimental vs Predicted Hit Rates\")\n",
    "\n",
    "    # Add significance bracket\n",
    "    y_max = max(data[\"Hit Rates\"])  # Maximum value for y-axis\n",
    "    y_bracket = y_max + (0.05 * y_max)  # Slightly above the max for the bracket\n",
    "    plt.plot([0, 1], [y_bracket, y_bracket], color=\"black\", lw=1.0)  # Horizontal line for the bracket\n",
    "    plt.text(0.5, y_bracket + (0.02 * y_max), sig_level, ha=\"center\", va=\"bottom\", fontsize=12, color=\"black\")  # Significance level\n",
    "\n",
    "    # Adjust plot\n",
    "    plt.ylabel(\"Hit Rates (%)\")\n",
    "    plt.ylim(0, y_bracket + (0.1 * y_max))  # Expand y-axis to fit the bracket\n",
    "    plt.show()"
   ]
  },
  {
   "cell_type": "code",
   "execution_count": 17,
   "metadata": {},
   "outputs": [
    {
     "name": "stdout",
     "output_type": "stream",
     "text": [
      "Results for comparing experimental and predicted hit rates of ECBL data\n",
      "Independent t-test (unequal variances): TtestResult(statistic=np.float64(-0.6777537237332804), pvalue=np.float64(0.5108320767449763), df=np.float64(11.9551530360067))\n",
      "Experimental Mean ± Std: 0.34 ± 0.42\n",
      "Predicted Mean ± Std: 0.52 ± 0.45\n",
      "p-value: 0.51083\n"
     ]
    },
    {
     "data": {
      "image/png": "[encoded data removed]",
      "text/plain": [
       "<Figure size 640x480 with 1 Axes>"
      ]
     },
     "metadata": {},
     "output_type": "display_data"
    },
    {
     "name": "stdout",
     "output_type": "stream",
     "text": [
      "\n",
      "Results for comparing experimental and predicted hit rates of Bioactive data\n",
      "Independent t-test (unequal variances): TtestResult(statistic=np.float64(-3.1993786326159825), pvalue=np.float64(0.01754469372417545), df=np.float64(6.263288001365331))\n",
      "Experimental Mean ± Std: 3.02 ± 2.06\n",
      "Predicted Mean ± Std: 21.39 ± 13.91\n",
      "p-value: 0.01754\n"
     ]
    },
    {
     "data": {
      "image/png": "[encoded data removed]",
      "text/plain": [
       "<Figure size 640x480 with 1 Axes>"
      ]
     },
     "metadata": {},
     "output_type": "display_data"
    }
   ],
   "source": [
    "print(\"Results for comparing experimental and predicted hit rates of ECBL data\")\n",
    "statistics_hitrates(ecbl_df2)\n",
    "print(\"\")\n",
    "print(\"Results for comparing experimental and predicted hit rates of Bioactive data\")\n",
    "statistics_hitrates(bioactive_df2)"
   ]
  },
  {
   "cell_type": "code",
   "execution_count": 22,
   "metadata": {},
   "outputs": [],
   "source": [
    "def statistics_testsize(df):\n",
    "    import numpy as np\n",
    "    import pandas as pd\n",
    "    import matplotlib.pyplot as plt\n",
    "    import seaborn as sns\n",
    "    from scipy.stats import ttest_ind, mannwhitneyu, shapiro, levene\n",
    "\n",
    "    # Extract unpaired data\n",
    "    experimental = df[\"true_actives\"] + df[\"true_inactives\"] + df[\"false_actives\"] + df[\"false_inactives\"]\n",
    "    predicted = df[\"true_actives\"] + df[\"false_actives\"]\n",
    "\n",
    "    test_result = ttest_ind(experimental, predicted, equal_var=False)\n",
    "    test_name = \"Independent t-test (unequal variances)\"\n",
    "\n",
    "    # Extract p-value\n",
    "    p_value = test_result.pvalue\n",
    "\n",
    "    # Print statistical information\n",
    "    print(f\"{test_name}: {test_result}\")\n",
    "    print(f\"Experimental Mean ± Std: {np.mean(experimental):.2f} ± {np.std(experimental):.2f}\")\n",
    "    print(f\"Predicted Mean ± Std: {np.mean(predicted):.2f} ± {np.std(predicted):.2f}\")\n",
    "    print(f\"p-value: {p_value:.5f}\")\n",
    "\n",
    "    # Determine significance level\n",
    "    if p_value < 0.001:\n",
    "        sig_level = \"***\"\n",
    "    elif p_value < 0.01:\n",
    "        sig_level = \"**\"\n",
    "    elif p_value < 0.05:\n",
    "        sig_level = \"*\"\n",
    "    else:\n",
    "        sig_level = \"n.s.\"  # Not significant\n",
    "\n",
    "    # Combine data for plotting\n",
    "    data = pd.DataFrame({\n",
    "        \"Hit Rates\": np.concatenate([experimental, predicted]),\n",
    "        \"Group\": [\"Experimental\"] * len(experimental) + [\"Predicted\"] * len(predicted)\n",
    "    })\n",
    "\n",
    "    # Plot boxplot\n",
    "    sns.boxplot(x=\"Group\", y=\"Hit Rates\", data=data)\n",
    "    plt.title(\"Comparison of Experimental vs Predicted Library Size\")\n",
    "\n",
    "    # Add significance bracket\n",
    "    y_max = max(data[\"Hit Rates\"])  # Maximum value for y-axis\n",
    "    y_bracket = y_max + (0.05 * y_max)  # Slightly above the max for the bracket\n",
    "    plt.plot([0, 1], [y_bracket, y_bracket], color=\"black\", lw=1.0)  # Horizontal line for the bracket\n",
    "    plt.text(0.5, y_bracket + (0.02 * y_max), sig_level, ha=\"center\", va=\"bottom\", fontsize=12, color=\"black\")  # Significance level\n",
    "\n",
    "    # Adjust plot\n",
    "    plt.ylabel(\"Library size\")\n",
    "    plt.ylim(0, y_bracket + (0.1 * y_max))  # Expand y-axis to fit the bracket\n",
    "    plt.show()"
   ]
  },
  {
   "cell_type": "code",
   "execution_count": 23,
   "metadata": {},
   "outputs": [
    {
     "name": "stdout",
     "output_type": "stream",
     "text": [
      "Results for comparing experimental and predicted test library sizes of Bioactive data\n",
      "Independent t-test (unequal variances): TtestResult(statistic=np.float64(58.0268318068645), pvalue=np.float64(1.7599524127454065e-09), df=np.float64(6.0))\n",
      "Experimental Mean ± Std: 4927.00 ± 0.00\n",
      "Predicted Mean ± Std: 226.29 ± 198.43\n",
      "p-value: 0.00000\n"
     ]
    },
    {
     "name": "stderr",
     "output_type": "stream",
     "text": [
      "c:\\Users\\Leonie.Berlin\\AppData\\Local\\miniconda3\\envs\\kg_dashboard\\Lib\\site-packages\\scipy\\stats\\_axis_nan_policy.py:573: RuntimeWarning:\n",
      "\n",
      "Precision loss occurred in moment calculation due to catastrophic cancellation. This occurs when the data are nearly identical. Results may be unreliable.\n",
      "\n"
     ]
    },
    {
     "data": {
      "image/png": "[encoded data removed]",
      "text/plain": [
       "<Figure size 640x480 with 1 Axes>"
      ]
     },
     "metadata": {},
     "output_type": "display_data"
    },
    {
     "name": "stdout",
     "output_type": "stream",
     "text": [
      "\n",
      "Results for comparing experimental and predicted test library sizes of ECBL data\n",
      "Independent t-test (unequal variances): TtestResult(statistic=np.float64(202.53057948839836), pvalue=np.float64(9.776724918684693e-13), df=np.float64(6.0))\n",
      "Experimental Mean ± Std: 96092.00 ± 0.00\n",
      "Predicted Mean ± Std: 1972.14 ± 1138.33\n",
      "p-value: 0.00000\n"
     ]
    },
    {
     "name": "stderr",
     "output_type": "stream",
     "text": [
      "c:\\Users\\Leonie.Berlin\\AppData\\Local\\miniconda3\\envs\\kg_dashboard\\Lib\\site-packages\\scipy\\stats\\_axis_nan_policy.py:573: RuntimeWarning:\n",
      "\n",
      "Precision loss occurred in moment calculation due to catastrophic cancellation. This occurs when the data are nearly identical. Results may be unreliable.\n",
      "\n"
     ]
    },
    {
     "data": {
      "image/png": "[encoded data removed]",
      "text/plain": [
       "<Figure size 640x480 with 1 Axes>"
      ]
     },
     "metadata": {},
     "output_type": "display_data"
    }
   ],
   "source": [
    "print(\"Results for comparing experimental and predicted test library sizes of Bioactive data\")\n",
    "statistics_testsize(bioactive_df2)\n",
    "print(\"\")\n",
    "print(\"Results for comparing experimental and predicted test library sizes of ECBL data\")\n",
    "statistics_testsize(ecbl_df2)"
   ]
  },
  {
   "cell_type": "code",
   "execution_count": 24,
   "metadata": {},
   "outputs": [],
   "source": [
    "def get_prediction_pathogen_class_wise(df):\n",
    "    orgs = {\n",
    "        \"gram-positive\": [\"Staphylococcus_aureus\", \"Enterococcus_faecalis\"],\n",
    "        \"gram-negative\": [\"Pseudomonas_aeruginosa\", \"Escherichia_coli\"],\n",
    "        \"fungi\": [\"Candida_auris\", \"Aspergillus_fumigatus\", \"Candida_albicans\"],\n",
    "    }\n",
    "\n",
    "    t = []\n",
    "\n",
    "    for pathogen_class, col_names in orgs.items():\n",
    "        val_cols = [f\"{col}_value\" for col in col_names]\n",
    "        val_cols.append(\"prediction\")\n",
    "        ecbl_subset_custom = df[val_cols]\n",
    "\n",
    "        exp_vals = {}\n",
    "\n",
    "        for val_col in val_cols[:-1]:\n",
    "            exp_vals[val_col] = ecbl_subset_custom[val_col].apply(\n",
    "                lambda x: \"Active\" if x >= 50 else \"Inactive\"\n",
    "            )  # Custom thresholding for bioactive\n",
    "\n",
    "        exp_values = list(zip(*[v for v in exp_vals.values()]))\n",
    "        final_vals = []\n",
    "\n",
    "        for vals in exp_values:\n",
    "            if \"Active\" in vals:\n",
    "                final_vals.append(\"Active\")\n",
    "            else:\n",
    "                final_vals.append(\"Inactive\")\n",
    "\n",
    "        ecbl_subset_custom[pathogen_class] = final_vals\n",
    "\n",
    "        # Model binary prediction\n",
    "        ecbl_subset_custom[\"model_pred\"] = ecbl_subset_custom[\"prediction\"].apply(\n",
    "            lambda x: \"Active\" if x == pathogen_class else \"Inactive\"\n",
    "        )\n",
    "\n",
    "        # Exp vals\n",
    "        exp_actives = ecbl_subset_custom[\n",
    "            ecbl_subset_custom[pathogen_class] == \"Active\"\n",
    "        ].shape[0]\n",
    "\n",
    "        # Calculate accuracy\n",
    "        ecbl_subset_custom[\"correct\"] = (\n",
    "            ecbl_subset_custom[pathogen_class] == ecbl_subset_custom[\"model_pred\"]\n",
    "        )\n",
    "        true_actives = ecbl_subset_custom[\n",
    "            (ecbl_subset_custom[pathogen_class] == \"Active\")\n",
    "            & (ecbl_subset_custom[\"model_pred\"] == \"Active\")\n",
    "        ].shape[0]\n",
    "        true_inactives = ecbl_subset_custom[\n",
    "            (ecbl_subset_custom[pathogen_class] == \"Inactive\")\n",
    "            & (ecbl_subset_custom[\"model_pred\"] == \"Inactive\")\n",
    "        ].shape[0]\n",
    "        false_actives = ecbl_subset_custom[\n",
    "            (ecbl_subset_custom[pathogen_class] == \"Inactive\")\n",
    "            & (ecbl_subset_custom[\"model_pred\"] == \"Active\")\n",
    "        ].shape[0]\n",
    "        false_inactives = ecbl_subset_custom[\n",
    "            (ecbl_subset_custom[pathogen_class] == \"Active\")\n",
    "            & (ecbl_subset_custom[\"model_pred\"] == \"Inactive\")\n",
    "        ].shape[0]\n",
    "        t.append(\n",
    "            {\n",
    "                \"class\": pathogen_class,\n",
    "                \"accuracy\": (\n",
    "                    (true_actives + true_inactives) / ecbl_subset_custom.shape[0]\n",
    "                )\n",
    "                * 100,\n",
    "                \"true_actives\": true_actives,\n",
    "                \"true_inactives\": true_inactives,\n",
    "                \"false_actives\": false_actives,\n",
    "                \"false_inactives\": false_inactives,\n",
    "                \"tp rate\": (true_actives / (true_actives + false_inactives)) * 100,\n",
    "                \"exp_hitrate\": (exp_actives / ecbl_subset_custom.shape[0]) * 100,\n",
    "            }\n",
    "        )\n",
    "\n",
    "    return pd.DataFrame(t)"
   ]
  },
  {
   "cell_type": "code",
   "execution_count": 25,
   "metadata": {},
   "outputs": [
    {
     "data": {
      "text/html": [
       "<div>\n",
       "<style scoped>\n",
       "    .dataframe tbody tr th:only-of-type {\n",
       "        vertical-align: middle;\n",
       "    }\n",
       "\n",
       "    .dataframe tbody tr th {\n",
       "        vertical-align: top;\n",
       "    }\n",
       "\n",
       "    .dataframe thead th {\n",
       "        text-align: right;\n",
       "    }\n",
       "</style>\n",
       "<table border=\"1\" class=\"dataframe\">\n",
       "  <thead>\n",
       "    <tr style=\"text-align: right;\">\n",
       "      <th></th>\n",
       "      <th>class</th>\n",
       "      <th>accuracy</th>\n",
       "      <th>true_actives</th>\n",
       "      <th>true_inactives</th>\n",
       "      <th>false_actives</th>\n",
       "      <th>false_inactives</th>\n",
       "      <th>tp rate</th>\n",
       "      <th>exp_hitrate</th>\n",
       "    </tr>\n",
       "  </thead>\n",
       "  <tbody>\n",
       "    <tr>\n",
       "      <th>0</th>\n",
       "      <td>gram-positive</td>\n",
       "      <td>95.167131</td>\n",
       "      <td>41</td>\n",
       "      <td>91407</td>\n",
       "      <td>3698</td>\n",
       "      <td>946</td>\n",
       "      <td>4.154002</td>\n",
       "      <td>1.027141</td>\n",
       "    </tr>\n",
       "    <tr>\n",
       "      <th>1</th>\n",
       "      <td>gram-negative</td>\n",
       "      <td>98.988469</td>\n",
       "      <td>3</td>\n",
       "      <td>95117</td>\n",
       "      <td>948</td>\n",
       "      <td>24</td>\n",
       "      <td>11.111111</td>\n",
       "      <td>0.028098</td>\n",
       "    </tr>\n",
       "    <tr>\n",
       "      <th>2</th>\n",
       "      <td>fungi</td>\n",
       "      <td>97.380635</td>\n",
       "      <td>21</td>\n",
       "      <td>93554</td>\n",
       "      <td>1454</td>\n",
       "      <td>1063</td>\n",
       "      <td>1.937269</td>\n",
       "      <td>1.128086</td>\n",
       "    </tr>\n",
       "  </tbody>\n",
       "</table>\n",
       "</div>"
      ],
      "text/plain": [
       "           class   accuracy  true_actives  true_inactives  false_actives  \\\n",
       "0  gram-positive  95.167131            41           91407           3698   \n",
       "1  gram-negative  98.988469             3           95117            948   \n",
       "2          fungi  97.380635            21           93554           1454   \n",
       "\n",
       "   false_inactives    tp rate  exp_hitrate  \n",
       "0              946   4.154002     1.027141  \n",
       "1               24  11.111111     0.028098  \n",
       "2             1063   1.937269     1.128086  "
      ]
     },
     "execution_count": 25,
     "metadata": {},
     "output_type": "execute_result"
    }
   ],
   "source": [
    "get_prediction_pathogen_class_wise(ecbl_df)"
   ]
  },
  {
   "cell_type": "code",
   "execution_count": 26,
   "metadata": {},
   "outputs": [
    {
     "data": {
      "text/html": [
       "<div>\n",
       "<style scoped>\n",
       "    .dataframe tbody tr th:only-of-type {\n",
       "        vertical-align: middle;\n",
       "    }\n",
       "\n",
       "    .dataframe tbody tr th {\n",
       "        vertical-align: top;\n",
       "    }\n",
       "\n",
       "    .dataframe thead th {\n",
       "        text-align: right;\n",
       "    }\n",
       "</style>\n",
       "<table border=\"1\" class=\"dataframe\">\n",
       "  <thead>\n",
       "    <tr style=\"text-align: right;\">\n",
       "      <th></th>\n",
       "      <th>class</th>\n",
       "      <th>accuracy</th>\n",
       "      <th>true_actives</th>\n",
       "      <th>true_inactives</th>\n",
       "      <th>false_actives</th>\n",
       "      <th>false_inactives</th>\n",
       "      <th>tp rate</th>\n",
       "      <th>exp_hitrate</th>\n",
       "    </tr>\n",
       "  </thead>\n",
       "  <tbody>\n",
       "    <tr>\n",
       "      <th>0</th>\n",
       "      <td>gram-positive</td>\n",
       "      <td>85.873757</td>\n",
       "      <td>81</td>\n",
       "      <td>4150</td>\n",
       "      <td>459</td>\n",
       "      <td>237</td>\n",
       "      <td>25.471698</td>\n",
       "      <td>6.454232</td>\n",
       "    </tr>\n",
       "    <tr>\n",
       "      <th>1</th>\n",
       "      <td>gram-negative</td>\n",
       "      <td>97.259996</td>\n",
       "      <td>11</td>\n",
       "      <td>4781</td>\n",
       "      <td>94</td>\n",
       "      <td>41</td>\n",
       "      <td>21.153846</td>\n",
       "      <td>1.055409</td>\n",
       "    </tr>\n",
       "    <tr>\n",
       "      <th>2</th>\n",
       "      <td>fungi</td>\n",
       "      <td>93.403694</td>\n",
       "      <td>45</td>\n",
       "      <td>4557</td>\n",
       "      <td>53</td>\n",
       "      <td>272</td>\n",
       "      <td>14.195584</td>\n",
       "      <td>6.433935</td>\n",
       "    </tr>\n",
       "  </tbody>\n",
       "</table>\n",
       "</div>"
      ],
      "text/plain": [
       "           class   accuracy  true_actives  true_inactives  false_actives  \\\n",
       "0  gram-positive  85.873757            81            4150            459   \n",
       "1  gram-negative  97.259996            11            4781             94   \n",
       "2          fungi  93.403694            45            4557             53   \n",
       "\n",
       "   false_inactives    tp rate  exp_hitrate  \n",
       "0              237  25.471698     6.454232  \n",
       "1               41  21.153846     1.055409  \n",
       "2              272  14.195584     6.433935  "
      ]
     },
     "execution_count": 26,
     "metadata": {},
     "output_type": "execute_result"
    }
   ],
   "source": [
    "get_prediction_pathogen_class_wise(bioactive_df)"
   ]
  },
  {
   "cell_type": "markdown",
   "metadata": {},
   "source": [
    "# Similarity with training data"
   ]
  },
  {
   "cell_type": "code",
   "execution_count": 28,
   "metadata": {},
   "outputs": [
    {
     "data": {
      "text/html": [
       "<div>\n",
       "<style scoped>\n",
       "    .dataframe tbody tr th:only-of-type {\n",
       "        vertical-align: middle;\n",
       "    }\n",
       "\n",
       "    .dataframe tbody tr th {\n",
       "        vertical-align: top;\n",
       "    }\n",
       "\n",
       "    .dataframe thead th {\n",
       "        text-align: right;\n",
       "    }\n",
       "</style>\n",
       "<table border=\"1\" class=\"dataframe\">\n",
       "  <thead>\n",
       "    <tr style=\"text-align: right;\">\n",
       "      <th></th>\n",
       "      <th>bit0</th>\n",
       "      <th>bit1</th>\n",
       "      <th>bit2</th>\n",
       "      <th>bit3</th>\n",
       "      <th>bit4</th>\n",
       "      <th>bit5</th>\n",
       "      <th>bit6</th>\n",
       "      <th>bit7</th>\n",
       "      <th>bit8</th>\n",
       "      <th>bit9</th>\n",
       "      <th>...</th>\n",
       "      <th>bit2040</th>\n",
       "      <th>bit2041</th>\n",
       "      <th>bit2042</th>\n",
       "      <th>bit2043</th>\n",
       "      <th>bit2044</th>\n",
       "      <th>bit2045</th>\n",
       "      <th>bit2046</th>\n",
       "      <th>bit2047</th>\n",
       "      <th>cmp_id</th>\n",
       "      <th>label</th>\n",
       "    </tr>\n",
       "  </thead>\n",
       "  <tbody>\n",
       "    <tr>\n",
       "      <th>0</th>\n",
       "      <td>14433155</td>\n",
       "      <td>9273576</td>\n",
       "      <td>52428387</td>\n",
       "      <td>55778289</td>\n",
       "      <td>29319974</td>\n",
       "      <td>24922436</td>\n",
       "      <td>192953238</td>\n",
       "      <td>62403804</td>\n",
       "      <td>49040351</td>\n",
       "      <td>48020618</td>\n",
       "      <td>...</td>\n",
       "      <td>21431025</td>\n",
       "      <td>1416250</td>\n",
       "      <td>32703087</td>\n",
       "      <td>41181622</td>\n",
       "      <td>4925637</td>\n",
       "      <td>3638752</td>\n",
       "      <td>3279595</td>\n",
       "      <td>4090642</td>\n",
       "      <td>OQZSOIHVULQZHS-CWGWECIMSA-N</td>\n",
       "      <td>gram-positive</td>\n",
       "    </tr>\n",
       "    <tr>\n",
       "      <th>1</th>\n",
       "      <td>19469312</td>\n",
       "      <td>71257929</td>\n",
       "      <td>14316170</td>\n",
       "      <td>121213539</td>\n",
       "      <td>115681127</td>\n",
       "      <td>75668513</td>\n",
       "      <td>127870555</td>\n",
       "      <td>119200764</td>\n",
       "      <td>327151351</td>\n",
       "      <td>164407546</td>\n",
       "      <td>...</td>\n",
       "      <td>3736543</td>\n",
       "      <td>1416250</td>\n",
       "      <td>32970732</td>\n",
       "      <td>158260114</td>\n",
       "      <td>15628711</td>\n",
       "      <td>48984996</td>\n",
       "      <td>10981154</td>\n",
       "      <td>126156214</td>\n",
       "      <td>ZGNROOOFYPKLJH-UHFFFAOYSA-N</td>\n",
       "      <td>inactive</td>\n",
       "    </tr>\n",
       "  </tbody>\n",
       "</table>\n",
       "<p>2 rows × 2050 columns</p>\n",
       "</div>"
      ],
      "text/plain": [
       "       bit0      bit1      bit2       bit3       bit4      bit5       bit6  \\\n",
       "0  14433155   9273576  52428387   55778289   29319974  24922436  192953238   \n",
       "1  19469312  71257929  14316170  121213539  115681127  75668513  127870555   \n",
       "\n",
       "        bit7       bit8       bit9  ...   bit2040  bit2041   bit2042  \\\n",
       "0   62403804   49040351   48020618  ...  21431025  1416250  32703087   \n",
       "1  119200764  327151351  164407546  ...   3736543  1416250  32970732   \n",
       "\n",
       "     bit2043   bit2044   bit2045   bit2046    bit2047  \\\n",
       "0   41181622   4925637   3638752   3279595    4090642   \n",
       "1  158260114  15628711  48984996  10981154  126156214   \n",
       "\n",
       "                        cmp_id          label  \n",
       "0  OQZSOIHVULQZHS-CWGWECIMSA-N  gram-positive  \n",
       "1  ZGNROOOFYPKLJH-UHFFFAOYSA-N       inactive  \n",
       "\n",
       "[2 rows x 2050 columns]"
      ]
     },
     "execution_count": 28,
     "metadata": {},
     "output_type": "execute_result"
    }
   ],
   "source": [
    "training_df = pd.read_csv(\"../data/splits/combined/mhfp6_train.csv\")\n",
    "training_df.head(2)"
   ]
  },
  {
   "cell_type": "code",
   "execution_count": 20,
   "metadata": {},
   "outputs": [
    {
     "name": "stderr",
     "output_type": "stream",
     "text": [
      "100%|██████████| 4927/4927 [00:01<00:00, 3694.91it/s]\n"
     ]
    }
   ],
   "source": [
    "bioactive_inchikeys = []\n",
    "\n",
    "for smile in tqdm(bioactive_df[\"smiles\"].values):\n",
    "    mol = Chem.MolFromSmiles(smile)\n",
    "    inchikey = Chem.inchi.MolToInchiKey(mol)\n",
    "    bioactive_inchikeys.append(inchikey)\n",
    "\n",
    "bioactive_df[\"inchikey\"] = bioactive_inchikeys"
   ]
  },
  {
   "cell_type": "code",
   "execution_count": 21,
   "metadata": {},
   "outputs": [
    {
     "name": "stderr",
     "output_type": "stream",
     "text": [
      "100%|██████████| 96092/96092 [00:23<00:00, 4102.01it/s]\n"
     ]
    }
   ],
   "source": [
    "ecbl_inchikeys = []\n",
    "\n",
    "for smile in tqdm(ecbl_df[\"smiles\"].values):\n",
    "    mol = Chem.MolFromSmiles(smile)\n",
    "    inchikey = Chem.inchi.MolToInchiKey(mol)\n",
    "    ecbl_inchikeys.append(inchikey)\n",
    "\n",
    "ecbl_df[\"inchikey\"] = ecbl_inchikeys"
   ]
  },
  {
   "cell_type": "code",
   "execution_count": 22,
   "metadata": {},
   "outputs": [
    {
     "data": {
      "image/png": "[encoded data removed]",
      "text/plain": [
       "<Figure size 640x480 with 1 Axes>"
      ]
     },
     "metadata": {},
     "output_type": "display_data"
    }
   ],
   "source": [
    "bioactive_inchikeys = set(bioactive_df[\"inchikey\"].values)\n",
    "training_inchikeys = set(training_df[\"cmp_id\"].values)\n",
    "ecbl_inchikeys = set(ecbl_df[\"inchikey\"].values)\n",
    "\n",
    "venn3_unweighted(\n",
    "    [training_inchikeys, bioactive_inchikeys, ecbl_inchikeys],\n",
    "    set_labels=(\"Training\", \"Bioactive\", \"ECBL\"),\n",
    ")\n",
    "plt.title(f\"InchiKey overlap between training and bioactive set (All)\")\n",
    "plt.show()"
   ]
  },
  {
   "cell_type": "code",
   "execution_count": 23,
   "metadata": {},
   "outputs": [],
   "source": [
    "def plot_cmpd_overlap():\n",
    "    k = []\n",
    "    for strain_name in [\n",
    "        \"Staphylococcus_aureus\",\n",
    "        \"Pseudomonas_aeruginosa\",\n",
    "        \"Candida_auris\",\n",
    "        \"Enterococcus_faecalis\",\n",
    "        \"Aspergillus_fumigatus\",\n",
    "        \"Candida_albicans\",\n",
    "        \"Escherichia_coli\",\n",
    "    ]:\n",
    "        col_name = f\"{strain_name}_value\"\n",
    "        bioactive_inchikeys = []\n",
    "\n",
    "        for val, inchikey in bioactive_df[[col_name, \"inchikey\"]].values:\n",
    "            if val >= 50:\n",
    "                bioactive_inchikeys.append(inchikey)\n",
    "\n",
    "        bioactive_inchikeys = set(bioactive_inchikeys)\n",
    "        training_inchikeys = set(training_df[\"cmp_id\"].values)\n",
    "\n",
    "        inchikeys_in_training = len(\n",
    "            bioactive_inchikeys.intersection(training_inchikeys)\n",
    "        )\n",
    "        inchikeys_in_bioactive = len(bioactive_inchikeys.difference(training_inchikeys))\n",
    "\n",
    "        k.append(\n",
    "            {\n",
    "                \"strain\": strain_name,\n",
    "                \"Found in training\": inchikeys_in_training,\n",
    "                \"Not found in training\": inchikeys_in_bioactive,\n",
    "            }\n",
    "        )\n",
    "\n",
    "    df = pd.DataFrame(k)\n",
    "\n",
    "    fig = px.bar(\n",
    "        df,\n",
    "        x=\"strain\",\n",
    "        y=[\"Found in training\", \"Not found in training\"],\n",
    "        barmode=\"group\",\n",
    "        title=\"InchiKey overlap between training and bioactive set (All)\",\n",
    "    )\n",
    "\n",
    "    # show %age overlap on top of bars\n",
    "    for i in range(len(df)):\n",
    "        fig.add_annotation(\n",
    "            x=df[\"strain\"][i],\n",
    "            y=df[\"Found in training\"][i],\n",
    "            text=f\"{(df['Found in training'][i] / (df['Found in training'][i] + df['Not found in training'][i])) * 100:.2f}%\",\n",
    "            showarrow=True,\n",
    "        )\n",
    "\n",
    "    fig.show()"
   ]
  },
  {
   "cell_type": "code",
   "execution_count": 24,
   "metadata": {},
   "outputs": [
    {
     "data": {
      "application/vnd.plotly.v1+json": {
       "config": {
        "plotlyServerURL": "https://plot.ly"
       },
       "data": [
        {
         "alignmentgroup": "True",
         "hovertemplate": "variable=Found in training<br>strain=%{x}<br>value=%{y}<extra></extra>",
         "legendgroup": "Found in training",
         "marker": {
          "color": "#636efa",
          "pattern": {
           "shape": ""
          }
         },
         "name": "Found in training",
         "offsetgroup": "Found in training",
         "orientation": "v",
         "showlegend": true,
         "textposition": "auto",
         "type": "bar",
         "x": [
          "Staphylococcus_aureus",
          "Pseudomonas_aeruginosa",
          "Candida_auris",
          "Enterococcus_faecalis",
          "Aspergillus_fumigatus",
          "Candida_albicans",
          "Escherichia_coli"
         ],
         "xaxis": "x",
         "y": [
          55,
          7,
          47,
          27,
          36,
          35,
          25
         ],
         "yaxis": "y"
        },
        {
         "alignmentgroup": "True",
         "hovertemplate": "variable=Not found in training<br>strain=%{x}<br>value=%{y}<extra></extra>",
         "legendgroup": "Not found in training",
         "marker": {
          "color": "#EF553B",
          "pattern": {
           "shape": ""
          }
         },
         "name": "Not found in training",
         "offsetgroup": "Not found in training",
         "orientation": "v",
         "showlegend": true,
         "textposition": "auto",
         "type": "bar",
         "x": [
          "Staphylococcus_aureus",
          "Pseudomonas_aeruginosa",
          "Candida_auris",
          "Enterococcus_faecalis",
          "Aspergillus_fumigatus",
          "Candida_albicans",
          "Escherichia_coli"
         ],
         "xaxis": "x",
         "y": [
          258,
          6,
          228,
          96,
          109,
          85,
          27
         ],
         "yaxis": "y"
        }
       ],
       "layout": {
        "annotations": [
         {
          "showarrow": true,
          "text": "17.57%",
          "x": "Staphylococcus_aureus",
          "y": 55
         },
         {
          "showarrow": true,
          "text": "53.85%",
          "x": "Pseudomonas_aeruginosa",
          "y": 7
         },
         {
          "showarrow": true,
          "text": "17.09%",
          "x": "Candida_auris",
          "y": 47
         },
         {
          "showarrow": true,
          "text": "21.95%",
          "x": "Enterococcus_faecalis",
          "y": 27
         },
         {
          "showarrow": true,
          "text": "24.83%",
          "x": "Aspergillus_fumigatus",
          "y": 36
         },
         {
          "showarrow": true,
          "text": "29.17%",
          "x": "Candida_albicans",
          "y": 35
         },
         {
          "showarrow": true,
          "text": "48.08%",
          "x": "Escherichia_coli",
          "y": 25
         }
        ],
        "barmode": "group",
        "legend": {
         "title": {
          "text": "variable"
         },
         "tracegroupgap": 0
        },
        "template": {
         "data": {
          "bar": [
           {
            "error_x": {
             "color": "#2a3f5f"
            },
            "error_y": {
             "color": "#2a3f5f"
            },
            "marker": {
             "line": {
              "color": "#E5ECF6",
              "width": 0.5
             },
             "pattern": {
              "fillmode": "overlay",
              "size": 10,
              "solidity": 0.2
             }
            },
            "type": "bar"
           }
          ],
          "barpolar": [
           {
            "marker": {
             "line": {
              "color": "#E5ECF6",
              "width": 0.5
             },
             "pattern": {
              "fillmode": "overlay",
              "size": 10,
              "solidity": 0.2
             }
            },
            "type": "barpolar"
           }
          ],
          "carpet": [
           {
            "aaxis": {
             "endlinecolor": "#2a3f5f",
             "gridcolor": "white",
             "linecolor": "white",
             "minorgridcolor": "white",
             "startlinecolor": "#2a3f5f"
            },
            "baxis": {
             "endlinecolor": "#2a3f5f",
             "gridcolor": "white",
             "linecolor": "white",
             "minorgridcolor": "white",
             "startlinecolor": "#2a3f5f"
            },
            "type": "carpet"
           }
          ],
          "choropleth": [
           {
            "colorbar": {
             "outlinewidth": 0,
             "ticks": ""
            },
            "type": "choropleth"
           }
          ],
          "contour": [
           {
            "colorbar": {
             "outlinewidth": 0,
             "ticks": ""
            },
            "colorscale": [
             [
              0,
              "#0d0887"
             ],
             [
              0.1111111111111111,
              "#46039f"
             ],
             [
              0.2222222222222222,
              "#7201a8"
             ],
             [
              0.3333333333333333,
              "#9c179e"
             ],
             [
              0.4444444444444444,
              "#bd3786"
             ],
             [
              0.5555555555555556,
              "#d8576b"
             ],
             [
              0.6666666666666666,
              "#ed7953"
             ],
             [
              0.7777777777777778,
              "#fb9f3a"
             ],
             [
              0.8888888888888888,
              "#fdca26"
             ],
             [
              1,
              "#f0f921"
             ]
            ],
            "type": "contour"
           }
          ],
          "contourcarpet": [
           {
            "colorbar": {
             "outlinewidth": 0,
             "ticks": ""
            },
            "type": "contourcarpet"
           }
          ],
          "heatmap": [
           {
            "colorbar": {
             "outlinewidth": 0,
             "ticks": ""
            },
            "colorscale": [
             [
              0,
              "#0d0887"
             ],
             [
              0.1111111111111111,
              "#46039f"
             ],
             [
              0.2222222222222222,
              "#7201a8"
             ],
             [
              0.3333333333333333,
              "#9c179e"
             ],
             [
              0.4444444444444444,
              "#bd3786"
             ],
             [
              0.5555555555555556,
              "#d8576b"
             ],
             [
              0.6666666666666666,
              "#ed7953"
             ],
             [
              0.7777777777777778,
              "#fb9f3a"
             ],
             [
              0.8888888888888888,
              "#fdca26"
             ],
             [
              1,
              "#f0f921"
             ]
            ],
            "type": "heatmap"
           }
          ],
          "heatmapgl": [
           {
            "colorbar": {
             "outlinewidth": 0,
             "ticks": ""
            },
            "colorscale": [
             [
              0,
              "#0d0887"
             ],
             [
              0.1111111111111111,
              "#46039f"
             ],
             [
              0.2222222222222222,
              "#7201a8"
             ],
             [
              0.3333333333333333,
              "#9c179e"
             ],
             [
              0.4444444444444444,
              "#bd3786"
             ],
             [
              0.5555555555555556,
              "#d8576b"
             ],
             [
              0.6666666666666666,
              "#ed7953"
             ],
             [
              0.7777777777777778,
              "#fb9f3a"
             ],
             [
              0.8888888888888888,
              "#fdca26"
             ],
             [
              1,
              "#f0f921"
             ]
            ],
            "type": "heatmapgl"
           }
          ],
          "histogram": [
           {
            "marker": {
             "pattern": {
              "fillmode": "overlay",
              "size": 10,
              "solidity": 0.2
             }
            },
            "type": "histogram"
           }
          ],
          "histogram2d": [
           {
            "colorbar": {
             "outlinewidth": 0,
             "ticks": ""
            },
            "colorscale": [
             [
              0,
              "#0d0887"
             ],
             [
              0.1111111111111111,
              "#46039f"
             ],
             [
              0.2222222222222222,
              "#7201a8"
             ],
             [
              0.3333333333333333,
              "#9c179e"
             ],
             [
              0.4444444444444444,
              "#bd3786"
             ],
             [
              0.5555555555555556,
              "#d8576b"
             ],
             [
              0.6666666666666666,
              "#ed7953"
             ],
             [
              0.7777777777777778,
              "#fb9f3a"
             ],
             [
              0.8888888888888888,
              "#fdca26"
             ],
             [
              1,
              "#f0f921"
             ]
            ],
            "type": "histogram2d"
           }
          ],
          "histogram2dcontour": [
           {
            "colorbar": {
             "outlinewidth": 0,
             "ticks": ""
            },
            "colorscale": [
             [
              0,
              "#0d0887"
             ],
             [
              0.1111111111111111,
              "#46039f"
             ],
             [
              0.2222222222222222,
              "#7201a8"
             ],
             [
              0.3333333333333333,
              "#9c179e"
             ],
             [
              0.4444444444444444,
              "#bd3786"
             ],
             [
              0.5555555555555556,
              "#d8576b"
             ],
             [
              0.6666666666666666,
              "#ed7953"
             ],
             [
              0.7777777777777778,
              "#fb9f3a"
             ],
             [
              0.8888888888888888,
              "#fdca26"
             ],
             [
              1,
              "#f0f921"
             ]
            ],
            "type": "histogram2dcontour"
           }
          ],
          "mesh3d": [
           {
            "colorbar": {
             "outlinewidth": 0,
             "ticks": ""
            },
            "type": "mesh3d"
           }
          ],
          "parcoords": [
           {
            "line": {
             "colorbar": {
              "outlinewidth": 0,
              "ticks": ""
             }
            },
            "type": "parcoords"
           }
          ],
          "pie": [
           {
            "automargin": true,
            "type": "pie"
           }
          ],
          "scatter": [
           {
            "fillpattern": {
             "fillmode": "overlay",
             "size": 10,
             "solidity": 0.2
            },
            "type": "scatter"
           }
          ],
          "scatter3d": [
           {
            "line": {
             "colorbar": {
              "outlinewidth": 0,
              "ticks": ""
             }
            },
            "marker": {
             "colorbar": {
              "outlinewidth": 0,
              "ticks": ""
             }
            },
            "type": "scatter3d"
           }
          ],
          "scattercarpet": [
           {
            "marker": {
             "colorbar": {
              "outlinewidth": 0,
              "ticks": ""
             }
            },
            "type": "scattercarpet"
           }
          ],
          "scattergeo": [
           {
            "marker": {
             "colorbar": {
              "outlinewidth": 0,
              "ticks": ""
             }
            },
            "type": "scattergeo"
           }
          ],
          "scattergl": [
           {
            "marker": {
             "colorbar": {
              "outlinewidth": 0,
              "ticks": ""
             }
            },
            "type": "scattergl"
           }
          ],
          "scattermapbox": [
           {
            "marker": {
             "colorbar": {
              "outlinewidth": 0,
              "ticks": ""
             }
            },
            "type": "scattermapbox"
           }
          ],
          "scatterpolar": [
           {
            "marker": {
             "colorbar": {
              "outlinewidth": 0,
              "ticks": ""
             }
            },
            "type": "scatterpolar"
           }
          ],
          "scatterpolargl": [
           {
            "marker": {
             "colorbar": {
              "outlinewidth": 0,
              "ticks": ""
             }
            },
            "type": "scatterpolargl"
           }
          ],
          "scatterternary": [
           {
            "marker": {
             "colorbar": {
              "outlinewidth": 0,
              "ticks": ""
             }
            },
            "type": "scatterternary"
           }
          ],
          "surface": [
           {
            "colorbar": {
             "outlinewidth": 0,
             "ticks": ""
            },
            "colorscale": [
             [
              0,
              "#0d0887"
             ],
             [
              0.1111111111111111,
              "#46039f"
             ],
             [
              0.2222222222222222,
              "#7201a8"
             ],
             [
              0.3333333333333333,
              "#9c179e"
             ],
             [
              0.4444444444444444,
              "#bd3786"
             ],
             [
              0.5555555555555556,
              "#d8576b"
             ],
             [
              0.6666666666666666,
              "#ed7953"
             ],
             [
              0.7777777777777778,
              "#fb9f3a"
             ],
             [
              0.8888888888888888,
              "#fdca26"
             ],
             [
              1,
              "#f0f921"
             ]
            ],
            "type": "surface"
           }
          ],
          "table": [
           {
            "cells": {
             "fill": {
              "color": "#EBF0F8"
             },
             "line": {
              "color": "white"
             }
            },
            "header": {
             "fill": {
              "color": "#C8D4E3"
             },
             "line": {
              "color": "white"
             }
            },
            "type": "table"
           }
          ]
         },
         "layout": {
          "annotationdefaults": {
           "arrowcolor": "#2a3f5f",
           "arrowhead": 0,
           "arrowwidth": 1
          },
          "autotypenumbers": "strict",
          "coloraxis": {
           "colorbar": {
            "outlinewidth": 0,
            "ticks": ""
           }
          },
          "colorscale": {
           "diverging": [
            [
             0,
             "#8e0152"
            ],
            [
             0.1,
             "#c51b7d"
            ],
            [
             0.2,
             "#de77ae"
            ],
            [
             0.3,
             "#f1b6da"
            ],
            [
             0.4,
             "#fde0ef"
            ],
            [
             0.5,
             "#f7f7f7"
            ],
            [
             0.6,
             "#e6f5d0"
            ],
            [
             0.7,
             "#b8e186"
            ],
            [
             0.8,
             "#7fbc41"
            ],
            [
             0.9,
             "#4d9221"
            ],
            [
             1,
             "#276419"
            ]
           ],
           "sequential": [
            [
             0,
             "#0d0887"
            ],
            [
             0.1111111111111111,
             "#46039f"
            ],
            [
             0.2222222222222222,
             "#7201a8"
            ],
            [
             0.3333333333333333,
             "#9c179e"
            ],
            [
             0.4444444444444444,
             "#bd3786"
            ],
            [
             0.5555555555555556,
             "#d8576b"
            ],
            [
             0.6666666666666666,
             "#ed7953"
            ],
            [
             0.7777777777777778,
             "#fb9f3a"
            ],
            [
             0.8888888888888888,
             "#fdca26"
            ],
            [
             1,
             "#f0f921"
            ]
           ],
           "sequentialminus": [
            [
             0,
             "#0d0887"
            ],
            [
             0.1111111111111111,
             "#46039f"
            ],
            [
             0.2222222222222222,
             "#7201a8"
            ],
            [
             0.3333333333333333,
             "#9c179e"
            ],
            [
             0.4444444444444444,
             "#bd3786"
            ],
            [
             0.5555555555555556,
             "#d8576b"
            ],
            [
             0.6666666666666666,
             "#ed7953"
            ],
            [
             0.7777777777777778,
             "#fb9f3a"
            ],
            [
             0.8888888888888888,
             "#fdca26"
            ],
            [
             1,
             "#f0f921"
            ]
           ]
          },
          "colorway": [
           "#636efa",
           "#EF553B",
           "#00cc96",
           "#ab63fa",
           "#FFA15A",
           "#19d3f3",
           "#FF6692",
           "#B6E880",
           "#FF97FF",
           "#FECB52"
          ],
          "font": {
           "color": "#2a3f5f"
          },
          "geo": {
           "bgcolor": "white",
           "lakecolor": "white",
           "landcolor": "#E5ECF6",
           "showlakes": true,
           "showland": true,
           "subunitcolor": "white"
          },
          "hoverlabel": {
           "align": "left"
          },
          "hovermode": "closest",
          "mapbox": {
           "style": "light"
          },
          "paper_bgcolor": "white",
          "plot_bgcolor": "#E5ECF6",
          "polar": {
           "angularaxis": {
            "gridcolor": "white",
            "linecolor": "white",
            "ticks": ""
           },
           "bgcolor": "#E5ECF6",
           "radialaxis": {
            "gridcolor": "white",
            "linecolor": "white",
            "ticks": ""
           }
          },
          "scene": {
           "xaxis": {
            "backgroundcolor": "#E5ECF6",
            "gridcolor": "white",
            "gridwidth": 2,
            "linecolor": "white",
            "showbackground": true,
            "ticks": "",
            "zerolinecolor": "white"
           },
           "yaxis": {
            "backgroundcolor": "#E5ECF6",
            "gridcolor": "white",
            "gridwidth": 2,
            "linecolor": "white",
            "showbackground": true,
            "ticks": "",
            "zerolinecolor": "white"
           },
           "zaxis": {
            "backgroundcolor": "#E5ECF6",
            "gridcolor": "white",
            "gridwidth": 2,
            "linecolor": "white",
            "showbackground": true,
            "ticks": "",
            "zerolinecolor": "white"
           }
          },
          "shapedefaults": {
           "line": {
            "color": "#2a3f5f"
           }
          },
          "ternary": {
           "aaxis": {
            "gridcolor": "white",
            "linecolor": "white",
            "ticks": ""
           },
           "baxis": {
            "gridcolor": "white",
            "linecolor": "white",
            "ticks": ""
           },
           "bgcolor": "#E5ECF6",
           "caxis": {
            "gridcolor": "white",
            "linecolor": "white",
            "ticks": ""
           }
          },
          "title": {
           "x": 0.05
          },
          "xaxis": {
           "automargin": true,
           "gridcolor": "white",
           "linecolor": "white",
           "ticks": "",
           "title": {
            "standoff": 15
           },
           "zerolinecolor": "white",
           "zerolinewidth": 2
          },
          "yaxis": {
           "automargin": true,
           "gridcolor": "white",
           "linecolor": "white",
           "ticks": "",
           "title": {
            "standoff": 15
           },
           "zerolinecolor": "white",
           "zerolinewidth": 2
          }
         }
        },
        "title": {
         "text": "InchiKey overlap between training and bioactive set (All)"
        },
        "xaxis": {
         "anchor": "y",
         "domain": [
          0,
          1
         ],
         "title": {
          "text": "strain"
         }
        },
        "yaxis": {
         "anchor": "x",
         "domain": [
          0,
          1
         ],
         "title": {
          "text": "value"
         }
        }
       }
      }
     },
     "metadata": {},
     "output_type": "display_data"
    }
   ],
   "source": [
    "plot_cmpd_overlap()"
   ]
  },
  {
   "cell_type": "code",
   "execution_count": 25,
   "metadata": {},
   "outputs": [
    {
     "data": {
      "image/png": "[encoded data removed]",
      "text/plain": [
       "<Figure size 640x480 with 1 Axes>"
      ]
     },
     "metadata": {},
     "output_type": "display_data"
    }
   ],
   "source": [
    "bioactive_scaffolds = set([i.split(\"-\")[0] for i in bioactive_inchikeys])\n",
    "training_scaffolds = set([i.split(\"-\")[0] for i in training_inchikeys])\n",
    "ecbl_scaffolds = set([i.split(\"-\")[0] for i in ecbl_inchikeys])\n",
    "\n",
    "venn3_unweighted(\n",
    "    [training_scaffolds, bioactive_scaffolds, ecbl_scaffolds],\n",
    "    set_labels=(\"Training\", \"Bioactive\", \"ECBL\"),\n",
    ")\n",
    "plt.title(\"InchiKey scaffold overlap between training and bioactive set\")\n",
    "plt.show()"
   ]
  },
  {
   "cell_type": "markdown",
   "metadata": {},
   "source": [
    "# Prediction probabilities after removal of training set compounds"
   ]
  },
  {
   "cell_type": "code",
   "execution_count": 26,
   "metadata": {},
   "outputs": [],
   "source": [
    "bioactive_overlapped_compounds = bioactive_inchikeys.intersection(training_inchikeys)\n",
    "ecbl_overlapped_compounds = ecbl_inchikeys.intersection(training_inchikeys)"
   ]
  },
  {
   "cell_type": "code",
   "execution_count": 27,
   "metadata": {},
   "outputs": [
    {
     "data": {
      "text/plain": [
       "(151, 18)"
      ]
     },
     "execution_count": 27,
     "metadata": {},
     "output_type": "execute_result"
    }
   ],
   "source": [
    "len(bioactive_overlapped_compounds), len(ecbl_overlapped_compounds)"
   ]
  },
  {
   "cell_type": "code",
   "execution_count": 28,
   "metadata": {},
   "outputs": [
    {
     "data": {
      "text/plain": [
       "(96092, 96074, 4776, 4927)"
      ]
     },
     "execution_count": 28,
     "metadata": {},
     "output_type": "execute_result"
    }
   ],
   "source": [
    "ecbl_non_train_df = ecbl_df[~ecbl_df[\"inchikey\"].isin(ecbl_overlapped_compounds)]\n",
    "bioactive_non_train_df = bioactive_df[\n",
    "    ~bioactive_df[\"inchikey\"].isin(bioactive_overlapped_compounds)\n",
    "]\n",
    "\n",
    "len(ecbl_df), len(ecbl_non_train_df), len(bioactive_non_train_df), len(bioactive_df)"
   ]
  },
  {
   "cell_type": "code",
   "execution_count": 29,
   "metadata": {},
   "outputs": [
    {
     "name": "stdout",
     "output_type": "stream",
     "text": [
      "Mean difference: 4.99451083274408\n"
     ]
    },
    {
     "data": {
      "text/html": [
       "<div>\n",
       "<style scoped>\n",
       "    .dataframe tbody tr th:only-of-type {\n",
       "        vertical-align: middle;\n",
       "    }\n",
       "\n",
       "    .dataframe tbody tr th {\n",
       "        vertical-align: top;\n",
       "    }\n",
       "\n",
       "    .dataframe thead th {\n",
       "        text-align: right;\n",
       "    }\n",
       "</style>\n",
       "<table border=\"1\" class=\"dataframe\">\n",
       "  <thead>\n",
       "    <tr style=\"text-align: right;\">\n",
       "      <th></th>\n",
       "      <th>org</th>\n",
       "      <th>accuracy</th>\n",
       "      <th>true_actives</th>\n",
       "      <th>true_inactives</th>\n",
       "      <th>false_actives</th>\n",
       "      <th>false_inactives</th>\n",
       "      <th>tp rate</th>\n",
       "      <th>exp_hitrate</th>\n",
       "    </tr>\n",
       "  </thead>\n",
       "  <tbody>\n",
       "    <tr>\n",
       "      <th>0</th>\n",
       "      <td>Staphylococcus_aureus</td>\n",
       "      <td>95.175594</td>\n",
       "      <td>40</td>\n",
       "      <td>91399</td>\n",
       "      <td>3696</td>\n",
       "      <td>939</td>\n",
       "      <td>4.085802</td>\n",
       "      <td>1.019006</td>\n",
       "    </tr>\n",
       "    <tr>\n",
       "      <th>1</th>\n",
       "      <td>Pseudomonas_aeruginosa</td>\n",
       "      <td>99.014301</td>\n",
       "      <td>0</td>\n",
       "      <td>95127</td>\n",
       "      <td>946</td>\n",
       "      <td>1</td>\n",
       "      <td>0.000000</td>\n",
       "      <td>0.001041</td>\n",
       "    </tr>\n",
       "    <tr>\n",
       "      <th>2</th>\n",
       "      <td>Candida_auris</td>\n",
       "      <td>97.525865</td>\n",
       "      <td>16</td>\n",
       "      <td>93681</td>\n",
       "      <td>1453</td>\n",
       "      <td>924</td>\n",
       "      <td>1.702128</td>\n",
       "      <td>0.978412</td>\n",
       "    </tr>\n",
       "    <tr>\n",
       "      <th>3</th>\n",
       "      <td>Enterococcus_faecalis</td>\n",
       "      <td>96.087391</td>\n",
       "      <td>5</td>\n",
       "      <td>92310</td>\n",
       "      <td>3731</td>\n",
       "      <td>28</td>\n",
       "      <td>15.151515</td>\n",
       "      <td>0.034349</td>\n",
       "    </tr>\n",
       "    <tr>\n",
       "      <th>4</th>\n",
       "      <td>Aspergillus_fumigatus</td>\n",
       "      <td>98.276329</td>\n",
       "      <td>5</td>\n",
       "      <td>94413</td>\n",
       "      <td>1464</td>\n",
       "      <td>192</td>\n",
       "      <td>2.538071</td>\n",
       "      <td>0.205050</td>\n",
       "    </tr>\n",
       "    <tr>\n",
       "      <th>5</th>\n",
       "      <td>Candida_albicans</td>\n",
       "      <td>98.343985</td>\n",
       "      <td>3</td>\n",
       "      <td>94480</td>\n",
       "      <td>1466</td>\n",
       "      <td>125</td>\n",
       "      <td>2.343750</td>\n",
       "      <td>0.133231</td>\n",
       "    </tr>\n",
       "    <tr>\n",
       "      <th>6</th>\n",
       "      <td>Escherichia_coli</td>\n",
       "      <td>98.994525</td>\n",
       "      <td>3</td>\n",
       "      <td>95105</td>\n",
       "      <td>943</td>\n",
       "      <td>23</td>\n",
       "      <td>11.538462</td>\n",
       "      <td>0.027062</td>\n",
       "    </tr>\n",
       "  </tbody>\n",
       "</table>\n",
       "</div>"
      ],
      "text/plain": [
       "                      org   accuracy  true_actives  true_inactives  \\\n",
       "0   Staphylococcus_aureus  95.175594            40           91399   \n",
       "1  Pseudomonas_aeruginosa  99.014301             0           95127   \n",
       "2           Candida_auris  97.525865            16           93681   \n",
       "3   Enterococcus_faecalis  96.087391             5           92310   \n",
       "4   Aspergillus_fumigatus  98.276329             5           94413   \n",
       "5        Candida_albicans  98.343985             3           94480   \n",
       "6        Escherichia_coli  98.994525             3           95105   \n",
       "\n",
       "   false_actives  false_inactives    tp rate  exp_hitrate  \n",
       "0           3696              939   4.085802     1.019006  \n",
       "1            946                1   0.000000     0.001041  \n",
       "2           1453              924   1.702128     0.978412  \n",
       "3           3731               28  15.151515     0.034349  \n",
       "4           1464              192   2.538071     0.205050  \n",
       "5           1466              125   2.343750     0.133231  \n",
       "6            943               23  11.538462     0.027062  "
      ]
     },
     "execution_count": 29,
     "metadata": {},
     "output_type": "execute_result"
    }
   ],
   "source": [
    "get_prediction_accuracy_all(ecbl_non_train_df)"
   ]
  },
  {
   "cell_type": "code",
   "execution_count": 30,
   "metadata": {},
   "outputs": [
    {
     "name": "stdout",
     "output_type": "stream",
     "text": [
      "Mean difference: 11.419414924825318\n"
     ]
    },
    {
     "data": {
      "text/html": [
       "<div>\n",
       "<style scoped>\n",
       "    .dataframe tbody tr th:only-of-type {\n",
       "        vertical-align: middle;\n",
       "    }\n",
       "\n",
       "    .dataframe tbody tr th {\n",
       "        vertical-align: top;\n",
       "    }\n",
       "\n",
       "    .dataframe thead th {\n",
       "        text-align: right;\n",
       "    }\n",
       "</style>\n",
       "<table border=\"1\" class=\"dataframe\">\n",
       "  <thead>\n",
       "    <tr style=\"text-align: right;\">\n",
       "      <th></th>\n",
       "      <th>org</th>\n",
       "      <th>accuracy</th>\n",
       "      <th>true_actives</th>\n",
       "      <th>true_inactives</th>\n",
       "      <th>false_actives</th>\n",
       "      <th>false_inactives</th>\n",
       "      <th>tp rate</th>\n",
       "      <th>exp_hitrate</th>\n",
       "    </tr>\n",
       "  </thead>\n",
       "  <tbody>\n",
       "    <tr>\n",
       "      <th>0</th>\n",
       "      <td>Staphylococcus_aureus</td>\n",
       "      <td>86.432161</td>\n",
       "      <td>56</td>\n",
       "      <td>4072</td>\n",
       "      <td>446</td>\n",
       "      <td>202</td>\n",
       "      <td>21.705426</td>\n",
       "      <td>5.402010</td>\n",
       "    </tr>\n",
       "    <tr>\n",
       "      <th>1</th>\n",
       "      <td>Pseudomonas_aeruginosa</td>\n",
       "      <td>98.136516</td>\n",
       "      <td>0</td>\n",
       "      <td>4687</td>\n",
       "      <td>83</td>\n",
       "      <td>6</td>\n",
       "      <td>0.000000</td>\n",
       "      <td>0.125628</td>\n",
       "    </tr>\n",
       "    <tr>\n",
       "      <th>2</th>\n",
       "      <td>Candida_auris</td>\n",
       "      <td>94.535176</td>\n",
       "      <td>18</td>\n",
       "      <td>4497</td>\n",
       "      <td>51</td>\n",
       "      <td>210</td>\n",
       "      <td>7.894737</td>\n",
       "      <td>4.773869</td>\n",
       "    </tr>\n",
       "    <tr>\n",
       "      <th>3</th>\n",
       "      <td>Enterococcus_faecalis</td>\n",
       "      <td>88.860972</td>\n",
       "      <td>33</td>\n",
       "      <td>4211</td>\n",
       "      <td>469</td>\n",
       "      <td>63</td>\n",
       "      <td>34.375000</td>\n",
       "      <td>2.010050</td>\n",
       "    </tr>\n",
       "    <tr>\n",
       "      <th>4</th>\n",
       "      <td>Aspergillus_fumigatus</td>\n",
       "      <td>97.068677</td>\n",
       "      <td>19</td>\n",
       "      <td>4617</td>\n",
       "      <td>50</td>\n",
       "      <td>90</td>\n",
       "      <td>17.431193</td>\n",
       "      <td>2.282245</td>\n",
       "    </tr>\n",
       "    <tr>\n",
       "      <th>5</th>\n",
       "      <td>Candida_albicans</td>\n",
       "      <td>97.194305</td>\n",
       "      <td>10</td>\n",
       "      <td>4632</td>\n",
       "      <td>59</td>\n",
       "      <td>75</td>\n",
       "      <td>11.764706</td>\n",
       "      <td>1.779732</td>\n",
       "    </tr>\n",
       "    <tr>\n",
       "      <th>6</th>\n",
       "      <td>Escherichia_coli</td>\n",
       "      <td>97.738693</td>\n",
       "      <td>1</td>\n",
       "      <td>4667</td>\n",
       "      <td>82</td>\n",
       "      <td>26</td>\n",
       "      <td>3.703704</td>\n",
       "      <td>0.565327</td>\n",
       "    </tr>\n",
       "  </tbody>\n",
       "</table>\n",
       "</div>"
      ],
      "text/plain": [
       "                      org   accuracy  true_actives  true_inactives  \\\n",
       "0   Staphylococcus_aureus  86.432161            56            4072   \n",
       "1  Pseudomonas_aeruginosa  98.136516             0            4687   \n",
       "2           Candida_auris  94.535176            18            4497   \n",
       "3   Enterococcus_faecalis  88.860972            33            4211   \n",
       "4   Aspergillus_fumigatus  97.068677            19            4617   \n",
       "5        Candida_albicans  97.194305            10            4632   \n",
       "6        Escherichia_coli  97.738693             1            4667   \n",
       "\n",
       "   false_actives  false_inactives    tp rate  exp_hitrate  \n",
       "0            446              202  21.705426     5.402010  \n",
       "1             83                6   0.000000     0.125628  \n",
       "2             51              210   7.894737     4.773869  \n",
       "3            469               63  34.375000     2.010050  \n",
       "4             50               90  17.431193     2.282245  \n",
       "5             59               75  11.764706     1.779732  \n",
       "6             82               26   3.703704     0.565327  "
      ]
     },
     "execution_count": 30,
     "metadata": {},
     "output_type": "execute_result"
    }
   ],
   "source": [
    "get_prediction_accuracy_all(bioactive_non_train_df)"
   ]
  },
  {
   "cell_type": "code",
   "execution_count": 31,
   "metadata": {},
   "outputs": [
    {
     "data": {
      "text/html": [
       "<div>\n",
       "<style scoped>\n",
       "    .dataframe tbody tr th:only-of-type {\n",
       "        vertical-align: middle;\n",
       "    }\n",
       "\n",
       "    .dataframe tbody tr th {\n",
       "        vertical-align: top;\n",
       "    }\n",
       "\n",
       "    .dataframe thead th {\n",
       "        text-align: right;\n",
       "    }\n",
       "</style>\n",
       "<table border=\"1\" class=\"dataframe\">\n",
       "  <thead>\n",
       "    <tr style=\"text-align: right;\">\n",
       "      <th></th>\n",
       "      <th>class</th>\n",
       "      <th>accuracy</th>\n",
       "      <th>true_actives</th>\n",
       "      <th>true_inactives</th>\n",
       "      <th>false_actives</th>\n",
       "      <th>false_inactives</th>\n",
       "      <th>tp rate</th>\n",
       "      <th>exp_hitrate</th>\n",
       "    </tr>\n",
       "  </thead>\n",
       "  <tbody>\n",
       "    <tr>\n",
       "      <th>0</th>\n",
       "      <td>gram-positive</td>\n",
       "      <td>95.171430</td>\n",
       "      <td>40</td>\n",
       "      <td>91395</td>\n",
       "      <td>3696</td>\n",
       "      <td>943</td>\n",
       "      <td>4.069176</td>\n",
       "      <td>1.023170</td>\n",
       "    </tr>\n",
       "    <tr>\n",
       "      <th>1</th>\n",
       "      <td>gram-negative</td>\n",
       "      <td>98.993484</td>\n",
       "      <td>3</td>\n",
       "      <td>95104</td>\n",
       "      <td>943</td>\n",
       "      <td>24</td>\n",
       "      <td>11.111111</td>\n",
       "      <td>0.028103</td>\n",
       "    </tr>\n",
       "    <tr>\n",
       "      <th>2</th>\n",
       "      <td>fungi</td>\n",
       "      <td>97.386390</td>\n",
       "      <td>18</td>\n",
       "      <td>93545</td>\n",
       "      <td>1451</td>\n",
       "      <td>1060</td>\n",
       "      <td>1.669759</td>\n",
       "      <td>1.122052</td>\n",
       "    </tr>\n",
       "  </tbody>\n",
       "</table>\n",
       "</div>"
      ],
      "text/plain": [
       "           class   accuracy  true_actives  true_inactives  false_actives  \\\n",
       "0  gram-positive  95.171430            40           91395           3696   \n",
       "1  gram-negative  98.993484             3           95104            943   \n",
       "2          fungi  97.386390            18           93545           1451   \n",
       "\n",
       "   false_inactives    tp rate  exp_hitrate  \n",
       "0              943   4.069176     1.023170  \n",
       "1               24  11.111111     0.028103  \n",
       "2             1060   1.669759     1.122052  "
      ]
     },
     "execution_count": 31,
     "metadata": {},
     "output_type": "execute_result"
    }
   ],
   "source": [
    "get_prediction_pathogen_class_wise(ecbl_non_train_df)"
   ]
  },
  {
   "cell_type": "code",
   "execution_count": 32,
   "metadata": {},
   "outputs": [
    {
     "data": {
      "text/html": [
       "<div>\n",
       "<style scoped>\n",
       "    .dataframe tbody tr th:only-of-type {\n",
       "        vertical-align: middle;\n",
       "    }\n",
       "\n",
       "    .dataframe tbody tr th {\n",
       "        vertical-align: top;\n",
       "    }\n",
       "\n",
       "    .dataframe thead th {\n",
       "        text-align: right;\n",
       "    }\n",
       "</style>\n",
       "<table border=\"1\" class=\"dataframe\">\n",
       "  <thead>\n",
       "    <tr style=\"text-align: right;\">\n",
       "      <th></th>\n",
       "      <th>class</th>\n",
       "      <th>accuracy</th>\n",
       "      <th>true_actives</th>\n",
       "      <th>true_inactives</th>\n",
       "      <th>false_actives</th>\n",
       "      <th>false_inactives</th>\n",
       "      <th>tp rate</th>\n",
       "      <th>exp_hitrate</th>\n",
       "    </tr>\n",
       "  </thead>\n",
       "  <tbody>\n",
       "    <tr>\n",
       "      <th>0</th>\n",
       "      <td>gram-positive</td>\n",
       "      <td>86.369347</td>\n",
       "      <td>57</td>\n",
       "      <td>4068</td>\n",
       "      <td>445</td>\n",
       "      <td>206</td>\n",
       "      <td>21.673004</td>\n",
       "      <td>5.506700</td>\n",
       "    </tr>\n",
       "    <tr>\n",
       "      <th>1</th>\n",
       "      <td>gram-negative</td>\n",
       "      <td>97.738693</td>\n",
       "      <td>1</td>\n",
       "      <td>4667</td>\n",
       "      <td>82</td>\n",
       "      <td>26</td>\n",
       "      <td>3.703704</td>\n",
       "      <td>0.565327</td>\n",
       "    </tr>\n",
       "    <tr>\n",
       "      <th>2</th>\n",
       "      <td>fungi</td>\n",
       "      <td>93.907035</td>\n",
       "      <td>21</td>\n",
       "      <td>4464</td>\n",
       "      <td>48</td>\n",
       "      <td>243</td>\n",
       "      <td>7.954545</td>\n",
       "      <td>5.527638</td>\n",
       "    </tr>\n",
       "  </tbody>\n",
       "</table>\n",
       "</div>"
      ],
      "text/plain": [
       "           class   accuracy  true_actives  true_inactives  false_actives  \\\n",
       "0  gram-positive  86.369347            57            4068            445   \n",
       "1  gram-negative  97.738693             1            4667             82   \n",
       "2          fungi  93.907035            21            4464             48   \n",
       "\n",
       "   false_inactives    tp rate  exp_hitrate  \n",
       "0              206  21.673004     5.506700  \n",
       "1               26   3.703704     0.565327  \n",
       "2              243   7.954545     5.527638  "
      ]
     },
     "execution_count": 32,
     "metadata": {},
     "output_type": "execute_result"
    }
   ],
   "source": [
    "get_prediction_pathogen_class_wise(bioactive_non_train_df)"
   ]
  },
  {
   "cell_type": "code",
   "execution_count": null,
   "metadata": {},
   "outputs": [],
   "source": []
  }
 ],
 "metadata": {
  "kernelspec": {
   "display_name": "kg_dashboard",
   "language": "python",
   "name": "python3"
  },
  "language_info": {
   "codemirror_mode": {
    "name": "ipython",
    "version": 3
   },
   "file_extension": ".py",
   "mimetype": "text/x-python",
   "name": "python",
   "nbconvert_exporter": "python",
   "pygments_lexer": "ipython3",
   "version": "3.13.0"
  }
 },
 "nbformat": 4,
 "nbformat_minor": 2
}
