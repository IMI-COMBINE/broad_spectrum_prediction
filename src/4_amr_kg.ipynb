{
 "cells": [
  {
   "cell_type": "markdown",
   "metadata": {},
   "source": [
    "# AMR-KG\n",
    "\n",
    "This notebook is used to generate and populate the AMR-KG with the data."
   ]
  },
  {
   "cell_type": "code",
   "execution_count": 1,
   "metadata": {},
   "outputs": [],
   "source": [
    "import string\n",
    "import pandas as pd\n",
    "from tqdm import tqdm\n",
    "\n",
    "from neomodel import (config, StructuredNode, StringProperty, RelationshipTo, StructuredRel, FloatProperty, db)\n",
    "import seaborn as sns\n",
    "import matplotlib.pyplot as plt\n",
    "\n",
    "import warnings\n",
    "warnings.filterwarnings(\"ignore\")"
   ]
  },
  {
   "cell_type": "markdown",
   "metadata": {},
   "source": [
    "# Load dataset"
   ]
  },
  {
   "cell_type": "code",
   "execution_count": 2,
   "metadata": {},
   "outputs": [
    {
     "data": {
      "text/html": [
       "<div>\n",
       "<style scoped>\n",
       "    .dataframe tbody tr th:only-of-type {\n",
       "        vertical-align: middle;\n",
       "    }\n",
       "\n",
       "    .dataframe tbody tr th {\n",
       "        vertical-align: top;\n",
       "    }\n",
       "\n",
       "    .dataframe thead th {\n",
       "        text-align: right;\n",
       "    }\n",
       "</style>\n",
       "<table border=\"1\" class=\"dataframe\">\n",
       "  <thead>\n",
       "    <tr style=\"text-align: right;\">\n",
       "      <th></th>\n",
       "      <th>cmp_id</th>\n",
       "      <th>smiles</th>\n",
       "      <th>inchikey</th>\n",
       "      <th>bact</th>\n",
       "      <th>strain</th>\n",
       "      <th>val</th>\n",
       "      <th>val_type</th>\n",
       "      <th>source</th>\n",
       "    </tr>\n",
       "  </thead>\n",
       "  <tbody>\n",
       "    <tr>\n",
       "      <th>0</th>\n",
       "      <td>pubchem.compound:2850780</td>\n",
       "      <td>COCC(C)NCc1ccc(C)cc1C</td>\n",
       "      <td>AAAFNFZYVYYALD-UHFFFAOYSA-N</td>\n",
       "      <td>Streptococcus pneumoniae serotype 2 (strain D3...</td>\n",
       "      <td>gram-positive</td>\n",
       "      <td>3.71</td>\n",
       "      <td>IC50</td>\n",
       "      <td>bindingdb</td>\n",
       "    </tr>\n",
       "    <tr>\n",
       "      <th>1</th>\n",
       "      <td>pubchem.compound:2850780</td>\n",
       "      <td>COCC(C)NCc1ccc(C)cc1C</td>\n",
       "      <td>AAAFNFZYVYYALD-UHFFFAOYSA-N</td>\n",
       "      <td>Streptococcus pneumoniae serotype 2 (strain D3...</td>\n",
       "      <td>gram-positive</td>\n",
       "      <td>2.00</td>\n",
       "      <td>IC50</td>\n",
       "      <td>bindingdb</td>\n",
       "    </tr>\n",
       "  </tbody>\n",
       "</table>\n",
       "</div>"
      ],
      "text/plain": [
       "                     cmp_id                 smiles  \\\n",
       "0  pubchem.compound:2850780  COCC(C)NCc1ccc(C)cc1C   \n",
       "1  pubchem.compound:2850780  COCC(C)NCc1ccc(C)cc1C   \n",
       "\n",
       "                      inchikey  \\\n",
       "0  AAAFNFZYVYYALD-UHFFFAOYSA-N   \n",
       "1  AAAFNFZYVYYALD-UHFFFAOYSA-N   \n",
       "\n",
       "                                                bact         strain   val  \\\n",
       "0  Streptococcus pneumoniae serotype 2 (strain D3...  gram-positive  3.71   \n",
       "1  Streptococcus pneumoniae serotype 2 (strain D3...  gram-positive  2.00   \n",
       "\n",
       "  val_type     source  \n",
       "0     IC50  bindingdb  \n",
       "1     IC50  bindingdb  "
      ]
     },
     "execution_count": 2,
     "metadata": {},
     "output_type": "execute_result"
    }
   ],
   "source": [
    "df = pd.read_csv('../data/processed/combined.tsv', sep='\\t')\n",
    "df.head(2)"
   ]
  },
  {
   "cell_type": "markdown",
   "metadata": {},
   "source": [
    "# Generate graph\n",
    "The graph can be generated and visualized using Neo4J desktop. Make sure to generate an admin user with the following configurations in the system setting of the database.\n",
    "Username - user\n",
    "Password - administrator"
   ]
  },
  {
   "cell_type": "code",
   "execution_count": 3,
   "metadata": {},
   "outputs": [],
   "source": [
    "from neo4j import GraphDatabase\n",
    "my_driver = GraphDatabase().driver('bolt://localhost:7687', auth=('user', 'administrator'))\n",
    "config.DRIVER = my_driver"
   ]
  },
  {
   "cell_type": "code",
   "execution_count": 4,
   "metadata": {},
   "outputs": [
    {
     "data": {
      "text/plain": [
       "([], [])"
      ]
     },
     "execution_count": 4,
     "metadata": {},
     "output_type": "execute_result"
    }
   ],
   "source": [
    "# Delete all nodes and relationships\n",
    "db.cypher_query(\"MATCH ()-[r]-() DELETE r\")  # delete all relationships\n",
    "db.cypher_query(\"MATCH (n) DETACH DELETE n\") # delete all nodes"
   ]
  },
  {
   "cell_type": "code",
   "execution_count": 5,
   "metadata": {},
   "outputs": [],
   "source": [
    "# Relation with properties\n",
    "class Activity(StructuredRel):\n",
    "    act_type = StringProperty()\n",
    "    value = FloatProperty()\n",
    "    db_source = StringProperty()\n",
    "\n",
    "# Defining the nodes\n",
    "class BacteriaStrain(StructuredNode):\n",
    "    name = StringProperty(required=True, unique_index=True, unique=True)\n",
    "\n",
    "class Bacteria(StructuredNode):\n",
    "    name = StringProperty(required=True, unique_index=True, unique=True)\n",
    "\n",
    "    # outgoing relations\n",
    "    strain = RelationshipTo(BacteriaStrain, 'IS_A')\n",
    "\n",
    "class Chemical(StructuredNode):\n",
    "    name = StringProperty(required=True, unique_index=True, unique=True)\n",
    "    smiles = StringProperty(index=True)\n",
    "    inchikey = StringProperty(index=True)\n",
    "\n",
    "    # outgoing relations\n",
    "    activity = RelationshipTo(Bacteria, 'SHOWS_ACTIVITY_ON', model=Activity)"
   ]
  },
  {
   "cell_type": "code",
   "execution_count": 6,
   "metadata": {},
   "outputs": [
    {
     "name": "stderr",
     "output_type": "stream",
     "text": [
      "100%|██████████| 64320/64320 [09:19<00:00, 114.95it/s]\n"
     ]
    }
   ],
   "source": [
    "# Compound nodes\n",
    "compound_nodes = df[['cmp_id', 'smiles', 'inchikey']].drop_duplicates()\n",
    "for idx, smiles, inchikey in tqdm(compound_nodes.values):\n",
    "    c = Chemical(name=idx, smiles=smiles, inchikey=inchikey).save()"
   ]
  },
  {
   "cell_type": "code",
   "execution_count": 7,
   "metadata": {},
   "outputs": [
    {
     "name": "stderr",
     "output_type": "stream",
     "text": [
      "100%|██████████| 357/357 [00:03<00:00, 109.43it/s]\n"
     ]
    }
   ],
   "source": [
    "# Bacteria nodes\n",
    "bact_nodes = df['bact'].unique().tolist()\n",
    "for bact_name in tqdm(bact_nodes):\n",
    "    b = Bacteria(name=bact_name).save()"
   ]
  },
  {
   "cell_type": "code",
   "execution_count": 8,
   "metadata": {},
   "outputs": [
    {
     "name": "stderr",
     "output_type": "stream",
     "text": [
      "100%|██████████| 3/3 [00:00<00:00, 51.27it/s]\n"
     ]
    }
   ],
   "source": [
    "# Bacteria strain nodes\n",
    "for bact_strain_name in tqdm(df['strain'].unique()):\n",
    "    b = BacteriaStrain(name=bact_strain_name).save()"
   ]
  },
  {
   "cell_type": "code",
   "execution_count": 9,
   "metadata": {},
   "outputs": [
    {
     "name": "stderr",
     "output_type": "stream",
     "text": [
      "  0%|          | 0/122730 [00:00<?, ?it/s]"
     ]
    },
    {
     "name": "stderr",
     "output_type": "stream",
     "text": [
      "100%|██████████| 122730/122730 [38:38<00:00, 52.94it/s] \n"
     ]
    }
   ],
   "source": [
    "# Connecting the nodes based on schema\n",
    "\n",
    "for cmp_id, _, _, bact, strain, value, act_type, db_source in tqdm(df.values):\n",
    "    c = Chemical.nodes.first(name=cmp_id)\n",
    "    b = Bacteria.nodes.first(name=bact)\n",
    "    s = BacteriaStrain.nodes.first(name=strain)\n",
    "    \n",
    "    c.activity.connect(b, {'act_type': act_type, 'value': value, 'db_source': db_source})\n",
    "    \n",
    "    b.strain.connect(s)"
   ]
  },
  {
   "cell_type": "markdown",
   "metadata": {},
   "source": [
    "# Statistics on the graph"
   ]
  },
  {
   "cell_type": "code",
   "execution_count": 10,
   "metadata": {},
   "outputs": [
    {
     "data": {
      "text/plain": [
       "([[['Chemical'], 64320], [['Bacteria'], 357], [['BacteriaStrain'], 3]],\n",
       " ['NodeType', 'NumberOfNodes'])"
      ]
     },
     "execution_count": 10,
     "metadata": {},
     "output_type": "execute_result"
    }
   ],
   "source": [
    "db.cypher_query(\"MATCH (n) RETURN labels(n) AS NodeType, count(n) AS NumberOfNodes\")"
   ]
  },
  {
   "cell_type": "code",
   "execution_count": 11,
   "metadata": {},
   "outputs": [
    {
     "data": {
      "text/plain": [
       "([['SHOWS_ACTIVITY_ON', 233084], ['IS_A', 714]],\n",
       " ['RelationshipName', 'RelationshipNumber'])"
      ]
     },
     "execution_count": 11,
     "metadata": {},
     "output_type": "execute_result"
    }
   ],
   "source": [
    "db.cypher_query(\"Match ()-[p]-() with type(p) as RelationshipName, count(p) as RelationshipNumber return RelationshipName, RelationshipNumber;\")"
   ]
  },
  {
   "cell_type": "code",
   "execution_count": 12,
   "metadata": {},
   "outputs": [
    {
     "data": {
      "text/html": [
       "<div>\n",
       "<style scoped>\n",
       "    .dataframe tbody tr th:only-of-type {\n",
       "        vertical-align: middle;\n",
       "    }\n",
       "\n",
       "    .dataframe tbody tr th {\n",
       "        vertical-align: top;\n",
       "    }\n",
       "\n",
       "    .dataframe thead th {\n",
       "        text-align: right;\n",
       "    }\n",
       "</style>\n",
       "<table border=\"1\" class=\"dataframe\">\n",
       "  <thead>\n",
       "    <tr style=\"text-align: right;\">\n",
       "      <th></th>\n",
       "      <th>Node Types</th>\n",
       "      <th>Count</th>\n",
       "    </tr>\n",
       "  </thead>\n",
       "  <tbody>\n",
       "    <tr>\n",
       "      <th>0</th>\n",
       "      <td>Chemical</td>\n",
       "      <td>64320</td>\n",
       "    </tr>\n",
       "    <tr>\n",
       "      <th>1</th>\n",
       "      <td>Bacteria</td>\n",
       "      <td>64320</td>\n",
       "    </tr>\n",
       "    <tr>\n",
       "      <th>2</th>\n",
       "      <td>BacteriaStrain</td>\n",
       "      <td>3</td>\n",
       "    </tr>\n",
       "  </tbody>\n",
       "</table>\n",
       "</div>"
      ],
      "text/plain": [
       "       Node Types  Count\n",
       "0        Chemical  64320\n",
       "1        Bacteria  64320\n",
       "2  BacteriaStrain      3"
      ]
     },
     "execution_count": 12,
     "metadata": {},
     "output_type": "execute_result"
    }
   ],
   "source": [
    "data_nodes = {\n",
    "    'Node Types': [\n",
    "        'Chemical',\n",
    "        'Bacteria',\n",
    "        'BacteriaStrain',\n",
    "    ],\n",
    "    'Count':[\n",
    "        64320,\n",
    "        64320, \n",
    "        3\n",
    "    ]\n",
    "}\n",
    "\n",
    "node_df = pd.DataFrame(data=data_nodes)\n",
    "node_df"
   ]
  },
  {
   "cell_type": "code",
   "execution_count": 13,
   "metadata": {},
   "outputs": [
    {
     "data": {
      "text/html": [
       "<div>\n",
       "<style scoped>\n",
       "    .dataframe tbody tr th:only-of-type {\n",
       "        vertical-align: middle;\n",
       "    }\n",
       "\n",
       "    .dataframe tbody tr th {\n",
       "        vertical-align: top;\n",
       "    }\n",
       "\n",
       "    .dataframe thead th {\n",
       "        text-align: right;\n",
       "    }\n",
       "</style>\n",
       "<table border=\"1\" class=\"dataframe\">\n",
       "  <thead>\n",
       "    <tr style=\"text-align: right;\">\n",
       "      <th></th>\n",
       "      <th>Edge Types</th>\n",
       "      <th>Count</th>\n",
       "    </tr>\n",
       "  </thead>\n",
       "  <tbody>\n",
       "    <tr>\n",
       "      <th>0</th>\n",
       "      <td>chemmical-bacteria</td>\n",
       "      <td>233084</td>\n",
       "    </tr>\n",
       "    <tr>\n",
       "      <th>1</th>\n",
       "      <td>bacteria-strain</td>\n",
       "      <td>714</td>\n",
       "    </tr>\n",
       "  </tbody>\n",
       "</table>\n",
       "</div>"
      ],
      "text/plain": [
       "           Edge Types   Count\n",
       "0  chemmical-bacteria  233084\n",
       "1     bacteria-strain     714"
      ]
     },
     "execution_count": 13,
     "metadata": {},
     "output_type": "execute_result"
    }
   ],
   "source": [
    "data_edges = {\n",
    "    'Edge Types':[\n",
    "        'chemmical-bacteria',\n",
    "        'bacteria-strain'\n",
    "    ],\n",
    "    'Count':[\n",
    "        233084,\n",
    "        714\n",
    "    ]\n",
    "}\n",
    "\n",
    "edges_df = pd.DataFrame(data=data_edges)\n",
    "edges_df"
   ]
  },
  {
   "cell_type": "code",
   "execution_count": 14,
   "metadata": {},
   "outputs": [
    {
     "data": {
      "image/png": "[encoded data removed]",
      "text/plain": [
       "<Figure size 1500x500 with 2 Axes>"
      ]
     },
     "metadata": {},
     "output_type": "display_data"
    }
   ],
   "source": [
    "sns.set(rc={'figure.figsize':(15,5)})\n",
    "f, axis = plt.subplots(1, 2, figsize=(15,5))\n",
    "\n",
    "# grid lines\n",
    "sns.set_style(\"darkgrid\")\n",
    "\n",
    "bx = sns.barplot(x=\"Node Types\", y=\"Count\", data=node_df, ax=axis[0]) \n",
    "bx = sns.barplot(x=\"Edge Types\", y=\"Count\", data=edges_df, ax=axis[1]) \n",
    "\n",
    "# title\n",
    "axis[0].set_title(\n",
    "    'Distribution of Node Types', \n",
    "    fontsize=15, \n",
    "    fontweight=\"bold\"\n",
    ")\n",
    "axis[1].set_title(\n",
    "    'Distribution of Relationships', \n",
    "    fontsize=15, \n",
    "    fontweight=\"bold\"\n",
    ")\n",
    "\n",
    "# axis labels\n",
    "axis[0].set_xlabel(\"Node Type\", fontsize=14, fontweight=\"bold\")\n",
    "axis[0].set_ylabel(\"Count\", fontsize=14, fontweight=\"bold\")\n",
    "axis[1].set_xlabel(\"Edge Type\", fontsize=14, fontweight=\"bold\")\n",
    "axis[1].set_ylabel(\"\")   \n",
    "    \n",
    "# axis ticks\n",
    "axis[0].set_xticklabels(labels=['Chemical', 'Bacteria', 'Strains'])\n",
    "axis[1].set_xticklabels(labels=['Chemical-Bacteria','Bacteria-Strain'])\n",
    "\n",
    "plt.tight_layout()\n",
    "axis[0].set_yscale(\"log\") #the log transformation\n",
    "axis[1].set_yscale(\"log\") #the log transformation\n",
    "\n",
    "axis[0].text(-1.25, 1, string.ascii_uppercase[1],  \n",
    "        size=20, weight='bold', horizontalalignment='center',\n",
    "        verticalalignment='center',\n",
    "        transform = plt.gca().transAxes)\n",
    "\n",
    "axis[1].text(-0.05, 1, string.ascii_uppercase[2],  \n",
    "        size=20, weight='bold', horizontalalignment='center',\n",
    "        verticalalignment='center',\n",
    "        transform = plt.gca().transAxes)\n",
    "\n",
    "plt.savefig(\n",
    "    '../figures/figure_2b.png',\n",
    "    dpi=500,\n",
    "    bbox_inches='tight', \n",
    ")\n",
    "plt.show()"
   ]
  }
 ],
 "metadata": {
  "kernelspec": {
   "display_name": "amr",
   "language": "python",
   "name": "amr"
  },
  "language_info": {
   "codemirror_mode": {
    "name": "ipython",
    "version": 3
   },
   "file_extension": ".py",
   "mimetype": "text/x-python",
   "name": "python",
   "nbconvert_exporter": "python",
   "pygments_lexer": "ipython3",
   "version": "3.9.18"
  }
 },
 "nbformat": 4,
 "nbformat_minor": 2
}
