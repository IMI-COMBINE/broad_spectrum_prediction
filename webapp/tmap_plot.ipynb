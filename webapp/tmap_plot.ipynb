{
 "cells": [
  {
   "cell_type": "code",
   "execution_count": 1,
   "metadata": {},
   "outputs": [],
   "source": [
    "from collections import defaultdict\n",
    "import pandas as pd\n",
    "import tmap as tm\n",
    "from faerun import Faerun\n",
    "\n",
    "from matplotlib.colors import ListedColormap\n",
    "\n",
    "from tqdm import tqdm\n",
    "\n",
    "tqdm.pandas()"
   ]
  },
  {
   "cell_type": "markdown",
   "metadata": {},
   "source": [
    "# Load data"
   ]
  },
  {
   "cell_type": "code",
   "execution_count": 2,
   "metadata": {},
   "outputs": [
    {
     "data": {
      "text/html": [
       "<div>\n",
       "<style scoped>\n",
       "    .dataframe tbody tr th:only-of-type {\n",
       "        vertical-align: middle;\n",
       "    }\n",
       "\n",
       "    .dataframe tbody tr th {\n",
       "        vertical-align: top;\n",
       "    }\n",
       "\n",
       "    .dataframe thead th {\n",
       "        text-align: right;\n",
       "    }\n",
       "</style>\n",
       "<table border=\"1\" class=\"dataframe\">\n",
       "  <thead>\n",
       "    <tr style=\"text-align: right;\">\n",
       "      <th></th>\n",
       "      <th>bit0</th>\n",
       "      <th>bit1</th>\n",
       "      <th>bit2</th>\n",
       "      <th>bit3</th>\n",
       "      <th>bit4</th>\n",
       "      <th>bit5</th>\n",
       "      <th>bit6</th>\n",
       "      <th>bit7</th>\n",
       "      <th>bit8</th>\n",
       "      <th>bit9</th>\n",
       "      <th>...</th>\n",
       "      <th>bit2040</th>\n",
       "      <th>bit2041</th>\n",
       "      <th>bit2042</th>\n",
       "      <th>bit2043</th>\n",
       "      <th>bit2044</th>\n",
       "      <th>bit2045</th>\n",
       "      <th>bit2046</th>\n",
       "      <th>bit2047</th>\n",
       "      <th>cmp_id</th>\n",
       "      <th>label</th>\n",
       "    </tr>\n",
       "  </thead>\n",
       "  <tbody>\n",
       "    <tr>\n",
       "      <th>0</th>\n",
       "      <td>53109374</td>\n",
       "      <td>13294028</td>\n",
       "      <td>17313015</td>\n",
       "      <td>13405020</td>\n",
       "      <td>159565048</td>\n",
       "      <td>166773519</td>\n",
       "      <td>112685388</td>\n",
       "      <td>23281340</td>\n",
       "      <td>74257363</td>\n",
       "      <td>41227994</td>\n",
       "      <td>...</td>\n",
       "      <td>86693380</td>\n",
       "      <td>23470166</td>\n",
       "      <td>13223091</td>\n",
       "      <td>13893646</td>\n",
       "      <td>72383491</td>\n",
       "      <td>138619944</td>\n",
       "      <td>10981154</td>\n",
       "      <td>123604138</td>\n",
       "      <td>OOYGSFOGFJDDHP-KMCOLRRFSA-N</td>\n",
       "      <td>acid-fast</td>\n",
       "    </tr>\n",
       "    <tr>\n",
       "      <th>1</th>\n",
       "      <td>2376200</td>\n",
       "      <td>75861701</td>\n",
       "      <td>8411880</td>\n",
       "      <td>265132626</td>\n",
       "      <td>17183886</td>\n",
       "      <td>48771247</td>\n",
       "      <td>26537035</td>\n",
       "      <td>264241068</td>\n",
       "      <td>149295683</td>\n",
       "      <td>164407546</td>\n",
       "      <td>...</td>\n",
       "      <td>21431025</td>\n",
       "      <td>1416250</td>\n",
       "      <td>104553653</td>\n",
       "      <td>280401855</td>\n",
       "      <td>71835899</td>\n",
       "      <td>176069654</td>\n",
       "      <td>91289868</td>\n",
       "      <td>137970302</td>\n",
       "      <td>XIPHLJFTBFXVBS-UHFFFAOYSA-N</td>\n",
       "      <td>fungi</td>\n",
       "    </tr>\n",
       "    <tr>\n",
       "      <th>2</th>\n",
       "      <td>4718263</td>\n",
       "      <td>19386904</td>\n",
       "      <td>104326033</td>\n",
       "      <td>8518591</td>\n",
       "      <td>15497897</td>\n",
       "      <td>69171867</td>\n",
       "      <td>65532846</td>\n",
       "      <td>11446788</td>\n",
       "      <td>98580395</td>\n",
       "      <td>35586042</td>\n",
       "      <td>...</td>\n",
       "      <td>18682934</td>\n",
       "      <td>1416250</td>\n",
       "      <td>11522298</td>\n",
       "      <td>41181622</td>\n",
       "      <td>96396185</td>\n",
       "      <td>6500986</td>\n",
       "      <td>106638228</td>\n",
       "      <td>43510588</td>\n",
       "      <td>OEFUWWDPRNNMRS-WDPNLORNSA-N</td>\n",
       "      <td>gram-negative</td>\n",
       "    </tr>\n",
       "    <tr>\n",
       "      <th>3</th>\n",
       "      <td>4718263</td>\n",
       "      <td>19386904</td>\n",
       "      <td>6003371</td>\n",
       "      <td>8518591</td>\n",
       "      <td>15497897</td>\n",
       "      <td>69171867</td>\n",
       "      <td>101889093</td>\n",
       "      <td>11446788</td>\n",
       "      <td>98580395</td>\n",
       "      <td>21639682</td>\n",
       "      <td>...</td>\n",
       "      <td>18682934</td>\n",
       "      <td>1416250</td>\n",
       "      <td>11522298</td>\n",
       "      <td>41181622</td>\n",
       "      <td>66023973</td>\n",
       "      <td>78748076</td>\n",
       "      <td>106638228</td>\n",
       "      <td>36539738</td>\n",
       "      <td>LBRXTHSVIORIGU-OLROFJLRSA-N</td>\n",
       "      <td>gram-positive</td>\n",
       "    </tr>\n",
       "    <tr>\n",
       "      <th>4</th>\n",
       "      <td>26679775</td>\n",
       "      <td>33988699</td>\n",
       "      <td>63689098</td>\n",
       "      <td>10196723</td>\n",
       "      <td>73651484</td>\n",
       "      <td>9407713</td>\n",
       "      <td>94168771</td>\n",
       "      <td>13298204</td>\n",
       "      <td>10766915</td>\n",
       "      <td>141650786</td>\n",
       "      <td>...</td>\n",
       "      <td>7031338</td>\n",
       "      <td>1416250</td>\n",
       "      <td>14178885</td>\n",
       "      <td>41181622</td>\n",
       "      <td>12309677</td>\n",
       "      <td>4412870</td>\n",
       "      <td>10981154</td>\n",
       "      <td>214764498</td>\n",
       "      <td>PHYLUFIYANLQSE-UHFFFAOYSA-N</td>\n",
       "      <td>gram-positive</td>\n",
       "    </tr>\n",
       "  </tbody>\n",
       "</table>\n",
       "<p>5 rows × 2050 columns</p>\n",
       "</div>"
      ],
      "text/plain": [
       "       bit0      bit1       bit2       bit3       bit4       bit5       bit6  \\\n",
       "0  53109374  13294028   17313015   13405020  159565048  166773519  112685388   \n",
       "1   2376200  75861701    8411880  265132626   17183886   48771247   26537035   \n",
       "2   4718263  19386904  104326033    8518591   15497897   69171867   65532846   \n",
       "3   4718263  19386904    6003371    8518591   15497897   69171867  101889093   \n",
       "4  26679775  33988699   63689098   10196723   73651484    9407713   94168771   \n",
       "\n",
       "        bit7       bit8       bit9  ...   bit2040   bit2041    bit2042  \\\n",
       "0   23281340   74257363   41227994  ...  86693380  23470166   13223091   \n",
       "1  264241068  149295683  164407546  ...  21431025   1416250  104553653   \n",
       "2   11446788   98580395   35586042  ...  18682934   1416250   11522298   \n",
       "3   11446788   98580395   21639682  ...  18682934   1416250   11522298   \n",
       "4   13298204   10766915  141650786  ...   7031338   1416250   14178885   \n",
       "\n",
       "     bit2043   bit2044    bit2045    bit2046    bit2047  \\\n",
       "0   13893646  72383491  138619944   10981154  123604138   \n",
       "1  280401855  71835899  176069654   91289868  137970302   \n",
       "2   41181622  96396185    6500986  106638228   43510588   \n",
       "3   41181622  66023973   78748076  106638228   36539738   \n",
       "4   41181622  12309677    4412870   10981154  214764498   \n",
       "\n",
       "                        cmp_id          label  \n",
       "0  OOYGSFOGFJDDHP-KMCOLRRFSA-N      acid-fast  \n",
       "1  XIPHLJFTBFXVBS-UHFFFAOYSA-N          fungi  \n",
       "2  OEFUWWDPRNNMRS-WDPNLORNSA-N  gram-negative  \n",
       "3  LBRXTHSVIORIGU-OLROFJLRSA-N  gram-positive  \n",
       "4  PHYLUFIYANLQSE-UHFFFAOYSA-N  gram-positive  \n",
       "\n",
       "[5 rows x 2050 columns]"
      ]
     },
     "execution_count": 2,
     "metadata": {},
     "output_type": "execute_result"
    }
   ],
   "source": [
    "all_data = pd.read_csv(\"../data/fingerprints/combined_mhfp6.tsv\", sep=\"\\t\")\n",
    "all_data.head()"
   ]
  },
  {
   "cell_type": "code",
   "execution_count": 3,
   "metadata": {},
   "outputs": [],
   "source": [
    "amr_df = pd.read_csv(\n",
    "    \"../data/processed/combined_bioassay_data.tsv\",\n",
    "    sep=\"\\t\",\n",
    "    usecols=[\"compound_smiles\", \"compound_inchikey\", \"compound_source\"],\n",
    ")"
   ]
  },
  {
   "cell_type": "code",
   "execution_count": 4,
   "metadata": {},
   "outputs": [
    {
     "data": {
      "text/html": [
       "<div>\n",
       "<style scoped>\n",
       "    .dataframe tbody tr th:only-of-type {\n",
       "        vertical-align: middle;\n",
       "    }\n",
       "\n",
       "    .dataframe tbody tr th {\n",
       "        vertical-align: top;\n",
       "    }\n",
       "\n",
       "    .dataframe thead th {\n",
       "        text-align: right;\n",
       "    }\n",
       "</style>\n",
       "<table border=\"1\" class=\"dataframe\">\n",
       "  <thead>\n",
       "    <tr style=\"text-align: right;\">\n",
       "      <th></th>\n",
       "      <th>bit0</th>\n",
       "      <th>bit1</th>\n",
       "      <th>bit2</th>\n",
       "      <th>bit3</th>\n",
       "      <th>bit4</th>\n",
       "      <th>bit5</th>\n",
       "      <th>bit6</th>\n",
       "      <th>bit7</th>\n",
       "      <th>bit8</th>\n",
       "      <th>bit9</th>\n",
       "      <th>...</th>\n",
       "      <th>bit2042</th>\n",
       "      <th>bit2043</th>\n",
       "      <th>bit2044</th>\n",
       "      <th>bit2045</th>\n",
       "      <th>bit2046</th>\n",
       "      <th>bit2047</th>\n",
       "      <th>cmp_id</th>\n",
       "      <th>label</th>\n",
       "      <th>compound_smiles</th>\n",
       "      <th>compound_source</th>\n",
       "    </tr>\n",
       "  </thead>\n",
       "  <tbody>\n",
       "    <tr>\n",
       "      <th>0</th>\n",
       "      <td>53109374</td>\n",
       "      <td>13294028</td>\n",
       "      <td>17313015</td>\n",
       "      <td>13405020</td>\n",
       "      <td>159565048</td>\n",
       "      <td>166773519</td>\n",
       "      <td>112685388</td>\n",
       "      <td>23281340</td>\n",
       "      <td>74257363</td>\n",
       "      <td>41227994</td>\n",
       "      <td>...</td>\n",
       "      <td>13223091</td>\n",
       "      <td>13893646</td>\n",
       "      <td>72383491</td>\n",
       "      <td>138619944</td>\n",
       "      <td>10981154</td>\n",
       "      <td>123604138</td>\n",
       "      <td>OOYGSFOGFJDDHP-KMCOLRRFSA-N</td>\n",
       "      <td>acid-fast</td>\n",
       "      <td>NC[C@H]1O[C@H](O[C@H]2[C@H](O)[C@@H](O[C@H]3O[...</td>\n",
       "      <td>chembl_34</td>\n",
       "    </tr>\n",
       "    <tr>\n",
       "      <th>1</th>\n",
       "      <td>2376200</td>\n",
       "      <td>75861701</td>\n",
       "      <td>8411880</td>\n",
       "      <td>265132626</td>\n",
       "      <td>17183886</td>\n",
       "      <td>48771247</td>\n",
       "      <td>26537035</td>\n",
       "      <td>264241068</td>\n",
       "      <td>149295683</td>\n",
       "      <td>164407546</td>\n",
       "      <td>...</td>\n",
       "      <td>104553653</td>\n",
       "      <td>280401855</td>\n",
       "      <td>71835899</td>\n",
       "      <td>176069654</td>\n",
       "      <td>91289868</td>\n",
       "      <td>137970302</td>\n",
       "      <td>XIPHLJFTBFXVBS-UHFFFAOYSA-N</td>\n",
       "      <td>fungi</td>\n",
       "      <td>C=C(C(=O)c1ccc(F)cc1)c1ccc(Cl)cc1Cl</td>\n",
       "      <td>chembl_34</td>\n",
       "    </tr>\n",
       "  </tbody>\n",
       "</table>\n",
       "<p>2 rows × 2052 columns</p>\n",
       "</div>"
      ],
      "text/plain": [
       "       bit0      bit1      bit2       bit3       bit4       bit5       bit6  \\\n",
       "0  53109374  13294028  17313015   13405020  159565048  166773519  112685388   \n",
       "1   2376200  75861701   8411880  265132626   17183886   48771247   26537035   \n",
       "\n",
       "        bit7       bit8       bit9  ...    bit2042    bit2043   bit2044  \\\n",
       "0   23281340   74257363   41227994  ...   13223091   13893646  72383491   \n",
       "1  264241068  149295683  164407546  ...  104553653  280401855  71835899   \n",
       "\n",
       "     bit2045   bit2046    bit2047                       cmp_id      label  \\\n",
       "0  138619944  10981154  123604138  OOYGSFOGFJDDHP-KMCOLRRFSA-N  acid-fast   \n",
       "1  176069654  91289868  137970302  XIPHLJFTBFXVBS-UHFFFAOYSA-N      fungi   \n",
       "\n",
       "                                     compound_smiles  compound_source  \n",
       "0  NC[C@H]1O[C@H](O[C@H]2[C@H](O)[C@@H](O[C@H]3O[...        chembl_34  \n",
       "1                C=C(C(=O)c1ccc(F)cc1)c1ccc(Cl)cc1Cl        chembl_34  \n",
       "\n",
       "[2 rows x 2052 columns]"
      ]
     },
     "execution_count": 4,
     "metadata": {},
     "output_type": "execute_result"
    }
   ],
   "source": [
    "combined_df = pd.merge(all_data, amr_df, left_on=\"cmp_id\", right_on=\"compound_inchikey\")\n",
    "combined_df.drop(columns=[\"compound_inchikey\"], inplace=True)\n",
    "combined_df.head(2)"
   ]
  },
  {
   "cell_type": "markdown",
   "metadata": {},
   "source": [
    "# Generate the map"
   ]
  },
  {
   "cell_type": "code",
   "execution_count": 5,
   "metadata": {},
   "outputs": [
    {
     "name": "stderr",
     "output_type": "stream",
     "text": [
      "100%|██████████| 74202/74202 [00:01<00:00, 53958.90it/s]\n"
     ]
    }
   ],
   "source": [
    "fingerprint_dict = defaultdict(list)\n",
    "\n",
    "mol_smiles = combined_df[\"compound_smiles\"]\n",
    "mol_labels = combined_df[\"label\"]\n",
    "mol_source = combined_df[\"compound_source\"]\n",
    "mol_fingerprint_df = combined_df.drop(\n",
    "    columns=[\"compound_smiles\", \"cmp_id\", \"label\", \"compound_source\"]\n",
    ")\n",
    "\n",
    "for idx, row in tqdm(mol_fingerprint_df.iterrows(), total=mol_fingerprint_df.shape[0]):\n",
    "    fingerprint_dict[mol_smiles[idx]].append(\n",
    "        (row.to_numpy(), mol_labels[idx], mol_source[idx])\n",
    "    )"
   ]
  },
  {
   "cell_type": "markdown",
   "metadata": {},
   "source": [
    "# Generate TMAP"
   ]
  },
  {
   "cell_type": "code",
   "execution_count": 6,
   "metadata": {},
   "outputs": [
    {
     "name": "stderr",
     "output_type": "stream",
     "text": [
      "100%|██████████| 74202/74202 [00:17<00:00, 4276.08it/s]\n"
     ]
    }
   ],
   "source": [
    "lf = tm.LSHForest(2048, 128)\n",
    "fps = []\n",
    "labels = []\n",
    "activity = []\n",
    "ids = []\n",
    "\n",
    "for smile, data_info in tqdm(fingerprint_dict.items()):\n",
    "    fp, class_label, cmp_source = data_info[0]\n",
    "    fps.append(tm.VectorUint(fp))\n",
    "\n",
    "    labels.append(f\"{smile}__{cmp_source}__{smile}\".replace(\"'\", \"\"))\n",
    "\n",
    "    activity.append(class_label)"
   ]
  },
  {
   "cell_type": "code",
   "execution_count": 7,
   "metadata": {},
   "outputs": [],
   "source": [
    "lf.batch_add(fps)\n",
    "lf.index()"
   ]
  },
  {
   "cell_type": "code",
   "execution_count": 8,
   "metadata": {},
   "outputs": [],
   "source": [
    "cfg = tm.LayoutConfiguration()\n",
    "x, y, s, t, _ = tm.layout_from_lsh_forest(lf, config=cfg)"
   ]
  },
  {
   "cell_type": "code",
   "execution_count": 9,
   "metadata": {},
   "outputs": [],
   "source": [
    "custom_cmap = ListedColormap(\n",
    "    [\"#2ecc71\", \"#9b59b6\", \"#ecf0f1\", \"#e74c3c\", \"#e67e22\", \"#f1c40f\", \"#95a5a6\"],\n",
    "    name=\"custom\",\n",
    ")"
   ]
  },
  {
   "cell_type": "markdown",
   "metadata": {},
   "source": [
    "# Visualize TMAP"
   ]
  },
  {
   "cell_type": "code",
   "execution_count": 10,
   "metadata": {},
   "outputs": [],
   "source": [
    "f = Faerun(\n",
    "    # clear_color=\"#FFFFFF\",\n",
    "    coords=False,\n",
    "    view=\"front\",\n",
    ")"
   ]
  },
  {
   "cell_type": "code",
   "execution_count": 11,
   "metadata": {},
   "outputs": [],
   "source": [
    "activity_mapper = {\"acid-fast\": 0, \"fungi\": 1, \"gram-negative\": 2, \"gram-positive\": 3}\n",
    "\n",
    "activity_labels, activity_data = Faerun.create_categories(\n",
    "    [activity_mapper[i] for i in activity]\n",
    ")"
   ]
  },
  {
   "cell_type": "code",
   "execution_count": 12,
   "metadata": {},
   "outputs": [],
   "source": [
    "f.add_scatter(\n",
    "    \"amr\",\n",
    "    {\n",
    "        \"x\": x,\n",
    "        \"y\": y,\n",
    "        \"c\": [activity_data],\n",
    "        \"labels\": labels,\n",
    "    },\n",
    "    selected_labels=[\"SMILES\", \"Source\", \"Smile\"],\n",
    "    shader=\"smoothCircle\",\n",
    "    colormap=[custom_cmap],\n",
    "    categorical=[True],\n",
    "    has_legend=True,\n",
    "    legend_labels=[\n",
    "        (0, \"Acid-fast\"),\n",
    "        (1, \"Fungi\"),\n",
    "        (2, \"Gram-negative\"),\n",
    "        (3, \"Gram-positive\"),\n",
    "    ],\n",
    "    legend_title=\"Bacterial strain\",\n",
    ")"
   ]
  },
  {
   "cell_type": "code",
   "execution_count": 13,
   "metadata": {},
   "outputs": [],
   "source": [
    "f.add_tree(\"amrtree\", {\"from\": s, \"to\": t}, point_helper=\"amr\")"
   ]
  },
  {
   "cell_type": "code",
   "execution_count": null,
   "metadata": {},
   "outputs": [],
   "source": [
    "labels[0]"
   ]
  },
  {
   "cell_type": "code",
   "execution_count": 14,
   "metadata": {},
   "outputs": [
    {
     "data": {
      "text/html": [
       "\n",
       "        <iframe\n",
       "            width=\"100%\"\n",
       "            height=\"200\"\n",
       "            src=\"../figures/amrkg_chemspace.html\"\n",
       "            frameborder=\"0\"\n",
       "            allowfullscreen\n",
       "            \n",
       "        ></iframe>\n",
       "        "
      ],
      "text/plain": [
       "<IPython.lib.display.IFrame at 0x3318450d0>"
      ]
     },
     "metadata": {},
     "output_type": "display_data"
    },
    {
     "data": {
      "text/html": [
       "<a href='../figures/amrkg_chemspace.html' target='_blank'>../figures/amrkg_chemspace.html</a><br>"
      ],
      "text/plain": [
       "/Users/yojana/Documents/GitHub/broad_spectrum_prediction/figures/amrkg_chemspace.html"
      ]
     },
     "metadata": {},
     "output_type": "display_data"
    }
   ],
   "source": [
    "f.plot(\n",
    "    \"amrkg_chemspace\",\n",
    "    template=\"smiles\",\n",
    "    path=\"../figures/\",\n",
    "    notebook_height=200,\n",
    ")"
   ]
  }
 ],
 "metadata": {
  "kernelspec": {
   "display_name": "tmap-env",
   "language": "python",
   "name": "tmap-env"
  },
  "language_info": {
   "codemirror_mode": {
    "name": "ipython",
    "version": 3
   },
   "file_extension": ".py",
   "mimetype": "text/x-python",
   "name": "python",
   "nbconvert_exporter": "python",
   "pygments_lexer": "ipython3",
   "version": "3.9.17"
  }
 },
 "nbformat": 4,
 "nbformat_minor": 2
}
