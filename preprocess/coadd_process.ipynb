{
 "cells": [
  {
   "cell_type": "markdown",
   "metadata": {},
   "source": [
    "# Processing and generating bacterial subset of CO-ADD database \n",
    "\n",
    "The database can be found [here](http://db.co-add.org/)."
   ]
  },
  {
   "cell_type": "code",
   "execution_count": 1,
   "metadata": {},
   "outputs": [],
   "source": [
    "import math\n",
    "import json\n",
    "import pandas as pd\n",
    "from tqdm import tqdm\n",
    "from rdkit.Chem import MolFromSmiles, MolToInchiKey\n",
    "from utils import draw_venn\n",
    "import matplotlib.pyplot as plt\n",
    "\n",
    "tqdm.pandas()\n",
    "pd.options.mode.chained_assignment = None  # default='warn'"
   ]
  },
  {
   "cell_type": "code",
   "execution_count": 2,
   "metadata": {},
   "outputs": [],
   "source": [
    "DATA_DIR = \"../data\""
   ]
  },
  {
   "cell_type": "code",
   "execution_count": 3,
   "metadata": {},
   "outputs": [
    {
     "data": {
      "text/html": [
       "<div>\n",
       "<style scoped>\n",
       "    .dataframe tbody tr th:only-of-type {\n",
       "        vertical-align: middle;\n",
       "    }\n",
       "\n",
       "    .dataframe tbody tr th {\n",
       "        vertical-align: top;\n",
       "    }\n",
       "\n",
       "    .dataframe thead th {\n",
       "        text-align: right;\n",
       "    }\n",
       "</style>\n",
       "<table border=\"1\" class=\"dataframe\">\n",
       "  <thead>\n",
       "    <tr style=\"text-align: right;\">\n",
       "      <th></th>\n",
       "      <th>Unnamed: 0</th>\n",
       "      <th>COADD_ID</th>\n",
       "      <th>COMPOUND_CODE</th>\n",
       "      <th>COMPOUND_NAME</th>\n",
       "      <th>SMILES</th>\n",
       "      <th>PROJECT_ID</th>\n",
       "      <th>LIBRARY_NAME</th>\n",
       "      <th>ASSAY_ID</th>\n",
       "      <th>ORGANISM</th>\n",
       "      <th>STRAIN</th>\n",
       "      <th>NASSAYS</th>\n",
       "      <th>DRVAL_TYPE</th>\n",
       "      <th>DRVAL_MEDIAN</th>\n",
       "      <th>DRVAL_UNIT</th>\n",
       "      <th>DMAX_AVE</th>\n",
       "    </tr>\n",
       "  </thead>\n",
       "  <tbody>\n",
       "    <tr>\n",
       "      <th>0</th>\n",
       "      <td>0</td>\n",
       "      <td>CO-ADD:0136135</td>\n",
       "      <td>0367428:01</td>\n",
       "      <td>NaN</td>\n",
       "      <td>[H]N1C(N([H])C(OC)C(C(OC)=O)(F)C1=O)=O</td>\n",
       "      <td>CO-ADD:PL0011</td>\n",
       "      <td>NIH/NCI (USA) - Diversity Set V</td>\n",
       "      <td>MA_007</td>\n",
       "      <td>Homo sapiens</td>\n",
       "      <td>HEK293; ATCC CRL1573</td>\n",
       "      <td>2</td>\n",
       "      <td>CC50</td>\n",
       "      <td>&gt;10</td>\n",
       "      <td>uM</td>\n",
       "      <td>4.6</td>\n",
       "    </tr>\n",
       "    <tr>\n",
       "      <th>1</th>\n",
       "      <td>1</td>\n",
       "      <td>CO-ADD:0136135</td>\n",
       "      <td>0367428:01</td>\n",
       "      <td>NaN</td>\n",
       "      <td>[H]N1C(N([H])C(OC)C(C(OC)=O)(F)C1=O)=O</td>\n",
       "      <td>CO-ADD:PL0011</td>\n",
       "      <td>NIH/NCI (USA) - Diversity Set V</td>\n",
       "      <td>GP_020</td>\n",
       "      <td>Staphylococcus aureus</td>\n",
       "      <td>ATCC 43300; MRSA</td>\n",
       "      <td>2</td>\n",
       "      <td>MIC</td>\n",
       "      <td>5</td>\n",
       "      <td>uM</td>\n",
       "      <td>97.9</td>\n",
       "    </tr>\n",
       "    <tr>\n",
       "      <th>2</th>\n",
       "      <td>2</td>\n",
       "      <td>CO-ADD:0136135</td>\n",
       "      <td>0367428:01</td>\n",
       "      <td>NaN</td>\n",
       "      <td>[H]N1C(N([H])C(OC)C(C(OC)=O)(F)C1=O)=O</td>\n",
       "      <td>CO-ADD:PL0011</td>\n",
       "      <td>NIH/NCI (USA) - Diversity Set V</td>\n",
       "      <td>GN_042</td>\n",
       "      <td>Pseudomonas aeruginosa</td>\n",
       "      <td>ATCC 27853</td>\n",
       "      <td>2</td>\n",
       "      <td>MIC</td>\n",
       "      <td>&gt;10</td>\n",
       "      <td>uM</td>\n",
       "      <td>17.5</td>\n",
       "    </tr>\n",
       "  </tbody>\n",
       "</table>\n",
       "</div>"
      ],
      "text/plain": [
       "   Unnamed: 0        COADD_ID COMPOUND_CODE COMPOUND_NAME  \\\n",
       "0           0  CO-ADD:0136135    0367428:01           NaN   \n",
       "1           1  CO-ADD:0136135    0367428:01           NaN   \n",
       "2           2  CO-ADD:0136135    0367428:01           NaN   \n",
       "\n",
       "                                   SMILES     PROJECT_ID  \\\n",
       "0  [H]N1C(N([H])C(OC)C(C(OC)=O)(F)C1=O)=O  CO-ADD:PL0011   \n",
       "1  [H]N1C(N([H])C(OC)C(C(OC)=O)(F)C1=O)=O  CO-ADD:PL0011   \n",
       "2  [H]N1C(N([H])C(OC)C(C(OC)=O)(F)C1=O)=O  CO-ADD:PL0011   \n",
       "\n",
       "                      LIBRARY_NAME ASSAY_ID                ORGANISM  \\\n",
       "0  NIH/NCI (USA) - Diversity Set V   MA_007            Homo sapiens   \n",
       "1  NIH/NCI (USA) - Diversity Set V   GP_020   Staphylococcus aureus   \n",
       "2  NIH/NCI (USA) - Diversity Set V   GN_042  Pseudomonas aeruginosa   \n",
       "\n",
       "                 STRAIN  NASSAYS DRVAL_TYPE DRVAL_MEDIAN DRVAL_UNIT  DMAX_AVE  \n",
       "0  HEK293; ATCC CRL1573        2       CC50          >10         uM       4.6  \n",
       "1      ATCC 43300; MRSA        2        MIC            5         uM      97.9  \n",
       "2            ATCC 27853        2        MIC          >10         uM      17.5  "
      ]
     },
     "execution_count": 3,
     "metadata": {},
     "output_type": "execute_result"
    }
   ],
   "source": [
    "coadd_df = pd.read_csv(\n",
    "    f\"{DATA_DIR}/raw/CO-ADD_DoseResponseData_r03_01-02-2020_CSV.zip\",\n",
    "    low_memory=False,\n",
    "    on_bad_lines=\"skip\",\n",
    "    compression=\"zip\",\n",
    ")\n",
    "coadd_df.head(3)"
   ]
  },
  {
   "cell_type": "code",
   "execution_count": 4,
   "metadata": {},
   "outputs": [
    {
     "data": {
      "text/plain": [
       "17"
      ]
     },
     "execution_count": 4,
     "metadata": {},
     "output_type": "execute_result"
    }
   ],
   "source": [
    "coadd_df[\"ORGANISM\"].nunique()"
   ]
  },
  {
   "cell_type": "markdown",
   "metadata": {},
   "source": [
    "# Subset to bacterial assays"
   ]
  },
  {
   "cell_type": "code",
   "execution_count": 5,
   "metadata": {},
   "outputs": [
    {
     "data": {
      "text/plain": [
       "2052"
      ]
     },
     "execution_count": 5,
     "metadata": {},
     "output_type": "execute_result"
    }
   ],
   "source": [
    "bacterial_species = json.load(open(f\"{DATA_DIR}/mapping/bact_mapper.json\"))\n",
    "len(bacterial_species)"
   ]
  },
  {
   "cell_type": "code",
   "execution_count": 6,
   "metadata": {},
   "outputs": [],
   "source": [
    "m1 = coadd_df[\"ORGANISM\"].isin(bacterial_species)\n",
    "m2 = coadd_df[\"DRVAL_TYPE\"] == \"MIC\"\n",
    "bact_coadd_df = coadd_df[m1 & m2]"
   ]
  },
  {
   "cell_type": "code",
   "execution_count": 7,
   "metadata": {},
   "outputs": [
    {
     "data": {
      "text/plain": [
       "(34995, 15)"
      ]
     },
     "execution_count": 7,
     "metadata": {},
     "output_type": "execute_result"
    }
   ],
   "source": [
    "bact_coadd_df.shape"
   ]
  },
  {
   "cell_type": "code",
   "execution_count": 8,
   "metadata": {},
   "outputs": [],
   "source": [
    "cols_to_keep = [\n",
    "    \"COADD_ID\",\n",
    "    \"COMPOUND_NAME\",\n",
    "    \"SMILES\",\n",
    "    \"ORGANISM\",\n",
    "    \"DRVAL_TYPE\",\n",
    "    \"DRVAL_MEDIAN\",\n",
    "    \"DRVAL_UNIT\",\n",
    "]\n",
    "bact_coadd_df = bact_coadd_df[cols_to_keep]"
   ]
  },
  {
   "cell_type": "code",
   "execution_count": 9,
   "metadata": {},
   "outputs": [
    {
     "data": {
      "text/html": [
       "<div>\n",
       "<style scoped>\n",
       "    .dataframe tbody tr th:only-of-type {\n",
       "        vertical-align: middle;\n",
       "    }\n",
       "\n",
       "    .dataframe tbody tr th {\n",
       "        vertical-align: top;\n",
       "    }\n",
       "\n",
       "    .dataframe thead th {\n",
       "        text-align: right;\n",
       "    }\n",
       "</style>\n",
       "<table border=\"1\" class=\"dataframe\">\n",
       "  <thead>\n",
       "    <tr style=\"text-align: right;\">\n",
       "      <th></th>\n",
       "      <th>COADD_ID</th>\n",
       "      <th>COMPOUND_NAME</th>\n",
       "      <th>SMILES</th>\n",
       "      <th>ORGANISM</th>\n",
       "      <th>DRVAL_TYPE</th>\n",
       "      <th>DRVAL_MEDIAN</th>\n",
       "      <th>DRVAL_UNIT</th>\n",
       "      <th>bact_class</th>\n",
       "    </tr>\n",
       "  </thead>\n",
       "  <tbody>\n",
       "    <tr>\n",
       "      <th>1</th>\n",
       "      <td>CO-ADD:0136135</td>\n",
       "      <td>NaN</td>\n",
       "      <td>[H]N1C(N([H])C(OC)C(C(OC)=O)(F)C1=O)=O</td>\n",
       "      <td>Staphylococcus aureus</td>\n",
       "      <td>MIC</td>\n",
       "      <td>5</td>\n",
       "      <td>uM</td>\n",
       "      <td>gram-positive</td>\n",
       "    </tr>\n",
       "    <tr>\n",
       "      <th>2</th>\n",
       "      <td>CO-ADD:0136135</td>\n",
       "      <td>NaN</td>\n",
       "      <td>[H]N1C(N([H])C(OC)C(C(OC)=O)(F)C1=O)=O</td>\n",
       "      <td>Pseudomonas aeruginosa</td>\n",
       "      <td>MIC</td>\n",
       "      <td>&gt;10</td>\n",
       "      <td>uM</td>\n",
       "      <td>gram-negative</td>\n",
       "    </tr>\n",
       "    <tr>\n",
       "      <th>3</th>\n",
       "      <td>CO-ADD:0136135</td>\n",
       "      <td>NaN</td>\n",
       "      <td>[H]N1C(N([H])C(OC)C(C(OC)=O)(F)C1=O)=O</td>\n",
       "      <td>Acinetobacter baumannii</td>\n",
       "      <td>MIC</td>\n",
       "      <td>&gt;10</td>\n",
       "      <td>uM</td>\n",
       "      <td>gram-negative</td>\n",
       "    </tr>\n",
       "    <tr>\n",
       "      <th>4</th>\n",
       "      <td>CO-ADD:0136135</td>\n",
       "      <td>NaN</td>\n",
       "      <td>[H]N1C(N([H])C(OC)C(C(OC)=O)(F)C1=O)=O</td>\n",
       "      <td>Klebsiella pneumoniae</td>\n",
       "      <td>MIC</td>\n",
       "      <td>&gt;10</td>\n",
       "      <td>uM</td>\n",
       "      <td>gram-negative</td>\n",
       "    </tr>\n",
       "    <tr>\n",
       "      <th>5</th>\n",
       "      <td>CO-ADD:0136135</td>\n",
       "      <td>NaN</td>\n",
       "      <td>[H]N1C(N([H])C(OC)C(C(OC)=O)(F)C1=O)=O</td>\n",
       "      <td>Escherichia coli</td>\n",
       "      <td>MIC</td>\n",
       "      <td>&gt;10</td>\n",
       "      <td>uM</td>\n",
       "      <td>gram-negative</td>\n",
       "    </tr>\n",
       "  </tbody>\n",
       "</table>\n",
       "</div>"
      ],
      "text/plain": [
       "         COADD_ID COMPOUND_NAME                                  SMILES  \\\n",
       "1  CO-ADD:0136135           NaN  [H]N1C(N([H])C(OC)C(C(OC)=O)(F)C1=O)=O   \n",
       "2  CO-ADD:0136135           NaN  [H]N1C(N([H])C(OC)C(C(OC)=O)(F)C1=O)=O   \n",
       "3  CO-ADD:0136135           NaN  [H]N1C(N([H])C(OC)C(C(OC)=O)(F)C1=O)=O   \n",
       "4  CO-ADD:0136135           NaN  [H]N1C(N([H])C(OC)C(C(OC)=O)(F)C1=O)=O   \n",
       "5  CO-ADD:0136135           NaN  [H]N1C(N([H])C(OC)C(C(OC)=O)(F)C1=O)=O   \n",
       "\n",
       "                  ORGANISM DRVAL_TYPE DRVAL_MEDIAN DRVAL_UNIT     bact_class  \n",
       "1    Staphylococcus aureus        MIC            5         uM  gram-positive  \n",
       "2   Pseudomonas aeruginosa        MIC          >10         uM  gram-negative  \n",
       "3  Acinetobacter baumannii        MIC          >10         uM  gram-negative  \n",
       "4    Klebsiella pneumoniae        MIC          >10         uM  gram-negative  \n",
       "5         Escherichia coli        MIC          >10         uM  gram-negative  "
      ]
     },
     "execution_count": 9,
     "metadata": {},
     "output_type": "execute_result"
    }
   ],
   "source": [
    "bact_coadd_df[\"bact_class\"] = bact_coadd_df[\"ORGANISM\"].map(bacterial_species)\n",
    "bact_coadd_df.head()"
   ]
  },
  {
   "cell_type": "markdown",
   "metadata": {},
   "source": [
    "# Normalizing to pMIC values"
   ]
  },
  {
   "cell_type": "code",
   "execution_count": 10,
   "metadata": {},
   "outputs": [],
   "source": [
    "def calculate_pmic(row):\n",
    "    activity = row[\"DRVAL_MEDIAN\"]\n",
    "    if \"=\" in activity:\n",
    "        activity = activity.split(\"=\")[-1]\n",
    "    elif \">\" in activity:\n",
    "        activity = 0\n",
    "    elif \"<\" in activity:\n",
    "        activity = 0\n",
    "\n",
    "    if activity == 0.0:\n",
    "        return 0\n",
    "    elif row[\"DRVAL_UNIT\"] == \"nM\" and pd.notna(activity):\n",
    "        return round(9 - math.log10(float(activity)))\n",
    "    elif row[\"DRVAL_UNIT\"] == \"uM\" and pd.notna(activity):\n",
    "        return round(6 - math.log10(float(activity)))\n",
    "    elif row[\"DRVAL_UNIT\"] == \"mM\" and pd.notna(activity):\n",
    "        return round(3 - math.log10(float(activity)))\n",
    "    else:\n",
    "        return 0\n",
    "\n",
    "\n",
    "bact_coadd_df[\"pmic\"] = bact_coadd_df.apply(calculate_pmic, axis=1)"
   ]
  },
  {
   "cell_type": "code",
   "execution_count": 11,
   "metadata": {},
   "outputs": [
    {
     "data": {
      "text/plain": [
       "<AxesSubplot: ylabel='Frequency'>"
      ]
     },
     "execution_count": 11,
     "metadata": {},
     "output_type": "execute_result"
    },
    {
     "data": {
      "image/png": "[encoded data removed]",
      "text/plain": [
       "<Figure size 640x480 with 1 Axes>"
      ]
     },
     "metadata": {},
     "output_type": "display_data"
    }
   ],
   "source": [
    "bact_coadd_df[\"pmic\"].plot(kind=\"hist\")"
   ]
  },
  {
   "cell_type": "code",
   "execution_count": 12,
   "metadata": {},
   "outputs": [],
   "source": [
    "# Since some values are not converted to float, we will convert them to float\n",
    "vals = []\n",
    "\n",
    "for i in bact_coadd_df[\"DRVAL_MEDIAN\"]:\n",
    "    if isinstance(i, str):\n",
    "        if \">=\" in i:\n",
    "            i = i.split(\">=\")[1]\n",
    "        elif \"=\" in i:\n",
    "            i = i.split(\"=\")[1]\n",
    "        elif \">\" in i:\n",
    "            i = i.split(\">\")[1]\n",
    "        elif \"<\" in i:\n",
    "            i = i.split(\"<\")[1]\n",
    "\n",
    "        vals.append(float(i))\n",
    "    else:\n",
    "        vals.append(float(i))\n",
    "\n",
    "bact_coadd_df[\"DRVAL_MEDIAN\"] = vals"
   ]
  },
  {
   "cell_type": "code",
   "execution_count": 13,
   "metadata": {},
   "outputs": [],
   "source": [
    "# Remove those with pMIC = 0\n",
    "bact_coadd_df = bact_coadd_df[bact_coadd_df[\"pmic\"] != 0]"
   ]
  },
  {
   "cell_type": "code",
   "execution_count": 14,
   "metadata": {},
   "outputs": [
    {
     "data": {
      "text/plain": [
       "gram-negative    233\n",
       "fungi            171\n",
       "gram-positive    147\n",
       "Name: bact_class, dtype: int64"
      ]
     },
     "execution_count": 14,
     "metadata": {},
     "output_type": "execute_result"
    }
   ],
   "source": [
    "bact_coadd_df[\"bact_class\"].value_counts()"
   ]
  },
  {
   "cell_type": "code",
   "execution_count": 15,
   "metadata": {},
   "outputs": [
    {
     "data": {
      "text/plain": [
       "7"
      ]
     },
     "execution_count": 15,
     "metadata": {},
     "output_type": "execute_result"
    }
   ],
   "source": [
    "bact_coadd_df[\"ORGANISM\"].nunique()"
   ]
  },
  {
   "cell_type": "markdown",
   "metadata": {},
   "source": [
    "# Overlap across categories"
   ]
  },
  {
   "cell_type": "code",
   "execution_count": 16,
   "metadata": {},
   "outputs": [
    {
     "name": "stderr",
     "output_type": "stream",
     "text": [
      "100%|██████████| 551/551 [00:00<00:00, 1383869.16it/s]\n"
     ]
    }
   ],
   "source": [
    "compound_idx_dict = {}\n",
    "\n",
    "for coadd_id, class_name in tqdm(bact_coadd_df[[\"COADD_ID\", \"bact_class\"]].values):\n",
    "    if class_name not in compound_idx_dict:\n",
    "        compound_idx_dict[class_name] = set()\n",
    "\n",
    "    compound_idx_dict[class_name].add(coadd_id)"
   ]
  },
  {
   "cell_type": "code",
   "execution_count": 17,
   "metadata": {},
   "outputs": [
    {
     "name": "stdout",
     "output_type": "stream",
     "text": [
      "gram-positive 147\n",
      "fungi 112\n",
      "gram-negative 113\n",
      "Total compounds: 286\n"
     ]
    }
   ],
   "source": [
    "total_compounds = set()\n",
    "for i in compound_idx_dict:\n",
    "    print(i, len(compound_idx_dict[i]))\n",
    "    total_compounds.update(compound_idx_dict[i])\n",
    "\n",
    "print(f\"Total compounds: {len(total_compounds)}\")"
   ]
  },
  {
   "cell_type": "code",
   "execution_count": 18,
   "metadata": {},
   "outputs": [
    {
     "data": {
      "image/png": "[encoded data removed]",
      "text/plain": [
       "<Figure size 700x700 with 1 Axes>"
      ]
     },
     "metadata": {},
     "output_type": "display_data"
    }
   ],
   "source": [
    "draw_venn(sets=compound_idx_dict)"
   ]
  },
  {
   "cell_type": "markdown",
   "metadata": {},
   "source": [
    "# Finalizing data"
   ]
  },
  {
   "cell_type": "code",
   "execution_count": 19,
   "metadata": {},
   "outputs": [
    {
     "name": "stderr",
     "output_type": "stream",
     "text": [
      "100%|██████████| 551/551 [00:00<00:00, 3119.11it/s]\n"
     ]
    }
   ],
   "source": [
    "# Adding in inchikey to be consistent with other datasets\n",
    "def get_inchikey(smiles):\n",
    "    mol = MolFromSmiles(smiles)\n",
    "    if mol:\n",
    "        return MolToInchiKey(mol)\n",
    "    return None\n",
    "\n",
    "\n",
    "bact_coadd_df[\"compound_inchikey\"] = bact_coadd_df[\"SMILES\"].progress_apply(\n",
    "    get_inchikey\n",
    ")"
   ]
  },
  {
   "cell_type": "code",
   "execution_count": 20,
   "metadata": {},
   "outputs": [],
   "source": [
    "bact_coadd_df.to_csv(f\"{DATA_DIR}/processed/coadd_raw_data.tsv\", sep=\"\\t\", index=False)"
   ]
  },
  {
   "cell_type": "code",
   "execution_count": 21,
   "metadata": {},
   "outputs": [
    {
     "name": "stderr",
     "output_type": "stream",
     "text": [
      "100%|██████████| 282/282 [00:00<00:00, 1864.68it/s]\n"
     ]
    }
   ],
   "source": [
    "data = []\n",
    "\n",
    "for smile in tqdm(bact_coadd_df[\"SMILES\"].unique()):\n",
    "    tmp = bact_coadd_df[bact_coadd_df[\"SMILES\"] == smile]\n",
    "\n",
    "    data_dict = {\n",
    "        \"compound_smiles\": smile,\n",
    "        \"compound_source\": \"coadd_03_01-02-2020\",\n",
    "        \"compound_inchikey\": tmp[\"compound_inchikey\"].values[0],\n",
    "    }\n",
    "\n",
    "    for bact_class_name in [\"gram-positive\", \"gram-negative\", \"fungi\", \"acid-fast\"]:\n",
    "        t = tmp[tmp[\"bact_class\"] == bact_class_name]\n",
    "        if t.shape[0] == 0:\n",
    "            data_dict[bact_class_name] = None\n",
    "        elif t.shape[0] == 1:\n",
    "            data_dict[bact_class_name] = t[\"pmic\"].values[0]\n",
    "        else:\n",
    "            data_dict[bact_class_name] = t[\"pmic\"].median()\n",
    "\n",
    "    data.append(data_dict)"
   ]
  },
  {
   "cell_type": "code",
   "execution_count": 22,
   "metadata": {},
   "outputs": [
    {
     "data": {
      "text/html": [
       "<div>\n",
       "<style scoped>\n",
       "    .dataframe tbody tr th:only-of-type {\n",
       "        vertical-align: middle;\n",
       "    }\n",
       "\n",
       "    .dataframe tbody tr th {\n",
       "        vertical-align: top;\n",
       "    }\n",
       "\n",
       "    .dataframe thead th {\n",
       "        text-align: right;\n",
       "    }\n",
       "</style>\n",
       "<table border=\"1\" class=\"dataframe\">\n",
       "  <thead>\n",
       "    <tr style=\"text-align: right;\">\n",
       "      <th></th>\n",
       "      <th>compound_smiles</th>\n",
       "      <th>compound_source</th>\n",
       "      <th>compound_inchikey</th>\n",
       "      <th>gram-positive</th>\n",
       "      <th>gram-negative</th>\n",
       "      <th>fungi</th>\n",
       "      <th>acid-fast</th>\n",
       "    </tr>\n",
       "  </thead>\n",
       "  <tbody>\n",
       "    <tr>\n",
       "      <th>0</th>\n",
       "      <td>[H]N1C(N([H])C(OC)C(C(OC)=O)(F)C1=O)=O</td>\n",
       "      <td>coadd_03_01-02-2020</td>\n",
       "      <td>CMZYDQKKDNXWKW-UHFFFAOYSA-N</td>\n",
       "      <td>5.0</td>\n",
       "      <td>NaN</td>\n",
       "      <td>NaN</td>\n",
       "      <td>None</td>\n",
       "    </tr>\n",
       "    <tr>\n",
       "      <th>1</th>\n",
       "      <td>c1c(c(cc(Cl)c1)sc2S[H])n2</td>\n",
       "      <td>coadd_03_01-02-2020</td>\n",
       "      <td>CLHLOHAQAADLRA-UHFFFAOYSA-N</td>\n",
       "      <td>NaN</td>\n",
       "      <td>NaN</td>\n",
       "      <td>5.0</td>\n",
       "      <td>None</td>\n",
       "    </tr>\n",
       "    <tr>\n",
       "      <th>2</th>\n",
       "      <td>n1ccc2c(c1)c(C)c(c3c(cccc3)n4[H])c4c2C</td>\n",
       "      <td>coadd_03_01-02-2020</td>\n",
       "      <td>CTSPAMFJBXKSOY-UHFFFAOYSA-N</td>\n",
       "      <td>5.0</td>\n",
       "      <td>NaN</td>\n",
       "      <td>5.0</td>\n",
       "      <td>None</td>\n",
       "    </tr>\n",
       "    <tr>\n",
       "      <th>3</th>\n",
       "      <td>O1C=CC(OC)[C@@H](C)[C@@H](OC(C)=O)[C@H](C)[C@H...</td>\n",
       "      <td>coadd_03_01-02-2020</td>\n",
       "      <td>YVOFSHPIJOYKSH-FGLXEVKCSA-N</td>\n",
       "      <td>7.0</td>\n",
       "      <td>NaN</td>\n",
       "      <td>NaN</td>\n",
       "      <td>None</td>\n",
       "    </tr>\n",
       "    <tr>\n",
       "      <th>4</th>\n",
       "      <td>O1C(C)C(C)C(O)C(C)C=CC=CCCC=CC=CC=CC=CC(CC(C(C...</td>\n",
       "      <td>coadd_03_01-02-2020</td>\n",
       "      <td>ZYYCHNFSUYYLTP-UHFFFAOYSA-N</td>\n",
       "      <td>NaN</td>\n",
       "      <td>NaN</td>\n",
       "      <td>5.0</td>\n",
       "      <td>None</td>\n",
       "    </tr>\n",
       "  </tbody>\n",
       "</table>\n",
       "</div>"
      ],
      "text/plain": [
       "                                     compound_smiles      compound_source  \\\n",
       "0             [H]N1C(N([H])C(OC)C(C(OC)=O)(F)C1=O)=O  coadd_03_01-02-2020   \n",
       "1                          c1c(c(cc(Cl)c1)sc2S[H])n2  coadd_03_01-02-2020   \n",
       "2             n1ccc2c(c1)c(C)c(c3c(cccc3)n4[H])c4c2C  coadd_03_01-02-2020   \n",
       "3  O1C=CC(OC)[C@@H](C)[C@@H](OC(C)=O)[C@H](C)[C@H...  coadd_03_01-02-2020   \n",
       "4  O1C(C)C(C)C(O)C(C)C=CC=CCCC=CC=CC=CC=CC(CC(C(C...  coadd_03_01-02-2020   \n",
       "\n",
       "             compound_inchikey  gram-positive  gram-negative  fungi acid-fast  \n",
       "0  CMZYDQKKDNXWKW-UHFFFAOYSA-N            5.0            NaN    NaN      None  \n",
       "1  CLHLOHAQAADLRA-UHFFFAOYSA-N            NaN            NaN    5.0      None  \n",
       "2  CTSPAMFJBXKSOY-UHFFFAOYSA-N            5.0            NaN    5.0      None  \n",
       "3  YVOFSHPIJOYKSH-FGLXEVKCSA-N            7.0            NaN    NaN      None  \n",
       "4  ZYYCHNFSUYYLTP-UHFFFAOYSA-N            NaN            NaN    5.0      None  "
      ]
     },
     "execution_count": 22,
     "metadata": {},
     "output_type": "execute_result"
    }
   ],
   "source": [
    "final_df = pd.DataFrame(data)\n",
    "final_df.head()"
   ]
  },
  {
   "cell_type": "code",
   "execution_count": 23,
   "metadata": {},
   "outputs": [
    {
     "data": {
      "image/png": "[encoded data removed]",
      "text/plain": [
       "<Figure size 640x480 with 1 Axes>"
      ]
     },
     "metadata": {},
     "output_type": "display_data"
    }
   ],
   "source": [
    "fig, ax = plt.subplots(1, 1)\n",
    "final_df[\"gram-positive\"].plot(kind=\"hist\", ax=ax, alpha=0.5, color=\"red\")\n",
    "final_df[\"gram-negative\"].plot(kind=\"hist\", ax=ax, alpha=0.5, color=\"blue\")\n",
    "final_df[\"fungi\"].plot(kind=\"hist\", ax=ax, alpha=0.5, color=\"green\")\n",
    "plt.legend()\n",
    "plt.show()"
   ]
  },
  {
   "cell_type": "code",
   "execution_count": 24,
   "metadata": {},
   "outputs": [],
   "source": [
    "final_df.to_csv(f\"{DATA_DIR}/processed/bacterial_coadd.tsv\", sep=\"\\t\", index=False)"
   ]
  },
  {
   "cell_type": "code",
   "execution_count": null,
   "metadata": {},
   "outputs": [],
   "source": []
  }
 ],
 "metadata": {
  "kernelspec": {
   "display_name": "amr",
   "language": "python",
   "name": "amr"
  },
  "language_info": {
   "codemirror_mode": {
    "name": "ipython",
    "version": 3
   },
   "file_extension": ".py",
   "mimetype": "text/x-python",
   "name": "python",
   "nbconvert_exporter": "python",
   "pygments_lexer": "ipython3",
   "version": "3.9.18"
  }
 },
 "nbformat": 4,
 "nbformat_minor": 2
}
