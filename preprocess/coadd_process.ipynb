{
 "cells": [
  {
   "cell_type": "markdown",
   "metadata": {},
   "source": [
    "# Processing and generating bacterial subset of CO-ADD database \n",
    "\n",
    "The database can be found [here](http://db.co-add.org/)."
   ]
  },
  {
   "cell_type": "code",
   "execution_count": 1,
   "metadata": {},
   "outputs": [],
   "source": [
    "import pandas as pd\n",
    "import json\n",
    "\n",
    "pd.options.mode.chained_assignment = None  # default='warn'"
   ]
  },
  {
   "cell_type": "code",
   "execution_count": 2,
   "metadata": {},
   "outputs": [],
   "source": [
    "DATA_DIR = \"../data\""
   ]
  },
  {
   "cell_type": "code",
   "execution_count": 3,
   "metadata": {},
   "outputs": [
    {
     "data": {
      "text/html": [
       "<div>\n",
       "<style scoped>\n",
       "    .dataframe tbody tr th:only-of-type {\n",
       "        vertical-align: middle;\n",
       "    }\n",
       "\n",
       "    .dataframe tbody tr th {\n",
       "        vertical-align: top;\n",
       "    }\n",
       "\n",
       "    .dataframe thead th {\n",
       "        text-align: right;\n",
       "    }\n",
       "</style>\n",
       "<table border=\"1\" class=\"dataframe\">\n",
       "  <thead>\n",
       "    <tr style=\"text-align: right;\">\n",
       "      <th></th>\n",
       "      <th>Unnamed: 0</th>\n",
       "      <th>COADD_ID</th>\n",
       "      <th>COMPOUND_CODE</th>\n",
       "      <th>COMPOUND_NAME</th>\n",
       "      <th>SMILES</th>\n",
       "      <th>PROJECT_ID</th>\n",
       "      <th>LIBRARY_NAME</th>\n",
       "      <th>ASSAY_ID</th>\n",
       "      <th>ORGANISM</th>\n",
       "      <th>STRAIN</th>\n",
       "      <th>NASSAYS</th>\n",
       "      <th>DRVAL_TYPE</th>\n",
       "      <th>DRVAL_MEDIAN</th>\n",
       "      <th>DRVAL_UNIT</th>\n",
       "      <th>DMAX_AVE</th>\n",
       "    </tr>\n",
       "  </thead>\n",
       "  <tbody>\n",
       "    <tr>\n",
       "      <th>0</th>\n",
       "      <td>0</td>\n",
       "      <td>CO-ADD:0136135</td>\n",
       "      <td>0367428:01</td>\n",
       "      <td>NaN</td>\n",
       "      <td>[H]N1C(N([H])C(OC)C(C(OC)=O)(F)C1=O)=O</td>\n",
       "      <td>CO-ADD:PL0011</td>\n",
       "      <td>NIH/NCI (USA) - Diversity Set V</td>\n",
       "      <td>MA_007</td>\n",
       "      <td>Homo sapiens</td>\n",
       "      <td>HEK293; ATCC CRL1573</td>\n",
       "      <td>2</td>\n",
       "      <td>CC50</td>\n",
       "      <td>&gt;10</td>\n",
       "      <td>uM</td>\n",
       "      <td>4.6</td>\n",
       "    </tr>\n",
       "    <tr>\n",
       "      <th>1</th>\n",
       "      <td>1</td>\n",
       "      <td>CO-ADD:0136135</td>\n",
       "      <td>0367428:01</td>\n",
       "      <td>NaN</td>\n",
       "      <td>[H]N1C(N([H])C(OC)C(C(OC)=O)(F)C1=O)=O</td>\n",
       "      <td>CO-ADD:PL0011</td>\n",
       "      <td>NIH/NCI (USA) - Diversity Set V</td>\n",
       "      <td>GP_020</td>\n",
       "      <td>Staphylococcus aureus</td>\n",
       "      <td>ATCC 43300; MRSA</td>\n",
       "      <td>2</td>\n",
       "      <td>MIC</td>\n",
       "      <td>5</td>\n",
       "      <td>uM</td>\n",
       "      <td>97.9</td>\n",
       "    </tr>\n",
       "    <tr>\n",
       "      <th>2</th>\n",
       "      <td>2</td>\n",
       "      <td>CO-ADD:0136135</td>\n",
       "      <td>0367428:01</td>\n",
       "      <td>NaN</td>\n",
       "      <td>[H]N1C(N([H])C(OC)C(C(OC)=O)(F)C1=O)=O</td>\n",
       "      <td>CO-ADD:PL0011</td>\n",
       "      <td>NIH/NCI (USA) - Diversity Set V</td>\n",
       "      <td>GN_042</td>\n",
       "      <td>Pseudomonas aeruginosa</td>\n",
       "      <td>ATCC 27853</td>\n",
       "      <td>2</td>\n",
       "      <td>MIC</td>\n",
       "      <td>&gt;10</td>\n",
       "      <td>uM</td>\n",
       "      <td>17.5</td>\n",
       "    </tr>\n",
       "  </tbody>\n",
       "</table>\n",
       "</div>"
      ],
      "text/plain": [
       "   Unnamed: 0        COADD_ID COMPOUND_CODE COMPOUND_NAME  \\\n",
       "0           0  CO-ADD:0136135    0367428:01           NaN   \n",
       "1           1  CO-ADD:0136135    0367428:01           NaN   \n",
       "2           2  CO-ADD:0136135    0367428:01           NaN   \n",
       "\n",
       "                                   SMILES     PROJECT_ID  \\\n",
       "0  [H]N1C(N([H])C(OC)C(C(OC)=O)(F)C1=O)=O  CO-ADD:PL0011   \n",
       "1  [H]N1C(N([H])C(OC)C(C(OC)=O)(F)C1=O)=O  CO-ADD:PL0011   \n",
       "2  [H]N1C(N([H])C(OC)C(C(OC)=O)(F)C1=O)=O  CO-ADD:PL0011   \n",
       "\n",
       "                      LIBRARY_NAME ASSAY_ID                ORGANISM  \\\n",
       "0  NIH/NCI (USA) - Diversity Set V   MA_007            Homo sapiens   \n",
       "1  NIH/NCI (USA) - Diversity Set V   GP_020   Staphylococcus aureus   \n",
       "2  NIH/NCI (USA) - Diversity Set V   GN_042  Pseudomonas aeruginosa   \n",
       "\n",
       "                 STRAIN  NASSAYS DRVAL_TYPE DRVAL_MEDIAN DRVAL_UNIT  DMAX_AVE  \n",
       "0  HEK293; ATCC CRL1573        2       CC50          >10         uM       4.6  \n",
       "1      ATCC 43300; MRSA        2        MIC            5         uM      97.9  \n",
       "2            ATCC 27853        2        MIC          >10         uM      17.5  "
      ]
     },
     "execution_count": 3,
     "metadata": {},
     "output_type": "execute_result"
    }
   ],
   "source": [
    "coadd_df = pd.read_csv(\n",
    "    f\"{DATA_DIR}/raw/CO-ADD_DoseResponseData_r03_01-02-2020_CSV.zip\",\n",
    "    low_memory=False,\n",
    "    on_bad_lines=\"skip\",\n",
    "    compression=\"zip\",\n",
    ")\n",
    "coadd_df.head(3)"
   ]
  },
  {
   "cell_type": "code",
   "execution_count": 4,
   "metadata": {},
   "outputs": [
    {
     "data": {
      "text/plain": [
       "17"
      ]
     },
     "execution_count": 4,
     "metadata": {},
     "output_type": "execute_result"
    }
   ],
   "source": [
    "coadd_df[\"ORGANISM\"].nunique()"
   ]
  },
  {
   "cell_type": "markdown",
   "metadata": {},
   "source": [
    "# Subset to bacterial assays"
   ]
  },
  {
   "cell_type": "code",
   "execution_count": 5,
   "metadata": {},
   "outputs": [
    {
     "data": {
      "text/plain": [
       "382"
      ]
     },
     "execution_count": 5,
     "metadata": {},
     "output_type": "execute_result"
    }
   ],
   "source": [
    "bacterial_species = json.load(open(f\"{DATA_DIR}/mapping/bact_mapper.json\"))\n",
    "len(bacterial_species)"
   ]
  },
  {
   "cell_type": "code",
   "execution_count": 6,
   "metadata": {},
   "outputs": [],
   "source": [
    "m1 = coadd_df[\"ORGANISM\"].isin(bacterial_species)\n",
    "m2 = coadd_df[\"DRVAL_TYPE\"].isin([\"IC50\", \"Ki\", \"MIC\"])\n",
    "bact_coadd_df = coadd_df[m1 & m2]"
   ]
  },
  {
   "cell_type": "code",
   "execution_count": 7,
   "metadata": {},
   "outputs": [
    {
     "data": {
      "text/plain": [
       "(25290, 15)"
      ]
     },
     "execution_count": 7,
     "metadata": {},
     "output_type": "execute_result"
    }
   ],
   "source": [
    "bact_coadd_df.shape"
   ]
  },
  {
   "cell_type": "code",
   "execution_count": 8,
   "metadata": {},
   "outputs": [],
   "source": [
    "cols_to_keep = [\n",
    "    \"COADD_ID\",\n",
    "    \"COMPOUND_NAME\",\n",
    "    \"SMILES\",\n",
    "    \"ORGANISM\",\n",
    "    \"DRVAL_TYPE\",\n",
    "    \"DRVAL_MEDIAN\",\n",
    "    \"DRVAL_UNIT\",\n",
    "]\n",
    "bact_coadd_df = bact_coadd_df[cols_to_keep]"
   ]
  },
  {
   "cell_type": "code",
   "execution_count": 9,
   "metadata": {},
   "outputs": [],
   "source": [
    "bact_coadd_df[\"strain_type\"] = bact_coadd_df[\"ORGANISM\"].map(bacterial_species)"
   ]
  },
  {
   "cell_type": "code",
   "execution_count": 10,
   "metadata": {},
   "outputs": [
    {
     "data": {
      "text/html": [
       "<div>\n",
       "<style scoped>\n",
       "    .dataframe tbody tr th:only-of-type {\n",
       "        vertical-align: middle;\n",
       "    }\n",
       "\n",
       "    .dataframe tbody tr th {\n",
       "        vertical-align: top;\n",
       "    }\n",
       "\n",
       "    .dataframe thead th {\n",
       "        text-align: right;\n",
       "    }\n",
       "</style>\n",
       "<table border=\"1\" class=\"dataframe\">\n",
       "  <thead>\n",
       "    <tr style=\"text-align: right;\">\n",
       "      <th></th>\n",
       "      <th>COADD_ID</th>\n",
       "      <th>COMPOUND_NAME</th>\n",
       "      <th>SMILES</th>\n",
       "      <th>ORGANISM</th>\n",
       "      <th>DRVAL_TYPE</th>\n",
       "      <th>DRVAL_MEDIAN</th>\n",
       "      <th>DRVAL_UNIT</th>\n",
       "      <th>strain_type</th>\n",
       "    </tr>\n",
       "  </thead>\n",
       "  <tbody>\n",
       "    <tr>\n",
       "      <th>1</th>\n",
       "      <td>CO-ADD:0136135</td>\n",
       "      <td>NaN</td>\n",
       "      <td>[H]N1C(N([H])C(OC)C(C(OC)=O)(F)C1=O)=O</td>\n",
       "      <td>Staphylococcus aureus</td>\n",
       "      <td>MIC</td>\n",
       "      <td>5</td>\n",
       "      <td>uM</td>\n",
       "      <td>gram-positive</td>\n",
       "    </tr>\n",
       "    <tr>\n",
       "      <th>2</th>\n",
       "      <td>CO-ADD:0136135</td>\n",
       "      <td>NaN</td>\n",
       "      <td>[H]N1C(N([H])C(OC)C(C(OC)=O)(F)C1=O)=O</td>\n",
       "      <td>Pseudomonas aeruginosa</td>\n",
       "      <td>MIC</td>\n",
       "      <td>&gt;10</td>\n",
       "      <td>uM</td>\n",
       "      <td>gram-negative</td>\n",
       "    </tr>\n",
       "    <tr>\n",
       "      <th>3</th>\n",
       "      <td>CO-ADD:0136135</td>\n",
       "      <td>NaN</td>\n",
       "      <td>[H]N1C(N([H])C(OC)C(C(OC)=O)(F)C1=O)=O</td>\n",
       "      <td>Acinetobacter baumannii</td>\n",
       "      <td>MIC</td>\n",
       "      <td>&gt;10</td>\n",
       "      <td>uM</td>\n",
       "      <td>gram-negative</td>\n",
       "    </tr>\n",
       "    <tr>\n",
       "      <th>4</th>\n",
       "      <td>CO-ADD:0136135</td>\n",
       "      <td>NaN</td>\n",
       "      <td>[H]N1C(N([H])C(OC)C(C(OC)=O)(F)C1=O)=O</td>\n",
       "      <td>Klebsiella pneumoniae</td>\n",
       "      <td>MIC</td>\n",
       "      <td>&gt;10</td>\n",
       "      <td>uM</td>\n",
       "      <td>gram-negative</td>\n",
       "    </tr>\n",
       "    <tr>\n",
       "      <th>5</th>\n",
       "      <td>CO-ADD:0136135</td>\n",
       "      <td>NaN</td>\n",
       "      <td>[H]N1C(N([H])C(OC)C(C(OC)=O)(F)C1=O)=O</td>\n",
       "      <td>Escherichia coli</td>\n",
       "      <td>MIC</td>\n",
       "      <td>&gt;10</td>\n",
       "      <td>uM</td>\n",
       "      <td>gram-negative</td>\n",
       "    </tr>\n",
       "  </tbody>\n",
       "</table>\n",
       "</div>"
      ],
      "text/plain": [
       "         COADD_ID COMPOUND_NAME                                  SMILES  \\\n",
       "1  CO-ADD:0136135           NaN  [H]N1C(N([H])C(OC)C(C(OC)=O)(F)C1=O)=O   \n",
       "2  CO-ADD:0136135           NaN  [H]N1C(N([H])C(OC)C(C(OC)=O)(F)C1=O)=O   \n",
       "3  CO-ADD:0136135           NaN  [H]N1C(N([H])C(OC)C(C(OC)=O)(F)C1=O)=O   \n",
       "4  CO-ADD:0136135           NaN  [H]N1C(N([H])C(OC)C(C(OC)=O)(F)C1=O)=O   \n",
       "5  CO-ADD:0136135           NaN  [H]N1C(N([H])C(OC)C(C(OC)=O)(F)C1=O)=O   \n",
       "\n",
       "                  ORGANISM DRVAL_TYPE DRVAL_MEDIAN DRVAL_UNIT    strain_type  \n",
       "1    Staphylococcus aureus        MIC            5         uM  gram-positive  \n",
       "2   Pseudomonas aeruginosa        MIC          >10         uM  gram-negative  \n",
       "3  Acinetobacter baumannii        MIC          >10         uM  gram-negative  \n",
       "4    Klebsiella pneumoniae        MIC          >10         uM  gram-negative  \n",
       "5         Escherichia coli        MIC          >10         uM  gram-negative  "
      ]
     },
     "execution_count": 10,
     "metadata": {},
     "output_type": "execute_result"
    }
   ],
   "source": [
    "bact_coadd_df.head()"
   ]
  },
  {
   "cell_type": "code",
   "execution_count": 11,
   "metadata": {},
   "outputs": [],
   "source": [
    "bact_coadd_df.to_csv(f\"{DATA_DIR}/processed/bacterial_coadd.tsv\", sep=\"\\t\", index=False)"
   ]
  },
  {
   "cell_type": "code",
   "execution_count": 12,
   "metadata": {},
   "outputs": [
    {
     "data": {
      "text/plain": [
       "strain_type\n",
       "gram-negative    19969\n",
       "gram-positive     5321\n",
       "Name: count, dtype: int64"
      ]
     },
     "execution_count": 12,
     "metadata": {},
     "output_type": "execute_result"
    }
   ],
   "source": [
    "bact_coadd_df[\"strain_type\"].value_counts()"
   ]
  },
  {
   "cell_type": "code",
   "execution_count": 13,
   "metadata": {},
   "outputs": [
    {
     "data": {
      "text/plain": [
       "9"
      ]
     },
     "execution_count": 13,
     "metadata": {},
     "output_type": "execute_result"
    }
   ],
   "source": [
    "bact_coadd_df[\"ORGANISM\"].nunique()"
   ]
  },
  {
   "cell_type": "code",
   "execution_count": null,
   "metadata": {},
   "outputs": [],
   "source": []
  }
 ],
 "metadata": {
  "kernelspec": {
   "display_name": "broad-spec-amr",
   "language": "python",
   "name": "broad-spec-amr"
  },
  "language_info": {
   "codemirror_mode": {
    "name": "ipython",
    "version": 3
   },
   "file_extension": ".py",
   "mimetype": "text/x-python",
   "name": "python",
   "nbconvert_exporter": "python",
   "pygments_lexer": "ipython3",
   "version": "3.9.18"
  }
 },
 "nbformat": 4,
 "nbformat_minor": 2
}
