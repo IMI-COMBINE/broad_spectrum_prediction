{
 "cells": [
  {
   "cell_type": "markdown",
   "metadata": {},
   "source": [
    "# Processing and generating dataset for SPARK database\n",
    "\n",
    "The database can be found [here](https://www.collaborativedrug.com/spark-data-downloads).\n",
    "The following files were used for this analysis:\n",
    "* SPARK Data Achaogen Contribution.csv\n",
    "* SPARK Data Merck & Kyorin Contribution.csv\n",
    "* SPARK Data Novartis Contribution.csv\n",
    "* SPARK Data Quave Lab {Emory University} Publications.csv\n",
    "* SPARK MIC Data.csv"
   ]
  },
  {
   "cell_type": "code",
   "execution_count": 1,
   "metadata": {},
   "outputs": [],
   "source": [
    "import os\n",
    "import math\n",
    "import json\n",
    "import pandas as pd\n",
    "import numpy as np\n",
    "from rdkit.Chem import MolFromSmiles, MolToInchiKey\n",
    "from utils import draw_venn, process_spark_data\n",
    "import matplotlib.pyplot as plt\n",
    "\n",
    "from tqdm import tqdm\n",
    "\n",
    "tqdm.pandas()\n",
    "pd.options.mode.chained_assignment = None  # default='warn'"
   ]
  },
  {
   "cell_type": "code",
   "execution_count": 2,
   "metadata": {},
   "outputs": [],
   "source": [
    "DATA_DIR = \"../data\""
   ]
  },
  {
   "cell_type": "code",
   "execution_count": 3,
   "metadata": {},
   "outputs": [],
   "source": [
    "main_data = []"
   ]
  },
  {
   "cell_type": "code",
   "execution_count": 4,
   "metadata": {},
   "outputs": [
    {
     "name": "stderr",
     "output_type": "stream",
     "text": [
      "100%|██████████| 10/10 [00:05<00:00,  1.81it/s]\n"
     ]
    }
   ],
   "source": [
    "for file in tqdm(os.listdir(f\"{DATA_DIR}/raw\")):\n",
    "    if not file.startswith(\"SPARK\"):\n",
    "        continue\n",
    "\n",
    "    df = process_spark_data(file=file)\n",
    "    if df.empty:\n",
    "        continue\n",
    "\n",
    "    main_data.append(df)"
   ]
  },
  {
   "cell_type": "code",
   "execution_count": 5,
   "metadata": {},
   "outputs": [
    {
     "data": {
      "text/html": [
       "<div>\n",
       "<style scoped>\n",
       "    .dataframe tbody tr th:only-of-type {\n",
       "        vertical-align: middle;\n",
       "    }\n",
       "\n",
       "    .dataframe tbody tr th {\n",
       "        vertical-align: top;\n",
       "    }\n",
       "\n",
       "    .dataframe thead th {\n",
       "        text-align: right;\n",
       "    }\n",
       "</style>\n",
       "<table border=\"1\" class=\"dataframe\">\n",
       "  <thead>\n",
       "    <tr style=\"text-align: right;\">\n",
       "      <th></th>\n",
       "      <th>compound_name</th>\n",
       "      <th>smiles</th>\n",
       "      <th>standard_relation</th>\n",
       "      <th>standard_value</th>\n",
       "      <th>standard_units</th>\n",
       "      <th>bact_class</th>\n",
       "      <th>organism</th>\n",
       "    </tr>\n",
       "  </thead>\n",
       "  <tbody>\n",
       "    <tr>\n",
       "      <th>0</th>\n",
       "      <td>SPK-0102928</td>\n",
       "      <td>NC[C@@H]1O[C@H](O[C@@H]2[C@@H](CO)O[C@@H](O[C@...</td>\n",
       "      <td>=</td>\n",
       "      <td>1.0</td>\n",
       "      <td>ug.mL-1</td>\n",
       "      <td>gram-positive</td>\n",
       "      <td>NaN</td>\n",
       "    </tr>\n",
       "    <tr>\n",
       "      <th>1</th>\n",
       "      <td>SPK-0102551</td>\n",
       "      <td>CO[C@@H]1[C@@H](OC(N)=O)[C@@H](O)[C@H](OC2=C(C...</td>\n",
       "      <td>=</td>\n",
       "      <td>1.0</td>\n",
       "      <td>ug.mL-1</td>\n",
       "      <td>gram-positive</td>\n",
       "      <td>NaN</td>\n",
       "    </tr>\n",
       "    <tr>\n",
       "      <th>2</th>\n",
       "      <td>SPK-0005427</td>\n",
       "      <td>CN(C)[C@H]1[C@@H]2C[C@H]3C(=C(O)[C@]2(O)C(=O)C...</td>\n",
       "      <td>=</td>\n",
       "      <td>1.0</td>\n",
       "      <td>ug.mL-1</td>\n",
       "      <td>gram-positive</td>\n",
       "      <td>NaN</td>\n",
       "    </tr>\n",
       "    <tr>\n",
       "      <th>3</th>\n",
       "      <td>SPK-0005408</td>\n",
       "      <td>C[C@@H]1[C@H](O)CC[C@@]2(C)[C@H]1CC[C@@]1(C)[C...</td>\n",
       "      <td>=</td>\n",
       "      <td>1.0</td>\n",
       "      <td>ug.mL-1</td>\n",
       "      <td>gram-positive</td>\n",
       "      <td>NaN</td>\n",
       "    </tr>\n",
       "    <tr>\n",
       "      <th>4</th>\n",
       "      <td>SPK-0005380</td>\n",
       "      <td>C[C@@H]1O[C@@H]1P(O)(O)=O</td>\n",
       "      <td>=</td>\n",
       "      <td>1.0</td>\n",
       "      <td>ug.mL-1</td>\n",
       "      <td>gram-positive</td>\n",
       "      <td>NaN</td>\n",
       "    </tr>\n",
       "  </tbody>\n",
       "</table>\n",
       "</div>"
      ],
      "text/plain": [
       "  compound_name                                             smiles  \\\n",
       "0   SPK-0102928  NC[C@@H]1O[C@H](O[C@@H]2[C@@H](CO)O[C@@H](O[C@...   \n",
       "1   SPK-0102551  CO[C@@H]1[C@@H](OC(N)=O)[C@@H](O)[C@H](OC2=C(C...   \n",
       "2   SPK-0005427  CN(C)[C@H]1[C@@H]2C[C@H]3C(=C(O)[C@]2(O)C(=O)C...   \n",
       "3   SPK-0005408  C[C@@H]1[C@H](O)CC[C@@]2(C)[C@H]1CC[C@@]1(C)[C...   \n",
       "4   SPK-0005380                          C[C@@H]1O[C@@H]1P(O)(O)=O   \n",
       "\n",
       "  standard_relation standard_value standard_units     bact_class organism  \n",
       "0                 =            1.0        ug.mL-1  gram-positive      NaN  \n",
       "1                 =            1.0        ug.mL-1  gram-positive      NaN  \n",
       "2                 =            1.0        ug.mL-1  gram-positive      NaN  \n",
       "3                 =            1.0        ug.mL-1  gram-positive      NaN  \n",
       "4                 =            1.0        ug.mL-1  gram-positive      NaN  "
      ]
     },
     "execution_count": 5,
     "metadata": {},
     "output_type": "execute_result"
    }
   ],
   "source": [
    "spark_df = pd.concat(main_data, ignore_index=True)\n",
    "spark_df.head()"
   ]
  },
  {
   "cell_type": "markdown",
   "metadata": {},
   "source": [
    "# Subsetting to only exact values"
   ]
  },
  {
   "cell_type": "code",
   "execution_count": 6,
   "metadata": {},
   "outputs": [],
   "source": [
    "m = spark_df[\"standard_relation\"] == \"=\"\n",
    "spark_df = spark_df[m]"
   ]
  },
  {
   "cell_type": "code",
   "execution_count": 7,
   "metadata": {},
   "outputs": [
    {
     "data": {
      "text/plain": [
       "2052"
      ]
     },
     "execution_count": 7,
     "metadata": {},
     "output_type": "execute_result"
    }
   ],
   "source": [
    "bacterial_species = json.load(open(f\"{DATA_DIR}/mapping/bact_mapper.json\"))\n",
    "len(bacterial_species)"
   ]
  },
  {
   "cell_type": "code",
   "execution_count": 8,
   "metadata": {},
   "outputs": [],
   "source": [
    "bact_class = []\n",
    "\n",
    "for class_name, species in spark_df[[\"bact_class\", \"organism\"]].values:\n",
    "    if pd.notna(class_name):\n",
    "        bact_class.append(class_name)\n",
    "\n",
    "    elif species in bacterial_species:\n",
    "        bact_class.append(bacterial_species[species])\n",
    "\n",
    "    else:\n",
    "        bact_class.append(np.nan)\n",
    "\n",
    "spark_df[\"bact_class\"] = bact_class"
   ]
  },
  {
   "cell_type": "markdown",
   "metadata": {},
   "source": [
    "# Normalizing to pMIC values"
   ]
  },
  {
   "cell_type": "code",
   "execution_count": 9,
   "metadata": {},
   "outputs": [],
   "source": [
    "spark_df[\"standard_units\"] = spark_df[\"standard_units\"].replace(\"ug.mL-1\", \"uM\")"
   ]
  },
  {
   "cell_type": "code",
   "execution_count": 10,
   "metadata": {},
   "outputs": [],
   "source": [
    "def calculate_pmic(row):\n",
    "    activity = row[\"standard_value\"]\n",
    "    if isinstance(activity, str):\n",
    "        if \">=\" in activity:\n",
    "            activity = 0\n",
    "        elif \"=\" in activity:\n",
    "            activity = activity.split(\"=\")[1]\n",
    "        elif \">\" in activity:\n",
    "            activity = activity.split(\">\")[1]\n",
    "        elif \"<\" in activity:\n",
    "            activity = 0\n",
    "\n",
    "    if activity == 0.0:\n",
    "        return 0\n",
    "    elif row[\"standard_units\"] == \"nM\" and pd.notna(activity):\n",
    "        return round(9 - math.log10(float(activity)))\n",
    "    elif row[\"standard_units\"] == \"uM\" and pd.notna(activity):\n",
    "        return round(6 - math.log10(float(activity)))\n",
    "    elif row[\"standard_units\"] == \"mM\" and pd.notna(activity):\n",
    "        return round(3 - math.log10(float(activity)))\n",
    "    else:\n",
    "        return 0\n",
    "\n",
    "\n",
    "spark_df[\"pmic\"] = spark_df.apply(calculate_pmic, axis=1)"
   ]
  },
  {
   "cell_type": "code",
   "execution_count": 11,
   "metadata": {},
   "outputs": [],
   "source": [
    "# Since some values are not converted to float, we will convert them to float\n",
    "vals = []\n",
    "\n",
    "for i in spark_df[\"standard_value\"]:\n",
    "    if isinstance(i, str):\n",
    "        if \">=\" in i:\n",
    "            i = i.split(\">=\")[1]\n",
    "        elif \"=\" in i:\n",
    "            i = i.split(\"=\")[1]\n",
    "        elif \">\" in i:\n",
    "            i = i.split(\">\")[1]\n",
    "        elif \"<\" in i:\n",
    "            i = i.split(\"<\")[1]\n",
    "\n",
    "        vals.append(float(i))\n",
    "    else:\n",
    "        vals.append(float(i))\n",
    "\n",
    "spark_df[\"standard_value\"] = vals"
   ]
  },
  {
   "cell_type": "code",
   "execution_count": 12,
   "metadata": {},
   "outputs": [],
   "source": [
    "# Removing empty values\n",
    "spark_df = spark_df[spark_df[\"pmic\"] != 0]"
   ]
  },
  {
   "cell_type": "code",
   "execution_count": 13,
   "metadata": {},
   "outputs": [
    {
     "data": {
      "text/plain": [
       "<AxesSubplot: ylabel='Frequency'>"
      ]
     },
     "execution_count": 13,
     "metadata": {},
     "output_type": "execute_result"
    },
    {
     "data": {
      "image/png": "[encoded data removed]",
      "text/plain": [
       "<Figure size 640x480 with 1 Axes>"
      ]
     },
     "metadata": {},
     "output_type": "display_data"
    }
   ],
   "source": [
    "spark_df[\"pmic\"].plot(kind=\"hist\")"
   ]
  },
  {
   "cell_type": "code",
   "execution_count": 14,
   "metadata": {},
   "outputs": [
    {
     "data": {
      "text/plain": [
       "gram-negative    137651\n",
       "gram-positive     11630\n",
       "acid-fast           305\n",
       "fungi                 2\n",
       "Name: bact_class, dtype: int64"
      ]
     },
     "execution_count": 14,
     "metadata": {},
     "output_type": "execute_result"
    }
   ],
   "source": [
    "spark_df[\"bact_class\"].value_counts()"
   ]
  },
  {
   "cell_type": "markdown",
   "metadata": {},
   "source": [
    "# Overlap across categories"
   ]
  },
  {
   "cell_type": "code",
   "execution_count": 15,
   "metadata": {},
   "outputs": [],
   "source": [
    "spark_df.replace(\"nan\", np.nan, inplace=True)\n",
    "spark_df.drop_duplicates(inplace=True)"
   ]
  },
  {
   "cell_type": "code",
   "execution_count": 16,
   "metadata": {},
   "outputs": [
    {
     "name": "stderr",
     "output_type": "stream",
     "text": [
      "100%|██████████| 88683/88683 [00:00<00:00, 1771710.16it/s]\n"
     ]
    }
   ],
   "source": [
    "compound_idx_dict = {}\n",
    "\n",
    "for spark_id, class_name in tqdm(spark_df[[\"compound_name\", \"bact_class\"]].values):\n",
    "    if class_name not in compound_idx_dict:\n",
    "        compound_idx_dict[class_name] = set()\n",
    "\n",
    "    compound_idx_dict[class_name].add(spark_id)"
   ]
  },
  {
   "cell_type": "code",
   "execution_count": 17,
   "metadata": {},
   "outputs": [
    {
     "name": "stdout",
     "output_type": "stream",
     "text": [
      "gram-positive 3085\n",
      "gram-negative 13826\n",
      "acid-fast 162\n",
      "fungi 2\n",
      "Total compounds: 14629\n"
     ]
    }
   ],
   "source": [
    "total_compounds = set()\n",
    "for i in compound_idx_dict:\n",
    "    print(i, len(compound_idx_dict[i]))\n",
    "    total_compounds.update(compound_idx_dict[i])\n",
    "\n",
    "print(f\"Total compounds: {len(total_compounds)}\")"
   ]
  },
  {
   "cell_type": "code",
   "execution_count": 18,
   "metadata": {},
   "outputs": [
    {
     "data": {
      "image/png": "[encoded data removed]",
      "text/plain": [
       "<Figure size 700x700 with 1 Axes>"
      ]
     },
     "metadata": {},
     "output_type": "display_data"
    }
   ],
   "source": [
    "draw_venn(sets=compound_idx_dict)"
   ]
  },
  {
   "cell_type": "markdown",
   "metadata": {},
   "source": [
    "# Finalizing data"
   ]
  },
  {
   "cell_type": "code",
   "execution_count": 19,
   "metadata": {},
   "outputs": [
    {
     "name": "stderr",
     "output_type": "stream",
     "text": [
      "100%|█████████▉| 88345/88683 [00:24<00:00, 4014.87it/s][08:39:52] Explicit valence for atom # 9 C, 5, is greater than permitted\n",
      "100%|██████████| 88683/88683 [00:24<00:00, 3582.82it/s]\n"
     ]
    }
   ],
   "source": [
    "# Adding in inchikey to be consistent with other datasets\n",
    "def get_inchikey(smiles):\n",
    "    mol = MolFromSmiles(smiles)\n",
    "    if mol:\n",
    "        return MolToInchiKey(mol)\n",
    "    return None\n",
    "\n",
    "\n",
    "spark_df[\"compound_inchikey\"] = spark_df[\"smiles\"].progress_apply(get_inchikey)"
   ]
  },
  {
   "cell_type": "code",
   "execution_count": 20,
   "metadata": {},
   "outputs": [],
   "source": [
    "spark_df.to_csv(f\"{DATA_DIR}/processed/spark_raw_data.tsv\", sep=\"\\t\", index=False)"
   ]
  },
  {
   "cell_type": "code",
   "execution_count": 21,
   "metadata": {},
   "outputs": [
    {
     "name": "stderr",
     "output_type": "stream",
     "text": [
      "100%|██████████| 14629/14629 [00:38<00:00, 377.36it/s]\n"
     ]
    }
   ],
   "source": [
    "data = []\n",
    "\n",
    "for smile in tqdm(spark_df[\"smiles\"].unique()):\n",
    "    tmp = spark_df[spark_df[\"smiles\"] == smile]\n",
    "\n",
    "    data_dict = {\n",
    "        \"compound_smiles\": smile,\n",
    "        \"compound_source\": \"spark\",\n",
    "        \"compound_inchikey\": tmp[\"compound_inchikey\"].values[0],\n",
    "    }\n",
    "\n",
    "    for bact_class_name in [\"gram-positive\", \"gram-negative\", \"fungi\", \"acid-fast\"]:\n",
    "        t = tmp[tmp[\"bact_class\"] == bact_class_name]\n",
    "        if t.shape[0] == 0:\n",
    "            data_dict[bact_class_name] = None\n",
    "        elif t.shape[0] == 1:\n",
    "            data_dict[bact_class_name] = t[\"pmic\"].values[0]\n",
    "        else:\n",
    "            data_dict[bact_class_name] = t[\"pmic\"].median()\n",
    "\n",
    "    data.append(data_dict)"
   ]
  },
  {
   "cell_type": "code",
   "execution_count": 22,
   "metadata": {},
   "outputs": [
    {
     "data": {
      "text/html": [
       "<div>\n",
       "<style scoped>\n",
       "    .dataframe tbody tr th:only-of-type {\n",
       "        vertical-align: middle;\n",
       "    }\n",
       "\n",
       "    .dataframe tbody tr th {\n",
       "        vertical-align: top;\n",
       "    }\n",
       "\n",
       "    .dataframe thead th {\n",
       "        text-align: right;\n",
       "    }\n",
       "</style>\n",
       "<table border=\"1\" class=\"dataframe\">\n",
       "  <thead>\n",
       "    <tr style=\"text-align: right;\">\n",
       "      <th></th>\n",
       "      <th>compound_smiles</th>\n",
       "      <th>compound_source</th>\n",
       "      <th>compound_inchikey</th>\n",
       "      <th>gram-positive</th>\n",
       "      <th>gram-negative</th>\n",
       "      <th>fungi</th>\n",
       "      <th>acid-fast</th>\n",
       "    </tr>\n",
       "  </thead>\n",
       "  <tbody>\n",
       "    <tr>\n",
       "      <th>0</th>\n",
       "      <td>NC[C@@H]1O[C@H](O[C@@H]2[C@@H](CO)O[C@@H](O[C@...</td>\n",
       "      <td>spark</td>\n",
       "      <td>UOZODPSAJZTQNH-LSWIJEOBSA-N</td>\n",
       "      <td>5.5</td>\n",
       "      <td>5.0</td>\n",
       "      <td>NaN</td>\n",
       "      <td>NaN</td>\n",
       "    </tr>\n",
       "    <tr>\n",
       "      <th>1</th>\n",
       "      <td>CO[C@@H]1[C@@H](OC(N)=O)[C@@H](O)[C@H](OC2=C(C...</td>\n",
       "      <td>spark</td>\n",
       "      <td>YJQPYGGHQPGBLI-KGSXXDOSSA-N</td>\n",
       "      <td>6.0</td>\n",
       "      <td>5.0</td>\n",
       "      <td>NaN</td>\n",
       "      <td>NaN</td>\n",
       "    </tr>\n",
       "    <tr>\n",
       "      <th>2</th>\n",
       "      <td>CN(C)[C@H]1[C@@H]2C[C@H]3C(=C(O)[C@]2(O)C(=O)C...</td>\n",
       "      <td>spark</td>\n",
       "      <td>OFVLGDICTFRJMM-WESIUVDSSA-N</td>\n",
       "      <td>7.0</td>\n",
       "      <td>6.0</td>\n",
       "      <td>NaN</td>\n",
       "      <td>NaN</td>\n",
       "    </tr>\n",
       "    <tr>\n",
       "      <th>3</th>\n",
       "      <td>C[C@@H]1[C@H](O)CC[C@@]2(C)[C@H]1CC[C@@]1(C)[C...</td>\n",
       "      <td>spark</td>\n",
       "      <td>IECPWNUMDGFDKC-MZJAQBGESA-N</td>\n",
       "      <td>6.0</td>\n",
       "      <td>5.0</td>\n",
       "      <td>NaN</td>\n",
       "      <td>NaN</td>\n",
       "    </tr>\n",
       "    <tr>\n",
       "      <th>4</th>\n",
       "      <td>C[C@@H]1O[C@@H]1P(O)(O)=O</td>\n",
       "      <td>spark</td>\n",
       "      <td>YMDXZJFXQJVXBF-STHAYSLISA-N</td>\n",
       "      <td>6.0</td>\n",
       "      <td>4.0</td>\n",
       "      <td>NaN</td>\n",
       "      <td>NaN</td>\n",
       "    </tr>\n",
       "  </tbody>\n",
       "</table>\n",
       "</div>"
      ],
      "text/plain": [
       "                                     compound_smiles compound_source  \\\n",
       "0  NC[C@@H]1O[C@H](O[C@@H]2[C@@H](CO)O[C@@H](O[C@...           spark   \n",
       "1  CO[C@@H]1[C@@H](OC(N)=O)[C@@H](O)[C@H](OC2=C(C...           spark   \n",
       "2  CN(C)[C@H]1[C@@H]2C[C@H]3C(=C(O)[C@]2(O)C(=O)C...           spark   \n",
       "3  C[C@@H]1[C@H](O)CC[C@@]2(C)[C@H]1CC[C@@]1(C)[C...           spark   \n",
       "4                          C[C@@H]1O[C@@H]1P(O)(O)=O           spark   \n",
       "\n",
       "             compound_inchikey  gram-positive  gram-negative  fungi  acid-fast  \n",
       "0  UOZODPSAJZTQNH-LSWIJEOBSA-N            5.5            5.0    NaN        NaN  \n",
       "1  YJQPYGGHQPGBLI-KGSXXDOSSA-N            6.0            5.0    NaN        NaN  \n",
       "2  OFVLGDICTFRJMM-WESIUVDSSA-N            7.0            6.0    NaN        NaN  \n",
       "3  IECPWNUMDGFDKC-MZJAQBGESA-N            6.0            5.0    NaN        NaN  \n",
       "4  YMDXZJFXQJVXBF-STHAYSLISA-N            6.0            4.0    NaN        NaN  "
      ]
     },
     "execution_count": 22,
     "metadata": {},
     "output_type": "execute_result"
    }
   ],
   "source": [
    "final_df = pd.DataFrame(data)\n",
    "final_df.head()"
   ]
  },
  {
   "cell_type": "code",
   "execution_count": 23,
   "metadata": {},
   "outputs": [
    {
     "data": {
      "image/png": "[encoded data removed]",
      "text/plain": [
       "<Figure size 640x480 with 1 Axes>"
      ]
     },
     "metadata": {},
     "output_type": "display_data"
    }
   ],
   "source": [
    "fig, ax = plt.subplots(1, 1)\n",
    "final_df[\"gram-positive\"].plot(kind=\"hist\", ax=ax, alpha=0.5, color=\"red\")\n",
    "final_df[\"gram-negative\"].plot(kind=\"hist\", ax=ax, alpha=0.5, color=\"blue\")\n",
    "final_df[\"fungi\"].plot(kind=\"hist\", ax=ax, alpha=0.5, color=\"green\")\n",
    "final_df[\"acid-fast\"].plot(kind=\"hist\", ax=ax, alpha=0.5, color=\"orange\")\n",
    "plt.legend()\n",
    "plt.show()"
   ]
  },
  {
   "cell_type": "code",
   "execution_count": 24,
   "metadata": {},
   "outputs": [],
   "source": [
    "final_df.to_csv(f\"{DATA_DIR}/processed/bacterial_spark.tsv\", sep=\"\\t\", index=False)"
   ]
  },
  {
   "cell_type": "code",
   "execution_count": null,
   "metadata": {},
   "outputs": [],
   "source": []
  }
 ],
 "metadata": {
  "kernelspec": {
   "display_name": "amr",
   "language": "python",
   "name": "amr"
  },
  "language_info": {
   "codemirror_mode": {
    "name": "ipython",
    "version": 3
   },
   "file_extension": ".py",
   "mimetype": "text/x-python",
   "name": "python",
   "nbconvert_exporter": "python",
   "pygments_lexer": "ipython3",
   "version": "3.9.18"
  }
 },
 "nbformat": 4,
 "nbformat_minor": 2
}
