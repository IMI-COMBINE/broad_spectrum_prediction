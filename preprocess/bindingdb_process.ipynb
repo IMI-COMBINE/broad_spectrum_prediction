{
 "cells": [
  {
   "cell_type": "markdown",
   "metadata": {},
   "source": [
    "# Processing and generating bacterial subset of BindingDB database \n",
    "\n",
    "The database can be found [here](https://www.bindingdb.org/rwd/bind/index.jsp)."
   ]
  },
  {
   "cell_type": "code",
   "execution_count": 1,
   "metadata": {},
   "outputs": [],
   "source": [
    "import pandas as pd\n",
    "import json\n",
    "\n",
    "pd.options.mode.chained_assignment = None  # default='warn'"
   ]
  },
  {
   "cell_type": "code",
   "execution_count": 2,
   "metadata": {},
   "outputs": [],
   "source": [
    "DATA_DIR = \"../data\""
   ]
  },
  {
   "cell_type": "code",
   "execution_count": 3,
   "metadata": {},
   "outputs": [
    {
     "data": {
      "text/html": [
       "<div>\n",
       "<style scoped>\n",
       "    .dataframe tbody tr th:only-of-type {\n",
       "        vertical-align: middle;\n",
       "    }\n",
       "\n",
       "    .dataframe tbody tr th {\n",
       "        vertical-align: top;\n",
       "    }\n",
       "\n",
       "    .dataframe thead th {\n",
       "        text-align: right;\n",
       "    }\n",
       "</style>\n",
       "<table border=\"1\" class=\"dataframe\">\n",
       "  <thead>\n",
       "    <tr style=\"text-align: right;\">\n",
       "      <th></th>\n",
       "      <th>BindingDB Reactant_set_id</th>\n",
       "      <th>Ligand SMILES</th>\n",
       "      <th>Ligand InChI</th>\n",
       "      <th>Ligand InChI Key</th>\n",
       "      <th>BindingDB MonomerID</th>\n",
       "      <th>BindingDB Ligand Name</th>\n",
       "      <th>Target Name</th>\n",
       "      <th>Target Source Organism According to Curator or DataSource</th>\n",
       "      <th>Ki (nM)</th>\n",
       "      <th>IC50 (nM)</th>\n",
       "      <th>...</th>\n",
       "      <th>UniProt (SwissProt) Recommended Name of Target Chain.12</th>\n",
       "      <th>UniProt (SwissProt) Entry Name of Target Chain.12</th>\n",
       "      <th>UniProt (SwissProt) Primary ID of Target Chain.12</th>\n",
       "      <th>UniProt (SwissProt) Secondary ID(s) of Target Chain.12</th>\n",
       "      <th>UniProt (SwissProt) Alternative ID(s) of Target Chain.12</th>\n",
       "      <th>UniProt (TrEMBL) Submitted Name of Target Chain.12</th>\n",
       "      <th>UniProt (TrEMBL) Entry Name of Target Chain.12</th>\n",
       "      <th>UniProt (TrEMBL) Primary ID of Target Chain.12</th>\n",
       "      <th>UniProt (TrEMBL) Secondary ID(s) of Target Chain.12</th>\n",
       "      <th>UniProt (TrEMBL) Alternative ID(s) of Target Chain.12</th>\n",
       "    </tr>\n",
       "  </thead>\n",
       "  <tbody>\n",
       "    <tr>\n",
       "      <th>0</th>\n",
       "      <td>1</td>\n",
       "      <td>O[C@@H]1[C@@H](O)[C@@H](Cc2ccccc2)N(CCCCCC(O)=...</td>\n",
       "      <td>InChI=1S/C31H42N2O7/c34-27(35)17-9-3-11-19-32-...</td>\n",
       "      <td>XGEGDSLAQZJGCW-HHGOQMMWSA-N</td>\n",
       "      <td>608734</td>\n",
       "      <td>6-[(4R,5S,6S,7R)-4,7-dibenzyl-3-(5-carboxypent...</td>\n",
       "      <td>Dimer of Gag-Pol polyprotein [501-599]</td>\n",
       "      <td>Human immunodeficiency virus 1</td>\n",
       "      <td>0.24</td>\n",
       "      <td>NaN</td>\n",
       "      <td>...</td>\n",
       "      <td>NaN</td>\n",
       "      <td>NaN</td>\n",
       "      <td>NaN</td>\n",
       "      <td>NaN</td>\n",
       "      <td>NaN</td>\n",
       "      <td>NaN</td>\n",
       "      <td>NaN</td>\n",
       "      <td>NaN</td>\n",
       "      <td>NaN</td>\n",
       "      <td>NaN</td>\n",
       "    </tr>\n",
       "    <tr>\n",
       "      <th>1</th>\n",
       "      <td>2</td>\n",
       "      <td>O[C@@H]1[C@@H](O)[C@@H](Cc2ccccc2)N(C\\C=C\\c2cn...</td>\n",
       "      <td>InChI=1S/C31H34N6O3/c38-29-27(17-23-9-3-1-4-10...</td>\n",
       "      <td>UZLMEAPBHYEHAC-UNTBESQGSA-N</td>\n",
       "      <td>22</td>\n",
       "      <td>(4R,5S,6S,7R)-4,7-dibenzyl-5,6-dihydroxy-1,3-b...</td>\n",
       "      <td>Dimer of Gag-Pol polyprotein [501-599]</td>\n",
       "      <td>Human immunodeficiency virus 1</td>\n",
       "      <td>0.25</td>\n",
       "      <td>NaN</td>\n",
       "      <td>...</td>\n",
       "      <td>NaN</td>\n",
       "      <td>NaN</td>\n",
       "      <td>NaN</td>\n",
       "      <td>NaN</td>\n",
       "      <td>NaN</td>\n",
       "      <td>NaN</td>\n",
       "      <td>NaN</td>\n",
       "      <td>NaN</td>\n",
       "      <td>NaN</td>\n",
       "      <td>NaN</td>\n",
       "    </tr>\n",
       "    <tr>\n",
       "      <th>2</th>\n",
       "      <td>3</td>\n",
       "      <td>O[C@@H]1[C@@H](O)[C@@H](Cc2ccccc2)N(CC2CC2)C(=...</td>\n",
       "      <td>InChI=1S/C29H34N4O3/c34-27-25(16-21-8-3-1-4-9-...</td>\n",
       "      <td>HYNYUFZPPJMPOB-UTWJFGBXSA-N</td>\n",
       "      <td>23</td>\n",
       "      <td>(4R,5S,6S,7R)-4,7-dibenzyl-1-(cyclopropylmethy...</td>\n",
       "      <td>Dimer of Gag-Pol polyprotein [501-599]</td>\n",
       "      <td>Human immunodeficiency virus 1</td>\n",
       "      <td>0.41</td>\n",
       "      <td>NaN</td>\n",
       "      <td>...</td>\n",
       "      <td>NaN</td>\n",
       "      <td>NaN</td>\n",
       "      <td>NaN</td>\n",
       "      <td>NaN</td>\n",
       "      <td>NaN</td>\n",
       "      <td>NaN</td>\n",
       "      <td>NaN</td>\n",
       "      <td>NaN</td>\n",
       "      <td>NaN</td>\n",
       "      <td>NaN</td>\n",
       "    </tr>\n",
       "  </tbody>\n",
       "</table>\n",
       "<p>3 rows × 194 columns</p>\n",
       "</div>"
      ],
      "text/plain": [
       "  BindingDB Reactant_set_id  \\\n",
       "0                         1   \n",
       "1                         2   \n",
       "2                         3   \n",
       "\n",
       "                                       Ligand SMILES  \\\n",
       "0  O[C@@H]1[C@@H](O)[C@@H](Cc2ccccc2)N(CCCCCC(O)=...   \n",
       "1  O[C@@H]1[C@@H](O)[C@@H](Cc2ccccc2)N(C\\C=C\\c2cn...   \n",
       "2  O[C@@H]1[C@@H](O)[C@@H](Cc2ccccc2)N(CC2CC2)C(=...   \n",
       "\n",
       "                                        Ligand InChI  \\\n",
       "0  InChI=1S/C31H42N2O7/c34-27(35)17-9-3-11-19-32-...   \n",
       "1  InChI=1S/C31H34N6O3/c38-29-27(17-23-9-3-1-4-10...   \n",
       "2  InChI=1S/C29H34N4O3/c34-27-25(16-21-8-3-1-4-9-...   \n",
       "\n",
       "              Ligand InChI Key BindingDB MonomerID  \\\n",
       "0  XGEGDSLAQZJGCW-HHGOQMMWSA-N              608734   \n",
       "1  UZLMEAPBHYEHAC-UNTBESQGSA-N                  22   \n",
       "2  HYNYUFZPPJMPOB-UTWJFGBXSA-N                  23   \n",
       "\n",
       "                               BindingDB Ligand Name  \\\n",
       "0  6-[(4R,5S,6S,7R)-4,7-dibenzyl-3-(5-carboxypent...   \n",
       "1  (4R,5S,6S,7R)-4,7-dibenzyl-5,6-dihydroxy-1,3-b...   \n",
       "2  (4R,5S,6S,7R)-4,7-dibenzyl-1-(cyclopropylmethy...   \n",
       "\n",
       "                              Target Name  \\\n",
       "0  Dimer of Gag-Pol polyprotein [501-599]   \n",
       "1  Dimer of Gag-Pol polyprotein [501-599]   \n",
       "2  Dimer of Gag-Pol polyprotein [501-599]   \n",
       "\n",
       "  Target Source Organism According to Curator or DataSource Ki (nM) IC50 (nM)  \\\n",
       "0                     Human immunodeficiency virus 1           0.24       NaN   \n",
       "1                     Human immunodeficiency virus 1           0.25       NaN   \n",
       "2                     Human immunodeficiency virus 1           0.41       NaN   \n",
       "\n",
       "   ... UniProt (SwissProt) Recommended Name of Target Chain.12  \\\n",
       "0  ...                                                NaN        \n",
       "1  ...                                                NaN        \n",
       "2  ...                                                NaN        \n",
       "\n",
       "  UniProt (SwissProt) Entry Name of Target Chain.12  \\\n",
       "0                                               NaN   \n",
       "1                                               NaN   \n",
       "2                                               NaN   \n",
       "\n",
       "  UniProt (SwissProt) Primary ID of Target Chain.12  \\\n",
       "0                                               NaN   \n",
       "1                                               NaN   \n",
       "2                                               NaN   \n",
       "\n",
       "  UniProt (SwissProt) Secondary ID(s) of Target Chain.12  \\\n",
       "0                                                NaN       \n",
       "1                                                NaN       \n",
       "2                                                NaN       \n",
       "\n",
       "  UniProt (SwissProt) Alternative ID(s) of Target Chain.12  \\\n",
       "0                                                NaN         \n",
       "1                                                NaN         \n",
       "2                                                NaN         \n",
       "\n",
       "  UniProt (TrEMBL) Submitted Name of Target Chain.12  \\\n",
       "0                                                NaN   \n",
       "1                                                NaN   \n",
       "2                                                NaN   \n",
       "\n",
       "  UniProt (TrEMBL) Entry Name of Target Chain.12  \\\n",
       "0                                            NaN   \n",
       "1                                            NaN   \n",
       "2                                            NaN   \n",
       "\n",
       "  UniProt (TrEMBL) Primary ID of Target Chain.12  \\\n",
       "0                                            NaN   \n",
       "1                                            NaN   \n",
       "2                                            NaN   \n",
       "\n",
       "  UniProt (TrEMBL) Secondary ID(s) of Target Chain.12  \\\n",
       "0                                                NaN    \n",
       "1                                                NaN    \n",
       "2                                                NaN    \n",
       "\n",
       "  UniProt (TrEMBL) Alternative ID(s) of Target Chain.12  \n",
       "0                                                NaN     \n",
       "1                                                NaN     \n",
       "2                                                NaN     \n",
       "\n",
       "[3 rows x 194 columns]"
      ]
     },
     "execution_count": 3,
     "metadata": {},
     "output_type": "execute_result"
    }
   ],
   "source": [
    "binding_df = pd.read_csv(\n",
    "    f\"{DATA_DIR}/raw/BindingDB_All_202311.tsv\",\n",
    "    sep=\"\\t\",\n",
    "    low_memory=False,\n",
    "    on_bad_lines=\"skip\",\n",
    "    dtype=str,\n",
    ")\n",
    "binding_df.head(3)"
   ]
  },
  {
   "cell_type": "code",
   "execution_count": 4,
   "metadata": {},
   "outputs": [
    {
     "data": {
      "text/plain": [
       "320"
      ]
     },
     "execution_count": 4,
     "metadata": {},
     "output_type": "execute_result"
    }
   ],
   "source": [
    "binding_df[\"Target Source Organism According to Curator or DataSource\"].nunique()"
   ]
  },
  {
   "cell_type": "markdown",
   "metadata": {},
   "source": [
    "# Subselect bacterial strains"
   ]
  },
  {
   "cell_type": "code",
   "execution_count": 5,
   "metadata": {},
   "outputs": [
    {
     "data": {
      "text/plain": [
       "382"
      ]
     },
     "execution_count": 5,
     "metadata": {},
     "output_type": "execute_result"
    }
   ],
   "source": [
    "bacterial_species = json.load(open(f\"{DATA_DIR}/mapping/bact_mapper.json\"))\n",
    "len(bacterial_species)"
   ]
  },
  {
   "cell_type": "code",
   "execution_count": 6,
   "metadata": {},
   "outputs": [],
   "source": [
    "m = binding_df[\"Target Source Organism According to Curator or DataSource\"].isin(\n",
    "    bacterial_species\n",
    ")\n",
    "bac_binding_df = binding_df[m]"
   ]
  },
  {
   "cell_type": "code",
   "execution_count": 7,
   "metadata": {},
   "outputs": [
    {
     "data": {
      "text/plain": [
       "(29372, 194)"
      ]
     },
     "execution_count": 7,
     "metadata": {},
     "output_type": "execute_result"
    }
   ],
   "source": [
    "bac_binding_df.shape"
   ]
  },
  {
   "cell_type": "code",
   "execution_count": 8,
   "metadata": {},
   "outputs": [],
   "source": [
    "cols_to_keep = [\n",
    "    \"Ligand SMILES\",\n",
    "    \"Ligand InChI\",\n",
    "    \"Ligand InChI Key\",\n",
    "    \"BindingDB Ligand Name\",\n",
    "    \"Target Name\",\n",
    "    \"Target Source Organism According to Curator or DataSource\",\n",
    "    \"Ki (nM)\",\n",
    "    \"IC50 (nM)\",\n",
    "    \"Kd (nM)\",\n",
    "    \"EC50 (nM)\",\n",
    "    \"Curation/DataSource\",\n",
    "    \"PMID\",\n",
    "    \"Patent Number\",\n",
    "    \"PubChem CID\",\n",
    "]\n",
    "bac_binding_df = bac_binding_df[cols_to_keep]"
   ]
  },
  {
   "cell_type": "code",
   "execution_count": 9,
   "metadata": {},
   "outputs": [],
   "source": [
    "bac_binding_df.rename(\n",
    "    columns={\n",
    "        \"Target Source Organism According to Curator or DataSource\": \"Organism\",\n",
    "    },\n",
    "    inplace=True,\n",
    ")\n",
    "bac_binding_df[\"strain_type\"] = bac_binding_df[\"Organism\"].map(bacterial_species)"
   ]
  },
  {
   "cell_type": "code",
   "execution_count": 10,
   "metadata": {},
   "outputs": [
    {
     "data": {
      "text/html": [
       "<div>\n",
       "<style scoped>\n",
       "    .dataframe tbody tr th:only-of-type {\n",
       "        vertical-align: middle;\n",
       "    }\n",
       "\n",
       "    .dataframe tbody tr th {\n",
       "        vertical-align: top;\n",
       "    }\n",
       "\n",
       "    .dataframe thead th {\n",
       "        text-align: right;\n",
       "    }\n",
       "</style>\n",
       "<table border=\"1\" class=\"dataframe\">\n",
       "  <thead>\n",
       "    <tr style=\"text-align: right;\">\n",
       "      <th></th>\n",
       "      <th>Ligand SMILES</th>\n",
       "      <th>Ligand InChI</th>\n",
       "      <th>Ligand InChI Key</th>\n",
       "      <th>BindingDB Ligand Name</th>\n",
       "      <th>Target Name</th>\n",
       "      <th>Organism</th>\n",
       "      <th>Ki (nM)</th>\n",
       "      <th>IC50 (nM)</th>\n",
       "      <th>Kd (nM)</th>\n",
       "      <th>EC50 (nM)</th>\n",
       "      <th>Curation/DataSource</th>\n",
       "      <th>PMID</th>\n",
       "      <th>Patent Number</th>\n",
       "      <th>PubChem CID</th>\n",
       "      <th>strain_type</th>\n",
       "    </tr>\n",
       "  </thead>\n",
       "  <tbody>\n",
       "    <tr>\n",
       "      <th>1977</th>\n",
       "      <td>OS(=O)(=O)ON1[C@H]2CN([C@H](CC2)C(=O)NC2CCCNC2...</td>\n",
       "      <td>InChI=1S/C12H20N4O6S/c17-11(14-8-2-1-5-13-6-8)...</td>\n",
       "      <td>OMBRYYNMYXZMPQ-VXRWAFEHSA-N</td>\n",
       "      <td>US8487073, 19B</td>\n",
       "      <td>Beta-lactamase</td>\n",
       "      <td>Klebsiella pneumoniae</td>\n",
       "      <td>NaN</td>\n",
       "      <td>240</td>\n",
       "      <td>NaN</td>\n",
       "      <td>NaN</td>\n",
       "      <td>US Patent</td>\n",
       "      <td>NaN</td>\n",
       "      <td>US8487093</td>\n",
       "      <td>89779203</td>\n",
       "      <td>gram-negative</td>\n",
       "    </tr>\n",
       "    <tr>\n",
       "      <th>1982</th>\n",
       "      <td>OS(=O)(=O)ON1[C@H]2CN([C@H](CC2)C(=O)NC2CCCNC2...</td>\n",
       "      <td>InChI=1S/C12H20N4O6S/c17-11(14-8-2-1-5-13-6-8)...</td>\n",
       "      <td>OMBRYYNMYXZMPQ-VXRWAFEHSA-N</td>\n",
       "      <td>US8487073, 19B</td>\n",
       "      <td>Beta-lactamase</td>\n",
       "      <td>Pseudomonas aeruginosa</td>\n",
       "      <td>NaN</td>\n",
       "      <td>480</td>\n",
       "      <td>NaN</td>\n",
       "      <td>NaN</td>\n",
       "      <td>US Patent</td>\n",
       "      <td>NaN</td>\n",
       "      <td>US8487093</td>\n",
       "      <td>89779203</td>\n",
       "      <td>gram-negative</td>\n",
       "    </tr>\n",
       "    <tr>\n",
       "      <th>2072</th>\n",
       "      <td>OS(=O)(=O)ON1[C@H]2CN([C@@H](CC2)C(=O)NC2CCNCC...</td>\n",
       "      <td>InChI=1S/C12H20N4O6S/c17-11(14-8-3-5-13-6-4-8)...</td>\n",
       "      <td>SMOBCLHAZXOKDQ-ZJUUUORDSA-N</td>\n",
       "      <td>US8487073, 1A</td>\n",
       "      <td>Beta-lactamase</td>\n",
       "      <td>Klebsiella pneumoniae</td>\n",
       "      <td>NaN</td>\n",
       "      <td>210</td>\n",
       "      <td>NaN</td>\n",
       "      <td>NaN</td>\n",
       "      <td>US Patent</td>\n",
       "      <td>NaN</td>\n",
       "      <td>US8487093</td>\n",
       "      <td>44129647</td>\n",
       "      <td>gram-negative</td>\n",
       "    </tr>\n",
       "    <tr>\n",
       "      <th>2649</th>\n",
       "      <td>OS(=O)(=O)ON1[C@H]2CN([C@@H](CC2)C(=O)NC2CCNCC...</td>\n",
       "      <td>InChI=1S/C12H20N4O6S/c17-11(14-8-3-5-13-6-4-8)...</td>\n",
       "      <td>SMOBCLHAZXOKDQ-ZJUUUORDSA-N</td>\n",
       "      <td>US8487073, 1A</td>\n",
       "      <td>Beta-lactamase</td>\n",
       "      <td>Pseudomonas aeruginosa</td>\n",
       "      <td>NaN</td>\n",
       "      <td>465</td>\n",
       "      <td>NaN</td>\n",
       "      <td>NaN</td>\n",
       "      <td>US Patent</td>\n",
       "      <td>NaN</td>\n",
       "      <td>US8487093</td>\n",
       "      <td>44129647</td>\n",
       "      <td>gram-negative</td>\n",
       "    </tr>\n",
       "    <tr>\n",
       "      <th>14256</th>\n",
       "      <td>COc1ccc(cc1)N1C(=S)S\\C(=C/c2ccc(o2)-c2cccc(c2)...</td>\n",
       "      <td>InChI=1S/C22H14F3NO3S2/c1-28-16-7-5-15(6-8-16)...</td>\n",
       "      <td>LAEQOMVPHKEMBO-UNOMPAQXSA-N</td>\n",
       "      <td>(5Z)-3-(4-methoxyphenyl)-2-sulfanylidene-5-({5...</td>\n",
       "      <td>Lethal factor</td>\n",
       "      <td>Bacillus anthracis</td>\n",
       "      <td>NaN</td>\n",
       "      <td>300000</td>\n",
       "      <td>NaN</td>\n",
       "      <td>NaN</td>\n",
       "      <td>Curated from the literature by BindingDB</td>\n",
       "      <td>15983377</td>\n",
       "      <td>NaN</td>\n",
       "      <td>1983310</td>\n",
       "      <td>gram-positive</td>\n",
       "    </tr>\n",
       "  </tbody>\n",
       "</table>\n",
       "</div>"
      ],
      "text/plain": [
       "                                           Ligand SMILES  \\\n",
       "1977   OS(=O)(=O)ON1[C@H]2CN([C@H](CC2)C(=O)NC2CCCNC2...   \n",
       "1982   OS(=O)(=O)ON1[C@H]2CN([C@H](CC2)C(=O)NC2CCCNC2...   \n",
       "2072   OS(=O)(=O)ON1[C@H]2CN([C@@H](CC2)C(=O)NC2CCNCC...   \n",
       "2649   OS(=O)(=O)ON1[C@H]2CN([C@@H](CC2)C(=O)NC2CCNCC...   \n",
       "14256  COc1ccc(cc1)N1C(=S)S\\C(=C/c2ccc(o2)-c2cccc(c2)...   \n",
       "\n",
       "                                            Ligand InChI  \\\n",
       "1977   InChI=1S/C12H20N4O6S/c17-11(14-8-2-1-5-13-6-8)...   \n",
       "1982   InChI=1S/C12H20N4O6S/c17-11(14-8-2-1-5-13-6-8)...   \n",
       "2072   InChI=1S/C12H20N4O6S/c17-11(14-8-3-5-13-6-4-8)...   \n",
       "2649   InChI=1S/C12H20N4O6S/c17-11(14-8-3-5-13-6-4-8)...   \n",
       "14256  InChI=1S/C22H14F3NO3S2/c1-28-16-7-5-15(6-8-16)...   \n",
       "\n",
       "                  Ligand InChI Key  \\\n",
       "1977   OMBRYYNMYXZMPQ-VXRWAFEHSA-N   \n",
       "1982   OMBRYYNMYXZMPQ-VXRWAFEHSA-N   \n",
       "2072   SMOBCLHAZXOKDQ-ZJUUUORDSA-N   \n",
       "2649   SMOBCLHAZXOKDQ-ZJUUUORDSA-N   \n",
       "14256  LAEQOMVPHKEMBO-UNOMPAQXSA-N   \n",
       "\n",
       "                                   BindingDB Ligand Name     Target Name  \\\n",
       "1977                                      US8487073, 19B  Beta-lactamase   \n",
       "1982                                      US8487073, 19B  Beta-lactamase   \n",
       "2072                                       US8487073, 1A  Beta-lactamase   \n",
       "2649                                       US8487073, 1A  Beta-lactamase   \n",
       "14256  (5Z)-3-(4-methoxyphenyl)-2-sulfanylidene-5-({5...   Lethal factor   \n",
       "\n",
       "                     Organism Ki (nM) IC50 (nM) Kd (nM) EC50 (nM)  \\\n",
       "1977    Klebsiella pneumoniae     NaN       240     NaN       NaN   \n",
       "1982   Pseudomonas aeruginosa     NaN       480     NaN       NaN   \n",
       "2072    Klebsiella pneumoniae     NaN       210     NaN       NaN   \n",
       "2649   Pseudomonas aeruginosa     NaN       465     NaN       NaN   \n",
       "14256      Bacillus anthracis     NaN    300000     NaN       NaN   \n",
       "\n",
       "                            Curation/DataSource      PMID Patent Number  \\\n",
       "1977                                  US Patent       NaN     US8487093   \n",
       "1982                                  US Patent       NaN     US8487093   \n",
       "2072                                  US Patent       NaN     US8487093   \n",
       "2649                                  US Patent       NaN     US8487093   \n",
       "14256  Curated from the literature by BindingDB  15983377           NaN   \n",
       "\n",
       "      PubChem CID    strain_type  \n",
       "1977     89779203  gram-negative  \n",
       "1982     89779203  gram-negative  \n",
       "2072     44129647  gram-negative  \n",
       "2649     44129647  gram-negative  \n",
       "14256     1983310  gram-positive  "
      ]
     },
     "execution_count": 10,
     "metadata": {},
     "output_type": "execute_result"
    }
   ],
   "source": [
    "bac_binding_df.head()"
   ]
  },
  {
   "cell_type": "code",
   "execution_count": 11,
   "metadata": {},
   "outputs": [],
   "source": [
    "bac_binding_df.to_csv(\n",
    "    f\"{DATA_DIR}/processed/bacterial_bindingdb.tsv\", sep=\"\\t\", index=False\n",
    ")"
   ]
  },
  {
   "cell_type": "code",
   "execution_count": 12,
   "metadata": {},
   "outputs": [
    {
     "data": {
      "text/plain": [
       "strain_type\n",
       "gram-negative    12321\n",
       "gram-positive    12224\n",
       "acid-fast         4827\n",
       "Name: count, dtype: int64"
      ]
     },
     "execution_count": 12,
     "metadata": {},
     "output_type": "execute_result"
    }
   ],
   "source": [
    "bac_binding_df[\"strain_type\"].value_counts()"
   ]
  },
  {
   "cell_type": "code",
   "execution_count": 13,
   "metadata": {},
   "outputs": [
    {
     "data": {
      "text/plain": [
       "108"
      ]
     },
     "execution_count": 13,
     "metadata": {},
     "output_type": "execute_result"
    }
   ],
   "source": [
    "bac_binding_df[\"Organism\"].nunique()"
   ]
  },
  {
   "cell_type": "code",
   "execution_count": null,
   "metadata": {},
   "outputs": [],
   "source": []
  }
 ],
 "metadata": {
  "kernelspec": {
   "display_name": "broad-spec-amr",
   "language": "python",
   "name": "broad-spec-amr"
  },
  "language_info": {
   "codemirror_mode": {
    "name": "ipython",
    "version": 3
   },
   "file_extension": ".py",
   "mimetype": "text/x-python",
   "name": "python",
   "nbconvert_exporter": "python",
   "pygments_lexer": "ipython3",
   "version": "3.9.18"
  }
 },
 "nbformat": 4,
 "nbformat_minor": 2
}
