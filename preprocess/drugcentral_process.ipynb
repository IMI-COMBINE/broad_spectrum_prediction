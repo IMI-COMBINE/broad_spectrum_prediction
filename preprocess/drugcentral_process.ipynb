{
 "cells": [
  {
   "cell_type": "markdown",
   "metadata": {},
   "source": [
    "# Processing and generating bacterial subset of Drug Central database \n",
    "\n",
    "The database can be found [here](https://drugcentral.org/)."
   ]
  },
  {
   "cell_type": "code",
   "execution_count": 1,
   "metadata": {},
   "outputs": [],
   "source": [
    "import pandas as pd\n",
    "import json\n",
    "\n",
    "pd.options.mode.chained_assignment = None  # default='warn'"
   ]
  },
  {
   "cell_type": "code",
   "execution_count": 2,
   "metadata": {},
   "outputs": [],
   "source": [
    "DATA_DIR = \"../data\""
   ]
  },
  {
   "cell_type": "code",
   "execution_count": 3,
   "metadata": {},
   "outputs": [
    {
     "data": {
      "text/html": [
       "<div>\n",
       "<style scoped>\n",
       "    .dataframe tbody tr th:only-of-type {\n",
       "        vertical-align: middle;\n",
       "    }\n",
       "\n",
       "    .dataframe tbody tr th {\n",
       "        vertical-align: top;\n",
       "    }\n",
       "\n",
       "    .dataframe thead th {\n",
       "        text-align: right;\n",
       "    }\n",
       "</style>\n",
       "<table border=\"1\" class=\"dataframe\">\n",
       "  <thead>\n",
       "    <tr style=\"text-align: right;\">\n",
       "      <th></th>\n",
       "      <th>DRUG_NAME</th>\n",
       "      <th>STRUCT_ID</th>\n",
       "      <th>TARGET_NAME</th>\n",
       "      <th>TARGET_CLASS</th>\n",
       "      <th>ACCESSION</th>\n",
       "      <th>GENE</th>\n",
       "      <th>SWISSPROT</th>\n",
       "      <th>ACT_VALUE</th>\n",
       "      <th>ACT_UNIT</th>\n",
       "      <th>ACT_TYPE</th>\n",
       "      <th>...</th>\n",
       "      <th>MOA_SOURCE_URL</th>\n",
       "      <th>ACTION_TYPE</th>\n",
       "      <th>TDL</th>\n",
       "      <th>ORGANISM</th>\n",
       "      <th>SMILES</th>\n",
       "      <th>InChI</th>\n",
       "      <th>InChIKey</th>\n",
       "      <th>ID</th>\n",
       "      <th>INN</th>\n",
       "      <th>CAS_RN</th>\n",
       "    </tr>\n",
       "  </thead>\n",
       "  <tbody>\n",
       "    <tr>\n",
       "      <th>0</th>\n",
       "      <td>levobupivacaine</td>\n",
       "      <td>4</td>\n",
       "      <td>Potassium voltage-gated channel subfamily H me...</td>\n",
       "      <td>Ion channel</td>\n",
       "      <td>Q12809</td>\n",
       "      <td>KCNH2</td>\n",
       "      <td>KCNH2_HUMAN</td>\n",
       "      <td>4.89</td>\n",
       "      <td>NaN</td>\n",
       "      <td>IC50</td>\n",
       "      <td>...</td>\n",
       "      <td>NaN</td>\n",
       "      <td>NaN</td>\n",
       "      <td>Tclin</td>\n",
       "      <td>Homo sapiens</td>\n",
       "      <td>CCCCN1CCCC[C@H]1C(=O)NC1=C(C)C=CC=C1C</td>\n",
       "      <td>InChI=1S/C18H28N2O/c1-4-5-12-20-13-7-6-11-16(2...</td>\n",
       "      <td>LEBVLXFERQHONN-INIZCTEOSA-N</td>\n",
       "      <td>4</td>\n",
       "      <td>levobupivacaine</td>\n",
       "      <td>27262-47-1</td>\n",
       "    </tr>\n",
       "    <tr>\n",
       "      <th>1</th>\n",
       "      <td>levobupivacaine</td>\n",
       "      <td>4</td>\n",
       "      <td>Sodium channel protein type 1 subunit alpha</td>\n",
       "      <td>Ion channel</td>\n",
       "      <td>P35498</td>\n",
       "      <td>SCN1A</td>\n",
       "      <td>SCN1A_HUMAN</td>\n",
       "      <td>5.79</td>\n",
       "      <td>NaN</td>\n",
       "      <td>IC50</td>\n",
       "      <td>...</td>\n",
       "      <td>NaN</td>\n",
       "      <td>NaN</td>\n",
       "      <td>Tclin</td>\n",
       "      <td>Homo sapiens</td>\n",
       "      <td>CCCCN1CCCC[C@H]1C(=O)NC1=C(C)C=CC=C1C</td>\n",
       "      <td>InChI=1S/C18H28N2O/c1-4-5-12-20-13-7-6-11-16(2...</td>\n",
       "      <td>LEBVLXFERQHONN-INIZCTEOSA-N</td>\n",
       "      <td>4</td>\n",
       "      <td>levobupivacaine</td>\n",
       "      <td>27262-47-1</td>\n",
       "    </tr>\n",
       "    <tr>\n",
       "      <th>2</th>\n",
       "      <td>levobupivacaine</td>\n",
       "      <td>4</td>\n",
       "      <td>Sodium channel protein type 4 subunit alpha</td>\n",
       "      <td>Ion channel</td>\n",
       "      <td>P35499</td>\n",
       "      <td>SCN4A</td>\n",
       "      <td>SCN4A_HUMAN</td>\n",
       "      <td>NaN</td>\n",
       "      <td>NaN</td>\n",
       "      <td>NaN</td>\n",
       "      <td>...</td>\n",
       "      <td>https://www.ebi.ac.uk/chembl/compound/inspect/...</td>\n",
       "      <td>BLOCKER</td>\n",
       "      <td>Tclin</td>\n",
       "      <td>Homo sapiens</td>\n",
       "      <td>CCCCN1CCCC[C@H]1C(=O)NC1=C(C)C=CC=C1C</td>\n",
       "      <td>InChI=1S/C18H28N2O/c1-4-5-12-20-13-7-6-11-16(2...</td>\n",
       "      <td>LEBVLXFERQHONN-INIZCTEOSA-N</td>\n",
       "      <td>4</td>\n",
       "      <td>levobupivacaine</td>\n",
       "      <td>27262-47-1</td>\n",
       "    </tr>\n",
       "  </tbody>\n",
       "</table>\n",
       "<p>3 rows × 26 columns</p>\n",
       "</div>"
      ],
      "text/plain": [
       "         DRUG_NAME  STRUCT_ID  \\\n",
       "0  levobupivacaine          4   \n",
       "1  levobupivacaine          4   \n",
       "2  levobupivacaine          4   \n",
       "\n",
       "                                         TARGET_NAME TARGET_CLASS ACCESSION  \\\n",
       "0  Potassium voltage-gated channel subfamily H me...  Ion channel    Q12809   \n",
       "1        Sodium channel protein type 1 subunit alpha  Ion channel    P35498   \n",
       "2        Sodium channel protein type 4 subunit alpha  Ion channel    P35499   \n",
       "\n",
       "    GENE    SWISSPROT  ACT_VALUE  ACT_UNIT ACT_TYPE  ...  \\\n",
       "0  KCNH2  KCNH2_HUMAN       4.89       NaN     IC50  ...   \n",
       "1  SCN1A  SCN1A_HUMAN       5.79       NaN     IC50  ...   \n",
       "2  SCN4A  SCN4A_HUMAN        NaN       NaN      NaN  ...   \n",
       "\n",
       "                                      MOA_SOURCE_URL ACTION_TYPE    TDL  \\\n",
       "0                                                NaN         NaN  Tclin   \n",
       "1                                                NaN         NaN  Tclin   \n",
       "2  https://www.ebi.ac.uk/chembl/compound/inspect/...     BLOCKER  Tclin   \n",
       "\n",
       "       ORGANISM                                 SMILES  \\\n",
       "0  Homo sapiens  CCCCN1CCCC[C@H]1C(=O)NC1=C(C)C=CC=C1C   \n",
       "1  Homo sapiens  CCCCN1CCCC[C@H]1C(=O)NC1=C(C)C=CC=C1C   \n",
       "2  Homo sapiens  CCCCN1CCCC[C@H]1C(=O)NC1=C(C)C=CC=C1C   \n",
       "\n",
       "                                               InChI  \\\n",
       "0  InChI=1S/C18H28N2O/c1-4-5-12-20-13-7-6-11-16(2...   \n",
       "1  InChI=1S/C18H28N2O/c1-4-5-12-20-13-7-6-11-16(2...   \n",
       "2  InChI=1S/C18H28N2O/c1-4-5-12-20-13-7-6-11-16(2...   \n",
       "\n",
       "                      InChIKey ID              INN      CAS_RN  \n",
       "0  LEBVLXFERQHONN-INIZCTEOSA-N  4  levobupivacaine  27262-47-1  \n",
       "1  LEBVLXFERQHONN-INIZCTEOSA-N  4  levobupivacaine  27262-47-1  \n",
       "2  LEBVLXFERQHONN-INIZCTEOSA-N  4  levobupivacaine  27262-47-1  \n",
       "\n",
       "[3 rows x 26 columns]"
      ]
     },
     "execution_count": 3,
     "metadata": {},
     "output_type": "execute_result"
    }
   ],
   "source": [
    "drugcentral_df = pd.read_csv(\n",
    "    f\"{DATA_DIR}/raw/drug.target.interaction.tsv.gz\",\n",
    "    sep=\"\\t\",\n",
    "    low_memory=False,\n",
    "    on_bad_lines=\"skip\",\n",
    "    compression=\"gzip\",\n",
    ")\n",
    "\n",
    "struct_df = pd.read_csv(f\"{DATA_DIR}/raw/structures.smiles.tsv\", sep=\"\\t\")\n",
    "\n",
    "drugcentral_df = drugcentral_df.merge(struct_df, left_on=\"STRUCT_ID\", right_on=\"ID\")\n",
    "\n",
    "drugcentral_df.head(3)"
   ]
  },
  {
   "cell_type": "code",
   "execution_count": 4,
   "metadata": {},
   "outputs": [
    {
     "data": {
      "text/plain": [
       "261"
      ]
     },
     "execution_count": 4,
     "metadata": {},
     "output_type": "execute_result"
    }
   ],
   "source": [
    "drugcentral_df[\"ORGANISM\"].nunique()"
   ]
  },
  {
   "cell_type": "markdown",
   "metadata": {},
   "source": [
    "# Subset to bacterial assays"
   ]
  },
  {
   "cell_type": "code",
   "execution_count": 5,
   "metadata": {},
   "outputs": [
    {
     "data": {
      "text/plain": [
       "382"
      ]
     },
     "execution_count": 5,
     "metadata": {},
     "output_type": "execute_result"
    }
   ],
   "source": [
    "bacterial_species = json.load(open(f\"{DATA_DIR}/mapping/bact_mapper.json\"))\n",
    "len(bacterial_species)"
   ]
  },
  {
   "cell_type": "code",
   "execution_count": 6,
   "metadata": {},
   "outputs": [],
   "source": [
    "m1 = drugcentral_df[\"ORGANISM\"].isin(bacterial_species)\n",
    "m2 = drugcentral_df[\"ACT_TYPE\"].isin([\"IC50\", \"Ki\", \"MIC\"])\n",
    "bact_drugcentral_df = drugcentral_df[m1 & m2]"
   ]
  },
  {
   "cell_type": "code",
   "execution_count": 7,
   "metadata": {},
   "outputs": [
    {
     "data": {
      "text/plain": [
       "(433, 26)"
      ]
     },
     "execution_count": 7,
     "metadata": {},
     "output_type": "execute_result"
    }
   ],
   "source": [
    "bact_drugcentral_df.shape"
   ]
  },
  {
   "cell_type": "code",
   "execution_count": 8,
   "metadata": {},
   "outputs": [],
   "source": [
    "cols_to_keep = [\n",
    "    \"DRUG_NAME\",\n",
    "    \"STRUCT_ID\",\n",
    "    \"TARGET_NAME\",\n",
    "    \"ACCESSION\",\n",
    "    \"ACT_VALUE\",\n",
    "    \"ACT_UNIT\",\n",
    "    \"ACT_TYPE\",\n",
    "    \"ACT_SOURCE\",\n",
    "    \"RELATION\",\n",
    "    \"ORGANISM\",\n",
    "    \"SMILES\",\n",
    "    \"InChIKey\",\n",
    "]\n",
    "bact_drugcentral_df = bact_drugcentral_df[cols_to_keep]"
   ]
  },
  {
   "cell_type": "code",
   "execution_count": 9,
   "metadata": {},
   "outputs": [],
   "source": [
    "bact_drugcentral_df[\"strain_type\"] = bact_drugcentral_df[\"ORGANISM\"].map(\n",
    "    bacterial_species\n",
    ")"
   ]
  },
  {
   "cell_type": "code",
   "execution_count": 10,
   "metadata": {},
   "outputs": [
    {
     "data": {
      "text/html": [
       "<div>\n",
       "<style scoped>\n",
       "    .dataframe tbody tr th:only-of-type {\n",
       "        vertical-align: middle;\n",
       "    }\n",
       "\n",
       "    .dataframe tbody tr th {\n",
       "        vertical-align: top;\n",
       "    }\n",
       "\n",
       "    .dataframe thead th {\n",
       "        text-align: right;\n",
       "    }\n",
       "</style>\n",
       "<table border=\"1\" class=\"dataframe\">\n",
       "  <thead>\n",
       "    <tr style=\"text-align: right;\">\n",
       "      <th></th>\n",
       "      <th>DRUG_NAME</th>\n",
       "      <th>STRUCT_ID</th>\n",
       "      <th>TARGET_NAME</th>\n",
       "      <th>ACCESSION</th>\n",
       "      <th>ACT_VALUE</th>\n",
       "      <th>ACT_UNIT</th>\n",
       "      <th>ACT_TYPE</th>\n",
       "      <th>ACT_SOURCE</th>\n",
       "      <th>RELATION</th>\n",
       "      <th>ORGANISM</th>\n",
       "      <th>SMILES</th>\n",
       "      <th>InChIKey</th>\n",
       "      <th>strain_type</th>\n",
       "    </tr>\n",
       "  </thead>\n",
       "  <tbody>\n",
       "    <tr>\n",
       "      <th>17</th>\n",
       "      <td>aminopterin</td>\n",
       "      <td>21</td>\n",
       "      <td>Dihydrofolate reductase</td>\n",
       "      <td>P00381</td>\n",
       "      <td>8.30</td>\n",
       "      <td>NaN</td>\n",
       "      <td>IC50</td>\n",
       "      <td>CHEMBL</td>\n",
       "      <td>=</td>\n",
       "      <td>Lactobacillus casei</td>\n",
       "      <td>NC1=NC2=NC=C(CNC3=CC=C(C=C3)C(=O)N[C@@H](CCC(O...</td>\n",
       "      <td>TVZGACDUOSZQKY-LBPRGKRZSA-N</td>\n",
       "      <td>acid-fast</td>\n",
       "    </tr>\n",
       "    <tr>\n",
       "      <th>18</th>\n",
       "      <td>aminopterin</td>\n",
       "      <td>21</td>\n",
       "      <td>Dihydrofolate reductase</td>\n",
       "      <td>B0BL08</td>\n",
       "      <td>7.96</td>\n",
       "      <td>NaN</td>\n",
       "      <td>IC50</td>\n",
       "      <td>CHEMBL</td>\n",
       "      <td>=</td>\n",
       "      <td>Escherichia coli</td>\n",
       "      <td>NC1=NC2=NC=C(CNC3=CC=C(C=C3)C(=O)N[C@@H](CCC(O...</td>\n",
       "      <td>TVZGACDUOSZQKY-LBPRGKRZSA-N</td>\n",
       "      <td>gram-negative</td>\n",
       "    </tr>\n",
       "    <tr>\n",
       "      <th>31</th>\n",
       "      <td>fluorouracil</td>\n",
       "      <td>26</td>\n",
       "      <td>Uracil phosphoribosyltransferase</td>\n",
       "      <td>P0A8F0</td>\n",
       "      <td>4.89</td>\n",
       "      <td>NaN</td>\n",
       "      <td>Ki</td>\n",
       "      <td>CHEMBL</td>\n",
       "      <td>=</td>\n",
       "      <td>Escherichia coli (strain K12)</td>\n",
       "      <td>FC1=CNC(=O)NC1=O</td>\n",
       "      <td>GHASVSINZRGABV-UHFFFAOYSA-N</td>\n",
       "      <td>gram-negative</td>\n",
       "    </tr>\n",
       "    <tr>\n",
       "      <th>32</th>\n",
       "      <td>azaribine</td>\n",
       "      <td>27</td>\n",
       "      <td>Orotidine 5'-phosphate decarboxylase</td>\n",
       "      <td>O26232</td>\n",
       "      <td>4.96</td>\n",
       "      <td>NaN</td>\n",
       "      <td>Ki</td>\n",
       "      <td>CHEMBL</td>\n",
       "      <td>=</td>\n",
       "      <td>Methanothermobacter thermautotrophicus (strain...</td>\n",
       "      <td>CC(=O)OC[C@H]1O[C@H]([C@H](OC(C)=O)[C@@H]1OC(C...</td>\n",
       "      <td>QQOBRRFOVWGIMD-OJAKKHQRSA-N</td>\n",
       "      <td>gram-positive</td>\n",
       "    </tr>\n",
       "    <tr>\n",
       "      <th>51</th>\n",
       "      <td>acarbose</td>\n",
       "      <td>39</td>\n",
       "      <td>Alpha-amylase</td>\n",
       "      <td>P94451</td>\n",
       "      <td>6.47</td>\n",
       "      <td>NaN</td>\n",
       "      <td>Ki</td>\n",
       "      <td>CHEMBL</td>\n",
       "      <td>=</td>\n",
       "      <td>Geobacillus stearothermophilus</td>\n",
       "      <td>C[C@H]1O[C@H](O[C@@H]2[C@@H](CO)O[C@H](O[C@@H]...</td>\n",
       "      <td>XUFXOAAUWZOOIT-UGEKTDRHSA-N</td>\n",
       "      <td>gram-positive</td>\n",
       "    </tr>\n",
       "  </tbody>\n",
       "</table>\n",
       "</div>"
      ],
      "text/plain": [
       "       DRUG_NAME  STRUCT_ID                           TARGET_NAME ACCESSION  \\\n",
       "17   aminopterin         21               Dihydrofolate reductase    P00381   \n",
       "18   aminopterin         21               Dihydrofolate reductase    B0BL08   \n",
       "31  fluorouracil         26      Uracil phosphoribosyltransferase    P0A8F0   \n",
       "32     azaribine         27  Orotidine 5'-phosphate decarboxylase    O26232   \n",
       "51      acarbose         39                         Alpha-amylase    P94451   \n",
       "\n",
       "    ACT_VALUE  ACT_UNIT ACT_TYPE ACT_SOURCE RELATION  \\\n",
       "17       8.30       NaN     IC50     CHEMBL        =   \n",
       "18       7.96       NaN     IC50     CHEMBL        =   \n",
       "31       4.89       NaN       Ki     CHEMBL        =   \n",
       "32       4.96       NaN       Ki     CHEMBL        =   \n",
       "51       6.47       NaN       Ki     CHEMBL        =   \n",
       "\n",
       "                                             ORGANISM  \\\n",
       "17                                Lactobacillus casei   \n",
       "18                                   Escherichia coli   \n",
       "31                      Escherichia coli (strain K12)   \n",
       "32  Methanothermobacter thermautotrophicus (strain...   \n",
       "51                     Geobacillus stearothermophilus   \n",
       "\n",
       "                                               SMILES  \\\n",
       "17  NC1=NC2=NC=C(CNC3=CC=C(C=C3)C(=O)N[C@@H](CCC(O...   \n",
       "18  NC1=NC2=NC=C(CNC3=CC=C(C=C3)C(=O)N[C@@H](CCC(O...   \n",
       "31                                   FC1=CNC(=O)NC1=O   \n",
       "32  CC(=O)OC[C@H]1O[C@H]([C@H](OC(C)=O)[C@@H]1OC(C...   \n",
       "51  C[C@H]1O[C@H](O[C@@H]2[C@@H](CO)O[C@H](O[C@@H]...   \n",
       "\n",
       "                       InChIKey    strain_type  \n",
       "17  TVZGACDUOSZQKY-LBPRGKRZSA-N      acid-fast  \n",
       "18  TVZGACDUOSZQKY-LBPRGKRZSA-N  gram-negative  \n",
       "31  GHASVSINZRGABV-UHFFFAOYSA-N  gram-negative  \n",
       "32  QQOBRRFOVWGIMD-OJAKKHQRSA-N  gram-positive  \n",
       "51  XUFXOAAUWZOOIT-UGEKTDRHSA-N  gram-positive  "
      ]
     },
     "execution_count": 10,
     "metadata": {},
     "output_type": "execute_result"
    }
   ],
   "source": [
    "bact_drugcentral_df.head()"
   ]
  },
  {
   "cell_type": "code",
   "execution_count": 11,
   "metadata": {},
   "outputs": [],
   "source": [
    "bact_drugcentral_df.to_csv(\n",
    "    f\"{DATA_DIR}/processed/bacterial_drugcentral.tsv\", sep=\"\\t\", index=False\n",
    ")"
   ]
  },
  {
   "cell_type": "code",
   "execution_count": 12,
   "metadata": {},
   "outputs": [
    {
     "data": {
      "text/plain": [
       "strain_type\n",
       "gram-negative    281\n",
       "acid-fast         81\n",
       "gram-positive     71\n",
       "Name: count, dtype: int64"
      ]
     },
     "execution_count": 12,
     "metadata": {},
     "output_type": "execute_result"
    }
   ],
   "source": [
    "bact_drugcentral_df[\"strain_type\"].value_counts()"
   ]
  },
  {
   "cell_type": "code",
   "execution_count": 13,
   "metadata": {},
   "outputs": [
    {
     "data": {
      "text/plain": [
       "68"
      ]
     },
     "execution_count": 13,
     "metadata": {},
     "output_type": "execute_result"
    }
   ],
   "source": [
    "bact_drugcentral_df[\"ORGANISM\"].nunique()"
   ]
  },
  {
   "cell_type": "code",
   "execution_count": null,
   "metadata": {},
   "outputs": [],
   "source": []
  }
 ],
 "metadata": {
  "kernelspec": {
   "display_name": "broad-spec-amr",
   "language": "python",
   "name": "broad-spec-amr"
  },
  "language_info": {
   "codemirror_mode": {
    "name": "ipython",
    "version": 3
   },
   "file_extension": ".py",
   "mimetype": "text/x-python",
   "name": "python",
   "nbconvert_exporter": "python",
   "pygments_lexer": "ipython3",
   "version": "3.9.18"
  }
 },
 "nbformat": 4,
 "nbformat_minor": 2
}
