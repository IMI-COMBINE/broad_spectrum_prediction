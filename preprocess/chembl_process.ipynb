{
 "cells": [
  {
   "cell_type": "markdown",
   "metadata": {},
   "source": [
    "# Processing and generating bacterial subset of ChEMBL (v33) database \n",
    "\n",
    "The database can be found [here](https://www.ebi.ac.uk/chembl/)."
   ]
  },
  {
   "cell_type": "code",
   "execution_count": 1,
   "metadata": {},
   "outputs": [],
   "source": [
    "import pandas as pd\n",
    "import json\n",
    "\n",
    "pd.options.mode.chained_assignment = None  # default='warn'"
   ]
  },
  {
   "cell_type": "code",
   "execution_count": 2,
   "metadata": {},
   "outputs": [],
   "source": [
    "DATA_DIR = \"../data\""
   ]
  },
  {
   "cell_type": "code",
   "execution_count": 3,
   "metadata": {},
   "outputs": [
    {
     "data": {
      "text/html": [
       "<div>\n",
       "<style scoped>\n",
       "    .dataframe tbody tr th:only-of-type {\n",
       "        vertical-align: middle;\n",
       "    }\n",
       "\n",
       "    .dataframe tbody tr th {\n",
       "        vertical-align: top;\n",
       "    }\n",
       "\n",
       "    .dataframe thead th {\n",
       "        text-align: right;\n",
       "    }\n",
       "</style>\n",
       "<table border=\"1\" class=\"dataframe\">\n",
       "  <thead>\n",
       "    <tr style=\"text-align: right;\">\n",
       "      <th></th>\n",
       "      <th>pref_name</th>\n",
       "      <th>chembl_idx</th>\n",
       "      <th>inchi_key</th>\n",
       "      <th>smiles</th>\n",
       "      <th>inchi</th>\n",
       "      <th>assay_id</th>\n",
       "      <th>assay_organism</th>\n",
       "      <th>assay_tax_id</th>\n",
       "      <th>pchembl_value</th>\n",
       "      <th>assay_type</th>\n",
       "      <th>doi</th>\n",
       "      <th>doc_type</th>\n",
       "      <th>patent_id</th>\n",
       "    </tr>\n",
       "  </thead>\n",
       "  <tbody>\n",
       "    <tr>\n",
       "      <th>0</th>\n",
       "      <td>NaN</td>\n",
       "      <td>CHEMBL268556</td>\n",
       "      <td>QFSGJJCWIIUQCT-UUHCYPSGSA-P</td>\n",
       "      <td>c1cc2cc(c1)-c1cccc(c1)C[n+]1ccc(c3ccccc31)NCCC...</td>\n",
       "      <td>InChI=1S/C42H44N4/c1-2-4-6-12-26-44-40-24-28-4...</td>\n",
       "      <td>CHEMBL805641</td>\n",
       "      <td>Rattus norvegicus</td>\n",
       "      <td>10116</td>\n",
       "      <td>6.96</td>\n",
       "      <td>IC50</td>\n",
       "      <td>10.1016/S0960-894X(96)00568-9</td>\n",
       "      <td>PUBLICATION</td>\n",
       "      <td>NaN</td>\n",
       "    </tr>\n",
       "    <tr>\n",
       "      <th>1</th>\n",
       "      <td>BROMOENOL LACTONE</td>\n",
       "      <td>CHEMBL6206</td>\n",
       "      <td>BYUCSFWXCMTYOI-ZRDIBKRKSA-N</td>\n",
       "      <td>O=C1O/C(=C/Br)CCC1c1cccc2ccccc12</td>\n",
       "      <td>InChI=1S/C16H13BrO2/c17-10-12-8-9-15(16(18)19-...</td>\n",
       "      <td>CHEMBL760624</td>\n",
       "      <td>Canis lupus familiaris</td>\n",
       "      <td>9615</td>\n",
       "      <td>6.85</td>\n",
       "      <td>IC50</td>\n",
       "      <td>10.1021/jm00053a012</td>\n",
       "      <td>PUBLICATION</td>\n",
       "      <td>NaN</td>\n",
       "    </tr>\n",
       "    <tr>\n",
       "      <th>2</th>\n",
       "      <td>BROMOENOL LACTONE</td>\n",
       "      <td>CHEMBL6206</td>\n",
       "      <td>BYUCSFWXCMTYOI-ZRDIBKRKSA-N</td>\n",
       "      <td>O=C1O/C(=C/Br)CCC1c1cccc2ccccc12</td>\n",
       "      <td>InChI=1S/C16H13BrO2/c17-10-12-8-9-15(16(18)19-...</td>\n",
       "      <td>CHEMBL938652</td>\n",
       "      <td>Rattus norvegicus</td>\n",
       "      <td>10116</td>\n",
       "      <td>6.10</td>\n",
       "      <td>IC50</td>\n",
       "      <td>10.1021/jm800311k</td>\n",
       "      <td>PUBLICATION</td>\n",
       "      <td>NaN</td>\n",
       "    </tr>\n",
       "  </tbody>\n",
       "</table>\n",
       "</div>"
      ],
      "text/plain": [
       "           pref_name    chembl_idx                    inchi_key  \\\n",
       "0                NaN  CHEMBL268556  QFSGJJCWIIUQCT-UUHCYPSGSA-P   \n",
       "1  BROMOENOL LACTONE    CHEMBL6206  BYUCSFWXCMTYOI-ZRDIBKRKSA-N   \n",
       "2  BROMOENOL LACTONE    CHEMBL6206  BYUCSFWXCMTYOI-ZRDIBKRKSA-N   \n",
       "\n",
       "                                              smiles  \\\n",
       "0  c1cc2cc(c1)-c1cccc(c1)C[n+]1ccc(c3ccccc31)NCCC...   \n",
       "1                   O=C1O/C(=C/Br)CCC1c1cccc2ccccc12   \n",
       "2                   O=C1O/C(=C/Br)CCC1c1cccc2ccccc12   \n",
       "\n",
       "                                               inchi      assay_id  \\\n",
       "0  InChI=1S/C42H44N4/c1-2-4-6-12-26-44-40-24-28-4...  CHEMBL805641   \n",
       "1  InChI=1S/C16H13BrO2/c17-10-12-8-9-15(16(18)19-...  CHEMBL760624   \n",
       "2  InChI=1S/C16H13BrO2/c17-10-12-8-9-15(16(18)19-...  CHEMBL938652   \n",
       "\n",
       "           assay_organism  assay_tax_id  pchembl_value assay_type  \\\n",
       "0       Rattus norvegicus         10116           6.96       IC50   \n",
       "1  Canis lupus familiaris          9615           6.85       IC50   \n",
       "2       Rattus norvegicus         10116           6.10       IC50   \n",
       "\n",
       "                             doi     doc_type patent_id  \n",
       "0  10.1016/S0960-894X(96)00568-9  PUBLICATION       NaN  \n",
       "1            10.1021/jm00053a012  PUBLICATION       NaN  \n",
       "2              10.1021/jm800311k  PUBLICATION       NaN  "
      ]
     },
     "execution_count": 3,
     "metadata": {},
     "output_type": "execute_result"
    }
   ],
   "source": [
    "chembl_df = pd.read_csv(\n",
    "    f\"{DATA_DIR}/raw/bioassay_chembl_33.tsv\",\n",
    "    sep=\"\\t\",\n",
    "    low_memory=False,\n",
    ")\n",
    "chembl_df.head(3)"
   ]
  },
  {
   "cell_type": "code",
   "execution_count": 4,
   "metadata": {},
   "outputs": [
    {
     "data": {
      "text/plain": [
       "1483"
      ]
     },
     "execution_count": 4,
     "metadata": {},
     "output_type": "execute_result"
    }
   ],
   "source": [
    "chembl_df[\"assay_organism\"].nunique()"
   ]
  },
  {
   "cell_type": "code",
   "execution_count": 5,
   "metadata": {},
   "outputs": [
    {
     "data": {
      "text/plain": [
       "382"
      ]
     },
     "execution_count": 5,
     "metadata": {},
     "output_type": "execute_result"
    }
   ],
   "source": [
    "bacterial_species = json.load(open(f\"{DATA_DIR}/mapping/bact_mapper.json\"))\n",
    "len(bacterial_species)"
   ]
  },
  {
   "cell_type": "code",
   "execution_count": 6,
   "metadata": {},
   "outputs": [],
   "source": [
    "m1 = chembl_df[\"assay_organism\"].isin(bacterial_species)\n",
    "m2 = chembl_df[\"assay_type\"].isin([\"IC50\", \"Ki\"])\n",
    "bact_chembl_df = chembl_df[m1 & m2]"
   ]
  },
  {
   "cell_type": "code",
   "execution_count": 7,
   "metadata": {},
   "outputs": [
    {
     "data": {
      "text/plain": [
       "(44543, 13)"
      ]
     },
     "execution_count": 7,
     "metadata": {},
     "output_type": "execute_result"
    }
   ],
   "source": [
    "bact_chembl_df.shape"
   ]
  },
  {
   "cell_type": "code",
   "execution_count": 8,
   "metadata": {},
   "outputs": [],
   "source": [
    "bact_chembl_df[\"strain_type\"] = bact_chembl_df[\"assay_organism\"].map(bacterial_species)"
   ]
  },
  {
   "cell_type": "code",
   "execution_count": 9,
   "metadata": {},
   "outputs": [
    {
     "data": {
      "text/html": [
       "<div>\n",
       "<style scoped>\n",
       "    .dataframe tbody tr th:only-of-type {\n",
       "        vertical-align: middle;\n",
       "    }\n",
       "\n",
       "    .dataframe tbody tr th {\n",
       "        vertical-align: top;\n",
       "    }\n",
       "\n",
       "    .dataframe thead th {\n",
       "        text-align: right;\n",
       "    }\n",
       "</style>\n",
       "<table border=\"1\" class=\"dataframe\">\n",
       "  <thead>\n",
       "    <tr style=\"text-align: right;\">\n",
       "      <th></th>\n",
       "      <th>pref_name</th>\n",
       "      <th>chembl_idx</th>\n",
       "      <th>inchi_key</th>\n",
       "      <th>smiles</th>\n",
       "      <th>inchi</th>\n",
       "      <th>assay_id</th>\n",
       "      <th>assay_organism</th>\n",
       "      <th>assay_tax_id</th>\n",
       "      <th>pchembl_value</th>\n",
       "      <th>assay_type</th>\n",
       "      <th>doi</th>\n",
       "      <th>doc_type</th>\n",
       "      <th>patent_id</th>\n",
       "      <th>strain_type</th>\n",
       "    </tr>\n",
       "  </thead>\n",
       "  <tbody>\n",
       "    <tr>\n",
       "      <th>711</th>\n",
       "      <td>OFLOXACIN</td>\n",
       "      <td>CHEMBL4</td>\n",
       "      <td>GSDSWSVVBLHKDQ-UHFFFAOYSA-N</td>\n",
       "      <td>CC1COc2c(N3CCN(C)CC3)c(F)cc3c(=O)c(C(=O)O)cn1c23</td>\n",
       "      <td>InChI=1S/C18H20FN3O4/c1-10-9-26-17-14-11(16(23...</td>\n",
       "      <td>CHEMBL1280244</td>\n",
       "      <td>Mycobacterium tuberculosis</td>\n",
       "      <td>1773</td>\n",
       "      <td>4.55</td>\n",
       "      <td>IC50</td>\n",
       "      <td>10.1128/aac.01380-07</td>\n",
       "      <td>PUBLICATION</td>\n",
       "      <td>NaN</td>\n",
       "      <td>acid-fast</td>\n",
       "    </tr>\n",
       "    <tr>\n",
       "      <th>712</th>\n",
       "      <td>OFLOXACIN</td>\n",
       "      <td>CHEMBL4</td>\n",
       "      <td>GSDSWSVVBLHKDQ-UHFFFAOYSA-N</td>\n",
       "      <td>CC1COc2c(N3CCN(C)CC3)c(F)cc3c(=O)c(C(=O)O)cn1c23</td>\n",
       "      <td>InChI=1S/C18H20FN3O4/c1-10-9-26-17-14-11(16(23...</td>\n",
       "      <td>CHEMBL1280245</td>\n",
       "      <td>Mycobacterium tuberculosis</td>\n",
       "      <td>1773</td>\n",
       "      <td>5.16</td>\n",
       "      <td>IC50</td>\n",
       "      <td>10.1128/aac.01380-07</td>\n",
       "      <td>PUBLICATION</td>\n",
       "      <td>NaN</td>\n",
       "      <td>acid-fast</td>\n",
       "    </tr>\n",
       "    <tr>\n",
       "      <th>713</th>\n",
       "      <td>OFLOXACIN</td>\n",
       "      <td>CHEMBL4</td>\n",
       "      <td>GSDSWSVVBLHKDQ-UHFFFAOYSA-N</td>\n",
       "      <td>CC1COc2c(N3CCN(C)CC3)c(F)cc3c(=O)c(C(=O)O)cn1c23</td>\n",
       "      <td>InChI=1S/C18H20FN3O4/c1-10-9-26-17-14-11(16(23...</td>\n",
       "      <td>CHEMBL1280246</td>\n",
       "      <td>Mycobacterium tuberculosis</td>\n",
       "      <td>1773</td>\n",
       "      <td>5.10</td>\n",
       "      <td>IC50</td>\n",
       "      <td>10.1128/aac.01380-07</td>\n",
       "      <td>PUBLICATION</td>\n",
       "      <td>NaN</td>\n",
       "      <td>acid-fast</td>\n",
       "    </tr>\n",
       "  </tbody>\n",
       "</table>\n",
       "</div>"
      ],
      "text/plain": [
       "     pref_name chembl_idx                    inchi_key  \\\n",
       "711  OFLOXACIN    CHEMBL4  GSDSWSVVBLHKDQ-UHFFFAOYSA-N   \n",
       "712  OFLOXACIN    CHEMBL4  GSDSWSVVBLHKDQ-UHFFFAOYSA-N   \n",
       "713  OFLOXACIN    CHEMBL4  GSDSWSVVBLHKDQ-UHFFFAOYSA-N   \n",
       "\n",
       "                                               smiles  \\\n",
       "711  CC1COc2c(N3CCN(C)CC3)c(F)cc3c(=O)c(C(=O)O)cn1c23   \n",
       "712  CC1COc2c(N3CCN(C)CC3)c(F)cc3c(=O)c(C(=O)O)cn1c23   \n",
       "713  CC1COc2c(N3CCN(C)CC3)c(F)cc3c(=O)c(C(=O)O)cn1c23   \n",
       "\n",
       "                                                 inchi       assay_id  \\\n",
       "711  InChI=1S/C18H20FN3O4/c1-10-9-26-17-14-11(16(23...  CHEMBL1280244   \n",
       "712  InChI=1S/C18H20FN3O4/c1-10-9-26-17-14-11(16(23...  CHEMBL1280245   \n",
       "713  InChI=1S/C18H20FN3O4/c1-10-9-26-17-14-11(16(23...  CHEMBL1280246   \n",
       "\n",
       "                 assay_organism  assay_tax_id  pchembl_value assay_type  \\\n",
       "711  Mycobacterium tuberculosis          1773           4.55       IC50   \n",
       "712  Mycobacterium tuberculosis          1773           5.16       IC50   \n",
       "713  Mycobacterium tuberculosis          1773           5.10       IC50   \n",
       "\n",
       "                      doi     doc_type patent_id strain_type  \n",
       "711  10.1128/aac.01380-07  PUBLICATION       NaN   acid-fast  \n",
       "712  10.1128/aac.01380-07  PUBLICATION       NaN   acid-fast  \n",
       "713  10.1128/aac.01380-07  PUBLICATION       NaN   acid-fast  "
      ]
     },
     "execution_count": 9,
     "metadata": {},
     "output_type": "execute_result"
    }
   ],
   "source": [
    "bact_chembl_df.head(3)"
   ]
  },
  {
   "cell_type": "code",
   "execution_count": 10,
   "metadata": {},
   "outputs": [],
   "source": [
    "bact_chembl_df.to_csv(\n",
    "    f\"{DATA_DIR}/processed/bacterial_chembl_33.tsv\", sep=\"\\t\", index=False\n",
    ")"
   ]
  },
  {
   "cell_type": "code",
   "execution_count": 11,
   "metadata": {},
   "outputs": [
    {
     "data": {
      "text/plain": [
       "strain_type\n",
       "gram-negative    22415\n",
       "gram-positive    12526\n",
       "acid-fast         9602\n",
       "Name: count, dtype: int64"
      ]
     },
     "execution_count": 11,
     "metadata": {},
     "output_type": "execute_result"
    }
   ],
   "source": [
    "bact_chembl_df[\"strain_type\"].value_counts()"
   ]
  },
  {
   "cell_type": "code",
   "execution_count": 12,
   "metadata": {},
   "outputs": [
    {
     "data": {
      "text/plain": [
       "295"
      ]
     },
     "execution_count": 12,
     "metadata": {},
     "output_type": "execute_result"
    }
   ],
   "source": [
    "bact_chembl_df[\"assay_organism\"].nunique()"
   ]
  }
 ],
 "metadata": {
  "kernelspec": {
   "display_name": "broad-spec-amr",
   "language": "python",
   "name": "broad-spec-amr"
  },
  "language_info": {
   "codemirror_mode": {
    "name": "ipython",
    "version": 3
   },
   "file_extension": ".py",
   "mimetype": "text/x-python",
   "name": "python",
   "nbconvert_exporter": "python",
   "pygments_lexer": "ipython3",
   "version": "3.9.18"
  }
 },
 "nbformat": 4,
 "nbformat_minor": 2
}
