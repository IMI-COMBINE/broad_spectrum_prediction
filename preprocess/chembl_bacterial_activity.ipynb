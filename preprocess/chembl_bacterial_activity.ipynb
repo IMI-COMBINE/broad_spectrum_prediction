{
 "cells": [
  {
   "cell_type": "code",
   "execution_count": 1,
   "metadata": {},
   "outputs": [],
   "source": [
    "import math\n",
    "import json\n",
    "import pandas as pd\n",
    "from tqdm import tqdm\n",
    "import sqlite3\n",
    "import matplotlib.pyplot as plt\n",
    "from utils import draw_venn"
   ]
  },
  {
   "cell_type": "code",
   "execution_count": 2,
   "metadata": {},
   "outputs": [],
   "source": [
    "pd.options.mode.chained_assignment = None\n",
    "DATA_DIR = \"../data\""
   ]
  },
  {
   "cell_type": "markdown",
   "metadata": {},
   "source": [
    "# Connecting to ChEMBL database"
   ]
  },
  {
   "cell_type": "code",
   "execution_count": 3,
   "metadata": {},
   "outputs": [],
   "source": [
    "conn = sqlite3.connect(f\"{DATA_DIR}/chembl_34/chembl_34.db\")"
   ]
  },
  {
   "cell_type": "code",
   "execution_count": 4,
   "metadata": {},
   "outputs": [],
   "source": [
    "cursor = conn.execute(\"SELECT name from sqlite_master WHERE type='table';\")"
   ]
  },
  {
   "cell_type": "code",
   "execution_count": 5,
   "metadata": {},
   "outputs": [],
   "source": [
    "try:\n",
    "    assert len(cursor.fetchall()) > 1\n",
    "except AssertionError:\n",
    "    print(\n",
    "        \"Corrupted database. Please download the database dump again from \\\n",
    "    - https://ftp.ebi.ac.uk/pub/databases/chembl/ChEMBLdb/latest/\"\n",
    "    )"
   ]
  },
  {
   "cell_type": "markdown",
   "metadata": {},
   "source": [
    "# Get all bioactivity data"
   ]
  },
  {
   "cell_type": "code",
   "execution_count": 6,
   "metadata": {},
   "outputs": [],
   "source": [
    "sql = \"\"\"\n",
    "SELECT\n",
    "    MOLECULE_DICTIONARY.pref_name,\n",
    "    MOLECULE_DICTIONARY.molregno as chembl_id,\n",
    "    COMPOUND_STRUCTURES.canonical_smiles,\n",
    "    COMPOUND_STRUCTURES.standard_inchi,\n",
    "    COMPOUND_STRUCTURES.standard_inchi_key,\n",
    "    ACTIVITIES.standard_relation,\n",
    "    ACTIVITIES.standard_type,\n",
    "    ACTIVITIES.standard_value,\n",
    "    ACTIVITIES.standard_units,\n",
    "    ASSAYS.assay_organism as ORGANISM,\n",
    "    ASSAYS.assay_strain as STRAIN,\n",
    "    ASSAYS.assay_tax_id,\n",
    "    ASSAYS.chembl_id as assay_id\n",
    "FROM MOLECULE_DICTIONARY\n",
    "JOIN ACTIVITIES ON MOLECULE_DICTIONARY.molregno == ACTIVITIES.molregno\n",
    "JOIN ASSAYS ON ACTIVITIES.assay_id == ASSAYS.assay_id\n",
    "JOIN COMPOUND_STRUCTURES on COMPOUND_STRUCTURES.molregno == MOLECULE_DICTIONARY.molregno\n",
    "WHERE\n",
    "    ACTIVITIES.standard_value is not null\n",
    "    and ASSAYS.assay_organism is not null\n",
    "    and ACTIVITIES.standard_type in (\"MIC\", \"MIC50\")\n",
    "\"\"\""
   ]
  },
  {
   "cell_type": "code",
   "execution_count": 7,
   "metadata": {},
   "outputs": [],
   "source": [
    "bioactivity_data = pd.read_sql(sql=sql, con=conn)"
   ]
  },
  {
   "cell_type": "code",
   "execution_count": 8,
   "metadata": {},
   "outputs": [
    {
     "data": {
      "text/html": [
       "<div>\n",
       "<style scoped>\n",
       "    .dataframe tbody tr th:only-of-type {\n",
       "        vertical-align: middle;\n",
       "    }\n",
       "\n",
       "    .dataframe tbody tr th {\n",
       "        vertical-align: top;\n",
       "    }\n",
       "\n",
       "    .dataframe thead th {\n",
       "        text-align: right;\n",
       "    }\n",
       "</style>\n",
       "<table border=\"1\" class=\"dataframe\">\n",
       "  <thead>\n",
       "    <tr style=\"text-align: right;\">\n",
       "      <th></th>\n",
       "      <th>pref_name</th>\n",
       "      <th>chembl_id</th>\n",
       "      <th>canonical_smiles</th>\n",
       "      <th>standard_inchi</th>\n",
       "      <th>standard_inchi_key</th>\n",
       "      <th>standard_relation</th>\n",
       "      <th>standard_type</th>\n",
       "      <th>standard_value</th>\n",
       "      <th>standard_units</th>\n",
       "      <th>ORGANISM</th>\n",
       "      <th>STRAIN</th>\n",
       "      <th>assay_tax_id</th>\n",
       "      <th>assay_id</th>\n",
       "    </tr>\n",
       "  </thead>\n",
       "  <tbody>\n",
       "    <tr>\n",
       "      <th>0</th>\n",
       "      <td>KANAMYCIN SULFATE</td>\n",
       "      <td>378124</td>\n",
       "      <td>NC[C@H]1O[C@H](O[C@H]2[C@H](O)[C@@H](O[C@H]3O[...</td>\n",
       "      <td>InChI=1S/C18H36N4O11.H2O4S/c19-2-6-10(25)12(27...</td>\n",
       "      <td>OOYGSFOGFJDDHP-KMCOLRRFSA-N</td>\n",
       "      <td>=</td>\n",
       "      <td>MIC</td>\n",
       "      <td>7.8</td>\n",
       "      <td>ug.mL-1</td>\n",
       "      <td>Staphylococcus aureus</td>\n",
       "      <td>None</td>\n",
       "      <td>1280.0</td>\n",
       "      <td>CHEMBL811149</td>\n",
       "    </tr>\n",
       "    <tr>\n",
       "      <th>1</th>\n",
       "      <td>KANAMYCIN SULFATE</td>\n",
       "      <td>378124</td>\n",
       "      <td>NC[C@H]1O[C@H](O[C@H]2[C@H](O)[C@@H](O[C@H]3O[...</td>\n",
       "      <td>InChI=1S/C18H36N4O11.H2O4S/c19-2-6-10(25)12(27...</td>\n",
       "      <td>OOYGSFOGFJDDHP-KMCOLRRFSA-N</td>\n",
       "      <td>=</td>\n",
       "      <td>MIC</td>\n",
       "      <td>15.6</td>\n",
       "      <td>ug.mL-1</td>\n",
       "      <td>Streptococcus pyogenes</td>\n",
       "      <td>None</td>\n",
       "      <td>1314.0</td>\n",
       "      <td>CHEMBL814983</td>\n",
       "    </tr>\n",
       "  </tbody>\n",
       "</table>\n",
       "</div>"
      ],
      "text/plain": [
       "           pref_name  chembl_id  \\\n",
       "0  KANAMYCIN SULFATE     378124   \n",
       "1  KANAMYCIN SULFATE     378124   \n",
       "\n",
       "                                    canonical_smiles  \\\n",
       "0  NC[C@H]1O[C@H](O[C@H]2[C@H](O)[C@@H](O[C@H]3O[...   \n",
       "1  NC[C@H]1O[C@H](O[C@H]2[C@H](O)[C@@H](O[C@H]3O[...   \n",
       "\n",
       "                                      standard_inchi  \\\n",
       "0  InChI=1S/C18H36N4O11.H2O4S/c19-2-6-10(25)12(27...   \n",
       "1  InChI=1S/C18H36N4O11.H2O4S/c19-2-6-10(25)12(27...   \n",
       "\n",
       "            standard_inchi_key standard_relation standard_type  \\\n",
       "0  OOYGSFOGFJDDHP-KMCOLRRFSA-N                 =           MIC   \n",
       "1  OOYGSFOGFJDDHP-KMCOLRRFSA-N                 =           MIC   \n",
       "\n",
       "   standard_value standard_units                ORGANISM STRAIN  assay_tax_id  \\\n",
       "0             7.8        ug.mL-1   Staphylococcus aureus   None        1280.0   \n",
       "1            15.6        ug.mL-1  Streptococcus pyogenes   None        1314.0   \n",
       "\n",
       "       assay_id  \n",
       "0  CHEMBL811149  \n",
       "1  CHEMBL814983  "
      ]
     },
     "execution_count": 8,
     "metadata": {},
     "output_type": "execute_result"
    }
   ],
   "source": [
    "bioactivity_data.head(2)"
   ]
  },
  {
   "cell_type": "markdown",
   "metadata": {},
   "source": [
    "# Map bacterial classes to data"
   ]
  },
  {
   "cell_type": "code",
   "execution_count": 9,
   "metadata": {},
   "outputs": [
    {
     "data": {
      "text/plain": [
       "2052"
      ]
     },
     "execution_count": 9,
     "metadata": {},
     "output_type": "execute_result"
    }
   ],
   "source": [
    "bac_dic = json.load(open(f\"{DATA_DIR}/mapping/bact_mapper.json\"))\n",
    "len(bac_dic)"
   ]
  },
  {
   "cell_type": "code",
   "execution_count": 10,
   "metadata": {},
   "outputs": [],
   "source": [
    "bioactivity_data[\"bact_class\"] = bioactivity_data[\"ORGANISM\"].map(bac_dic)"
   ]
  },
  {
   "cell_type": "code",
   "execution_count": 11,
   "metadata": {},
   "outputs": [],
   "source": [
    "m = bioactivity_data[\"bact_class\"].isna()\n",
    "bioactivity_data = bioactivity_data[~m]"
   ]
  },
  {
   "cell_type": "code",
   "execution_count": 12,
   "metadata": {},
   "outputs": [
    {
     "data": {
      "text/plain": [
       "(448248, 14)"
      ]
     },
     "execution_count": 12,
     "metadata": {},
     "output_type": "execute_result"
    }
   ],
   "source": [
    "m1 = bioactivity_data[\"standard_units\"].isin([\"ug.mL-1\"])\n",
    "m2 = bioactivity_data[\"standard_relation\"] == \"=\"\n",
    "subset_bioactivity_data = bioactivity_data[m1 & m2]\n",
    "subset_bioactivity_data.shape"
   ]
  },
  {
   "cell_type": "markdown",
   "metadata": {},
   "source": [
    "# Normalizing to pChEMBL values"
   ]
  },
  {
   "cell_type": "code",
   "execution_count": 13,
   "metadata": {},
   "outputs": [],
   "source": [
    "subset_bioactivity_data[\"standard_units\"] = subset_bioactivity_data[\n",
    "    \"standard_units\"\n",
    "].replace(\"ug.mL-1\", \"uM\")"
   ]
  },
  {
   "cell_type": "code",
   "execution_count": 14,
   "metadata": {},
   "outputs": [],
   "source": [
    "def calculate_pmic(row):\n",
    "    if row[\"standard_value\"] == 0.0:\n",
    "        return 0\n",
    "    elif str(row[\"standard_value\"]).startswith(\"-\"):  # certain neagtive values found\n",
    "        return 0\n",
    "    elif row[\"standard_value\"] < 0.0:\n",
    "        return 0\n",
    "    elif row[\"standard_units\"] == \"nM\" and pd.notna(row[\"standard_value\"]):\n",
    "        return round(9 - math.log10(float(row[\"standard_value\"])))\n",
    "    elif row[\"standard_units\"] == \"uM\" and pd.notna(row[\"standard_value\"]):\n",
    "        return round(6 - math.log10(float(row[\"standard_value\"])))\n",
    "    elif row[\"standard_units\"] == \"mM\" and pd.notna(row[\"standard_value\"]):\n",
    "        return round(3 - math.log10(float(row[\"standard_value\"])))\n",
    "    else:\n",
    "        return 0\n",
    "\n",
    "\n",
    "subset_bioactivity_data[\"pmic\"] = subset_bioactivity_data.apply(calculate_pmic, axis=1)"
   ]
  },
  {
   "cell_type": "code",
   "execution_count": 15,
   "metadata": {},
   "outputs": [],
   "source": [
    "# pMIC values greater thann 0\n",
    "m = subset_bioactivity_data[\"pmic\"] > 0\n",
    "subset_bioactivity_data = subset_bioactivity_data[m]"
   ]
  },
  {
   "cell_type": "code",
   "execution_count": 16,
   "metadata": {},
   "outputs": [
    {
     "data": {
      "text/plain": [
       "<AxesSubplot: ylabel='Frequency'>"
      ]
     },
     "execution_count": 16,
     "metadata": {},
     "output_type": "execute_result"
    },
    {
     "data": {
      "image/png": "[encoded data removed]",
      "text/plain": [
       "<Figure size 640x480 with 1 Axes>"
      ]
     },
     "metadata": {},
     "output_type": "display_data"
    }
   ],
   "source": [
    "subset_bioactivity_data[\"pmic\"].plot(kind=\"hist\")"
   ]
  },
  {
   "cell_type": "code",
   "execution_count": 17,
   "metadata": {},
   "outputs": [
    {
     "data": {
      "text/html": [
       "<div>\n",
       "<style scoped>\n",
       "    .dataframe tbody tr th:only-of-type {\n",
       "        vertical-align: middle;\n",
       "    }\n",
       "\n",
       "    .dataframe tbody tr th {\n",
       "        vertical-align: top;\n",
       "    }\n",
       "\n",
       "    .dataframe thead th {\n",
       "        text-align: right;\n",
       "    }\n",
       "</style>\n",
       "<table border=\"1\" class=\"dataframe\">\n",
       "  <thead>\n",
       "    <tr style=\"text-align: right;\">\n",
       "      <th></th>\n",
       "      <th>pref_name</th>\n",
       "      <th>chembl_id</th>\n",
       "      <th>canonical_smiles</th>\n",
       "      <th>standard_inchi</th>\n",
       "      <th>standard_inchi_key</th>\n",
       "      <th>standard_relation</th>\n",
       "      <th>standard_type</th>\n",
       "      <th>standard_value</th>\n",
       "      <th>standard_units</th>\n",
       "      <th>ORGANISM</th>\n",
       "      <th>STRAIN</th>\n",
       "      <th>assay_tax_id</th>\n",
       "      <th>assay_id</th>\n",
       "      <th>bact_class</th>\n",
       "      <th>pmic</th>\n",
       "    </tr>\n",
       "  </thead>\n",
       "  <tbody>\n",
       "    <tr>\n",
       "      <th>0</th>\n",
       "      <td>KANAMYCIN SULFATE</td>\n",
       "      <td>378124</td>\n",
       "      <td>NC[C@H]1O[C@H](O[C@H]2[C@H](O)[C@@H](O[C@H]3O[...</td>\n",
       "      <td>InChI=1S/C18H36N4O11.H2O4S/c19-2-6-10(25)12(27...</td>\n",
       "      <td>OOYGSFOGFJDDHP-KMCOLRRFSA-N</td>\n",
       "      <td>=</td>\n",
       "      <td>MIC</td>\n",
       "      <td>7.8</td>\n",
       "      <td>uM</td>\n",
       "      <td>Staphylococcus aureus</td>\n",
       "      <td>None</td>\n",
       "      <td>1280.0</td>\n",
       "      <td>CHEMBL811149</td>\n",
       "      <td>gram-positive</td>\n",
       "      <td>5</td>\n",
       "    </tr>\n",
       "    <tr>\n",
       "      <th>1</th>\n",
       "      <td>KANAMYCIN SULFATE</td>\n",
       "      <td>378124</td>\n",
       "      <td>NC[C@H]1O[C@H](O[C@H]2[C@H](O)[C@@H](O[C@H]3O[...</td>\n",
       "      <td>InChI=1S/C18H36N4O11.H2O4S/c19-2-6-10(25)12(27...</td>\n",
       "      <td>OOYGSFOGFJDDHP-KMCOLRRFSA-N</td>\n",
       "      <td>=</td>\n",
       "      <td>MIC</td>\n",
       "      <td>15.6</td>\n",
       "      <td>uM</td>\n",
       "      <td>Streptococcus pyogenes</td>\n",
       "      <td>None</td>\n",
       "      <td>1314.0</td>\n",
       "      <td>CHEMBL814983</td>\n",
       "      <td>gram-positive</td>\n",
       "      <td>5</td>\n",
       "    </tr>\n",
       "    <tr>\n",
       "      <th>2</th>\n",
       "      <td>KANAMYCIN SULFATE</td>\n",
       "      <td>378124</td>\n",
       "      <td>NC[C@H]1O[C@H](O[C@H]2[C@H](O)[C@@H](O[C@H]3O[...</td>\n",
       "      <td>InChI=1S/C18H36N4O11.H2O4S/c19-2-6-10(25)12(27...</td>\n",
       "      <td>OOYGSFOGFJDDHP-KMCOLRRFSA-N</td>\n",
       "      <td>=</td>\n",
       "      <td>MIC</td>\n",
       "      <td>250.0</td>\n",
       "      <td>uM</td>\n",
       "      <td>Enterococcus faecalis</td>\n",
       "      <td>None</td>\n",
       "      <td>1351.0</td>\n",
       "      <td>CHEMBL810032</td>\n",
       "      <td>gram-positive</td>\n",
       "      <td>4</td>\n",
       "    </tr>\n",
       "    <tr>\n",
       "      <th>3</th>\n",
       "      <td>KANAMYCIN SULFATE</td>\n",
       "      <td>378124</td>\n",
       "      <td>NC[C@H]1O[C@H](O[C@H]2[C@H](O)[C@@H](O[C@H]3O[...</td>\n",
       "      <td>InChI=1S/C18H36N4O11.H2O4S/c19-2-6-10(25)12(27...</td>\n",
       "      <td>OOYGSFOGFJDDHP-KMCOLRRFSA-N</td>\n",
       "      <td>=</td>\n",
       "      <td>MIC</td>\n",
       "      <td>125.0</td>\n",
       "      <td>uM</td>\n",
       "      <td>Streptococcus pneumoniae</td>\n",
       "      <td>None</td>\n",
       "      <td>1313.0</td>\n",
       "      <td>CHEMBL810961</td>\n",
       "      <td>gram-positive</td>\n",
       "      <td>4</td>\n",
       "    </tr>\n",
       "    <tr>\n",
       "      <th>4</th>\n",
       "      <td>KANAMYCIN SULFATE</td>\n",
       "      <td>378124</td>\n",
       "      <td>NC[C@H]1O[C@H](O[C@H]2[C@H](O)[C@@H](O[C@H]3O[...</td>\n",
       "      <td>InChI=1S/C18H36N4O11.H2O4S/c19-2-6-10(25)12(27...</td>\n",
       "      <td>OOYGSFOGFJDDHP-KMCOLRRFSA-N</td>\n",
       "      <td>=</td>\n",
       "      <td>MIC</td>\n",
       "      <td>3.9</td>\n",
       "      <td>uM</td>\n",
       "      <td>Escherichia coli</td>\n",
       "      <td>None</td>\n",
       "      <td>562.0</td>\n",
       "      <td>CHEMBL676856</td>\n",
       "      <td>gram-negative</td>\n",
       "      <td>5</td>\n",
       "    </tr>\n",
       "  </tbody>\n",
       "</table>\n",
       "</div>"
      ],
      "text/plain": [
       "           pref_name  chembl_id  \\\n",
       "0  KANAMYCIN SULFATE     378124   \n",
       "1  KANAMYCIN SULFATE     378124   \n",
       "2  KANAMYCIN SULFATE     378124   \n",
       "3  KANAMYCIN SULFATE     378124   \n",
       "4  KANAMYCIN SULFATE     378124   \n",
       "\n",
       "                                    canonical_smiles  \\\n",
       "0  NC[C@H]1O[C@H](O[C@H]2[C@H](O)[C@@H](O[C@H]3O[...   \n",
       "1  NC[C@H]1O[C@H](O[C@H]2[C@H](O)[C@@H](O[C@H]3O[...   \n",
       "2  NC[C@H]1O[C@H](O[C@H]2[C@H](O)[C@@H](O[C@H]3O[...   \n",
       "3  NC[C@H]1O[C@H](O[C@H]2[C@H](O)[C@@H](O[C@H]3O[...   \n",
       "4  NC[C@H]1O[C@H](O[C@H]2[C@H](O)[C@@H](O[C@H]3O[...   \n",
       "\n",
       "                                      standard_inchi  \\\n",
       "0  InChI=1S/C18H36N4O11.H2O4S/c19-2-6-10(25)12(27...   \n",
       "1  InChI=1S/C18H36N4O11.H2O4S/c19-2-6-10(25)12(27...   \n",
       "2  InChI=1S/C18H36N4O11.H2O4S/c19-2-6-10(25)12(27...   \n",
       "3  InChI=1S/C18H36N4O11.H2O4S/c19-2-6-10(25)12(27...   \n",
       "4  InChI=1S/C18H36N4O11.H2O4S/c19-2-6-10(25)12(27...   \n",
       "\n",
       "            standard_inchi_key standard_relation standard_type  \\\n",
       "0  OOYGSFOGFJDDHP-KMCOLRRFSA-N                 =           MIC   \n",
       "1  OOYGSFOGFJDDHP-KMCOLRRFSA-N                 =           MIC   \n",
       "2  OOYGSFOGFJDDHP-KMCOLRRFSA-N                 =           MIC   \n",
       "3  OOYGSFOGFJDDHP-KMCOLRRFSA-N                 =           MIC   \n",
       "4  OOYGSFOGFJDDHP-KMCOLRRFSA-N                 =           MIC   \n",
       "\n",
       "   standard_value standard_units                  ORGANISM STRAIN  \\\n",
       "0             7.8             uM     Staphylococcus aureus   None   \n",
       "1            15.6             uM    Streptococcus pyogenes   None   \n",
       "2           250.0             uM     Enterococcus faecalis   None   \n",
       "3           125.0             uM  Streptococcus pneumoniae   None   \n",
       "4             3.9             uM          Escherichia coli   None   \n",
       "\n",
       "   assay_tax_id      assay_id     bact_class  pmic  \n",
       "0        1280.0  CHEMBL811149  gram-positive     5  \n",
       "1        1314.0  CHEMBL814983  gram-positive     5  \n",
       "2        1351.0  CHEMBL810032  gram-positive     4  \n",
       "3        1313.0  CHEMBL810961  gram-positive     4  \n",
       "4         562.0  CHEMBL676856  gram-negative     5  "
      ]
     },
     "execution_count": 17,
     "metadata": {},
     "output_type": "execute_result"
    }
   ],
   "source": [
    "subset_bioactivity_data.head()"
   ]
  },
  {
   "cell_type": "code",
   "execution_count": 18,
   "metadata": {},
   "outputs": [
    {
     "data": {
      "text/plain": [
       "(66575, 63486, 1317)"
      ]
     },
     "execution_count": 18,
     "metadata": {},
     "output_type": "execute_result"
    }
   ],
   "source": [
    "subset_bioactivity_data[\"chembl_id\"].nunique(), subset_bioactivity_data[\n",
    "    \"assay_id\"\n",
    "].nunique(), subset_bioactivity_data[\"ORGANISM\"].nunique()"
   ]
  },
  {
   "cell_type": "code",
   "execution_count": 19,
   "metadata": {},
   "outputs": [
    {
     "data": {
      "text/plain": [
       "gram-positive    197721\n",
       "gram-negative    155646\n",
       "fungi             71465\n",
       "acid-fast         23055\n",
       "Name: bact_class, dtype: int64"
      ]
     },
     "execution_count": 19,
     "metadata": {},
     "output_type": "execute_result"
    }
   ],
   "source": [
    "subset_bioactivity_data[\"bact_class\"].value_counts()"
   ]
  },
  {
   "cell_type": "markdown",
   "metadata": {},
   "source": [
    "# Check compound overlap"
   ]
  },
  {
   "cell_type": "code",
   "execution_count": 20,
   "metadata": {},
   "outputs": [
    {
     "name": "stderr",
     "output_type": "stream",
     "text": [
      "100%|██████████| 447887/447887 [00:00<00:00, 2593365.38it/s]\n"
     ]
    }
   ],
   "source": [
    "compound_dict = {}\n",
    "\n",
    "for inchikey, class_name in tqdm(\n",
    "    zip(\n",
    "        subset_bioactivity_data[\"standard_inchi_key\"],\n",
    "        subset_bioactivity_data[\"bact_class\"],\n",
    "    ),\n",
    "    total=len(subset_bioactivity_data),\n",
    "):\n",
    "    if class_name not in compound_dict:\n",
    "        compound_dict[class_name] = set()\n",
    "\n",
    "    compound_dict[class_name].add(inchikey)"
   ]
  },
  {
   "cell_type": "code",
   "execution_count": 21,
   "metadata": {},
   "outputs": [
    {
     "name": "stdout",
     "output_type": "stream",
     "text": [
      "gram-positive 43936\n",
      "gram-negative 33310\n",
      "fungi 17974\n",
      "acid-fast 11488\n",
      "Total compounds: 66575\n"
     ]
    }
   ],
   "source": [
    "total_compounds = set()\n",
    "for i in compound_dict:\n",
    "    print(i, len(compound_dict[i]))\n",
    "    total_compounds.update(compound_dict[i])\n",
    "\n",
    "print(f\"Total compounds: {len(total_compounds)}\")"
   ]
  },
  {
   "cell_type": "code",
   "execution_count": 22,
   "metadata": {},
   "outputs": [
    {
     "data": {
      "image/png": "[encoded data removed]",
      "text/plain": [
       "<Figure size 700x700 with 1 Axes>"
      ]
     },
     "metadata": {},
     "output_type": "display_data"
    }
   ],
   "source": [
    "draw_venn(sets=compound_dict)"
   ]
  },
  {
   "cell_type": "code",
   "execution_count": 23,
   "metadata": {},
   "outputs": [],
   "source": [
    "subset_bioactivity_data.to_csv(\n",
    "    f\"{DATA_DIR}/processed/chembl34_raw_data.tsv\", sep=\"\\t\", index=False\n",
    ")"
   ]
  },
  {
   "cell_type": "markdown",
   "metadata": {},
   "source": [
    "# Finalizing the data"
   ]
  },
  {
   "cell_type": "code",
   "execution_count": 24,
   "metadata": {},
   "outputs": [
    {
     "name": "stderr",
     "output_type": "stream",
     "text": [
      "100%|██████████| 66575/66575 [20:19<00:00, 54.61it/s] \n"
     ]
    }
   ],
   "source": [
    "data = []\n",
    "\n",
    "for inchikey in tqdm(subset_bioactivity_data[\"standard_inchi_key\"].unique()):\n",
    "    tmp = subset_bioactivity_data[\n",
    "        subset_bioactivity_data[\"standard_inchi_key\"] == inchikey\n",
    "    ]\n",
    "\n",
    "    data_dict = {\n",
    "        \"compound_inchikey\": inchikey,\n",
    "        \"compound_smiles\": tmp[\"canonical_smiles\"].values[0],\n",
    "        \"compound_source\": \"chembl_34\",\n",
    "    }\n",
    "\n",
    "    for bact_class_name in [\"gram-positive\", \"gram-negative\", \"fungi\", \"acid-fast\"]:\n",
    "        t = tmp[tmp[\"bact_class\"] == bact_class_name]\n",
    "        if t.shape[0] == 0:\n",
    "            data_dict[bact_class_name] = None\n",
    "        elif t.shape[0] == 1:\n",
    "            data_dict[bact_class_name] = t[\"pmic\"].values[0]\n",
    "        else:\n",
    "            data_dict[bact_class_name] = t[\"pmic\"].median()\n",
    "\n",
    "    data.append(data_dict)"
   ]
  },
  {
   "cell_type": "code",
   "execution_count": 25,
   "metadata": {},
   "outputs": [
    {
     "data": {
      "text/html": [
       "<div>\n",
       "<style scoped>\n",
       "    .dataframe tbody tr th:only-of-type {\n",
       "        vertical-align: middle;\n",
       "    }\n",
       "\n",
       "    .dataframe tbody tr th {\n",
       "        vertical-align: top;\n",
       "    }\n",
       "\n",
       "    .dataframe thead th {\n",
       "        text-align: right;\n",
       "    }\n",
       "</style>\n",
       "<table border=\"1\" class=\"dataframe\">\n",
       "  <thead>\n",
       "    <tr style=\"text-align: right;\">\n",
       "      <th></th>\n",
       "      <th>compound_inchikey</th>\n",
       "      <th>compound_smiles</th>\n",
       "      <th>compound_source</th>\n",
       "      <th>gram-positive</th>\n",
       "      <th>gram-negative</th>\n",
       "      <th>fungi</th>\n",
       "      <th>acid-fast</th>\n",
       "    </tr>\n",
       "  </thead>\n",
       "  <tbody>\n",
       "    <tr>\n",
       "      <th>0</th>\n",
       "      <td>OOYGSFOGFJDDHP-KMCOLRRFSA-N</td>\n",
       "      <td>NC[C@H]1O[C@H](O[C@H]2[C@H](O)[C@@H](O[C@H]3O[...</td>\n",
       "      <td>chembl_34</td>\n",
       "      <td>5.0</td>\n",
       "      <td>5.0</td>\n",
       "      <td>NaN</td>\n",
       "      <td>6.0</td>\n",
       "    </tr>\n",
       "    <tr>\n",
       "      <th>1</th>\n",
       "      <td>XIPHLJFTBFXVBS-UHFFFAOYSA-N</td>\n",
       "      <td>C=C(C(=O)c1ccc(F)cc1)c1ccc(Cl)cc1Cl</td>\n",
       "      <td>chembl_34</td>\n",
       "      <td>NaN</td>\n",
       "      <td>NaN</td>\n",
       "      <td>6.0</td>\n",
       "      <td>NaN</td>\n",
       "    </tr>\n",
       "    <tr>\n",
       "      <th>2</th>\n",
       "      <td>OEFUWWDPRNNMRS-WDPNLORNSA-N</td>\n",
       "      <td>CC[C@H]1OC(=O)[C@H](C)[C@H]2OC3(CCN(C(=O)c4ccc...</td>\n",
       "      <td>chembl_34</td>\n",
       "      <td>6.0</td>\n",
       "      <td>6.5</td>\n",
       "      <td>NaN</td>\n",
       "      <td>NaN</td>\n",
       "    </tr>\n",
       "    <tr>\n",
       "      <th>3</th>\n",
       "      <td>LBRXTHSVIORIGU-OLROFJLRSA-N</td>\n",
       "      <td>CC[C@H]1OC(=O)[C@H](C)[C@H]2OC3(CCN(C(=O)c4cnc...</td>\n",
       "      <td>chembl_34</td>\n",
       "      <td>6.0</td>\n",
       "      <td>6.0</td>\n",
       "      <td>NaN</td>\n",
       "      <td>NaN</td>\n",
       "    </tr>\n",
       "    <tr>\n",
       "      <th>4</th>\n",
       "      <td>PHYLUFIYANLQSE-UHFFFAOYSA-N</td>\n",
       "      <td>CN1Cc2csc3c(C(=O)O)c(=O)c4cc(F)c(N5CCOC(CF)C5)...</td>\n",
       "      <td>chembl_34</td>\n",
       "      <td>7.5</td>\n",
       "      <td>7.0</td>\n",
       "      <td>NaN</td>\n",
       "      <td>NaN</td>\n",
       "    </tr>\n",
       "  </tbody>\n",
       "</table>\n",
       "</div>"
      ],
      "text/plain": [
       "             compound_inchikey  \\\n",
       "0  OOYGSFOGFJDDHP-KMCOLRRFSA-N   \n",
       "1  XIPHLJFTBFXVBS-UHFFFAOYSA-N   \n",
       "2  OEFUWWDPRNNMRS-WDPNLORNSA-N   \n",
       "3  LBRXTHSVIORIGU-OLROFJLRSA-N   \n",
       "4  PHYLUFIYANLQSE-UHFFFAOYSA-N   \n",
       "\n",
       "                                     compound_smiles compound_source  \\\n",
       "0  NC[C@H]1O[C@H](O[C@H]2[C@H](O)[C@@H](O[C@H]3O[...       chembl_34   \n",
       "1                C=C(C(=O)c1ccc(F)cc1)c1ccc(Cl)cc1Cl       chembl_34   \n",
       "2  CC[C@H]1OC(=O)[C@H](C)[C@H]2OC3(CCN(C(=O)c4ccc...       chembl_34   \n",
       "3  CC[C@H]1OC(=O)[C@H](C)[C@H]2OC3(CCN(C(=O)c4cnc...       chembl_34   \n",
       "4  CN1Cc2csc3c(C(=O)O)c(=O)c4cc(F)c(N5CCOC(CF)C5)...       chembl_34   \n",
       "\n",
       "   gram-positive  gram-negative  fungi  acid-fast  \n",
       "0            5.0            5.0    NaN        6.0  \n",
       "1            NaN            NaN    6.0        NaN  \n",
       "2            6.0            6.5    NaN        NaN  \n",
       "3            6.0            6.0    NaN        NaN  \n",
       "4            7.5            7.0    NaN        NaN  "
      ]
     },
     "execution_count": 25,
     "metadata": {},
     "output_type": "execute_result"
    }
   ],
   "source": [
    "final_df = pd.DataFrame(data)\n",
    "final_df.head()"
   ]
  },
  {
   "cell_type": "code",
   "execution_count": 26,
   "metadata": {},
   "outputs": [
    {
     "data": {
      "image/png": "[encoded data removed]",
      "text/plain": [
       "<Figure size 640x480 with 1 Axes>"
      ]
     },
     "metadata": {},
     "output_type": "display_data"
    }
   ],
   "source": [
    "fig, ax = plt.subplots(1, 1)\n",
    "final_df[\"gram-positive\"].plot(kind=\"hist\", ax=ax, alpha=0.5, color=\"red\")\n",
    "final_df[\"gram-negative\"].plot(kind=\"hist\", ax=ax, alpha=0.5, color=\"blue\")\n",
    "final_df[\"fungi\"].plot(kind=\"hist\", ax=ax, alpha=0.5, color=\"green\")\n",
    "final_df[\"acid-fast\"].plot(kind=\"hist\", ax=ax, alpha=0.5, color=\"orange\")\n",
    "plt.legend()\n",
    "plt.show()"
   ]
  },
  {
   "cell_type": "code",
   "execution_count": 27,
   "metadata": {},
   "outputs": [],
   "source": [
    "final_df.to_csv(f\"{DATA_DIR}/processed/bacterial_chembl_34.tsv\", sep=\"\\t\", index=False)"
   ]
  },
  {
   "cell_type": "code",
   "execution_count": null,
   "metadata": {},
   "outputs": [],
   "source": []
  }
 ],
 "metadata": {
  "kernelspec": {
   "display_name": "amr",
   "language": "python",
   "name": "amr"
  },
  "language_info": {
   "codemirror_mode": {
    "name": "ipython",
    "version": 3
   },
   "file_extension": ".py",
   "mimetype": "text/x-python",
   "name": "python",
   "nbconvert_exporter": "python",
   "pygments_lexer": "ipython3",
   "version": "3.9.18"
  }
 },
 "nbformat": 4,
 "nbformat_minor": 2
}
